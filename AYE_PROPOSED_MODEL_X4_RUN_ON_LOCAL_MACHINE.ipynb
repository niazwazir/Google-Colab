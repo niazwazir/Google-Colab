{
 "cells": [
  {
   "cell_type": "code",
   "execution_count": 1,
   "metadata": {},
   "outputs": [
    {
     "name": "stderr",
     "output_type": "stream",
     "text": [
      "Using TensorFlow backend.\n"
     ]
    }
   ],
   "source": [
    "import os\n",
    "import cv2\n",
    "import h5py\n",
    "import numpy\n",
    "from PIL import Image\n",
    "import prepare_data as pd\n",
    "from keras.models import Model\n",
    "import matplotlib.pyplot as plt\n",
    "from keras.optimizers import adam\n",
    "from keras.layers.merge import concatenate, add\n",
    "from keras.layers import Conv2D, Input, Conv2DTranspose, Activation"
   ]
  },
  {
   "cell_type": "code",
   "execution_count": 2,
   "metadata": {},
   "outputs": [],
   "source": [
    "#TRAINING DATA PREPARATION\n",
    "DATA_PATH = \"yang91/\"\n",
    "Random_Crop = 10\n",
    "Patch_size = 12\n",
    "label_size = 96\n",
    "scale = 8\n",
    "\n",
    "\n",
    "def prepare_training_data():\n",
    "    names = os.listdir(DATA_PATH)\n",
    "    names = sorted(names)\n",
    "    nums = names.__len__()\n",
    "\n",
    "    data = numpy.zeros((nums * Random_Crop, 1, Patch_size, Patch_size), dtype=numpy.double)\n",
    "    label = numpy.zeros((nums * Random_Crop, 1, label_size, label_size), dtype=numpy.double)\n",
    "\n",
    "    for i in range(nums):\n",
    "        name = DATA_PATH + names[i]\n",
    "        hr_img = cv2.imread(name, cv2.IMREAD_COLOR)\n",
    "        shape = hr_img.shape\n",
    "\n",
    "        hr_img = cv2.cvtColor(hr_img, cv2.COLOR_BGR2YCrCb)\n",
    "        hr_img = hr_img[:, :, 0]\n",
    "\n",
    "        # produce Random_Crop random coordinate to crop training img\n",
    "        if(min(shape[0], shape[1]) - label_size < 0):\n",
    "            continue\n",
    "        Points_x = numpy.random.randint(0, min(shape[0], shape[1]) - label_size, Random_Crop)\n",
    "        Points_y = numpy.random.randint(0, min(shape[0], shape[1]) - label_size, Random_Crop)\n",
    "\n",
    "        for j in range(Random_Crop):\n",
    "            hr_patch = hr_img[Points_x[j]: Points_x[j] + label_size, Points_y[j]: Points_y[j] + label_size]\n",
    "            lr_patch = cv2.resize(hr_patch, (label_size // scale, label_size // scale), cv2.INTER_CUBIC)\n",
    "\n",
    "            lr_patch = lr_patch.astype(float) // 255.\n",
    "            hr_patch = hr_patch.astype(float) // 255.\n",
    "\n",
    "            data[i * Random_Crop + j, 0, :, :] = lr_patch\n",
    "            label[i * Random_Crop + j, 0, :, :] = hr_patch\n",
    "            # cv2.imshow(\"lr\", lr_patch)\n",
    "            # cv2.imshow(\"hr\", hr_patch)\n",
    "            # cv2.waitKey(0)\n",
    "    return data, label\n",
    "\n",
    "\n",
    "def write_hdf5(data, labels, output_filename):\n",
    "    \"\"\"\n",
    "    This function is used to save image data and its label(s) to hdf5 file.\n",
    "    output_file.h5,contain data and label\n",
    "    \"\"\"\n",
    "\n",
    "    x = data.astype(numpy.float32)\n",
    "    y = labels.astype(numpy.float32)\n",
    "\n",
    "    with h5py.File(output_filename, 'w') as h:\n",
    "        h.create_dataset('data', data=x, shape=x.shape)\n",
    "        h.create_dataset('label', data=y, shape=y.shape)\n",
    "        # h.create_dataset()\n",
    "\n",
    "\n",
    "def read_training_data(file):\n",
    "    with h5py.File(file, 'r') as hf:\n",
    "        data = numpy.array(hf.get('data'))\n",
    "        label = numpy.array(hf.get('label'))\n",
    "        train_data = numpy.transpose(data, (0, 2, 3, 1))\n",
    "        train_label = numpy.transpose(label, (0, 2, 3, 1))\n",
    "        return train_data, train_label\n",
    "\n",
    "\n",
    "if __name__ == \"__main__\":\n",
    "    data, label = prepare_training_data()\n",
    "    write_hdf5(data, label, \"AYE_TRAINING_FILE.h5\")\n",
    "    # _, _a = read_training_data(\"train.h5\")\n",
    "    # _, _a = read_training_data(\"test.h5\")"
   ]
  },
  {
   "cell_type": "code",
   "execution_count": 3,
   "metadata": {},
   "outputs": [],
   "source": [
    "def model_AYE():\n",
    "    _input = Input(shape=(None, None, 1), name='INPUT_LR_IMAGE')\n",
    "    \n",
    "    #FIRST LAYER IS USED TO EXTRACT THE FEATURES\n",
    "    C1 = Conv2D(filters=64, kernel_size=(3, 3), strides=(1, 1), padding='same', activation='relu',name='FIRST_LAYER')(_input)\n",
    "    \n",
    "    #UPSAMPLING LAYER\n",
    "    U = Conv2DTranspose(filters=4, kernel_size=(14, 14), strides=(scale,scale),padding='same', activation='relu',name='UPSCALE_LAYER')(C1)\n",
    "     \n",
    "    # ****BLOCK1***********\n",
    "    MAIN_NODE_1 = Conv2D(filters=16, kernel_size=(1, 1), strides=(1, 1), padding='same', activation='relu',name='MAIN_NODE_1')(U)\n",
    "    \n",
    "    \n",
    "    Branch1a = Conv2D(filters=16, kernel_size=(1, 1), strides=(1, 1),padding='same', activation='relu',name='BRANCH_1a')(MAIN_NODE_1)\n",
    "    Branch1b = Conv2D(filters=16, kernel_size=(3, 3), strides=(1, 1),padding='same', activation='relu',name='BRANCH_1b')(MAIN_NODE_1)\n",
    "    Branch1c = Conv2D(filters=16, kernel_size=(5,5), strides=(1, 1),padding='same', activation='relu',name='BRANCH_1c')(MAIN_NODE_1)\n",
    "    \n",
    "    \n",
    "    # ****CONCATENATION NODE***********\n",
    "    Concatenate1 = concatenate(inputs=[Branch1a, Branch1b, Branch1c])\n",
    "    out1 = Conv2D(filters=1, kernel_size=(1, 1), strides=(1, 1), padding='same', activation='relu',name='OUTPUT_LAYER_1')(Concatenate1)\n",
    "    \n",
    "    \n",
    "    # ****BLOCK2***********\n",
    "    MAIN_NODE_2 = Conv2D(filters=16, kernel_size=(1, 1), strides=(1, 1), padding='same', activation='relu',name='MAIN_NODE_2')(out1)\n",
    "    \n",
    "    \n",
    "    Branch2a = Conv2D(filters=16, kernel_size=(1, 1), strides=(1, 1),padding='same', activation='relu',name='BRANCH_2a')(MAIN_NODE_2)\n",
    "    Branch2b = Conv2D(filters=16, kernel_size=(3, 3), strides=(1, 1),padding='same', activation='relu',name='BRANCH_2b')(MAIN_NODE_2)\n",
    "    Branch2c = Conv2D(filters=16, kernel_size=(5,5), strides=(1, 1),padding='same', activation='relu',name='BRANCH_2c')(MAIN_NODE_2)\n",
    "    \n",
    "    \n",
    "    # ****CONCATENATION NODE***********\n",
    "    Concatenate2 = concatenate(inputs=[Branch2a, Branch2b, Branch2c])\n",
    "    out2 = Conv2D(filters=1, kernel_size=(1, 1), strides=(1,1), padding='same', activation='relu',name='OUTPUT_LAYER_2')(Concatenate2)\n",
    "        \n",
    "    model = Model(input=_input, output=out2)\n",
    "\n",
    "    return model"
   ]
  },
  {
   "cell_type": "code",
   "execution_count": 4,
   "metadata": {},
   "outputs": [
    {
     "name": "stderr",
     "output_type": "stream",
     "text": [
      "C:\\Users\\user\\.conda\\envs\\gputest\\lib\\site-packages\\ipykernel_launcher.py:37: UserWarning: Update your `Model` call to the Keras 2 API: `Model(inputs=Tensor(\"IN..., outputs=Tensor(\"OU...)`\n"
     ]
    }
   ],
   "source": [
    "AYE = model_AYE()"
   ]
  },
  {
   "cell_type": "code",
   "execution_count": 5,
   "metadata": {},
   "outputs": [
    {
     "name": "stdout",
     "output_type": "stream",
     "text": [
      "Model: \"model_1\"\n",
      "__________________________________________________________________________________________________\n",
      "Layer (type)                    Output Shape         Param #     Connected to                     \n",
      "==================================================================================================\n",
      "INPUT_LR_IMAGE (InputLayer)     (None, None, None, 1 0                                            \n",
      "__________________________________________________________________________________________________\n",
      "FIRST_LAYER (Conv2D)            (None, None, None, 6 640         INPUT_LR_IMAGE[0][0]             \n",
      "__________________________________________________________________________________________________\n",
      "UPSCALE_LAYER (Conv2DTranspose) (None, None, None, 4 50180       FIRST_LAYER[0][0]                \n",
      "__________________________________________________________________________________________________\n",
      "MAIN_NODE_1 (Conv2D)            (None, None, None, 1 80          UPSCALE_LAYER[0][0]              \n",
      "__________________________________________________________________________________________________\n",
      "BRANCH_1a (Conv2D)              (None, None, None, 1 272         MAIN_NODE_1[0][0]                \n",
      "__________________________________________________________________________________________________\n",
      "BRANCH_1b (Conv2D)              (None, None, None, 1 2320        MAIN_NODE_1[0][0]                \n",
      "__________________________________________________________________________________________________\n",
      "BRANCH_1c (Conv2D)              (None, None, None, 1 6416        MAIN_NODE_1[0][0]                \n",
      "__________________________________________________________________________________________________\n",
      "concatenate_1 (Concatenate)     (None, None, None, 4 0           BRANCH_1a[0][0]                  \n",
      "                                                                 BRANCH_1b[0][0]                  \n",
      "                                                                 BRANCH_1c[0][0]                  \n",
      "__________________________________________________________________________________________________\n",
      "OUTPUT_LAYER_1 (Conv2D)         (None, None, None, 1 49          concatenate_1[0][0]              \n",
      "__________________________________________________________________________________________________\n",
      "MAIN_NODE_2 (Conv2D)            (None, None, None, 1 32          OUTPUT_LAYER_1[0][0]             \n",
      "__________________________________________________________________________________________________\n",
      "BRANCH_2a (Conv2D)              (None, None, None, 1 272         MAIN_NODE_2[0][0]                \n",
      "__________________________________________________________________________________________________\n",
      "BRANCH_2b (Conv2D)              (None, None, None, 1 2320        MAIN_NODE_2[0][0]                \n",
      "__________________________________________________________________________________________________\n",
      "BRANCH_2c (Conv2D)              (None, None, None, 1 6416        MAIN_NODE_2[0][0]                \n",
      "__________________________________________________________________________________________________\n",
      "concatenate_2 (Concatenate)     (None, None, None, 4 0           BRANCH_2a[0][0]                  \n",
      "                                                                 BRANCH_2b[0][0]                  \n",
      "                                                                 BRANCH_2c[0][0]                  \n",
      "__________________________________________________________________________________________________\n",
      "OUTPUT_LAYER_2 (Conv2D)         (None, None, None, 1 49          concatenate_2[0][0]              \n",
      "==================================================================================================\n",
      "Total params: 69,046\n",
      "Trainable params: 69,046\n",
      "Non-trainable params: 0\n",
      "__________________________________________________________________________________________________\n"
     ]
    }
   ],
   "source": [
    "AYE.summary()"
   ]
  },
  {
   "cell_type": "code",
   "execution_count": 6,
   "metadata": {},
   "outputs": [
    {
     "data": {
      "image/png": "[encoded data removed]",
      "text/plain": [
       "<IPython.core.display.Image object>"
      ]
     },
     "execution_count": 6,
     "metadata": {},
     "output_type": "execute_result"
    }
   ],
   "source": [
    "import tensorflow as tf\n",
    "tf.keras.utils.plot_model(AYE, 'AYE_PROPOSED_MODEL.png')"
   ]
  },
  {
   "cell_type": "code",
   "execution_count": null,
   "metadata": {},
   "outputs": [
    {
     "name": "stderr",
     "output_type": "stream",
     "text": [
      "C:\\Users\\user\\.conda\\envs\\gputest\\lib\\site-packages\\ipykernel_launcher.py:37: UserWarning: Update your `Model` call to the Keras 2 API: `Model(inputs=Tensor(\"IN..., outputs=Tensor(\"OU...)`\n"
     ]
    },
    {
     "name": "stdout",
     "output_type": "stream",
     "text": [
      "Epoch 1/20\n",
      "2910/2910 [==============================] - 5s 2ms/step - loss: 0.0031\n",
      "Epoch 2/20\n",
      "2910/2910 [==============================] - 2s 828us/step - loss: 0.0031\n",
      "Epoch 3/20\n",
      "2910/2910 [==============================] - 2s 855us/step - loss: 0.0031\n",
      "Epoch 4/20\n",
      "2910/2910 [==============================] - 3s 866us/step - loss: 0.0031\n",
      "Epoch 5/20\n",
      "2910/2910 [==============================] - 3s 864us/step - loss: 0.0031\n",
      "Epoch 6/20\n",
      "2910/2910 [==============================] - 3s 862us/step - loss: 0.0031\n",
      "Epoch 7/20\n",
      "2910/2910 [==============================] - 3s 862us/step - loss: 0.0031\n",
      "Epoch 8/20\n",
      "2910/2910 [==============================] - 3s 865us/step - loss: 0.0031\n",
      "Epoch 9/20\n",
      "2910/2910 [==============================] - 3s 881us/step - loss: 0.0031\n",
      "Epoch 10/20\n",
      "2910/2910 [==============================] - 3s 875us/step - loss: 0.0031\n",
      "Epoch 11/20\n",
      "2910/2910 [==============================] - 3s 875us/step - loss: 0.0031\n",
      "Epoch 12/20\n",
      "2910/2910 [==============================] - 3s 881us/step - loss: 0.0031\n",
      "Epoch 13/20\n",
      "2910/2910 [==============================] - 3s 881us/step - loss: 0.0031\n",
      "Epoch 14/20\n",
      "2910/2910 [==============================] - 3s 889us/step - loss: 0.0031\n",
      "Epoch 15/20\n",
      "2910/2910 [==============================] - 3s 889us/step - loss: 0.0031\n",
      "Epoch 16/20\n",
      "2910/2910 [==============================] - 3s 888us/step - loss: 0.0031\n",
      "Epoch 17/20\n",
      " 480/2910 [===>..........................] - ETA: 2s - loss: 0.0049"
     ]
    }
   ],
   "source": [
    "def AYE_train():\n",
    "    AYE = model_AYE()\n",
    "    AYE.compile(optimizer=adam(lr=0.0003), loss='mse')\n",
    "    data, label = pd.read_training_data(\"AYE_TRAINING_FILE.h5\")\n",
    "    AYE.fit(data, label, batch_size=32, epochs=20)\n",
    "    AYE.save_weights(\"AYE_MODEL_SCALE_2TESTING_FILE.h5\")\n",
    "\n",
    "    \n",
    "def AYE_predict():\n",
    "    AYE = model_AYE()\n",
    "    AYE.load_weights(\"AYE_MODEL_SCALE_2TESTING_FILE.h5\")\n",
    "    IMG_NAME = \"bird_GT.png\"\n",
    "    INPUT_NAME = \"INPUT_LOW_RESOLUTION_IMAGE.png\"\n",
    "    OUTPUT_NAME = \"MODEL_OUTPUT_IMAGE.png\"\n",
    "    \n",
    "    \n",
    "    \n",
    "    import cv2\n",
    "    img = cv2.imread(IMG_NAME)\n",
    "    shape = img.shape\n",
    "    img = cv2.resize(img, (shape[1] // scale, shape[0] // scale), cv2.INTER_CUBIC)\n",
    "    cv2.imwrite(INPUT_NAME, img)\n",
    "\n",
    "    img = cv2.cvtColor(img, cv2.COLOR_BGR2YCrCb)\n",
    "    Y = numpy.zeros((1, img.shape[0], img.shape[1], 1))\n",
    "    Y[0, :, :, 0] = img[:, :, 0]\n",
    "    img = cv2.resize(img, (shape[1], shape[0]), cv2.INTER_CUBIC)\n",
    "\n",
    "    pre = AYE.predict(Y, batch_size=1)\n",
    "    pre[pre[:] > 255] = 255\n",
    "    pre = pre.astype(numpy.uint8)\n",
    "    img[:, :, 0] = pre[0, :, :, 0]\n",
    "    img = cv2.cvtColor(img, cv2.COLOR_YCrCb2BGR)\n",
    "    cv2.imwrite(OUTPUT_NAME, img)\n",
    "\n",
    "    # psnr calculation:\n",
    "    im1 = cv2.imread(IMG_NAME, cv2.IMREAD_COLOR)\n",
    "    im1 = cv2.cvtColor(im1, cv2.COLOR_BGR2YCrCb)\n",
    "    \n",
    "    im2 = cv2.imread(OUTPUT_NAME, cv2.IMREAD_COLOR)\n",
    "    im2 = cv2.cvtColor(im2, cv2.COLOR_BGR2YCrCb)\n",
    "\n",
    "    \n",
    "    print (\"AYE_MODEL:\")\n",
    "    print (cv2.PSNR(im1, im2))\n",
    "\n",
    "\n",
    "if __name__ == \"__main__\":\n",
    "    AYE_train()\n",
    "    AYE_predict()"
   ]
  },
  {
   "cell_type": "code",
   "execution_count": null,
   "metadata": {},
   "outputs": [],
   "source": [
    "Bicubic = cv2.imread('INPUT_LOW_RESOLUTION_IMAGE.png',cv2.IMREAD_COLOR)\n",
    "bicubic_img = cv2.resize(Bicubic,None, fx = scale, fy = scale, interpolation = cv2.INTER_CUBIC)\n",
    "cv2.imwrite('bicubic.png',bicubic_img)"
   ]
  },
  {
   "cell_type": "code",
   "execution_count": null,
   "metadata": {},
   "outputs": [],
   "source": [
    "GT_IMAGE = Image.open(\"bird_GT.png\")############################################################\n",
    "LR_IMAGE = Image.open(\"INPUT_LOW_RESOLUTION_IMAGE.png\")\n",
    "Bicubic_Upscale = Image.open(\"bicubic.png\")\n",
    "MODEL_IMAGE = Image.open(\"MODEL_OUTPUT_IMAGE.png\")"
   ]
  },
  {
   "cell_type": "code",
   "execution_count": null,
   "metadata": {},
   "outputs": [],
   "source": [
    "fig = plt.figure(figsize =(14,14),dpi=100)\n",
    "ax = plt.subplot(\"141\")\n",
    "ax.imshow(GT_IMAGE)\n",
    "ax.set_title('ORIGINAL GT IMAGE')\n",
    "plt.axis('off')\n",
    "\n",
    "ax = plt.subplot(\"142\")\n",
    "ax.imshow(LR_IMAGE)\n",
    "ax.set_title('LR IMAGE IMAGE')\n",
    "plt.axis('off')\n",
    "\n",
    "ax = plt.subplot(\"143\")\n",
    "ax.imshow(Bicubic_Upscale)\n",
    "ax.set_title('BICUBIC_UPSCALE_IMAGE')\n",
    "plt.axis('off')\n",
    "\n",
    "ax = plt.subplot(\"144\")\n",
    "ax.imshow(MODEL_IMAGE)\n",
    "ax.set_title('AYE_MODEL_OUTPUT_IMAGE')\n",
    "plt.axis('off')"
   ]
  },
  {
   "cell_type": "code",
   "execution_count": null,
   "metadata": {},
   "outputs": [],
   "source": [
    "img1 = cv2.imread('bird_GT.png', cv2.IMREAD_UNCHANGED)\n",
    "cv2.imshow('GT_Image',img1)\n",
    "\n",
    "img2 = cv2.imread('INPUT_LOW_RESOLUTION_IMAGE.png', cv2.IMREAD_UNCHANGED)\n",
    "cv2.imshow('4X_LRIMAGE',img2)\n",
    "\n",
    "img3 = cv2.imread('bicubic.png', cv2.IMREAD_UNCHANGED)\n",
    "cv2.imshow('BICUBIC_UPSCALE_IMAGE',img3)\n",
    "\n",
    "img4 = cv2.imread('MODEL_OUTPUT_IMAGE.png', cv2.IMREAD_UNCHANGED)\n",
    "cv2.imshow('MODEL_IMAGE',img4)\n",
    "\n",
    "cv2.waitKey(0) #image will not show until this is called\n",
    "cv2.destroyAllWindows() #make sure window closes cleanly"
   ]
  }
 ],
 "metadata": {
  "kernelspec": {
   "display_name": "gputest",
   "language": "python",
   "name": "gputest"
  },
  "language_info": {
   "codemirror_mode": {
    "name": "ipython",
    "version": 3
   },
   "file_extension": ".py",
   "mimetype": "text/x-python",
   "name": "python",
   "nbconvert_exporter": "python",
   "pygments_lexer": "ipython3",
   "version": "3.7.7"
  }
 },
 "nbformat": 4,
 "nbformat_minor": 4
}
