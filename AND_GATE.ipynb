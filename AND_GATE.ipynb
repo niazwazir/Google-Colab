{
  "nbformat": 4,
  "nbformat_minor": 0,
  "metadata": {
    "colab": {
      "name": "AND_GATE.ipynb",
      "version": "0.3.2",
      "provenance": [],
      "collapsed_sections": []
    },
    "kernelspec": {
      "name": "python3",
      "display_name": "Python 3"
    },
    "accelerator": "GPU"
  },
  "cells": [
    {
      "metadata": {
        "id": "H1rGHHaElyBk",
        "colab_type": "code",
        "colab": {
          "base_uri": "https://localhost:8080/",
          "height": 34
        },
        "outputId": "07ef887a-fd25-4a80-ac7b-c0748076b963"
      },
      "cell_type": "code",
      "source": [
        "#TRAIN AND TEST MODEL ON AND GATE\n",
        "import keras\n",
        "import numpy as np"
      ],
      "execution_count": 3,
      "outputs": [
        {
          "output_type": "stream",
          "text": [
            "Using TensorFlow backend.\n"
          ],
          "name": "stderr"
        }
      ]
    },
    {
      "metadata": {
        "id": "YypLphBNl4j6",
        "colab_type": "code",
        "colab": {
          "base_uri": "https://localhost:8080/",
          "height": 156
        },
        "outputId": "f7ef968f-dd64-47a3-ea17-8d159d17fedf"
      },
      "cell_type": "code",
      "source": [
        "input = np.array([[0,0],\n",
        "                  [0,1],\n",
        "                  [1,0],\n",
        "                  [1,1]])\n",
        "output = np.array([[0],\n",
        "                     [0],\n",
        "                     [0],\n",
        "                     [1]])\n",
        "print(input)\n",
        "print(output)"
      ],
      "execution_count": 4,
      "outputs": [
        {
          "output_type": "stream",
          "text": [
            "[[0 0]\n",
            " [0 1]\n",
            " [1 0]\n",
            " [1 1]]\n",
            "[[0]\n",
            " [0]\n",
            " [0]\n",
            " [1]]\n"
          ],
          "name": "stdout"
        }
      ]
    },
    {
      "metadata": {
        "id": "pGcSYABbl74K",
        "colab_type": "code",
        "colab": {}
      },
      "cell_type": "code",
      "source": [
        "model = keras.models.Sequential(layers=[ \n",
        "    keras.layers.Dense(input_dim =2, units = 1),\n",
        "    keras.layers.Activation(keras.activations.sigmoid)\n",
        "])"
      ],
      "execution_count": 0,
      "outputs": []
    },
    {
      "metadata": {
        "id": "SpZ7CLIimAL6",
        "colab_type": "code",
        "colab": {
          "base_uri": "https://localhost:8080/",
          "height": 208
        },
        "outputId": "aff1feeb-0cf2-4326-d9a6-eb6deda7eddd"
      },
      "cell_type": "code",
      "source": [
        "model.summary()"
      ],
      "execution_count": 6,
      "outputs": [
        {
          "output_type": "stream",
          "text": [
            "_________________________________________________________________\n",
            "Layer (type)                 Output Shape              Param #   \n",
            "=================================================================\n",
            "dense_1 (Dense)              (None, 1)                 3         \n",
            "_________________________________________________________________\n",
            "activation_1 (Activation)    (None, 1)                 0         \n",
            "=================================================================\n",
            "Total params: 3\n",
            "Trainable params: 3\n",
            "Non-trainable params: 0\n",
            "_________________________________________________________________\n"
          ],
          "name": "stdout"
        }
      ]
    },
    {
      "metadata": {
        "id": "UwLsPke9mDsi",
        "colab_type": "code",
        "colab": {
          "base_uri": "https://localhost:8080/",
          "height": 303
        },
        "outputId": "dc2a4090-f4d5-4235-bfd0-e19ddde9dc3f"
      },
      "cell_type": "code",
      "source": [
        "from IPython.display import SVG\n",
        "from keras.utils.vis_utils import model_to_dot\n",
        "SVG(model_to_dot(model, show_shapes=True).create(prog='dot', format='svg'))"
      ],
      "execution_count": 7,
      "outputs": [
        {
          "output_type": "execute_result",
          "data": {
            "text/plain": [
              "<IPython.core.display.SVG object>"
            ],
            "image/svg+xml": "<svg height=\"211pt\" viewBox=\"0.00 0.00 292.00 211.00\" width=\"292pt\" xmlns=\"http://www.w3.org/2000/svg\" xmlns:xlink=\"http://www.w3.org/1999/xlink\">\n<g class=\"graph\" id=\"graph0\" transform=\"scale(1 1) rotate(0) translate(4 207)\">\n<title>G</title>\n<polygon fill=\"#ffffff\" points=\"-4,4 -4,-207 288,-207 288,4 -4,4\" stroke=\"transparent\"/>\n<!-- 140119803817432 -->\n<g class=\"node\" id=\"node1\">\n<title>140119803817432</title>\n<polygon fill=\"none\" points=\"23.5,-83.5 23.5,-129.5 260.5,-129.5 260.5,-83.5 23.5,-83.5\" stroke=\"#000000\"/>\n<text fill=\"#000000\" font-family=\"Times,serif\" font-size=\"14.00\" text-anchor=\"middle\" x=\"77\" y=\"-102.8\">dense_1: Dense</text>\n<polyline fill=\"none\" points=\"130.5,-83.5 130.5,-129.5 \" stroke=\"#000000\"/>\n<text fill=\"#000000\" font-family=\"Times,serif\" font-size=\"14.00\" text-anchor=\"middle\" x=\"159.5\" y=\"-114.3\">input:</text>\n<polyline fill=\"none\" points=\"130.5,-106.5 188.5,-106.5 \" stroke=\"#000000\"/>\n<text fill=\"#000000\" font-family=\"Times,serif\" font-size=\"14.00\" text-anchor=\"middle\" x=\"159.5\" y=\"-91.3\">output:</text>\n<polyline fill=\"none\" points=\"188.5,-83.5 188.5,-129.5 \" stroke=\"#000000\"/>\n<text fill=\"#000000\" font-family=\"Times,serif\" font-size=\"14.00\" text-anchor=\"middle\" x=\"224.5\" y=\"-114.3\">(None, 2)</text>\n<polyline fill=\"none\" points=\"188.5,-106.5 260.5,-106.5 \" stroke=\"#000000\"/>\n<text fill=\"#000000\" font-family=\"Times,serif\" font-size=\"14.00\" text-anchor=\"middle\" x=\"224.5\" y=\"-91.3\">(None, 1)</text>\n</g>\n<!-- 140119803817936 -->\n<g class=\"node\" id=\"node2\">\n<title>140119803817936</title>\n<polygon fill=\"none\" points=\"0,-.5 0,-46.5 284,-46.5 284,-.5 0,-.5\" stroke=\"#000000\"/>\n<text fill=\"#000000\" font-family=\"Times,serif\" font-size=\"14.00\" text-anchor=\"middle\" x=\"77\" y=\"-19.8\">activation_1: Activation</text>\n<polyline fill=\"none\" points=\"154,-.5 154,-46.5 \" stroke=\"#000000\"/>\n<text fill=\"#000000\" font-family=\"Times,serif\" font-size=\"14.00\" text-anchor=\"middle\" x=\"183\" y=\"-31.3\">input:</text>\n<polyline fill=\"none\" points=\"154,-23.5 212,-23.5 \" stroke=\"#000000\"/>\n<text fill=\"#000000\" font-family=\"Times,serif\" font-size=\"14.00\" text-anchor=\"middle\" x=\"183\" y=\"-8.3\">output:</text>\n<polyline fill=\"none\" points=\"212,-.5 212,-46.5 \" stroke=\"#000000\"/>\n<text fill=\"#000000\" font-family=\"Times,serif\" font-size=\"14.00\" text-anchor=\"middle\" x=\"248\" y=\"-31.3\">(None, 1)</text>\n<polyline fill=\"none\" points=\"212,-23.5 284,-23.5 \" stroke=\"#000000\"/>\n<text fill=\"#000000\" font-family=\"Times,serif\" font-size=\"14.00\" text-anchor=\"middle\" x=\"248\" y=\"-8.3\">(None, 1)</text>\n</g>\n<!-- 140119803817432&#45;&gt;140119803817936 -->\n<g class=\"edge\" id=\"edge2\">\n<title>140119803817432-&gt;140119803817936</title>\n<path d=\"M142,-83.3799C142,-75.1745 142,-65.7679 142,-56.8786\" fill=\"none\" stroke=\"#000000\"/>\n<polygon fill=\"#000000\" points=\"145.5001,-56.784 142,-46.784 138.5001,-56.784 145.5001,-56.784\" stroke=\"#000000\"/>\n</g>\n<!-- 140119803359416 -->\n<g class=\"node\" id=\"node3\">\n<title>140119803359416</title>\n<polygon fill=\"none\" points=\"78,-166.5 78,-202.5 206,-202.5 206,-166.5 78,-166.5\" stroke=\"#000000\"/>\n<text fill=\"#000000\" font-family=\"Times,serif\" font-size=\"14.00\" text-anchor=\"middle\" x=\"142\" y=\"-180.8\">140119803359416</text>\n</g>\n<!-- 140119803359416&#45;&gt;140119803817432 -->\n<g class=\"edge\" id=\"edge1\">\n<title>140119803359416-&gt;140119803817432</title>\n<path d=\"M142,-166.4092C142,-158.4308 142,-148.795 142,-139.606\" fill=\"none\" stroke=\"#000000\"/>\n<polygon fill=\"#000000\" points=\"145.5001,-139.5333 142,-129.5333 138.5001,-139.5334 145.5001,-139.5333\" stroke=\"#000000\"/>\n</g>\n</g>\n</svg>"
          },
          "metadata": {
            "tags": []
          },
          "execution_count": 7
        }
      ]
    },
    {
      "metadata": {
        "id": "QzKADZimmHhR",
        "colab_type": "code",
        "colab": {}
      },
      "cell_type": "code",
      "source": [
        "model.compile(optimizer=keras.optimizers.SGD(lr=.5),loss='mse')"
      ],
      "execution_count": 0,
      "outputs": []
    },
    {
      "metadata": {
        "id": "8V6C9jgCmMfp",
        "colab_type": "code",
        "colab": {
          "base_uri": "https://localhost:8080/",
          "height": 382
        },
        "outputId": "d3e1bbf6-0159-485c-ac62-39845b059ace"
      },
      "cell_type": "code",
      "source": [
        "model.fit(input, output, epochs = 10) # if you use , verbose = False than iteration can not show"
      ],
      "execution_count": 9,
      "outputs": [
        {
          "output_type": "stream",
          "text": [
            "Epoch 1/10\n",
            "4/4 [==============================] - 2s 517ms/step - loss: 0.2786\n",
            "Epoch 2/10\n",
            "4/4 [==============================] - 0s 2ms/step - loss: 0.2708\n",
            "Epoch 3/10\n",
            "4/4 [==============================] - 0s 681us/step - loss: 0.2636\n",
            "Epoch 4/10\n",
            "4/4 [==============================] - 0s 608us/step - loss: 0.2570\n",
            "Epoch 5/10\n",
            "4/4 [==============================] - 0s 1ms/step - loss: 0.2508\n",
            "Epoch 6/10\n",
            "4/4 [==============================] - 0s 661us/step - loss: 0.2450\n",
            "Epoch 7/10\n",
            "4/4 [==============================] - 0s 855us/step - loss: 0.2396\n",
            "Epoch 8/10\n",
            "4/4 [==============================] - 0s 535us/step - loss: 0.2345\n",
            "Epoch 9/10\n",
            "4/4 [==============================] - 0s 1ms/step - loss: 0.2297\n",
            "Epoch 10/10\n",
            "4/4 [==============================] - 0s 635us/step - loss: 0.2252\n"
          ],
          "name": "stdout"
        },
        {
          "output_type": "execute_result",
          "data": {
            "text/plain": [
              "<keras.callbacks.History at 0x7f706d83d668>"
            ]
          },
          "metadata": {
            "tags": []
          },
          "execution_count": 9
        }
      ]
    },
    {
      "metadata": {
        "id": "5laAl-5KmQJh",
        "colab_type": "code",
        "colab": {
          "base_uri": "https://localhost:8080/",
          "height": 34
        },
        "outputId": "6a9e2ffc-05cc-4a74-f326-6b91b0222d15"
      },
      "cell_type": "code",
      "source": [
        "model.predict(np.array([[0,1]]))"
      ],
      "execution_count": 10,
      "outputs": [
        {
          "output_type": "execute_result",
          "data": {
            "text/plain": [
              "array([[0.23995242]], dtype=float32)"
            ]
          },
          "metadata": {
            "tags": []
          },
          "execution_count": 10
        }
      ]
    },
    {
      "metadata": {
        "id": "ddBLOVlBmUbY",
        "colab_type": "code",
        "colab": {
          "base_uri": "https://localhost:8080/",
          "height": 34
        },
        "outputId": "4f1e115f-1906-4996-d378-785ebdc92cc9"
      },
      "cell_type": "code",
      "source": [
        "model.predict(np.array([[1,1]]))"
      ],
      "execution_count": 11,
      "outputs": [
        {
          "output_type": "execute_result",
          "data": {
            "text/plain": [
              "array([[0.5358232]], dtype=float32)"
            ]
          },
          "metadata": {
            "tags": []
          },
          "execution_count": 11
        }
      ]
    },
    {
      "metadata": {
        "id": "o3A6zUIOmX0Y",
        "colab_type": "code",
        "colab": {}
      },
      "cell_type": "code",
      "source": [
        ""
      ],
      "execution_count": 0,
      "outputs": []
    }
  ]
}