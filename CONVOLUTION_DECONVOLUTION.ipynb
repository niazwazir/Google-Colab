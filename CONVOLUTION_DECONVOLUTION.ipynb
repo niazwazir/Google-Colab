{
 "cells": [
  {
   "cell_type": "code",
   "execution_count": 1,
   "id": "b15a90df",
   "metadata": {},
   "outputs": [],
   "source": [
    "from keras.layers import Input\n",
    "from keras.layers import Conv2D\n",
    "from keras.layers import Conv2DTranspose\n",
    "from keras.models import Model"
   ]
  },
  {
   "cell_type": "code",
   "execution_count": 2,
   "id": "a820f82f",
   "metadata": {},
   "outputs": [
    {
     "name": "stdout",
     "output_type": "stream",
     "text": [
      "Model: \"model\"\n",
      "_________________________________________________________________\n",
      "Layer (type)                 Output Shape              Param #   \n",
      "=================================================================\n",
      "input_1 (InputLayer)         [(None, 256, 256, 1)]     0         \n",
      "_________________________________________________________________\n",
      "CONV1 (Conv2D)               (None, 128, 128, 6)       30        \n",
      "_________________________________________________________________\n",
      "CONV2 (Conv2D)               (None, 64, 64, 6)         150       \n",
      "_________________________________________________________________\n",
      "CONV3 (Conv2D)               (None, 32, 32, 6)         150       \n",
      "_________________________________________________________________\n",
      "CONV4 (Conv2D)               (None, 16, 16, 6)         150       \n",
      "_________________________________________________________________\n",
      "CONV5 (Conv2D)               (None, 8, 8, 6)           150       \n",
      "=================================================================\n",
      "Total params: 630\n",
      "Trainable params: 630\n",
      "Non-trainable params: 0\n",
      "_________________________________________________________________\n"
     ]
    }
   ],
   "source": [
    "img_shape = (256,256,1)\n",
    "input_img = Input(shape=(img_shape))\n",
    "C1 = Conv2D(6,(2,2),strides=(2,2),padding='SAME',name='CONV1')(input_img)\n",
    "C2 = Conv2D(6,(2,2),strides=(2,2),padding='SAME',name='CONV2')(C1)\n",
    "C3 = Conv2D(6,(2,2),strides=(2,2),padding='SAME',name='CONV3')(C2)\n",
    "C4 = Conv2D(6,(2,2),strides=(2,2),padding='SAME',name='CONV4')(C3)\n",
    "C5 = Conv2D(6,(2,2),strides=(2,2),padding='SAME',name='CONV5')(C4)\n",
    "model = Model(input_img, C5)\n",
    "model.summary()"
   ]
  },
  {
   "cell_type": "code",
   "execution_count": 3,
   "id": "50151711",
   "metadata": {
    "scrolled": false
   },
   "outputs": [
    {
     "name": "stdout",
     "output_type": "stream",
     "text": [
      "Model: \"model_1\"\n",
      "_________________________________________________________________\n",
      "Layer (type)                 Output Shape              Param #   \n",
      "=================================================================\n",
      "input_2 (InputLayer)         [(None, 8, 8, 1)]         0         \n",
      "_________________________________________________________________\n",
      "TRANS_CONV1 (Conv2DTranspose (None, 16, 16, 6)         30        \n",
      "_________________________________________________________________\n",
      "TRANS_CONV2 (Conv2DTranspose (None, 32, 32, 6)         150       \n",
      "_________________________________________________________________\n",
      "TRANS_CONV3 (Conv2DTranspose (None, 64, 64, 6)         150       \n",
      "_________________________________________________________________\n",
      "TRANS_CONV4 (Conv2DTranspose (None, 128, 128, 6)       150       \n",
      "_________________________________________________________________\n",
      "TRANS_CONV5 (Conv2DTranspose (None, 256, 256, 6)       150       \n",
      "=================================================================\n",
      "Total params: 630\n",
      "Trainable params: 630\n",
      "Non-trainable params: 0\n",
      "_________________________________________________________________\n"
     ]
    }
   ],
   "source": [
    "img_shape = (8,8,1)\n",
    "input_img = Input(shape=(img_shape))\n",
    "C1 = Conv2DTranspose(6, (2,2), strides=(2,2), padding='same',name='TRANS_CONV1')(input_img)\n",
    "C2 = Conv2DTranspose(6, (2,2), strides=(2,2), padding='same',name='TRANS_CONV2')(C1)\n",
    "C3 = Conv2DTranspose(6, (2,2), strides=(2,2), padding='same',name='TRANS_CONV3')(C2)\n",
    "C4 = Conv2DTranspose(6, (2,2), strides=(2,2), padding='same',name='TRANS_CONV4')(C3)\n",
    "C5 = Conv2DTranspose(6, (2,2), strides=(2,2), padding='same',name='TRANS_CONV5')(C4)\n",
    "model = Model(input_img, C5)\n",
    "model.summary()"
   ]
  },
  {
   "cell_type": "code",
   "execution_count": null,
   "id": "56711c6e",
   "metadata": {},
   "outputs": [],
   "source": []
  }
 ],
 "metadata": {
  "kernelspec": {
   "display_name": "cuda_tf",
   "language": "python",
   "name": "cuda_tf"
  },
  "language_info": {
   "codemirror_mode": {
    "name": "ipython",
    "version": 3
   },
   "file_extension": ".py",
   "mimetype": "text/x-python",
   "name": "python",
   "nbconvert_exporter": "python",
   "pygments_lexer": "ipython3",
   "version": "3.9.12"
  }
 },
 "nbformat": 4,
 "nbformat_minor": 5
}
