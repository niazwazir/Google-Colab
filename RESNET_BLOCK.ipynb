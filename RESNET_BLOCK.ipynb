{
  "nbformat": 4,
  "nbformat_minor": 0,
  "metadata": {
    "colab": {
      "name": "RESNET_BLOCK.ipynb",
      "provenance": []
    },
    "kernelspec": {
      "display_name": "Python 3",
      "name": "python3"
    },
    "language_info": {
      "name": "python"
    }
  },
  "cells": [
    {
      "cell_type": "code",
      "metadata": {
        "id": "InauL2yD-OtL"
      },
      "source": [
        "import keras\n",
        "import tensorflow as tf\n",
        "from keras.models import Model\n",
        "from keras.layers.advanced_activations import PReLU\n",
        "from keras.layers import Input, Conv2D, Concatenate"
      ],
      "execution_count": 1,
      "outputs": []
    },
    {
      "cell_type": "code",
      "metadata": {
        "id": "TO67Bri62HwB"
      },
      "source": [
        "img_shape = (32,32, 1)\n",
        "input_img = Input(shape=(img_shape),name = 'X')\n",
        "\n",
        "#SKIP LAYER LAYER CONNECTION\n",
        "#01 LAYER\n",
        "C1 = Conv2D(64, (3, 3), padding='same', name='CONV2D1')(input_img)\n",
        "C2 = Conv2D(64, (3, 3), padding='same', name='CONV2D2')(C1)\n",
        "\n",
        "#02 LAYER\n",
        "C3 = Conv2D(64, (3, 3), padding='same', name='CONV2D3')(input_img)\n",
        "C4 = Conv2D(64, (3, 3), padding='same', name='CONV2D4')(C3)"
      ],
      "execution_count": 2,
      "outputs": []
    },
    {
      "cell_type": "code",
      "metadata": {
        "id": "U7QcDMg42L0P"
      },
      "source": [
        "#05 CONCATENATION LAYER\n",
        "output_img = keras.layers.concatenate([C2,C4], axis = -1)\n",
        "A = PReLU()(output_img)\n",
        "#model = Model(input_img, A)"
      ],
      "execution_count": 3,
      "outputs": []
    },
    {
      "cell_type": "code",
      "metadata": {
        "id": "LNWtC2MKFn6N"
      },
      "source": [
        "#05 SUM LAYER\n",
        "output_img = keras.layers.add([input_img, A])\n",
        "#A4 = Activation('relu', name='ReLU4')(output_img)\n",
        "model = Model(input_img, output_img)"
      ],
      "execution_count": 4,
      "outputs": []
    },
    {
      "cell_type": "code",
      "metadata": {
        "colab": {
          "base_uri": "https://localhost:8080/"
        },
        "id": "FNUrnF5j2cr0",
        "outputId": "13fcbde4-f45c-4b7f-89ca-7b2e9534dd2a"
      },
      "source": [
        "model.summary()"
      ],
      "execution_count": 5,
      "outputs": [
        {
          "output_type": "stream",
          "text": [
            "Model: \"model\"\n",
            "__________________________________________________________________________________________________\n",
            "Layer (type)                    Output Shape         Param #     Connected to                     \n",
            "==================================================================================================\n",
            "X (InputLayer)                  [(None, 32, 32, 1)]  0                                            \n",
            "__________________________________________________________________________________________________\n",
            "CONV2D1 (Conv2D)                (None, 32, 32, 64)   640         X[0][0]                          \n",
            "__________________________________________________________________________________________________\n",
            "CONV2D3 (Conv2D)                (None, 32, 32, 64)   640         X[0][0]                          \n",
            "__________________________________________________________________________________________________\n",
            "CONV2D2 (Conv2D)                (None, 32, 32, 64)   36928       CONV2D1[0][0]                    \n",
            "__________________________________________________________________________________________________\n",
            "CONV2D4 (Conv2D)                (None, 32, 32, 64)   36928       CONV2D3[0][0]                    \n",
            "__________________________________________________________________________________________________\n",
            "concatenate (Concatenate)       (None, 32, 32, 128)  0           CONV2D2[0][0]                    \n",
            "                                                                 CONV2D4[0][0]                    \n",
            "__________________________________________________________________________________________________\n",
            "p_re_lu (PReLU)                 (None, 32, 32, 128)  131072      concatenate[0][0]                \n",
            "__________________________________________________________________________________________________\n",
            "add (Add)                       (None, 32, 32, 128)  0           X[0][0]                          \n",
            "                                                                 p_re_lu[0][0]                    \n",
            "==================================================================================================\n",
            "Total params: 206,208\n",
            "Trainable params: 206,208\n",
            "Non-trainable params: 0\n",
            "__________________________________________________________________________________________________\n"
          ],
          "name": "stdout"
        }
      ]
    },
    {
      "cell_type": "code",
      "metadata": {
        "colab": {
          "base_uri": "https://localhost:8080/",
          "height": 189
        },
        "id": "eynloCUu2zxK",
        "outputId": "1858db86-7111-4c87-e6a6-b2be5547580f"
      },
      "source": [
        "tf.keras.utils.plot_model(\n",
        "    model, to_file='model.png', show_shapes=False, show_layer_names=True, rankdir='LR', expand_nested=False, dpi=96\n",
        ")"
      ],
      "execution_count": 6,
      "outputs": [
        {
          "output_type": "execute_result",
          "data": {
            "image/png": "[encoded data removed]",
            "text/plain": [
              "<IPython.core.display.Image object>"
            ]
          },
          "metadata": {
            "tags": []
          },
          "execution_count": 6
        }
      ]
    },
    {
      "cell_type": "code",
      "metadata": {
        "id": "6UpwxCEIDJhk"
      },
      "source": [
        ""
      ],
      "execution_count": 6,
      "outputs": []
    }
  ]
}