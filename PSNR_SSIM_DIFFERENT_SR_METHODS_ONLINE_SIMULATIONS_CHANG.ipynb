{
 "cells": [
  {
   "cell_type": "code",
   "execution_count": null,
   "id": "6d97412f-30ef-4474-8303-efe708b3d8dc",
   "metadata": {},
   "outputs": [],
   "source": [
    "#ON THIS LINK YOU CAN CREATE IMAGE SR IMAGES OF \n",
    "Bi-Cubic Interpolation\n",
    "Chang\n",
    "Tang\n",
    "Lin Regression + F2\n",
    "Glasner\n",
    "Our SR Result\n",
    "#https://people.rennes.inria.fr/Aline.Roumy/results/SR_BMVC12.html"
   ]
  }
 ],
 "metadata": {
  "kernelspec": {
   "display_name": "Python 3 (ipykernel)",
   "language": "python",
   "name": "python3"
  },
  "language_info": {
   "codemirror_mode": {
    "name": "ipython",
    "version": 3
   },
   "file_extension": ".py",
   "mimetype": "text/x-python",
   "name": "python",
   "nbconvert_exporter": "python",
   "pygments_lexer": "ipython3",
   "version": "3.9.19"
  }
 },
 "nbformat": 4,
 "nbformat_minor": 5
}
