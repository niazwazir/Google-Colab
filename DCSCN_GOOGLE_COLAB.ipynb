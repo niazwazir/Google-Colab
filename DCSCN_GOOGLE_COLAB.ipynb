{
  "nbformat": 4,
  "nbformat_minor": 0,
  "metadata": {
    "colab": {
      "name": "DCSCN_GOOGLE_COLAB.ipynb",
      "version": "0.3.2",
      "provenance": []
    },
    "kernelspec": {
      "name": "python3",
      "display_name": "Python 3"
    },
    "accelerator": "GPU"
  },
  "cells": [
    {
      "metadata": {
        "id": "WJUDSjFTWm_e",
        "colab_type": "code",
        "colab": {}
      },
      "cell_type": "code",
      "source": [
        "#HOW TO RUN DCSCN MODEL ON GOOGLE COLAB"
      ],
      "execution_count": 0,
      "outputs": []
    },
    {
      "metadata": {
        "id": "ymft6ovUFDEF",
        "colab_type": "text"
      },
      "cell_type": "markdown",
      "source": [
        "https://github.com/jiny2001/dcscn-super-resolution"
      ]
    },
    {
      "metadata": {
        "id": "RHsikzLzCppV",
        "colab_type": "code",
        "colab": {
          "base_uri": "https://localhost:8080/",
          "height": 119
        },
        "outputId": "d2ce7f3c-5d73-4447-9968-77fd448d475c"
      },
      "cell_type": "code",
      "source": [
        "!git clone https://github.com/jiny2001/dcscn-super-resolution"
      ],
      "execution_count": 3,
      "outputs": [
        {
          "output_type": "stream",
          "text": [
            "Cloning into 'dcscn-super-resolution'...\n",
            "remote: Enumerating objects: 1176, done.\u001b[K\n",
            "remote: Total 1176 (delta 0), reused 0 (delta 0), pack-reused 1176\u001b[K\n",
            "Receiving objects: 100% (1176/1176), 387.69 MiB | 33.61 MiB/s, done.\n",
            "Resolving deltas: 100% (474/474), done.\n",
            "Checking out files: 100% (469/469), done.\n"
          ],
          "name": "stdout"
        }
      ]
    },
    {
      "metadata": {
        "id": "UlpRQKAXDmes",
        "colab_type": "code",
        "colab": {
          "base_uri": "https://localhost:8080/",
          "height": 34
        },
        "outputId": "0585e671-cf63-48ef-e225-6141f0c8e547"
      },
      "cell_type": "code",
      "source": [
        "cd dcscn-super-resolution"
      ],
      "execution_count": 4,
      "outputs": [
        {
          "output_type": "stream",
          "text": [
            "/content/dcscn-super-resolution\n"
          ],
          "name": "stdout"
        }
      ]
    },
    {
      "metadata": {
        "id": "ON-Eur44Dwww",
        "colab_type": "code",
        "colab": {
          "base_uri": "https://localhost:8080/",
          "height": 68
        },
        "outputId": "34f65033-2cf0-45a7-baa1-1bd356be8814"
      },
      "cell_type": "code",
      "source": [
        "!ls"
      ],
      "execution_count": 5,
      "outputs": [
        {
          "output_type": "stream",
          "text": [
            "augmentation.py  DCSCN.py     exportTensorFlowLog.py  models\t train.py\n",
            "convert_y.py\t documents    helper\t\t      README.md\n",
            "data\t\t evaluate.py  LICENSE\t\t      sr.py\n"
          ],
          "name": "stdout"
        }
      ]
    },
    {
      "metadata": {
        "id": "0vfXLQdfDx8a",
        "colab_type": "code",
        "colab": {
          "base_uri": "https://localhost:8080/",
          "height": 802
        },
        "outputId": "8899742e-8038-468c-fdfa-0f51932eb3b1"
      },
      "cell_type": "code",
      "source": [
        "!python evaluate.py --test_dataset=set14 --save_results=true"
      ],
      "execution_count": 6,
      "outputs": [
        {
          "output_type": "stream",
          "text": [
            "Python Interpreter version:3.6\n",
            "tensorflow version:1.13.1\n",
            "numpy version:1.14.6\n",
            "Session and graph initialized.\n",
            "2019-04-11 11:01:50.938634: I tensorflow/core/platform/profile_utils/cpu_utils.cc:94] CPU Frequency: 2300000000 Hz\n",
            "2019-04-11 11:01:50.939027: I tensorflow/compiler/xla/service/service.cc:150] XLA service 0x19431e0 executing computations on platform Host. Devices:\n",
            "2019-04-11 11:01:50.939067: I tensorflow/compiler/xla/service/service.cc:158]   StreamExecutor device (0): <undefined>, <undefined>\n",
            "2019-04-11 11:01:51.162045: I tensorflow/stream_executor/cuda/cuda_gpu_executor.cc:998] successful NUMA node read from SysFS had negative value (-1), but there must be at least one NUMA node, so returning NUMA node zero\n",
            "2019-04-11 11:01:51.162699: I tensorflow/compiler/xla/service/service.cc:150] XLA service 0x1942c60 executing computations on platform CUDA. Devices:\n",
            "2019-04-11 11:01:51.162736: I tensorflow/compiler/xla/service/service.cc:158]   StreamExecutor device (0): Tesla K80, Compute Capability 3.7\n",
            "2019-04-11 11:01:51.163114: I tensorflow/core/common_runtime/gpu/gpu_device.cc:1433] Found device 0 with properties: \n",
            "name: Tesla K80 major: 3 minor: 7 memoryClockRate(GHz): 0.8235\n",
            "pciBusID: 0000:00:04.0\n",
            "totalMemory: 11.17GiB freeMemory: 11.10GiB\n",
            "2019-04-11 11:01:51.163146: I tensorflow/core/common_runtime/gpu/gpu_device.cc:1512] Adding visible gpu devices: 0\n",
            "2019-04-11 11:01:52.588820: I tensorflow/core/common_runtime/gpu/gpu_device.cc:984] Device interconnect StreamExecutor with strength 1 edge matrix:\n",
            "2019-04-11 11:01:52.588899: I tensorflow/core/common_runtime/gpu/gpu_device.cc:990]      0 \n",
            "2019-04-11 11:01:52.588923: I tensorflow/core/common_runtime/gpu/gpu_device.cc:1003] 0:   N \n",
            "2019-04-11 11:01:52.589255: I tensorflow/core/common_runtime/gpu/gpu_device.cc:1115] Created TensorFlow device (/job:localhost/replica:0/task:0/device:GPU:0 with 10754 MB memory) -> physical GPU (device: 0, name: Tesla K80, pci bus id: 0000:00:04.0, compute capability: 3.7)\n",
            "\n",
            "DCSCN v2-------------------------------------\n",
            "2019/4/11 11:1:52 [dcscn_L12_F196to48_NIN_A64_PS_R1F32]\n",
            "WARNING:tensorflow:From /usr/local/lib/python3.6/dist-packages/tensorflow/python/framework/op_def_library.py:263: colocate_with (from tensorflow.python.framework.ops) is deprecated and will be removed in a future version.\n",
            "Instructions for updating:\n",
            "Colocations handled automatically by placer.\n",
            "From /usr/local/lib/python3.6/dist-packages/tensorflow/python/framework/op_def_library.py:263: colocate_with (from tensorflow.python.framework.ops) is deprecated and will be removed in a future version.\n",
            "Instructions for updating:\n",
            "Colocations handled automatically by placer.\n",
            "WARNING:tensorflow:From /content/dcscn-super-resolution/helper/tf_graph.py:127: calling dropout (from tensorflow.python.ops.nn_ops) with keep_prob is deprecated and will be removed in a future version.\n",
            "Instructions for updating:\n",
            "Please use `rate` instead of `keep_prob`. Rate should be set to `rate = 1 - keep_prob`.\n",
            "From /content/dcscn-super-resolution/helper/tf_graph.py:127: calling dropout (from tensorflow.python.ops.nn_ops) with keep_prob is deprecated and will be removed in a future version.\n",
            "Instructions for updating:\n",
            "Please use `rate` instead of `keep_prob`. Rate should be set to `rate = 1 - keep_prob`.\n",
            "Feature:196 166 148 133 120 108 97 86 76 66 57 48  Total: (1301)64 32 32 384 1  Complexity:1,754,942 Receptive Fields:29\n",
            "Model initialized.\n",
            "WARNING:tensorflow:From /usr/local/lib/python3.6/dist-packages/tensorflow/python/training/saver.py:1266: checkpoint_exists (from tensorflow.python.training.checkpoint_management) is deprecated and will be removed in a future version.\n",
            "Instructions for updating:\n",
            "Use standard file APIs to check for files with this prefix.\n",
            "From /usr/local/lib/python3.6/dist-packages/tensorflow/python/training/saver.py:1266: checkpoint_exists (from tensorflow.python.training.checkpoint_management) is deprecated and will be removed in a future version.\n",
            "Instructions for updating:\n",
            "Use standard file APIs to check for files with this prefix.\n",
            "Model restored [ models/dcscn_L12_F196to48_NIN_A64_PS_R1F32.ckpt ].\n",
            "2019-04-11 11:01:59.557134: I tensorflow/stream_executor/dso_loader.cc:152] successfully opened CUDA library libcublas.so.10.0 locally\n",
            "Model Average [set14] PSNR:33.289119, SSIM:0.914075\n"
          ],
          "name": "stdout"
        }
      ]
    },
    {
      "metadata": {
        "id": "tqKomE7pD42x",
        "colab_type": "code",
        "colab": {
          "base_uri": "https://localhost:8080/",
          "height": 802
        },
        "outputId": "7a22215a-db48-4883-c102-0d3084626b93"
      },
      "cell_type": "code",
      "source": [
        "!python evaluate.py --test_dataset=set5 --save_results=true --layers=8 --filters=96"
      ],
      "execution_count": 7,
      "outputs": [
        {
          "output_type": "stream",
          "text": [
            "Python Interpreter version:3.6\n",
            "tensorflow version:1.13.1\n",
            "numpy version:1.14.6\n",
            "Session and graph initialized.\n",
            "2019-04-11 11:04:05.869740: I tensorflow/core/platform/profile_utils/cpu_utils.cc:94] CPU Frequency: 2300000000 Hz\n",
            "2019-04-11 11:04:05.870008: I tensorflow/compiler/xla/service/service.cc:150] XLA service 0x1ef7ce0 executing computations on platform Host. Devices:\n",
            "2019-04-11 11:04:05.870047: I tensorflow/compiler/xla/service/service.cc:158]   StreamExecutor device (0): <undefined>, <undefined>\n",
            "2019-04-11 11:04:05.972002: I tensorflow/stream_executor/cuda/cuda_gpu_executor.cc:998] successful NUMA node read from SysFS had negative value (-1), but there must be at least one NUMA node, so returning NUMA node zero\n",
            "2019-04-11 11:04:05.972681: I tensorflow/compiler/xla/service/service.cc:150] XLA service 0x1ef74a0 executing computations on platform CUDA. Devices:\n",
            "2019-04-11 11:04:05.972722: I tensorflow/compiler/xla/service/service.cc:158]   StreamExecutor device (0): Tesla K80, Compute Capability 3.7\n",
            "2019-04-11 11:04:05.973103: I tensorflow/core/common_runtime/gpu/gpu_device.cc:1433] Found device 0 with properties: \n",
            "name: Tesla K80 major: 3 minor: 7 memoryClockRate(GHz): 0.8235\n",
            "pciBusID: 0000:00:04.0\n",
            "totalMemory: 11.17GiB freeMemory: 11.10GiB\n",
            "2019-04-11 11:04:05.973140: I tensorflow/core/common_runtime/gpu/gpu_device.cc:1512] Adding visible gpu devices: 0\n",
            "2019-04-11 11:04:06.359085: I tensorflow/core/common_runtime/gpu/gpu_device.cc:984] Device interconnect StreamExecutor with strength 1 edge matrix:\n",
            "2019-04-11 11:04:06.359156: I tensorflow/core/common_runtime/gpu/gpu_device.cc:990]      0 \n",
            "2019-04-11 11:04:06.359179: I tensorflow/core/common_runtime/gpu/gpu_device.cc:1003] 0:   N \n",
            "2019-04-11 11:04:06.359513: I tensorflow/core/common_runtime/gpu/gpu_device.cc:1115] Created TensorFlow device (/job:localhost/replica:0/task:0/device:GPU:0 with 10754 MB memory) -> physical GPU (device: 0, name: Tesla K80, pci bus id: 0000:00:04.0, compute capability: 3.7)\n",
            "\n",
            "DCSCN v2-------------------------------------\n",
            "2019/4/11 11:4:6 [dcscn_L8_F96to48_NIN_A64_PS_R1F32]\n",
            "WARNING:tensorflow:From /usr/local/lib/python3.6/dist-packages/tensorflow/python/framework/op_def_library.py:263: colocate_with (from tensorflow.python.framework.ops) is deprecated and will be removed in a future version.\n",
            "Instructions for updating:\n",
            "Colocations handled automatically by placer.\n",
            "From /usr/local/lib/python3.6/dist-packages/tensorflow/python/framework/op_def_library.py:263: colocate_with (from tensorflow.python.framework.ops) is deprecated and will be removed in a future version.\n",
            "Instructions for updating:\n",
            "Colocations handled automatically by placer.\n",
            "WARNING:tensorflow:From /content/dcscn-super-resolution/helper/tf_graph.py:127: calling dropout (from tensorflow.python.ops.nn_ops) with keep_prob is deprecated and will be removed in a future version.\n",
            "Instructions for updating:\n",
            "Please use `rate` instead of `keep_prob`. Rate should be set to `rate = 1 - keep_prob`.\n",
            "From /content/dcscn-super-resolution/helper/tf_graph.py:127: calling dropout (from tensorflow.python.ops.nn_ops) with keep_prob is deprecated and will be removed in a future version.\n",
            "Instructions for updating:\n",
            "Please use `rate` instead of `keep_prob`. Rate should be set to `rate = 1 - keep_prob`.\n",
            "Feature:96 82 75 68 62 57 52 48  Total: (540)64 32 32 384 1  Complexity:687,268 Receptive Fields:21\n",
            "Model initialized.\n",
            "WARNING:tensorflow:From /usr/local/lib/python3.6/dist-packages/tensorflow/python/training/saver.py:1266: checkpoint_exists (from tensorflow.python.training.checkpoint_management) is deprecated and will be removed in a future version.\n",
            "Instructions for updating:\n",
            "Use standard file APIs to check for files with this prefix.\n",
            "From /usr/local/lib/python3.6/dist-packages/tensorflow/python/training/saver.py:1266: checkpoint_exists (from tensorflow.python.training.checkpoint_management) is deprecated and will be removed in a future version.\n",
            "Instructions for updating:\n",
            "Use standard file APIs to check for files with this prefix.\n",
            "Model restored [ models/dcscn_L8_F96to48_NIN_A64_PS_R1F32.ckpt ].\n",
            "2019-04-11 11:04:09.065787: I tensorflow/stream_executor/dso_loader.cc:152] successfully opened CUDA library libcublas.so.10.0 locally\n",
            "Model Average [set5] PSNR:37.681601, SSIM:0.958517\n"
          ],
          "name": "stdout"
        }
      ]
    },
    {
      "metadata": {
        "id": "id74Mtu_EZ1K",
        "colab_type": "code",
        "colab": {
          "base_uri": "https://localhost:8080/",
          "height": 836
        },
        "outputId": "c669482a-d30e-4563-84f1-cbd301211248"
      },
      "cell_type": "code",
      "source": [
        "!python evaluate.py --scale=2 --layers=7 --filters=32 --min_filters=8 --filters_decay_gamma=1.2 --nin_filters=24 --nin_filters2=8 --reconstruct_layers=0 --self_ensemble=1 --batch_image_size=32 --pixel_shuffler_filters=1 --test_dataset=all"
      ],
      "execution_count": 8,
      "outputs": [
        {
          "output_type": "stream",
          "text": [
            "Python Interpreter version:3.6\n",
            "tensorflow version:1.13.1\n",
            "numpy version:1.14.6\n",
            "Session and graph initialized.\n",
            "2019-04-11 11:04:43.410459: I tensorflow/core/platform/profile_utils/cpu_utils.cc:94] CPU Frequency: 2300000000 Hz\n",
            "2019-04-11 11:04:43.410741: I tensorflow/compiler/xla/service/service.cc:150] XLA service 0x2f6bce0 executing computations on platform Host. Devices:\n",
            "2019-04-11 11:04:43.410779: I tensorflow/compiler/xla/service/service.cc:158]   StreamExecutor device (0): <undefined>, <undefined>\n",
            "2019-04-11 11:04:43.510068: I tensorflow/stream_executor/cuda/cuda_gpu_executor.cc:998] successful NUMA node read from SysFS had negative value (-1), but there must be at least one NUMA node, so returning NUMA node zero\n",
            "2019-04-11 11:04:43.510637: I tensorflow/compiler/xla/service/service.cc:150] XLA service 0x2f6b4a0 executing computations on platform CUDA. Devices:\n",
            "2019-04-11 11:04:43.510674: I tensorflow/compiler/xla/service/service.cc:158]   StreamExecutor device (0): Tesla K80, Compute Capability 3.7\n",
            "2019-04-11 11:04:43.511063: I tensorflow/core/common_runtime/gpu/gpu_device.cc:1433] Found device 0 with properties: \n",
            "name: Tesla K80 major: 3 minor: 7 memoryClockRate(GHz): 0.8235\n",
            "pciBusID: 0000:00:04.0\n",
            "totalMemory: 11.17GiB freeMemory: 11.10GiB\n",
            "2019-04-11 11:04:43.511097: I tensorflow/core/common_runtime/gpu/gpu_device.cc:1512] Adding visible gpu devices: 0\n",
            "2019-04-11 11:04:43.891596: I tensorflow/core/common_runtime/gpu/gpu_device.cc:984] Device interconnect StreamExecutor with strength 1 edge matrix:\n",
            "2019-04-11 11:04:43.891691: I tensorflow/core/common_runtime/gpu/gpu_device.cc:990]      0 \n",
            "2019-04-11 11:04:43.891726: I tensorflow/core/common_runtime/gpu/gpu_device.cc:1003] 0:   N \n",
            "2019-04-11 11:04:43.892114: I tensorflow/core/common_runtime/gpu/gpu_device.cc:1115] Created TensorFlow device (/job:localhost/replica:0/task:0/device:GPU:0 with 10754 MB memory) -> physical GPU (device: 0, name: Tesla K80, pci bus id: 0000:00:04.0, compute capability: 3.7)\n",
            "\n",
            "DCSCN v2-------------------------------------\n",
            "2019/4/11 11:4:43 [dcscn_L7_F32to8_G1.20_NIN_A24_B8_PS_R1F32]\n",
            "WARNING:tensorflow:From /usr/local/lib/python3.6/dist-packages/tensorflow/python/framework/op_def_library.py:263: colocate_with (from tensorflow.python.framework.ops) is deprecated and will be removed in a future version.\n",
            "Instructions for updating:\n",
            "Colocations handled automatically by placer.\n",
            "From /usr/local/lib/python3.6/dist-packages/tensorflow/python/framework/op_def_library.py:263: colocate_with (from tensorflow.python.framework.ops) is deprecated and will be removed in a future version.\n",
            "Instructions for updating:\n",
            "Colocations handled automatically by placer.\n",
            "WARNING:tensorflow:From /content/dcscn-super-resolution/helper/tf_graph.py:127: calling dropout (from tensorflow.python.ops.nn_ops) with keep_prob is deprecated and will be removed in a future version.\n",
            "Instructions for updating:\n",
            "Please use `rate` instead of `keep_prob`. Rate should be set to `rate = 1 - keep_prob`.\n",
            "From /content/dcscn-super-resolution/helper/tf_graph.py:127: calling dropout (from tensorflow.python.ops.nn_ops) with keep_prob is deprecated and will be removed in a future version.\n",
            "Instructions for updating:\n",
            "Please use `rate` instead of `keep_prob`. Rate should be set to `rate = 1 - keep_prob`.\n",
            "Feature:32 26 22 18 14 11 8  Total: (131)24 8 8 4 1  Complexity:27,209 Receptive Fields:19\n",
            "Model initialized.\n",
            "WARNING:tensorflow:From /usr/local/lib/python3.6/dist-packages/tensorflow/python/training/saver.py:1266: checkpoint_exists (from tensorflow.python.training.checkpoint_management) is deprecated and will be removed in a future version.\n",
            "Instructions for updating:\n",
            "Use standard file APIs to check for files with this prefix.\n",
            "From /usr/local/lib/python3.6/dist-packages/tensorflow/python/training/saver.py:1266: checkpoint_exists (from tensorflow.python.training.checkpoint_management) is deprecated and will be removed in a future version.\n",
            "Instructions for updating:\n",
            "Use standard file APIs to check for files with this prefix.\n",
            "Model restored [ models/dcscn_L7_F32to8_G1.20_NIN_A24_B8_PS_R1F32.ckpt ].\n",
            "2019-04-11 11:04:45.756389: I tensorflow/stream_executor/dso_loader.cc:152] successfully opened CUDA library libcublas.so.10.0 locally\n",
            "Model Average [set5] PSNR:37.148162, SSIM:0.956528\n",
            "Model Average [set14] PSNR:32.743996, SSIM:0.908878\n",
            "Model Average [bsd100] PSNR:31.605624, SSIM:0.890583\n"
          ],
          "name": "stdout"
        }
      ]
    },
    {
      "metadata": {
        "id": "36Snf5N1Eixt",
        "colab_type": "code",
        "colab": {}
      },
      "cell_type": "code",
      "source": [
        ""
      ],
      "execution_count": 0,
      "outputs": []
    }
  ]
}