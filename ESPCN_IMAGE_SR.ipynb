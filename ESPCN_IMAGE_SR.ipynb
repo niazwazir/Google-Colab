{
  "nbformat": 4,
  "nbformat_minor": 0,
  "metadata": {
    "kernelspec": {
      "display_name": "Python 3",
      "language": "python",
      "name": "python3"
    },
    "language_info": {
      "codemirror_mode": {
        "name": "ipython",
        "version": 3
      },
      "file_extension": ".py",
      "mimetype": "text/x-python",
      "name": "python",
      "nbconvert_exporter": "python",
      "pygments_lexer": "ipython3",
      "version": "3.6.9"
    },
    "colab": {
      "name": "Super_resolution.ipynb",
      "provenance": []
    },
    "accelerator": "GPU"
  },
  "cells": [
    {
      "cell_type": "code",
      "metadata": {
        "colab": {
          "base_uri": "https://localhost:8080/"
        },
        "id": "wSLuX5ogdgSO",
        "outputId": "009e40d5-e386-4995-e1d0-e30ec5192bb7"
      },
      "source": [
        "# BSDS300 dataset\n",
        "!wget https://www2.eecs.berkeley.edu/Research/Projects/CS/vision/grouping/segbench/BSDS300-images.tgz\n",
        "# If not working, uncomment the following line:\n",
        "# !wget http://nipg12.inf.elte.hu:8000/BSDS300-images.tgz\n",
        "!tar -xvzf BSDS300-images.tgz"
      ],
      "execution_count": 1,
      "outputs": [
        {
          "output_type": "stream",
          "text": [
            "--2021-01-28 17:48:06--  https://www2.eecs.berkeley.edu/Research/Projects/CS/vision/grouping/segbench/BSDS300-images.tgz\n",
            "Resolving www2.eecs.berkeley.edu (www2.eecs.berkeley.edu)... 128.32.244.190\n",
            "Connecting to www2.eecs.berkeley.edu (www2.eecs.berkeley.edu)|128.32.244.190|:443... connected.\n",
            "HTTP request sent, awaiting response... 200 OK\n",
            "Length: 22211847 (21M) [application/x-tar]\n",
            "Saving to: ‘BSDS300-images.tgz’\n",
            "\n",
            "BSDS300-images.tgz  100%[===================>]  21.18M  6.43MB/s    in 3.3s    \n",
            "\n",
            "2021-01-28 17:48:09 (6.49 MB/s) - ‘BSDS300-images.tgz’ saved [22211847/22211847]\n",
            "\n",
            "BSDS300/images/\n",
            "BSDS300/images/train/\n",
            "BSDS300/images/train/159029.jpg\n",
            "BSDS300/images/train/20008.jpg\n",
            "BSDS300/images/train/155060.jpg\n",
            "BSDS300/images/train/286092.jpg\n",
            "BSDS300/images/train/100075.jpg\n",
            "BSDS300/images/train/61060.jpg\n",
            "BSDS300/images/train/46076.jpg\n",
            "BSDS300/images/train/301007.jpg\n",
            "BSDS300/images/train/26031.jpg\n",
            "BSDS300/images/train/232038.jpg\n",
            "BSDS300/images/train/45077.jpg\n",
            "BSDS300/images/train/365025.jpg\n",
            "BSDS300/images/train/188091.jpg\n",
            "BSDS300/images/train/299091.jpg\n",
            "BSDS300/images/train/181079.jpg\n",
            "BSDS300/images/train/22090.jpg\n",
            "BSDS300/images/train/370036.jpg\n",
            "BSDS300/images/train/15088.jpg\n",
            "BSDS300/images/train/22093.jpg\n",
            "BSDS300/images/train/376020.jpg\n",
            "BSDS300/images/train/187071.jpg\n",
            "BSDS300/images/train/105053.jpg\n",
            "BSDS300/images/train/271008.jpg\n",
            "BSDS300/images/train/277095.jpg\n",
            "BSDS300/images/train/198023.jpg\n",
            "BSDS300/images/train/65074.jpg\n",
            "BSDS300/images/train/189003.jpg\n",
            "BSDS300/images/train/187029.jpg\n",
            "BSDS300/images/train/103041.jpg\n",
            "BSDS300/images/train/163014.jpg\n",
            "BSDS300/images/train/56028.jpg\n",
            "BSDS300/images/train/55075.jpg\n",
            "BSDS300/images/train/41004.jpg\n",
            "BSDS300/images/train/198054.jpg\n",
            "BSDS300/images/train/28096.jpg\n",
            "BSDS300/images/train/12003.jpg\n",
            "BSDS300/images/train/187039.jpg\n",
            "BSDS300/images/train/76002.jpg\n",
            "BSDS300/images/train/42044.jpg\n",
            "BSDS300/images/train/122048.jpg\n",
            "BSDS300/images/train/145053.jpg\n",
            "BSDS300/images/train/68077.jpg\n",
            "BSDS300/images/train/361084.jpg\n",
            "BSDS300/images/train/43083.jpg\n",
            "BSDS300/images/train/236017.jpg\n",
            "BSDS300/images/train/35058.jpg\n",
            "BSDS300/images/train/66075.jpg\n",
            "BSDS300/images/train/374020.jpg\n",
            "BSDS300/images/train/94079.jpg\n",
            "BSDS300/images/train/138078.jpg\n",
            "BSDS300/images/train/292066.jpg\n",
            "BSDS300/images/train/130034.jpg\n",
            "BSDS300/images/train/59078.jpg\n",
            "BSDS300/images/train/170054.jpg\n",
            "BSDS300/images/train/385028.jpg\n",
            "BSDS300/images/train/67079.jpg\n",
            "BSDS300/images/train/365073.jpg\n",
            "BSDS300/images/train/33066.jpg\n",
            "BSDS300/images/train/166081.jpg\n",
            "BSDS300/images/train/113009.jpg\n",
            "BSDS300/images/train/227046.jpg\n",
            "BSDS300/images/train/35091.jpg\n",
            "BSDS300/images/train/309004.jpg\n",
            "BSDS300/images/train/65132.jpg\n",
            "BSDS300/images/train/372047.jpg\n",
            "BSDS300/images/train/176039.jpg\n",
            "BSDS300/images/train/285036.jpg\n",
            "BSDS300/images/train/253036.jpg\n",
            "BSDS300/images/train/274007.jpg\n",
            "BSDS300/images/train/109034.jpg\n",
            "BSDS300/images/train/108073.jpg\n",
            "BSDS300/images/train/157036.jpg\n",
            "BSDS300/images/train/100098.jpg\n",
            "BSDS300/images/train/35008.jpg\n",
            "BSDS300/images/train/92059.jpg\n",
            "BSDS300/images/train/245051.jpg\n",
            "BSDS300/images/train/209070.jpg\n",
            "BSDS300/images/train/27059.jpg\n",
            "BSDS300/images/train/176019.jpg\n",
            "BSDS300/images/train/54005.jpg\n",
            "BSDS300/images/train/249087.jpg\n",
            "BSDS300/images/train/249061.jpg\n",
            "BSDS300/images/train/317080.jpg\n",
            "BSDS300/images/train/172032.jpg\n",
            "BSDS300/images/train/147062.jpg\n",
            "BSDS300/images/train/163062.jpg\n",
            "BSDS300/images/train/140075.jpg\n",
            "BSDS300/images/train/260081.jpg\n",
            "BSDS300/images/train/353013.jpg\n",
            "BSDS300/images/train/374067.jpg\n",
            "BSDS300/images/train/164074.jpg\n",
            "BSDS300/images/train/104022.jpg\n",
            "BSDS300/images/train/135037.jpg\n",
            "BSDS300/images/train/42078.jpg\n",
            "BSDS300/images/train/134052.jpg\n",
            "BSDS300/images/train/268002.jpg\n",
            "BSDS300/images/train/16052.jpg\n",
            "BSDS300/images/train/247085.jpg\n",
            "BSDS300/images/train/302003.jpg\n",
            "BSDS300/images/train/227040.jpg\n",
            "BSDS300/images/train/246053.jpg\n",
            "BSDS300/images/train/2092.jpg\n",
            "BSDS300/images/train/183055.jpg\n",
            "BSDS300/images/train/239096.jpg\n",
            "BSDS300/images/train/216053.jpg\n",
            "BSDS300/images/train/55067.jpg\n",
            "BSDS300/images/train/71046.jpg\n",
            "BSDS300/images/train/113044.jpg\n",
            "BSDS300/images/train/207056.jpg\n",
            "BSDS300/images/train/310007.jpg\n",
            "BSDS300/images/train/169012.jpg\n",
            "BSDS300/images/train/216041.jpg\n",
            "BSDS300/images/train/198004.jpg\n",
            "BSDS300/images/train/181091.jpg\n",
            "BSDS300/images/train/181018.jpg\n",
            "BSDS300/images/train/28075.jpg\n",
            "BSDS300/images/train/41025.jpg\n",
            "BSDS300/images/train/65019.jpg\n",
            "BSDS300/images/train/80099.jpg\n",
            "BSDS300/images/train/97017.jpg\n",
            "BSDS300/images/train/65010.jpg\n",
            "BSDS300/images/train/323016.jpg\n",
            "BSDS300/images/train/311068.jpg\n",
            "BSDS300/images/train/78019.jpg\n",
            "BSDS300/images/train/135069.jpg\n",
            "BSDS300/images/train/231015.jpg\n",
            "BSDS300/images/train/23084.jpg\n",
            "BSDS300/images/train/147021.jpg\n",
            "BSDS300/images/train/159091.jpg\n",
            "BSDS300/images/train/25098.jpg\n",
            "BSDS300/images/train/8143.jpg\n",
            "BSDS300/images/train/24004.jpg\n",
            "BSDS300/images/train/23025.jpg\n",
            "BSDS300/images/train/188005.jpg\n",
            "BSDS300/images/train/145014.jpg\n",
            "BSDS300/images/train/189011.jpg\n",
            "BSDS300/images/train/48055.jpg\n",
            "BSDS300/images/train/35010.jpg\n",
            "BSDS300/images/train/15004.jpg\n",
            "BSDS300/images/train/100080.jpg\n",
            "BSDS300/images/train/161062.jpg\n",
            "BSDS300/images/train/126039.jpg\n",
            "BSDS300/images/train/254054.jpg\n",
            "BSDS300/images/train/239007.jpg\n",
            "BSDS300/images/train/118035.jpg\n",
            "BSDS300/images/train/113016.jpg\n",
            "BSDS300/images/train/238011.jpg\n",
            "BSDS300/images/train/61086.jpg\n",
            "BSDS300/images/train/151087.jpg\n",
            "BSDS300/images/train/106025.jpg\n",
            "BSDS300/images/train/159045.jpg\n",
            "BSDS300/images/train/43070.jpg\n",
            "BSDS300/images/train/112082.jpg\n",
            "BSDS300/images/train/105019.jpg\n",
            "BSDS300/images/train/368078.jpg\n",
            "BSDS300/images/train/117054.jpg\n",
            "BSDS300/images/train/134008.jpg\n",
            "BSDS300/images/train/35070.jpg\n",
            "BSDS300/images/train/388016.jpg\n",
            "BSDS300/images/train/24063.jpg\n",
            "BSDS300/images/train/140055.jpg\n",
            "BSDS300/images/train/178054.jpg\n",
            "BSDS300/images/train/90076.jpg\n",
            "BSDS300/images/train/106020.jpg\n",
            "BSDS300/images/train/368016.jpg\n",
            "BSDS300/images/train/144067.jpg\n",
            "BSDS300/images/train/216066.jpg\n",
            "BSDS300/images/train/153093.jpg\n",
            "BSDS300/images/train/293029.jpg\n",
            "BSDS300/images/train/311081.jpg\n",
            "BSDS300/images/train/124084.jpg\n",
            "BSDS300/images/train/246016.jpg\n",
            "BSDS300/images/train/156079.jpg\n",
            "BSDS300/images/train/254033.jpg\n",
            "BSDS300/images/train/95006.jpg\n",
            "BSDS300/images/train/60079.jpg\n",
            "BSDS300/images/train/225017.jpg\n",
            "BSDS300/images/train/188063.jpg\n",
            "BSDS300/images/train/326038.jpg\n",
            "BSDS300/images/train/118020.jpg\n",
            "BSDS300/images/train/12074.jpg\n",
            "BSDS300/images/train/173036.jpg\n",
            "BSDS300/images/train/187083.jpg\n",
            "BSDS300/images/train/176035.jpg\n",
            "BSDS300/images/train/187003.jpg\n",
            "BSDS300/images/train/66039.jpg\n",
            "BSDS300/images/train/153077.jpg\n",
            "BSDS300/images/train/271031.jpg\n",
            "BSDS300/images/train/23080.jpg\n",
            "BSDS300/images/train/202012.jpg\n",
            "BSDS300/images/train/196015.jpg\n",
            "BSDS300/images/train/108041.jpg\n",
            "BSDS300/images/train/376001.jpg\n",
            "BSDS300/images/train/242078.jpg\n",
            "BSDS300/images/train/138032.jpg\n",
            "BSDS300/images/train/8049.jpg\n",
            "BSDS300/images/train/314016.jpg\n",
            "BSDS300/images/train/22013.jpg\n",
            "BSDS300/images/train/87065.jpg\n",
            "BSDS300/images/train/183087.jpg\n",
            "BSDS300/images/test/\n",
            "BSDS300/images/test/119082.jpg\n",
            "BSDS300/images/test/170057.jpg\n",
            "BSDS300/images/test/58060.jpg\n",
            "BSDS300/images/test/163085.jpg\n",
            "BSDS300/images/test/42049.jpg\n",
            "BSDS300/images/test/167062.jpg\n",
            "BSDS300/images/test/157055.jpg\n",
            "BSDS300/images/test/295087.jpg\n",
            "BSDS300/images/test/24077.jpg\n",
            "BSDS300/images/test/78004.jpg\n",
            "BSDS300/images/test/220075.jpg\n",
            "BSDS300/images/test/45096.jpg\n",
            "BSDS300/images/test/38092.jpg\n",
            "BSDS300/images/test/43074.jpg\n",
            "BSDS300/images/test/16077.jpg\n",
            "BSDS300/images/test/86000.jpg\n",
            "BSDS300/images/test/101085.jpg\n",
            "BSDS300/images/test/219090.jpg\n",
            "BSDS300/images/test/89072.jpg\n",
            "BSDS300/images/test/300091.jpg\n",
            "BSDS300/images/test/126007.jpg\n",
            "BSDS300/images/test/156065.jpg\n",
            "BSDS300/images/test/76053.jpg\n",
            "BSDS300/images/test/296007.jpg\n",
            "BSDS300/images/test/175032.jpg\n",
            "BSDS300/images/test/253027.jpg\n",
            "BSDS300/images/test/304034.jpg\n",
            "BSDS300/images/test/86016.jpg\n",
            "BSDS300/images/test/103070.jpg\n",
            "BSDS300/images/test/8023.jpg\n",
            "BSDS300/images/test/260058.jpg\n",
            "BSDS300/images/test/41033.jpg\n",
            "BSDS300/images/test/291000.jpg\n",
            "BSDS300/images/test/109053.jpg\n",
            "BSDS300/images/test/130026.jpg\n",
            "BSDS300/images/test/241004.jpg\n",
            "BSDS300/images/test/108082.jpg\n",
            "BSDS300/images/test/285079.jpg\n",
            "BSDS300/images/test/147091.jpg\n",
            "BSDS300/images/test/69040.jpg\n",
            "BSDS300/images/test/14037.jpg\n",
            "BSDS300/images/test/54082.jpg\n",
            "BSDS300/images/test/189080.jpg\n",
            "BSDS300/images/test/229036.jpg\n",
            "BSDS300/images/test/62096.jpg\n",
            "BSDS300/images/test/271035.jpg\n",
            "BSDS300/images/test/167083.jpg\n",
            "BSDS300/images/test/12084.jpg\n",
            "BSDS300/images/test/69015.jpg\n",
            "BSDS300/images/test/148089.jpg\n",
            "BSDS300/images/test/160068.jpg\n",
            "BSDS300/images/test/145086.jpg\n",
            "BSDS300/images/test/216081.jpg\n",
            "BSDS300/images/test/97033.jpg\n",
            "BSDS300/images/test/182053.jpg\n",
            "BSDS300/images/test/208001.jpg\n",
            "BSDS300/images/test/19021.jpg\n",
            "BSDS300/images/test/227092.jpg\n",
            "BSDS300/images/test/134035.jpg\n",
            "BSDS300/images/test/223061.jpg\n",
            "BSDS300/images/test/253055.jpg\n",
            "BSDS300/images/test/148026.jpg\n",
            "BSDS300/images/test/210088.jpg\n",
            "BSDS300/images/test/86068.jpg\n",
            "BSDS300/images/test/3096.jpg\n",
            "BSDS300/images/test/41069.jpg\n",
            "BSDS300/images/test/21077.jpg\n",
            "BSDS300/images/test/196073.jpg\n",
            "BSDS300/images/test/108070.jpg\n",
            "BSDS300/images/test/123074.jpg\n",
            "BSDS300/images/test/376043.jpg\n",
            "BSDS300/images/test/306005.jpg\n",
            "BSDS300/images/test/38082.jpg\n",
            "BSDS300/images/test/33039.jpg\n",
            "BSDS300/images/test/108005.jpg\n",
            "BSDS300/images/test/106024.jpg\n",
            "BSDS300/images/test/302008.jpg\n",
            "BSDS300/images/test/102061.jpg\n",
            "BSDS300/images/test/197017.jpg\n",
            "BSDS300/images/test/299086.jpg\n",
            "BSDS300/images/test/37073.jpg\n",
            "BSDS300/images/test/241048.jpg\n",
            "BSDS300/images/test/65033.jpg\n",
            "BSDS300/images/test/55073.jpg\n",
            "BSDS300/images/test/66053.jpg\n",
            "BSDS300/images/test/143090.jpg\n",
            "BSDS300/images/test/85048.jpg\n",
            "BSDS300/images/test/42012.jpg\n",
            "BSDS300/images/test/351093.jpg\n",
            "BSDS300/images/test/361010.jpg\n",
            "BSDS300/images/test/175043.jpg\n",
            "BSDS300/images/test/87046.jpg\n",
            "BSDS300/images/test/105025.jpg\n",
            "BSDS300/images/test/236037.jpg\n",
            "BSDS300/images/test/101087.jpg\n",
            "BSDS300/images/test/304074.jpg\n",
            "BSDS300/images/test/296059.jpg\n",
            "BSDS300/images/test/159008.jpg\n",
            "BSDS300/images/test/385039.jpg\n",
            "BSDS300/images/test/69020.jpg\n",
            "BSDS300/iids_test.txt\n",
            "BSDS300/iids_train.txt\n"
          ],
          "name": "stdout"
        }
      ]
    },
    {
      "cell_type": "code",
      "metadata": {
        "id": "BIg_s9eriO3J",
        "outputId": "6d5c727d-2fb2-4b49-da99-d7afe3873dfb",
        "colab": {
          "base_uri": "https://localhost:8080/"
        }
      },
      "source": [
        "!ls"
      ],
      "execution_count": 2,
      "outputs": [
        {
          "output_type": "stream",
          "text": [
            "BSDS300  BSDS300-images.tgz  sample_data\n"
          ],
          "name": "stdout"
        }
      ]
    },
    {
      "cell_type": "code",
      "metadata": {
        "id": "pc4ig_FtdygN"
      },
      "source": [
        "import numpy as np\r\n",
        "import os\r\n",
        "import matplotlib.pyplot as plt\r\n",
        "from math import log10\r\n",
        "%matplotlib inline"
      ],
      "execution_count": 3,
      "outputs": []
    },
    {
      "cell_type": "code",
      "metadata": {
        "id": "9BF6PynldgST"
      },
      "source": [
        "import torch \n",
        "from torch.nn import init\n",
        "from torchvision import datasets, transforms\n",
        "from torch import nn, optim\n",
        "import torch.nn.functional as F\n",
        "from PIL import Image\n",
        "import torch.utils.data as data"
      ],
      "execution_count": 4,
      "outputs": []
    },
    {
      "cell_type": "code",
      "metadata": {
        "id": "Uo7qbPaxdgST"
      },
      "source": [
        "root = 'BSDS300/images/'"
      ],
      "execution_count": 5,
      "outputs": []
    },
    {
      "cell_type": "code",
      "metadata": {
        "colab": {
          "base_uri": "https://localhost:8080/",
          "height": 35
        },
        "id": "B0l-lcvLdgSU",
        "outputId": "bacd1439-8f10-4b6b-8b5c-8cd34e09ce46"
      },
      "source": [
        "os.getcwd()"
      ],
      "execution_count": 6,
      "outputs": [
        {
          "output_type": "execute_result",
          "data": {
            "application/vnd.google.colaboratory.intrinsic+json": {
              "type": "string"
            },
            "text/plain": [
              "'/content'"
            ]
          },
          "metadata": {
            "tags": []
          },
          "execution_count": 6
        }
      ]
    },
    {
      "cell_type": "code",
      "metadata": {
        "id": "2ssMgL2UdgSU"
      },
      "source": [
        "class DataSuperRes(data.Dataset):\n",
        "    def __init__(self, path, input_transform = None, target_transform = None):\n",
        "        super(DataSuperRes, self).__init__()\n",
        "        self.input_transform = input_transform\n",
        "        self.target_transform = target_transform\n",
        "        self.filepath = [os.path.join(path,x) for x in os.listdir(path)]\n",
        "        \n",
        "    def __len__(self):\n",
        "        return len(self.filepath)\n",
        "    \n",
        "    def __getitem__(self,index):\n",
        "        image = Image.open(self.filepath[index]).convert('YCbCr')\n",
        "        image_rgb = image.convert('RGB')\n",
        "        y, _ , _ = image.split()\n",
        "        target = y.copy()\n",
        "        if self.input_transform:\n",
        "            img = self.input_transform(y)\n",
        "        if self.target_transform:\n",
        "            target = self.target_transform(target)\n",
        "            image_rgb = self.target_transform(image_rgb)\n",
        "        #tensor = transforms.ToTensor()\n",
        "        #image = tensor(image)\n",
        "        return image_rgb, img, target\n",
        "    "
      ],
      "execution_count": 7,
      "outputs": []
    },
    {
      "cell_type": "code",
      "metadata": {
        "id": "ykqClUELdgSV"
      },
      "source": [
        "upscale_factor = 3\n",
        "batch_size = 4\n",
        "epochs = 7 #700\n",
        "lr = 0.001"
      ],
      "execution_count": 8,
      "outputs": []
    },
    {
      "cell_type": "code",
      "metadata": {
        "id": "7ZTXGMPmdgSV"
      },
      "source": [
        "device = torch.device(\"cuda\" if torch.cuda.is_available() else \"cpu\")"
      ],
      "execution_count": 9,
      "outputs": []
    },
    {
      "cell_type": "code",
      "metadata": {
        "id": "O4WRSiVMdgSV"
      },
      "source": [
        "def Valid_crop_size(crop_size, upscalefactor):\n",
        "    return crop_size - (crop_size % upscalefactor)"
      ],
      "execution_count": 10,
      "outputs": []
    },
    {
      "cell_type": "code",
      "metadata": {
        "id": "4yiQPpI3dgSV"
      },
      "source": [
        "# We resize the image to size/upscale_factor to match the output of the model\n",
        "crop_size = Valid_crop_size(256,upscale_factor)\n",
        "input_transforms = transforms.Compose([transforms.CenterCrop(crop_size),\n",
        "                                      transforms.Resize(crop_size//upscale_factor),\n",
        "                                      transforms.ToTensor()\n",
        "                                      ])\n",
        "\n",
        "target_transforms = transforms.Compose([transforms.CenterCrop(crop_size),\n",
        "                                      transforms.ToTensor()\n",
        "                                      ])\n"
      ],
      "execution_count": 11,
      "outputs": []
    },
    {
      "cell_type": "code",
      "metadata": {
        "id": "gO6UCCjEdgSW"
      },
      "source": [
        "train_set = DataSuperRes(root + 'train', input_transform=input_transforms, target_transform= target_transforms)\n",
        "test_set = DataSuperRes(root + 'test', input_transform=input_transforms, target_transform=target_transforms)\n",
        "\n",
        "trainloader = data.DataLoader(train_set, batch_size=batch_size, shuffle=True)\n",
        "testloader = data.DataLoader(test_set, batch_size=batch_size, shuffle=False)"
      ],
      "execution_count": 12,
      "outputs": []
    },
    {
      "cell_type": "code",
      "metadata": {
        "id": "LCIzHxqRdgSW"
      },
      "source": [
        "#print(len(trainloader))"
      ],
      "execution_count": 13,
      "outputs": []
    },
    {
      "cell_type": "code",
      "metadata": {
        "id": "9fREqQHjdgSW"
      },
      "source": [
        "#len(os.listdir(root + 'train'))/8"
      ],
      "execution_count": 14,
      "outputs": []
    },
    {
      "cell_type": "code",
      "metadata": {
        "id": "lr_vXBp0dgSW"
      },
      "source": [
        "#w = torch.empty(2,3)\n",
        "#torch.nn.init.orthogonal_(w,gain=1)"
      ],
      "execution_count": 15,
      "outputs": []
    },
    {
      "cell_type": "code",
      "metadata": {
        "id": "TcRBOE0ndgSX"
      },
      "source": [
        "#torch.nn.init.orthogonal_(w,gain=1)"
      ],
      "execution_count": 16,
      "outputs": []
    },
    {
      "cell_type": "code",
      "metadata": {
        "id": "cAewkZw2dgSX"
      },
      "source": [
        "def show_img(epoch, normal, super_resolution):\n",
        "    \n",
        "    tensor = transforms.ToTensor()\n",
        "    PIL = transforms.ToPILImage()\n",
        "    img_normal = PIL(normal)\n",
        "    \n",
        "    img_ycbcr = img_normal.convert('YCbCr')\n",
        "    _, img_cb, img_cr = img_ycbcr.split()\n",
        "    \n",
        "    #super_resolution = np.transpose(super_resolution, (1,2,0))\n",
        "    normal = np.transpose(normal, (1,2,0))\n",
        "    \n",
        "    out_img_y = super_resolution*255.0\n",
        "    out_img_y = out_img_y.clip(0, 255)\n",
        "    #print(out_img_y.shape)\n",
        "    #out_img_y = out_img_y.squeeze()\n",
        "    out_img_y = Image.fromarray(np.uint8(out_img_y[0]), mode='L')\n",
        "    print(out_img_y.size)\n",
        "    \n",
        "    out_img_cb = img_cb.resize(out_img_y.size, Image.BICUBIC)\n",
        "    out_img_cr = img_cr.resize(out_img_y.size, Image.BICUBIC)\n",
        "    out_img = Image.merge('YCbCr', [out_img_y, out_img_cb, out_img_cr])\n",
        "    out_img = out_img.convert('RGB')\n",
        "    #out_img = Image.merge('RGB', [out_img_y, out_img_cb, out_img_cr])\n",
        "    print(out_img.size)\n",
        "    \n",
        "    if epoch % 150 == 0:\n",
        "        out_img.save(root+'out.png')\n",
        "    fig=plt.figure(figsize=[10,5])\n",
        "    \n",
        "    fig.add_subplot(1, 2, 1, title='Original Image')\n",
        "    plt.imshow(normal)\n",
        "    \n",
        "    fig.add_subplot(1, 2, 2, title='Super resolution Image')\n",
        "    plt.imshow(out_img)\n",
        "    '''\n",
        "    fig.add_subplot(2, 3, 3, title='y component')\n",
        "    plt.imshow(out_img_y)\n",
        "    \n",
        "    fig.add_subplot(2, 3, 4, title='cb')\n",
        "    plt.imshow(out_img_cb)\n",
        "    \n",
        "    fig.add_subplot(2, 3, 5, title='cr')\n",
        "    plt.imshow(out_img_cr)\n",
        "    \n",
        "    fig.add_subplot(2, 3, 6, title='ycbcr from rgb')\n",
        "    plt.imshow(img_normal)'''\n",
        "    \n",
        "    fig.subplots_adjust(wspace = 0.5)\n",
        "    plt.show()\n",
        "    "
      ],
      "execution_count": 17,
      "outputs": []
    },
    {
      "cell_type": "code",
      "metadata": {
        "id": "bKmO9wIwdgSX"
      },
      "source": [
        "class Network(nn.Module):\n",
        "    def __init__(self, upscale_factor):\n",
        "        super(Network, self).__init__()\n",
        "\n",
        "        self.relu = nn.ReLU()\n",
        "        self.conv1 = nn.Conv2d(1, 64, (5, 5), (1, 1), (2, 2))\n",
        "        self.conv2 = nn.Conv2d(64, 64, (3, 3), (1, 1), (1, 1))\n",
        "        self.conv3 = nn.Conv2d(64, 32, (3, 3), (1, 1), (1, 1))\n",
        "        self.conv4 = nn.Conv2d(32, upscale_factor ** 2, (3, 3), (1, 1), (1, 1))\n",
        "        self.pixel_shuffle = nn.PixelShuffle(upscale_factor)\n",
        "\n",
        "        self._initialize_weights()\n",
        "\n",
        "    def forward(self, x):\n",
        "        x = self.relu(self.conv1(x))\n",
        "        x = self.relu(self.conv2(x))\n",
        "        x = self.relu(self.conv3(x))\n",
        "        x = self.pixel_shuffle(self.conv4(x))\n",
        "        return x\n",
        "    \n",
        "    # A way to initialize weights. Read more here: https://pytorch.org/docs/stable/_modules/torch/nn/init.html#orthogonal_\n",
        "    def _initialize_weights(self):\n",
        "        init.orthogonal_(self.conv1.weight, init.calculate_gain('relu'))\n",
        "        init.orthogonal_(self.conv2.weight, init.calculate_gain('relu'))\n",
        "        init.orthogonal_(self.conv3.weight, init.calculate_gain('relu'))\n",
        "        init.orthogonal_(self.conv4.weight)"
      ],
      "execution_count": 18,
      "outputs": []
    },
    {
      "cell_type": "code",
      "metadata": {
        "id": "wHTmi4D8dgSX"
      },
      "source": [
        "model = Network(upscale_factor=upscale_factor).to(device)"
      ],
      "execution_count": 19,
      "outputs": []
    },
    {
      "cell_type": "code",
      "metadata": {
        "colab": {
          "base_uri": "https://localhost:8080/"
        },
        "id": "HJQ8knmsdgSY",
        "outputId": "35dd7a20-bcd2-44ab-cec1-636ac58ebf8e"
      },
      "source": [
        "model"
      ],
      "execution_count": 20,
      "outputs": [
        {
          "output_type": "execute_result",
          "data": {
            "text/plain": [
              "Network(\n",
              "  (relu): ReLU()\n",
              "  (conv1): Conv2d(1, 64, kernel_size=(5, 5), stride=(1, 1), padding=(2, 2))\n",
              "  (conv2): Conv2d(64, 64, kernel_size=(3, 3), stride=(1, 1), padding=(1, 1))\n",
              "  (conv3): Conv2d(64, 32, kernel_size=(3, 3), stride=(1, 1), padding=(1, 1))\n",
              "  (conv4): Conv2d(32, 9, kernel_size=(3, 3), stride=(1, 1), padding=(1, 1))\n",
              "  (pixel_shuffle): PixelShuffle(upscale_factor=3)\n",
              ")"
            ]
          },
          "metadata": {
            "tags": []
          },
          "execution_count": 20
        }
      ]
    },
    {
      "cell_type": "code",
      "metadata": {
        "id": "PXXrVgmIdgSY"
      },
      "source": [
        "criterion = nn.MSELoss()\n",
        "optimizer = optim.Adam(model.parameters(),lr=lr)"
      ],
      "execution_count": 21,
      "outputs": []
    },
    {
      "cell_type": "code",
      "metadata": {
        "colab": {
          "base_uri": "https://localhost:8080/"
        },
        "id": "5Ddr5kqMdgSY",
        "outputId": "05a733e0-04d9-4a58-9009-a90a6974f79e"
      },
      "source": [
        "train_losses = []\n",
        "test_losses = []\n",
        "print_every = 25\n",
        "steps = 1\n",
        "for e in range(epochs):\n",
        "    batch_loss = 0\n",
        "    test_loss = 0\n",
        "    avg_psnr = 0\n",
        "    print(f'Starting epoch: {e+1}/{epochs}')\n",
        "    for color, images, target in trainloader:\n",
        "        images, target = images.to(device), target.to(device)\n",
        "        #print('train images input shape:',images.shape)\n",
        "        \n",
        "        output = model(images)\n",
        "        #print('train model output shape:',output.shape)\n",
        "        loss = criterion(output,target)\n",
        "        \n",
        "        optimizer.zero_grad()\n",
        "        loss.backward()\n",
        "        optimizer.step()\n",
        "        \n",
        "        steps = steps + 1\n",
        "        batch_loss += loss.item()\n",
        "        \n",
        "        if steps % print_every == 0:\n",
        "            with torch.no_grad():\n",
        "                model.eval()\n",
        "                for color_test, images_test, target_test in testloader:\n",
        "                    images_test, target_test = images_test.to(device), target_test.to(device)\n",
        "                    #print('test images input shape:',images_test.shape)\n",
        "                    output_test = model(images_test)\n",
        "                    #print('test model output shape:',output_test.shape)\n",
        "                    loss = criterion(output_test,target_test)\n",
        "                    test_loss +=loss.item()\n",
        "\n",
        "                    psnr = 10 * log10(1 / loss.item())\n",
        "                    avg_psnr += psnr\n",
        "\n",
        "            #print(output.shape)\n",
        "            #print(target.shape)\n",
        "            #print(type(color))\n",
        "            image_out = output_test[0].cpu().numpy()\n",
        "            #target_out = target_test[0].cpu().numpy()\n",
        "            color = color_test[0]\n",
        "            if (e+1)%150 == 0:\n",
        "                show_img(e, color, image_out)\n",
        "            \n",
        "    if(e+1)%200 == 0:\n",
        "        model_out_path = \"model_epoch_{}.pth\".format(e)\n",
        "        torch.save(model, model_out_path)\n",
        "        print(\"Checkpoint saved to {}\".format(model_out_path))\n",
        "    train_losses.append(batch_loss/len(trainloader))\n",
        "    test_losses.append(test_loss/len(testloader))\n",
        "    print(f\"Training loss at epoch {e}: {batch_loss/len(trainloader)}\")\n",
        "    print(f\"Test loss at epoch {e}: {test_loss/len(testloader)}\")\n",
        "    print(f\"Average PSNR: {avg_psnr/len(testloader)}\")\n",
        "    model.train()"
      ],
      "execution_count": 22,
      "outputs": [
        {
          "output_type": "stream",
          "text": [
            "Starting epoch: 1/7\n",
            "Training loss at epoch 0: 0.01915089404210448\n",
            "Test loss at epoch 0: 0.021783415414392947\n",
            "Average PSNR: 39.762492696170455\n",
            "Starting epoch: 2/7\n",
            "Training loss at epoch 1: 0.0060701858252286914\n",
            "Test loss at epoch 1: 0.011849460219964384\n",
            "Average PSNR: 45.07034771119003\n",
            "Starting epoch: 3/7\n",
            "Training loss at epoch 2: 0.004434822204057127\n",
            "Test loss at epoch 2: 0.00928661067970097\n",
            "Average PSNR: 47.234458670909596\n",
            "Starting epoch: 4/7\n",
            "Training loss at epoch 3: 0.0039649225608445705\n",
            "Test loss at epoch 3: 0.008565872320905327\n",
            "Average PSNR: 47.947004550844895\n",
            "Starting epoch: 5/7\n",
            "Training loss at epoch 4: 0.003776757246814668\n",
            "Test loss at epoch 4: 0.008088659956119954\n",
            "Average PSNR: 48.47980955510162\n",
            "Starting epoch: 6/7\n",
            "Training loss at epoch 5: 0.0036252790014259517\n",
            "Test loss at epoch 5: 0.007856538156047463\n",
            "Average PSNR: 48.747187806469334\n",
            "Starting epoch: 7/7\n",
            "Training loss at epoch 6: 0.003536977848270908\n",
            "Test loss at epoch 6: 0.007827226724475621\n",
            "Average PSNR: 48.76347908279851\n"
          ],
          "name": "stdout"
        }
      ]
    },
    {
      "cell_type": "code",
      "metadata": {
        "id": "KgcB--JblX4N"
      },
      "source": [
        ""
      ],
      "execution_count": null,
      "outputs": []
    }
  ]
}