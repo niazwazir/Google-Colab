{
  "nbformat": 4,
  "nbformat_minor": 0,
  "metadata": {
    "accelerator": "GPU",
    "colab": {
      "name": "ISR Traininig tutorial.ipynb",
      "provenance": []
    },
    "kernelspec": {
      "display_name": "Python 3",
      "language": "python",
      "name": "python3"
    },
    "language_info": {
      "codemirror_mode": {
        "name": "ipython",
        "version": 3
      },
      "file_extension": ".py",
      "mimetype": "text/x-python",
      "name": "python",
      "nbconvert_exporter": "python",
      "pygments_lexer": "ipython3",
      "version": "3.7.4"
    }
  },
  "cells": [
    {
      "cell_type": "code",
      "metadata": {
        "id": "yZcm_o2NII1Z",
        "outputId": "909efe5f-af24-41e8-eacb-c714d2b25e90",
        "colab": {
          "base_uri": "https://localhost:8080/"
        }
      },
      "source": [
        "!ls"
      ],
      "execution_count": 1,
      "outputs": [
        {
          "output_type": "stream",
          "text": [
            "sample_data\n"
          ],
          "name": "stdout"
        }
      ]
    },
    {
      "cell_type": "code",
      "metadata": {
        "id": "UQNhX39DOYxW",
        "outputId": "f352a43a-3ad4-487f-aa4c-2b1d2ad7d011",
        "colab": {
          "base_uri": "https://localhost:8080/"
        }
      },
      "source": [
        "!wget http://data.vision.ee.ethz.ch/cvl/DIV2K/DIV2K_train_HR.zip"
      ],
      "execution_count": 2,
      "outputs": [
        {
          "output_type": "stream",
          "text": [
            "--2021-01-12 22:34:34--  http://data.vision.ee.ethz.ch/cvl/DIV2K/DIV2K_train_HR.zip\n",
            "Resolving data.vision.ee.ethz.ch (data.vision.ee.ethz.ch)... 129.132.52.162\n",
            "Connecting to data.vision.ee.ethz.ch (data.vision.ee.ethz.ch)|129.132.52.162|:80... connected.\n",
            "HTTP request sent, awaiting response... 302 Found\n",
            "Location: https://data.vision.ee.ethz.ch/cvl/DIV2K/DIV2K_train_HR.zip [following]\n",
            "--2021-01-12 22:34:34--  https://data.vision.ee.ethz.ch/cvl/DIV2K/DIV2K_train_HR.zip\n",
            "Connecting to data.vision.ee.ethz.ch (data.vision.ee.ethz.ch)|129.132.52.162|:443... connected.\n",
            "HTTP request sent, awaiting response... 200 OK\n",
            "Length: 3530603713 (3.3G) [application/zip]\n",
            "Saving to: ‘DIV2K_train_HR.zip’\n",
            "\n",
            "DIV2K_train_HR.zip  100%[===================>]   3.29G  17.6MB/s    in 3m 12s  \n",
            "\n",
            "2021-01-12 22:37:47 (17.5 MB/s) - ‘DIV2K_train_HR.zip’ saved [3530603713/3530603713]\n",
            "\n"
          ],
          "name": "stdout"
        }
      ]
    },
    {
      "cell_type": "code",
      "metadata": {
        "id": "ofKIsjSnOY1X",
        "outputId": "71646c96-cac8-40d4-d6d3-bc7704291cef",
        "colab": {
          "base_uri": "https://localhost:8080/"
        }
      },
      "source": [
        "!ls"
      ],
      "execution_count": 3,
      "outputs": [
        {
          "output_type": "stream",
          "text": [
            "DIV2K_train_HR.zip  sample_data\n"
          ],
          "name": "stdout"
        }
      ]
    },
    {
      "cell_type": "code",
      "metadata": {
        "id": "8FfH1RWrIWSE"
      },
      "source": [
        "!mkdir DIV2k"
      ],
      "execution_count": 4,
      "outputs": []
    },
    {
      "cell_type": "code",
      "metadata": {
        "id": "kgYDA7yrPVVc",
        "outputId": "c981ef03-b5ad-4b69-80a9-bfa8783acc42",
        "colab": {
          "base_uri": "https://localhost:8080/"
        }
      },
      "source": [
        "!ls"
      ],
      "execution_count": 5,
      "outputs": [
        {
          "output_type": "stream",
          "text": [
            "DIV2k  DIV2K_train_HR.zip  sample_data\n"
          ],
          "name": "stdout"
        }
      ]
    },
    {
      "cell_type": "code",
      "metadata": {
        "id": "4m5UngpvNsWE"
      },
      "source": [
        "!unzip -q DIV2K_train_HR.zip -d DIV2k"
      ],
      "execution_count": 6,
      "outputs": []
    },
    {
      "cell_type": "code",
      "metadata": {
        "id": "7Bw2K0gZN39v",
        "outputId": "2365659e-2660-486b-d385-e98bebc8c14e",
        "colab": {
          "base_uri": "https://localhost:8080/"
        }
      },
      "source": [
        "!ls"
      ],
      "execution_count": 7,
      "outputs": [
        {
          "output_type": "stream",
          "text": [
            "DIV2k  DIV2K_train_HR.zip  sample_data\n"
          ],
          "name": "stdout"
        }
      ]
    },
    {
      "cell_type": "code",
      "metadata": {
        "id": "NXZ_pryGN6Ss",
        "outputId": "05bab651-d5a2-4110-de3b-934a3f829cf6",
        "colab": {
          "base_uri": "https://localhost:8080/"
        }
      },
      "source": [
        "cd DIV2k"
      ],
      "execution_count": 8,
      "outputs": [
        {
          "output_type": "stream",
          "text": [
            "/content/DIV2k\n"
          ],
          "name": "stdout"
        }
      ]
    },
    {
      "cell_type": "code",
      "metadata": {
        "id": "K3EhJ_LsN6WV",
        "outputId": "d6845016-a307-4013-c10d-746b929c4c27",
        "colab": {
          "base_uri": "https://localhost:8080/"
        }
      },
      "source": [
        "!ls"
      ],
      "execution_count": 9,
      "outputs": [
        {
          "output_type": "stream",
          "text": [
            "DIV2K_train_HR\n"
          ],
          "name": "stdout"
        }
      ]
    },
    {
      "cell_type": "code",
      "metadata": {
        "id": "4DrZB9SEN6aF",
        "outputId": "84694316-067d-4698-9cde-ff6316953bcc",
        "colab": {
          "base_uri": "https://localhost:8080/"
        }
      },
      "source": [
        "cd DIV2K_train_HR"
      ],
      "execution_count": 10,
      "outputs": [
        {
          "output_type": "stream",
          "text": [
            "/content/DIV2k/DIV2K_train_HR\n"
          ],
          "name": "stdout"
        }
      ]
    },
    {
      "cell_type": "code",
      "metadata": {
        "id": "h-qfWEKbN_1n",
        "outputId": "647ca2a0-abf5-4077-b8c7-9ce1df18b122",
        "colab": {
          "base_uri": "https://localhost:8080/"
        }
      },
      "source": [
        "!ls"
      ],
      "execution_count": 11,
      "outputs": [
        {
          "output_type": "stream",
          "text": [
            "0001.png  0101.png  0201.png  0301.png\t0401.png  0501.png  0601.png  0701.png\n",
            "0002.png  0102.png  0202.png  0302.png\t0402.png  0502.png  0602.png  0702.png\n",
            "0003.png  0103.png  0203.png  0303.png\t0403.png  0503.png  0603.png  0703.png\n",
            "0004.png  0104.png  0204.png  0304.png\t0404.png  0504.png  0604.png  0704.png\n",
            "0005.png  0105.png  0205.png  0305.png\t0405.png  0505.png  0605.png  0705.png\n",
            "0006.png  0106.png  0206.png  0306.png\t0406.png  0506.png  0606.png  0706.png\n",
            "0007.png  0107.png  0207.png  0307.png\t0407.png  0507.png  0607.png  0707.png\n",
            "0008.png  0108.png  0208.png  0308.png\t0408.png  0508.png  0608.png  0708.png\n",
            "0009.png  0109.png  0209.png  0309.png\t0409.png  0509.png  0609.png  0709.png\n",
            "0010.png  0110.png  0210.png  0310.png\t0410.png  0510.png  0610.png  0710.png\n",
            "0011.png  0111.png  0211.png  0311.png\t0411.png  0511.png  0611.png  0711.png\n",
            "0012.png  0112.png  0212.png  0312.png\t0412.png  0512.png  0612.png  0712.png\n",
            "0013.png  0113.png  0213.png  0313.png\t0413.png  0513.png  0613.png  0713.png\n",
            "0014.png  0114.png  0214.png  0314.png\t0414.png  0514.png  0614.png  0714.png\n",
            "0015.png  0115.png  0215.png  0315.png\t0415.png  0515.png  0615.png  0715.png\n",
            "0016.png  0116.png  0216.png  0316.png\t0416.png  0516.png  0616.png  0716.png\n",
            "0017.png  0117.png  0217.png  0317.png\t0417.png  0517.png  0617.png  0717.png\n",
            "0018.png  0118.png  0218.png  0318.png\t0418.png  0518.png  0618.png  0718.png\n",
            "0019.png  0119.png  0219.png  0319.png\t0419.png  0519.png  0619.png  0719.png\n",
            "0020.png  0120.png  0220.png  0320.png\t0420.png  0520.png  0620.png  0720.png\n",
            "0021.png  0121.png  0221.png  0321.png\t0421.png  0521.png  0621.png  0721.png\n",
            "0022.png  0122.png  0222.png  0322.png\t0422.png  0522.png  0622.png  0722.png\n",
            "0023.png  0123.png  0223.png  0323.png\t0423.png  0523.png  0623.png  0723.png\n",
            "0024.png  0124.png  0224.png  0324.png\t0424.png  0524.png  0624.png  0724.png\n",
            "0025.png  0125.png  0225.png  0325.png\t0425.png  0525.png  0625.png  0725.png\n",
            "0026.png  0126.png  0226.png  0326.png\t0426.png  0526.png  0626.png  0726.png\n",
            "0027.png  0127.png  0227.png  0327.png\t0427.png  0527.png  0627.png  0727.png\n",
            "0028.png  0128.png  0228.png  0328.png\t0428.png  0528.png  0628.png  0728.png\n",
            "0029.png  0129.png  0229.png  0329.png\t0429.png  0529.png  0629.png  0729.png\n",
            "0030.png  0130.png  0230.png  0330.png\t0430.png  0530.png  0630.png  0730.png\n",
            "0031.png  0131.png  0231.png  0331.png\t0431.png  0531.png  0631.png  0731.png\n",
            "0032.png  0132.png  0232.png  0332.png\t0432.png  0532.png  0632.png  0732.png\n",
            "0033.png  0133.png  0233.png  0333.png\t0433.png  0533.png  0633.png  0733.png\n",
            "0034.png  0134.png  0234.png  0334.png\t0434.png  0534.png  0634.png  0734.png\n",
            "0035.png  0135.png  0235.png  0335.png\t0435.png  0535.png  0635.png  0735.png\n",
            "0036.png  0136.png  0236.png  0336.png\t0436.png  0536.png  0636.png  0736.png\n",
            "0037.png  0137.png  0237.png  0337.png\t0437.png  0537.png  0637.png  0737.png\n",
            "0038.png  0138.png  0238.png  0338.png\t0438.png  0538.png  0638.png  0738.png\n",
            "0039.png  0139.png  0239.png  0339.png\t0439.png  0539.png  0639.png  0739.png\n",
            "0040.png  0140.png  0240.png  0340.png\t0440.png  0540.png  0640.png  0740.png\n",
            "0041.png  0141.png  0241.png  0341.png\t0441.png  0541.png  0641.png  0741.png\n",
            "0042.png  0142.png  0242.png  0342.png\t0442.png  0542.png  0642.png  0742.png\n",
            "0043.png  0143.png  0243.png  0343.png\t0443.png  0543.png  0643.png  0743.png\n",
            "0044.png  0144.png  0244.png  0344.png\t0444.png  0544.png  0644.png  0744.png\n",
            "0045.png  0145.png  0245.png  0345.png\t0445.png  0545.png  0645.png  0745.png\n",
            "0046.png  0146.png  0246.png  0346.png\t0446.png  0546.png  0646.png  0746.png\n",
            "0047.png  0147.png  0247.png  0347.png\t0447.png  0547.png  0647.png  0747.png\n",
            "0048.png  0148.png  0248.png  0348.png\t0448.png  0548.png  0648.png  0748.png\n",
            "0049.png  0149.png  0249.png  0349.png\t0449.png  0549.png  0649.png  0749.png\n",
            "0050.png  0150.png  0250.png  0350.png\t0450.png  0550.png  0650.png  0750.png\n",
            "0051.png  0151.png  0251.png  0351.png\t0451.png  0551.png  0651.png  0751.png\n",
            "0052.png  0152.png  0252.png  0352.png\t0452.png  0552.png  0652.png  0752.png\n",
            "0053.png  0153.png  0253.png  0353.png\t0453.png  0553.png  0653.png  0753.png\n",
            "0054.png  0154.png  0254.png  0354.png\t0454.png  0554.png  0654.png  0754.png\n",
            "0055.png  0155.png  0255.png  0355.png\t0455.png  0555.png  0655.png  0755.png\n",
            "0056.png  0156.png  0256.png  0356.png\t0456.png  0556.png  0656.png  0756.png\n",
            "0057.png  0157.png  0257.png  0357.png\t0457.png  0557.png  0657.png  0757.png\n",
            "0058.png  0158.png  0258.png  0358.png\t0458.png  0558.png  0658.png  0758.png\n",
            "0059.png  0159.png  0259.png  0359.png\t0459.png  0559.png  0659.png  0759.png\n",
            "0060.png  0160.png  0260.png  0360.png\t0460.png  0560.png  0660.png  0760.png\n",
            "0061.png  0161.png  0261.png  0361.png\t0461.png  0561.png  0661.png  0761.png\n",
            "0062.png  0162.png  0262.png  0362.png\t0462.png  0562.png  0662.png  0762.png\n",
            "0063.png  0163.png  0263.png  0363.png\t0463.png  0563.png  0663.png  0763.png\n",
            "0064.png  0164.png  0264.png  0364.png\t0464.png  0564.png  0664.png  0764.png\n",
            "0065.png  0165.png  0265.png  0365.png\t0465.png  0565.png  0665.png  0765.png\n",
            "0066.png  0166.png  0266.png  0366.png\t0466.png  0566.png  0666.png  0766.png\n",
            "0067.png  0167.png  0267.png  0367.png\t0467.png  0567.png  0667.png  0767.png\n",
            "0068.png  0168.png  0268.png  0368.png\t0468.png  0568.png  0668.png  0768.png\n",
            "0069.png  0169.png  0269.png  0369.png\t0469.png  0569.png  0669.png  0769.png\n",
            "0070.png  0170.png  0270.png  0370.png\t0470.png  0570.png  0670.png  0770.png\n",
            "0071.png  0171.png  0271.png  0371.png\t0471.png  0571.png  0671.png  0771.png\n",
            "0072.png  0172.png  0272.png  0372.png\t0472.png  0572.png  0672.png  0772.png\n",
            "0073.png  0173.png  0273.png  0373.png\t0473.png  0573.png  0673.png  0773.png\n",
            "0074.png  0174.png  0274.png  0374.png\t0474.png  0574.png  0674.png  0774.png\n",
            "0075.png  0175.png  0275.png  0375.png\t0475.png  0575.png  0675.png  0775.png\n",
            "0076.png  0176.png  0276.png  0376.png\t0476.png  0576.png  0676.png  0776.png\n",
            "0077.png  0177.png  0277.png  0377.png\t0477.png  0577.png  0677.png  0777.png\n",
            "0078.png  0178.png  0278.png  0378.png\t0478.png  0578.png  0678.png  0778.png\n",
            "0079.png  0179.png  0279.png  0379.png\t0479.png  0579.png  0679.png  0779.png\n",
            "0080.png  0180.png  0280.png  0380.png\t0480.png  0580.png  0680.png  0780.png\n",
            "0081.png  0181.png  0281.png  0381.png\t0481.png  0581.png  0681.png  0781.png\n",
            "0082.png  0182.png  0282.png  0382.png\t0482.png  0582.png  0682.png  0782.png\n",
            "0083.png  0183.png  0283.png  0383.png\t0483.png  0583.png  0683.png  0783.png\n",
            "0084.png  0184.png  0284.png  0384.png\t0484.png  0584.png  0684.png  0784.png\n",
            "0085.png  0185.png  0285.png  0385.png\t0485.png  0585.png  0685.png  0785.png\n",
            "0086.png  0186.png  0286.png  0386.png\t0486.png  0586.png  0686.png  0786.png\n",
            "0087.png  0187.png  0287.png  0387.png\t0487.png  0587.png  0687.png  0787.png\n",
            "0088.png  0188.png  0288.png  0388.png\t0488.png  0588.png  0688.png  0788.png\n",
            "0089.png  0189.png  0289.png  0389.png\t0489.png  0589.png  0689.png  0789.png\n",
            "0090.png  0190.png  0290.png  0390.png\t0490.png  0590.png  0690.png  0790.png\n",
            "0091.png  0191.png  0291.png  0391.png\t0491.png  0591.png  0691.png  0791.png\n",
            "0092.png  0192.png  0292.png  0392.png\t0492.png  0592.png  0692.png  0792.png\n",
            "0093.png  0193.png  0293.png  0393.png\t0493.png  0593.png  0693.png  0793.png\n",
            "0094.png  0194.png  0294.png  0394.png\t0494.png  0594.png  0694.png  0794.png\n",
            "0095.png  0195.png  0295.png  0395.png\t0495.png  0595.png  0695.png  0795.png\n",
            "0096.png  0196.png  0296.png  0396.png\t0496.png  0596.png  0696.png  0796.png\n",
            "0097.png  0197.png  0297.png  0397.png\t0497.png  0597.png  0697.png  0797.png\n",
            "0098.png  0198.png  0298.png  0398.png\t0498.png  0598.png  0698.png  0798.png\n",
            "0099.png  0199.png  0299.png  0399.png\t0499.png  0599.png  0699.png  0799.png\n",
            "0100.png  0200.png  0300.png  0400.png\t0500.png  0600.png  0700.png  0800.png\n"
          ],
          "name": "stdout"
        }
      ]
    },
    {
      "cell_type": "code",
      "metadata": {
        "id": "0ltO3fNaN_4z",
        "outputId": "3b62c17e-26f5-4a18-fd08-4fc8cc3e8aca",
        "colab": {
          "base_uri": "https://localhost:8080/"
        }
      },
      "source": [
        "cd .."
      ],
      "execution_count": 12,
      "outputs": [
        {
          "output_type": "stream",
          "text": [
            "/content/DIV2k\n"
          ],
          "name": "stdout"
        }
      ]
    },
    {
      "cell_type": "code",
      "metadata": {
        "id": "MCKgWW-uN_7q",
        "outputId": "8267e287-534d-4358-d1f3-dec165b723bd",
        "colab": {
          "base_uri": "https://localhost:8080/"
        }
      },
      "source": [
        "cd .."
      ],
      "execution_count": 13,
      "outputs": [
        {
          "output_type": "stream",
          "text": [
            "/content\n"
          ],
          "name": "stdout"
        }
      ]
    },
    {
      "cell_type": "code",
      "metadata": {
        "id": "cL3Kl-PKQC7Q",
        "outputId": "5249fbba-f804-40bf-c13e-55165898a1f6",
        "colab": {
          "base_uri": "https://localhost:8080/"
        }
      },
      "source": [
        "!ls"
      ],
      "execution_count": 14,
      "outputs": [
        {
          "output_type": "stream",
          "text": [
            "DIV2k  DIV2K_train_HR.zip  sample_data\n"
          ],
          "name": "stdout"
        }
      ]
    },
    {
      "cell_type": "code",
      "metadata": {
        "id": "2W9P8i4fQC-_"
      },
      "source": [
        "!rm DIV2K_train_HR.zip"
      ],
      "execution_count": 15,
      "outputs": []
    },
    {
      "cell_type": "code",
      "metadata": {
        "id": "hfbqYuiLQDCW",
        "outputId": "4d70601d-3118-49f9-8348-f4d9394990ac",
        "colab": {
          "base_uri": "https://localhost:8080/"
        }
      },
      "source": [
        "!ls"
      ],
      "execution_count": 16,
      "outputs": [
        {
          "output_type": "stream",
          "text": [
            "DIV2k  sample_data\n"
          ],
          "name": "stdout"
        }
      ]
    },
    {
      "cell_type": "code",
      "metadata": {
        "id": "HAmKedzrIWWf",
        "outputId": "e56edcf5-dfd0-42a0-809b-13098a8ab26e",
        "colab": {
          "base_uri": "https://localhost:8080/"
        }
      },
      "source": [
        "!wget http://data.vision.ee.ethz.ch/cvl/DIV2K/DIV2K_train_LR_bicubic.zip "
      ],
      "execution_count": 17,
      "outputs": [
        {
          "output_type": "stream",
          "text": [
            "--2021-01-12 22:42:27--  http://data.vision.ee.ethz.ch/cvl/DIV2K/DIV2K_train_LR_bicubic.zip\n",
            "Resolving data.vision.ee.ethz.ch (data.vision.ee.ethz.ch)... 129.132.52.162\n",
            "Connecting to data.vision.ee.ethz.ch (data.vision.ee.ethz.ch)|129.132.52.162|:80... connected.\n",
            "HTTP request sent, awaiting response... 302 Found\n",
            "Location: https://data.vision.ee.ethz.ch/cvl/DIV2K/DIV2K_train_LR_bicubic.zip [following]\n",
            "--2021-01-12 22:42:28--  https://data.vision.ee.ethz.ch/cvl/DIV2K/DIV2K_train_LR_bicubic.zip\n",
            "Connecting to data.vision.ee.ethz.ch (data.vision.ee.ethz.ch)|129.132.52.162|:443... connected.\n",
            "HTTP request sent, awaiting response... 200 OK\n",
            "Length: 1600152043 (1.5G) [application/zip]\n",
            "Saving to: ‘DIV2K_train_LR_bicubic.zip’\n",
            "\n",
            "DIV2K_train_LR_bicu 100%[===================>]   1.49G  17.6MB/s    in 85s     \n",
            "\n",
            "2021-01-12 22:43:53 (18.1 MB/s) - ‘DIV2K_train_LR_bicubic.zip’ saved [1600152043/1600152043]\n",
            "\n"
          ],
          "name": "stdout"
        }
      ]
    },
    {
      "cell_type": "code",
      "metadata": {
        "id": "5ThdGxVSQX3v",
        "outputId": "21232c07-7028-4da9-8c0a-01f71763e7d8",
        "colab": {
          "base_uri": "https://localhost:8080/"
        }
      },
      "source": [
        "!ls"
      ],
      "execution_count": 18,
      "outputs": [
        {
          "output_type": "stream",
          "text": [
            "DIV2k  DIV2K_train_LR_bicubic.zip  sample_data\n"
          ],
          "name": "stdout"
        }
      ]
    },
    {
      "cell_type": "code",
      "metadata": {
        "id": "VU3P7qDUQYCL"
      },
      "source": [
        "!unzip -q DIV2K_train_LR_bicubic.zip -d DIV2k"
      ],
      "execution_count": 19,
      "outputs": []
    },
    {
      "cell_type": "code",
      "metadata": {
        "id": "P6zxBkNjQvMi",
        "outputId": "d17b9068-874d-4517-824e-d7ef86f351d4",
        "colab": {
          "base_uri": "https://localhost:8080/"
        }
      },
      "source": [
        "cd DIV2k"
      ],
      "execution_count": 20,
      "outputs": [
        {
          "output_type": "stream",
          "text": [
            "/content/DIV2k\n"
          ],
          "name": "stdout"
        }
      ]
    },
    {
      "cell_type": "code",
      "metadata": {
        "id": "9c9LAEHlQvQK",
        "outputId": "a64ade49-06dc-4710-dc3a-6781735a2770",
        "colab": {
          "base_uri": "https://localhost:8080/"
        }
      },
      "source": [
        "!ls"
      ],
      "execution_count": 21,
      "outputs": [
        {
          "output_type": "stream",
          "text": [
            "DIV2K_train_HR\tDIV2K_train_LR_bicubic\n"
          ],
          "name": "stdout"
        }
      ]
    },
    {
      "cell_type": "code",
      "metadata": {
        "id": "0l9r3VSIQvUP",
        "outputId": "357c2e6b-41b9-446e-e714-04dd3c906ab8",
        "colab": {
          "base_uri": "https://localhost:8080/"
        }
      },
      "source": [
        "cd DIV2K_train_LR_bicubic/"
      ],
      "execution_count": 22,
      "outputs": [
        {
          "output_type": "stream",
          "text": [
            "/content/DIV2k/DIV2K_train_LR_bicubic\n"
          ],
          "name": "stdout"
        }
      ]
    },
    {
      "cell_type": "code",
      "metadata": {
        "id": "_aYtJWXJQ3V2",
        "outputId": "66c4dae6-f279-433f-c5b2-5b1a15b920b7",
        "colab": {
          "base_uri": "https://localhost:8080/"
        }
      },
      "source": [
        "!ls"
      ],
      "execution_count": 23,
      "outputs": [
        {
          "output_type": "stream",
          "text": [
            "X2  X3\tX4\n"
          ],
          "name": "stdout"
        }
      ]
    },
    {
      "cell_type": "code",
      "metadata": {
        "id": "IWTKFlf2Q5SF",
        "outputId": "a9eb85b1-63f7-4631-8615-f1ec5ae2544f",
        "colab": {
          "base_uri": "https://localhost:8080/"
        }
      },
      "source": [
        "cd X4"
      ],
      "execution_count": 24,
      "outputs": [
        {
          "output_type": "stream",
          "text": [
            "/content/DIV2k/DIV2K_train_LR_bicubic/X4\n"
          ],
          "name": "stdout"
        }
      ]
    },
    {
      "cell_type": "code",
      "metadata": {
        "id": "fyKcx0vpQ7js",
        "outputId": "346d3df6-ecb0-42b1-d49c-f03924f81c4f",
        "colab": {
          "base_uri": "https://localhost:8080/"
        }
      },
      "source": [
        "!ls"
      ],
      "execution_count": 25,
      "outputs": [
        {
          "output_type": "stream",
          "text": [
            "0001x4.png  0135x4.png\t0269x4.png  0403x4.png\t0537x4.png  0671x4.png\n",
            "0002x4.png  0136x4.png\t0270x4.png  0404x4.png\t0538x4.png  0672x4.png\n",
            "0003x4.png  0137x4.png\t0271x4.png  0405x4.png\t0539x4.png  0673x4.png\n",
            "0004x4.png  0138x4.png\t0272x4.png  0406x4.png\t0540x4.png  0674x4.png\n",
            "0005x4.png  0139x4.png\t0273x4.png  0407x4.png\t0541x4.png  0675x4.png\n",
            "0006x4.png  0140x4.png\t0274x4.png  0408x4.png\t0542x4.png  0676x4.png\n",
            "0007x4.png  0141x4.png\t0275x4.png  0409x4.png\t0543x4.png  0677x4.png\n",
            "0008x4.png  0142x4.png\t0276x4.png  0410x4.png\t0544x4.png  0678x4.png\n",
            "0009x4.png  0143x4.png\t0277x4.png  0411x4.png\t0545x4.png  0679x4.png\n",
            "0010x4.png  0144x4.png\t0278x4.png  0412x4.png\t0546x4.png  0680x4.png\n",
            "0011x4.png  0145x4.png\t0279x4.png  0413x4.png\t0547x4.png  0681x4.png\n",
            "0012x4.png  0146x4.png\t0280x4.png  0414x4.png\t0548x4.png  0682x4.png\n",
            "0013x4.png  0147x4.png\t0281x4.png  0415x4.png\t0549x4.png  0683x4.png\n",
            "0014x4.png  0148x4.png\t0282x4.png  0416x4.png\t0550x4.png  0684x4.png\n",
            "0015x4.png  0149x4.png\t0283x4.png  0417x4.png\t0551x4.png  0685x4.png\n",
            "0016x4.png  0150x4.png\t0284x4.png  0418x4.png\t0552x4.png  0686x4.png\n",
            "0017x4.png  0151x4.png\t0285x4.png  0419x4.png\t0553x4.png  0687x4.png\n",
            "0018x4.png  0152x4.png\t0286x4.png  0420x4.png\t0554x4.png  0688x4.png\n",
            "0019x4.png  0153x4.png\t0287x4.png  0421x4.png\t0555x4.png  0689x4.png\n",
            "0020x4.png  0154x4.png\t0288x4.png  0422x4.png\t0556x4.png  0690x4.png\n",
            "0021x4.png  0155x4.png\t0289x4.png  0423x4.png\t0557x4.png  0691x4.png\n",
            "0022x4.png  0156x4.png\t0290x4.png  0424x4.png\t0558x4.png  0692x4.png\n",
            "0023x4.png  0157x4.png\t0291x4.png  0425x4.png\t0559x4.png  0693x4.png\n",
            "0024x4.png  0158x4.png\t0292x4.png  0426x4.png\t0560x4.png  0694x4.png\n",
            "0025x4.png  0159x4.png\t0293x4.png  0427x4.png\t0561x4.png  0695x4.png\n",
            "0026x4.png  0160x4.png\t0294x4.png  0428x4.png\t0562x4.png  0696x4.png\n",
            "0027x4.png  0161x4.png\t0295x4.png  0429x4.png\t0563x4.png  0697x4.png\n",
            "0028x4.png  0162x4.png\t0296x4.png  0430x4.png\t0564x4.png  0698x4.png\n",
            "0029x4.png  0163x4.png\t0297x4.png  0431x4.png\t0565x4.png  0699x4.png\n",
            "0030x4.png  0164x4.png\t0298x4.png  0432x4.png\t0566x4.png  0700x4.png\n",
            "0031x4.png  0165x4.png\t0299x4.png  0433x4.png\t0567x4.png  0701x4.png\n",
            "0032x4.png  0166x4.png\t0300x4.png  0434x4.png\t0568x4.png  0702x4.png\n",
            "0033x4.png  0167x4.png\t0301x4.png  0435x4.png\t0569x4.png  0703x4.png\n",
            "0034x4.png  0168x4.png\t0302x4.png  0436x4.png\t0570x4.png  0704x4.png\n",
            "0035x4.png  0169x4.png\t0303x4.png  0437x4.png\t0571x4.png  0705x4.png\n",
            "0036x4.png  0170x4.png\t0304x4.png  0438x4.png\t0572x4.png  0706x4.png\n",
            "0037x4.png  0171x4.png\t0305x4.png  0439x4.png\t0573x4.png  0707x4.png\n",
            "0038x4.png  0172x4.png\t0306x4.png  0440x4.png\t0574x4.png  0708x4.png\n",
            "0039x4.png  0173x4.png\t0307x4.png  0441x4.png\t0575x4.png  0709x4.png\n",
            "0040x4.png  0174x4.png\t0308x4.png  0442x4.png\t0576x4.png  0710x4.png\n",
            "0041x4.png  0175x4.png\t0309x4.png  0443x4.png\t0577x4.png  0711x4.png\n",
            "0042x4.png  0176x4.png\t0310x4.png  0444x4.png\t0578x4.png  0712x4.png\n",
            "0043x4.png  0177x4.png\t0311x4.png  0445x4.png\t0579x4.png  0713x4.png\n",
            "0044x4.png  0178x4.png\t0312x4.png  0446x4.png\t0580x4.png  0714x4.png\n",
            "0045x4.png  0179x4.png\t0313x4.png  0447x4.png\t0581x4.png  0715x4.png\n",
            "0046x4.png  0180x4.png\t0314x4.png  0448x4.png\t0582x4.png  0716x4.png\n",
            "0047x4.png  0181x4.png\t0315x4.png  0449x4.png\t0583x4.png  0717x4.png\n",
            "0048x4.png  0182x4.png\t0316x4.png  0450x4.png\t0584x4.png  0718x4.png\n",
            "0049x4.png  0183x4.png\t0317x4.png  0451x4.png\t0585x4.png  0719x4.png\n",
            "0050x4.png  0184x4.png\t0318x4.png  0452x4.png\t0586x4.png  0720x4.png\n",
            "0051x4.png  0185x4.png\t0319x4.png  0453x4.png\t0587x4.png  0721x4.png\n",
            "0052x4.png  0186x4.png\t0320x4.png  0454x4.png\t0588x4.png  0722x4.png\n",
            "0053x4.png  0187x4.png\t0321x4.png  0455x4.png\t0589x4.png  0723x4.png\n",
            "0054x4.png  0188x4.png\t0322x4.png  0456x4.png\t0590x4.png  0724x4.png\n",
            "0055x4.png  0189x4.png\t0323x4.png  0457x4.png\t0591x4.png  0725x4.png\n",
            "0056x4.png  0190x4.png\t0324x4.png  0458x4.png\t0592x4.png  0726x4.png\n",
            "0057x4.png  0191x4.png\t0325x4.png  0459x4.png\t0593x4.png  0727x4.png\n",
            "0058x4.png  0192x4.png\t0326x4.png  0460x4.png\t0594x4.png  0728x4.png\n",
            "0059x4.png  0193x4.png\t0327x4.png  0461x4.png\t0595x4.png  0729x4.png\n",
            "0060x4.png  0194x4.png\t0328x4.png  0462x4.png\t0596x4.png  0730x4.png\n",
            "0061x4.png  0195x4.png\t0329x4.png  0463x4.png\t0597x4.png  0731x4.png\n",
            "0062x4.png  0196x4.png\t0330x4.png  0464x4.png\t0598x4.png  0732x4.png\n",
            "0063x4.png  0197x4.png\t0331x4.png  0465x4.png\t0599x4.png  0733x4.png\n",
            "0064x4.png  0198x4.png\t0332x4.png  0466x4.png\t0600x4.png  0734x4.png\n",
            "0065x4.png  0199x4.png\t0333x4.png  0467x4.png\t0601x4.png  0735x4.png\n",
            "0066x4.png  0200x4.png\t0334x4.png  0468x4.png\t0602x4.png  0736x4.png\n",
            "0067x4.png  0201x4.png\t0335x4.png  0469x4.png\t0603x4.png  0737x4.png\n",
            "0068x4.png  0202x4.png\t0336x4.png  0470x4.png\t0604x4.png  0738x4.png\n",
            "0069x4.png  0203x4.png\t0337x4.png  0471x4.png\t0605x4.png  0739x4.png\n",
            "0070x4.png  0204x4.png\t0338x4.png  0472x4.png\t0606x4.png  0740x4.png\n",
            "0071x4.png  0205x4.png\t0339x4.png  0473x4.png\t0607x4.png  0741x4.png\n",
            "0072x4.png  0206x4.png\t0340x4.png  0474x4.png\t0608x4.png  0742x4.png\n",
            "0073x4.png  0207x4.png\t0341x4.png  0475x4.png\t0609x4.png  0743x4.png\n",
            "0074x4.png  0208x4.png\t0342x4.png  0476x4.png\t0610x4.png  0744x4.png\n",
            "0075x4.png  0209x4.png\t0343x4.png  0477x4.png\t0611x4.png  0745x4.png\n",
            "0076x4.png  0210x4.png\t0344x4.png  0478x4.png\t0612x4.png  0746x4.png\n",
            "0077x4.png  0211x4.png\t0345x4.png  0479x4.png\t0613x4.png  0747x4.png\n",
            "0078x4.png  0212x4.png\t0346x4.png  0480x4.png\t0614x4.png  0748x4.png\n",
            "0079x4.png  0213x4.png\t0347x4.png  0481x4.png\t0615x4.png  0749x4.png\n",
            "0080x4.png  0214x4.png\t0348x4.png  0482x4.png\t0616x4.png  0750x4.png\n",
            "0081x4.png  0215x4.png\t0349x4.png  0483x4.png\t0617x4.png  0751x4.png\n",
            "0082x4.png  0216x4.png\t0350x4.png  0484x4.png\t0618x4.png  0752x4.png\n",
            "0083x4.png  0217x4.png\t0351x4.png  0485x4.png\t0619x4.png  0753x4.png\n",
            "0084x4.png  0218x4.png\t0352x4.png  0486x4.png\t0620x4.png  0754x4.png\n",
            "0085x4.png  0219x4.png\t0353x4.png  0487x4.png\t0621x4.png  0755x4.png\n",
            "0086x4.png  0220x4.png\t0354x4.png  0488x4.png\t0622x4.png  0756x4.png\n",
            "0087x4.png  0221x4.png\t0355x4.png  0489x4.png\t0623x4.png  0757x4.png\n",
            "0088x4.png  0222x4.png\t0356x4.png  0490x4.png\t0624x4.png  0758x4.png\n",
            "0089x4.png  0223x4.png\t0357x4.png  0491x4.png\t0625x4.png  0759x4.png\n",
            "0090x4.png  0224x4.png\t0358x4.png  0492x4.png\t0626x4.png  0760x4.png\n",
            "0091x4.png  0225x4.png\t0359x4.png  0493x4.png\t0627x4.png  0761x4.png\n",
            "0092x4.png  0226x4.png\t0360x4.png  0494x4.png\t0628x4.png  0762x4.png\n",
            "0093x4.png  0227x4.png\t0361x4.png  0495x4.png\t0629x4.png  0763x4.png\n",
            "0094x4.png  0228x4.png\t0362x4.png  0496x4.png\t0630x4.png  0764x4.png\n",
            "0095x4.png  0229x4.png\t0363x4.png  0497x4.png\t0631x4.png  0765x4.png\n",
            "0096x4.png  0230x4.png\t0364x4.png  0498x4.png\t0632x4.png  0766x4.png\n",
            "0097x4.png  0231x4.png\t0365x4.png  0499x4.png\t0633x4.png  0767x4.png\n",
            "0098x4.png  0232x4.png\t0366x4.png  0500x4.png\t0634x4.png  0768x4.png\n",
            "0099x4.png  0233x4.png\t0367x4.png  0501x4.png\t0635x4.png  0769x4.png\n",
            "0100x4.png  0234x4.png\t0368x4.png  0502x4.png\t0636x4.png  0770x4.png\n",
            "0101x4.png  0235x4.png\t0369x4.png  0503x4.png\t0637x4.png  0771x4.png\n",
            "0102x4.png  0236x4.png\t0370x4.png  0504x4.png\t0638x4.png  0772x4.png\n",
            "0103x4.png  0237x4.png\t0371x4.png  0505x4.png\t0639x4.png  0773x4.png\n",
            "0104x4.png  0238x4.png\t0372x4.png  0506x4.png\t0640x4.png  0774x4.png\n",
            "0105x4.png  0239x4.png\t0373x4.png  0507x4.png\t0641x4.png  0775x4.png\n",
            "0106x4.png  0240x4.png\t0374x4.png  0508x4.png\t0642x4.png  0776x4.png\n",
            "0107x4.png  0241x4.png\t0375x4.png  0509x4.png\t0643x4.png  0777x4.png\n",
            "0108x4.png  0242x4.png\t0376x4.png  0510x4.png\t0644x4.png  0778x4.png\n",
            "0109x4.png  0243x4.png\t0377x4.png  0511x4.png\t0645x4.png  0779x4.png\n",
            "0110x4.png  0244x4.png\t0378x4.png  0512x4.png\t0646x4.png  0780x4.png\n",
            "0111x4.png  0245x4.png\t0379x4.png  0513x4.png\t0647x4.png  0781x4.png\n",
            "0112x4.png  0246x4.png\t0380x4.png  0514x4.png\t0648x4.png  0782x4.png\n",
            "0113x4.png  0247x4.png\t0381x4.png  0515x4.png\t0649x4.png  0783x4.png\n",
            "0114x4.png  0248x4.png\t0382x4.png  0516x4.png\t0650x4.png  0784x4.png\n",
            "0115x4.png  0249x4.png\t0383x4.png  0517x4.png\t0651x4.png  0785x4.png\n",
            "0116x4.png  0250x4.png\t0384x4.png  0518x4.png\t0652x4.png  0786x4.png\n",
            "0117x4.png  0251x4.png\t0385x4.png  0519x4.png\t0653x4.png  0787x4.png\n",
            "0118x4.png  0252x4.png\t0386x4.png  0520x4.png\t0654x4.png  0788x4.png\n",
            "0119x4.png  0253x4.png\t0387x4.png  0521x4.png\t0655x4.png  0789x4.png\n",
            "0120x4.png  0254x4.png\t0388x4.png  0522x4.png\t0656x4.png  0790x4.png\n",
            "0121x4.png  0255x4.png\t0389x4.png  0523x4.png\t0657x4.png  0791x4.png\n",
            "0122x4.png  0256x4.png\t0390x4.png  0524x4.png\t0658x4.png  0792x4.png\n",
            "0123x4.png  0257x4.png\t0391x4.png  0525x4.png\t0659x4.png  0793x4.png\n",
            "0124x4.png  0258x4.png\t0392x4.png  0526x4.png\t0660x4.png  0794x4.png\n",
            "0125x4.png  0259x4.png\t0393x4.png  0527x4.png\t0661x4.png  0795x4.png\n",
            "0126x4.png  0260x4.png\t0394x4.png  0528x4.png\t0662x4.png  0796x4.png\n",
            "0127x4.png  0261x4.png\t0395x4.png  0529x4.png\t0663x4.png  0797x4.png\n",
            "0128x4.png  0262x4.png\t0396x4.png  0530x4.png\t0664x4.png  0798x4.png\n",
            "0129x4.png  0263x4.png\t0397x4.png  0531x4.png\t0665x4.png  0799x4.png\n",
            "0130x4.png  0264x4.png\t0398x4.png  0532x4.png\t0666x4.png  0800x4.png\n",
            "0131x4.png  0265x4.png\t0399x4.png  0533x4.png\t0667x4.png\n",
            "0132x4.png  0266x4.png\t0400x4.png  0534x4.png\t0668x4.png\n",
            "0133x4.png  0267x4.png\t0401x4.png  0535x4.png\t0669x4.png\n",
            "0134x4.png  0268x4.png\t0402x4.png  0536x4.png\t0670x4.png\n"
          ],
          "name": "stdout"
        }
      ]
    },
    {
      "cell_type": "code",
      "metadata": {
        "id": "0Qh4LMKUQ-eX",
        "outputId": "662dda20-47fc-4452-9645-0ea7768b3760",
        "colab": {
          "base_uri": "https://localhost:8080/"
        }
      },
      "source": [
        "cd .."
      ],
      "execution_count": 26,
      "outputs": [
        {
          "output_type": "stream",
          "text": [
            "/content/DIV2k/DIV2K_train_LR_bicubic\n"
          ],
          "name": "stdout"
        }
      ]
    },
    {
      "cell_type": "code",
      "metadata": {
        "id": "-mkH_qrFRAKO",
        "outputId": "9a0a214d-341e-472f-cb70-0dac349e27fd",
        "colab": {
          "base_uri": "https://localhost:8080/"
        }
      },
      "source": [
        "cd .."
      ],
      "execution_count": 27,
      "outputs": [
        {
          "output_type": "stream",
          "text": [
            "/content/DIV2k\n"
          ],
          "name": "stdout"
        }
      ]
    },
    {
      "cell_type": "code",
      "metadata": {
        "id": "P0GT1yOHRCio",
        "outputId": "e16b2a3d-76f4-429e-c5c5-aecc7319b8d1",
        "colab": {
          "base_uri": "https://localhost:8080/"
        }
      },
      "source": [
        "cd .."
      ],
      "execution_count": 29,
      "outputs": [
        {
          "output_type": "stream",
          "text": [
            "/content\n"
          ],
          "name": "stdout"
        }
      ]
    },
    {
      "cell_type": "code",
      "metadata": {
        "id": "TGa00yNcREdr",
        "outputId": "a93f1f9a-3f73-4e1b-a077-23e12b326342",
        "colab": {
          "base_uri": "https://localhost:8080/"
        }
      },
      "source": [
        "!ls"
      ],
      "execution_count": 30,
      "outputs": [
        {
          "output_type": "stream",
          "text": [
            "DIV2k  DIV2K_train_LR_bicubic.zip  sample_data\n"
          ],
          "name": "stdout"
        }
      ]
    },
    {
      "cell_type": "code",
      "metadata": {
        "id": "_AqLqPHORJpV"
      },
      "source": [
        "!rm *.zip"
      ],
      "execution_count": 31,
      "outputs": []
    },
    {
      "cell_type": "code",
      "metadata": {
        "id": "nMOncaTjRMxg",
        "outputId": "a7088805-4563-4a9d-9eec-b814b9faf58b",
        "colab": {
          "base_uri": "https://localhost:8080/"
        }
      },
      "source": [
        "!ls"
      ],
      "execution_count": 32,
      "outputs": [
        {
          "output_type": "stream",
          "text": [
            "DIV2k  sample_data\n"
          ],
          "name": "stdout"
        }
      ]
    },
    {
      "cell_type": "code",
      "metadata": {
        "id": "GG_90WUgIWam",
        "outputId": "74771da0-c6fe-4624-d6fb-d4f168e1dd8b",
        "colab": {
          "base_uri": "https://localhost:8080/"
        }
      },
      "source": [
        "!wget http://data.vision.ee.ethz.ch/cvl/DIV2K/DIV2K_train_LR_unknown.zip"
      ],
      "execution_count": 6,
      "outputs": [
        {
          "output_type": "stream",
          "text": [
            "--2021-01-12 22:17:58--  http://data.vision.ee.ethz.ch/cvl/DIV2K/DIV2K_train_LR_unknown.zip\n",
            "Resolving data.vision.ee.ethz.ch (data.vision.ee.ethz.ch)... 129.132.52.162\n",
            "Connecting to data.vision.ee.ethz.ch (data.vision.ee.ethz.ch)|129.132.52.162|:80... connected.\n",
            "HTTP request sent, awaiting response... 302 Found\n",
            "Location: https://data.vision.ee.ethz.ch/cvl/DIV2K/DIV2K_train_LR_unknown.zip [following]\n",
            "--2021-01-12 22:17:58--  https://data.vision.ee.ethz.ch/cvl/DIV2K/DIV2K_train_LR_unknown.zip\n",
            "Connecting to data.vision.ee.ethz.ch (data.vision.ee.ethz.ch)|129.132.52.162|:443... connected.\n",
            "HTTP request sent, awaiting response... 200 OK\n",
            "Length: 1320385194 (1.2G) [application/zip]\n",
            "Saving to: ‘DIV2K_train_LR_unknown.zip’\n",
            "\n",
            "DIV2K_train_LR_unkn 100%[===================>]   1.23G  24.4MB/s    in 52s     \n",
            "\n",
            "2021-01-12 22:18:51 (24.1 MB/s) - ‘DIV2K_train_LR_unknown.zip’ saved [1320385194/1320385194]\n",
            "\n"
          ],
          "name": "stdout"
        }
      ]
    },
    {
      "cell_type": "code",
      "metadata": {
        "id": "1Bdl5mz3K1XI",
        "outputId": "27576fa2-2063-42fb-cd4a-e02bfab8a7fd",
        "colab": {
          "base_uri": "https://localhost:8080/"
        }
      },
      "source": [
        "!wget http://data.vision.ee.ethz.ch/cvl/DIV2K/DIV2K_valid_HR.zip "
      ],
      "execution_count": 7,
      "outputs": [
        {
          "output_type": "stream",
          "text": [
            "--2021-01-12 22:19:33--  http://data.vision.ee.ethz.ch/cvl/DIV2K/DIV2K_valid_HR.zip\n",
            "Resolving data.vision.ee.ethz.ch (data.vision.ee.ethz.ch)... 129.132.52.162\n",
            "Connecting to data.vision.ee.ethz.ch (data.vision.ee.ethz.ch)|129.132.52.162|:80... connected.\n",
            "HTTP request sent, awaiting response... 302 Found\n",
            "Location: https://data.vision.ee.ethz.ch/cvl/DIV2K/DIV2K_valid_HR.zip [following]\n",
            "--2021-01-12 22:19:33--  https://data.vision.ee.ethz.ch/cvl/DIV2K/DIV2K_valid_HR.zip\n",
            "Connecting to data.vision.ee.ethz.ch (data.vision.ee.ethz.ch)|129.132.52.162|:443... connected.\n",
            "HTTP request sent, awaiting response... 200 OK\n",
            "Length: 448993893 (428M) [application/zip]\n",
            "Saving to: ‘DIV2K_valid_HR.zip’\n",
            "\n",
            "DIV2K_valid_HR.zip  100%[===================>] 428.19M  2.68MB/s    in 2m 54s  \n",
            "\n",
            "2021-01-12 22:22:28 (2.45 MB/s) - ‘DIV2K_valid_HR.zip’ saved [448993893/448993893]\n",
            "\n"
          ],
          "name": "stdout"
        }
      ]
    },
    {
      "cell_type": "code",
      "metadata": {
        "id": "MBVEtngRK1ah",
        "outputId": "4e3f43bf-cdcb-4813-ba8a-8c65a7dc107d",
        "colab": {
          "base_uri": "https://localhost:8080/"
        }
      },
      "source": [
        "!wget http://data.vision.ee.ethz.ch/cvl/DIV2K/DIV2K_valid_LR_bicubic.zip "
      ],
      "execution_count": 8,
      "outputs": [
        {
          "output_type": "stream",
          "text": [
            "--2021-01-12 22:23:23--  http://data.vision.ee.ethz.ch/cvl/DIV2K/DIV2K_valid_LR_bicubic.zip\n",
            "Resolving data.vision.ee.ethz.ch (data.vision.ee.ethz.ch)... 129.132.52.162\n",
            "Connecting to data.vision.ee.ethz.ch (data.vision.ee.ethz.ch)|129.132.52.162|:80... connected.\n",
            "HTTP request sent, awaiting response... 302 Found\n",
            "Location: https://data.vision.ee.ethz.ch/cvl/DIV2K/DIV2K_valid_LR_bicubic.zip [following]\n",
            "--2021-01-12 22:23:24--  https://data.vision.ee.ethz.ch/cvl/DIV2K/DIV2K_valid_LR_bicubic.zip\n",
            "Connecting to data.vision.ee.ethz.ch (data.vision.ee.ethz.ch)|129.132.52.162|:443... connected.\n",
            "HTTP request sent, awaiting response... 200 OK\n",
            "Length: 203783003 (194M) [application/zip]\n",
            "Saving to: ‘DIV2K_valid_LR_bicubic.zip’\n",
            "\n",
            "DIV2K_valid_LR_bicu 100%[===================>] 194.34M  24.7MB/s    in 8.6s    \n",
            "\n",
            "2021-01-12 22:23:33 (22.5 MB/s) - ‘DIV2K_valid_LR_bicubic.zip’ saved [203783003/203783003]\n",
            "\n"
          ],
          "name": "stdout"
        }
      ]
    },
    {
      "cell_type": "code",
      "metadata": {
        "id": "vtfGdhpnK1hQ",
        "outputId": "525c5dbc-996a-4294-f83b-57cec991a1f5",
        "colab": {
          "base_uri": "https://localhost:8080/"
        }
      },
      "source": [
        "!wget http://data.vision.ee.ethz.ch/cvl/DIV2K/DIV2K_valid_LR_unknown.zip"
      ],
      "execution_count": 9,
      "outputs": [
        {
          "output_type": "stream",
          "text": [
            "--2021-01-12 22:24:37--  http://data.vision.ee.ethz.ch/cvl/DIV2K/DIV2K_valid_LR_unknown.zip\n",
            "Resolving data.vision.ee.ethz.ch (data.vision.ee.ethz.ch)... 129.132.52.162\n",
            "Connecting to data.vision.ee.ethz.ch (data.vision.ee.ethz.ch)|129.132.52.162|:80... connected.\n",
            "HTTP request sent, awaiting response... 302 Found\n",
            "Location: https://data.vision.ee.ethz.ch/cvl/DIV2K/DIV2K_valid_LR_unknown.zip [following]\n",
            "--2021-01-12 22:24:37--  https://data.vision.ee.ethz.ch/cvl/DIV2K/DIV2K_valid_LR_unknown.zip\n",
            "Connecting to data.vision.ee.ethz.ch (data.vision.ee.ethz.ch)|129.132.52.162|:443... connected.\n",
            "HTTP request sent, awaiting response... 200 OK\n",
            "Length: 168271581 (160M) [application/zip]\n",
            "Saving to: ‘DIV2K_valid_LR_unknown.zip’\n",
            "\n",
            "DIV2K_valid_LR_unkn 100%[===================>] 160.48M  25.0MB/s    in 7.3s    \n",
            "\n",
            "2021-01-12 22:24:45 (22.1 MB/s) - ‘DIV2K_valid_LR_unknown.zip’ saved [168271581/168271581]\n",
            "\n"
          ],
          "name": "stdout"
        }
      ]
    },
    {
      "cell_type": "code",
      "metadata": {
        "id": "8PVP7dR-K1le",
        "outputId": "0cf6a4ab-d171-4935-b305-05478adf0106",
        "colab": {
          "base_uri": "https://localhost:8080/"
        }
      },
      "source": [
        "!wget https://data.vision.ee.ethz.ch/cvl/DIV2K/DIV2K_test_HR.zip"
      ],
      "execution_count": 12,
      "outputs": [
        {
          "output_type": "stream",
          "text": [
            "--2021-01-12 22:26:46--  https://data.vision.ee.ethz.ch/cvl/DIV2K/DIV2K_test_HR.zip\n",
            "Resolving data.vision.ee.ethz.ch (data.vision.ee.ethz.ch)... 129.132.52.162\n",
            "Connecting to data.vision.ee.ethz.ch (data.vision.ee.ethz.ch)|129.132.52.162|:443... connected.\n",
            "HTTP request sent, awaiting response... 403 Forbidden\n",
            "2021-01-12 22:26:46 ERROR 403: Forbidden.\n",
            "\n"
          ],
          "name": "stdout"
        }
      ]
    },
    {
      "cell_type": "code",
      "metadata": {
        "id": "uChkp5x3MghL",
        "outputId": "3fc807fe-65a4-4dda-fbc5-c2ac69219a9e",
        "colab": {
          "base_uri": "https://localhost:8080/"
        }
      },
      "source": [
        "!wget https://data.vision.ee.ethz.ch/cvl/DIV2K/DIV2K_test_LR_bicubic.zip "
      ],
      "execution_count": 13,
      "outputs": [
        {
          "output_type": "stream",
          "text": [
            "--2021-01-12 22:27:43--  https://data.vision.ee.ethz.ch/cvl/DIV2K/DIV2K_test_LR_bicubic.zip\n",
            "Resolving data.vision.ee.ethz.ch (data.vision.ee.ethz.ch)... 129.132.52.162\n",
            "Connecting to data.vision.ee.ethz.ch (data.vision.ee.ethz.ch)|129.132.52.162|:443... connected.\n",
            "HTTP request sent, awaiting response... 404 Not Found\n",
            "2021-01-12 22:27:44 ERROR 404: Not Found.\n",
            "\n"
          ],
          "name": "stdout"
        }
      ]
    },
    {
      "cell_type": "code",
      "metadata": {
        "id": "eWMRzyUaMgld",
        "outputId": "ee89bcaf-f822-4310-d8f5-46e79110e99f",
        "colab": {
          "base_uri": "https://localhost:8080/"
        }
      },
      "source": [
        "!wget https://data.vision.ee.ethz.ch/cvl/DIV2K/DIV2K_test_LR_unknown.zip  "
      ],
      "execution_count": 14,
      "outputs": [
        {
          "output_type": "stream",
          "text": [
            "--2021-01-12 22:28:50--  https://data.vision.ee.ethz.ch/cvl/DIV2K/DIV2K_test_LR_unknown.zip\n",
            "Resolving data.vision.ee.ethz.ch (data.vision.ee.ethz.ch)... 129.132.52.162\n",
            "Connecting to data.vision.ee.ethz.ch (data.vision.ee.ethz.ch)|129.132.52.162|:443... connected.\n",
            "HTTP request sent, awaiting response... 404 Not Found\n",
            "2021-01-12 22:28:51 ERROR 404: Not Found.\n",
            "\n"
          ],
          "name": "stdout"
        }
      ]
    }
  ]
}