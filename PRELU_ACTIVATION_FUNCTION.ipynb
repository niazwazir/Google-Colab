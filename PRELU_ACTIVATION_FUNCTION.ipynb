{
 "cells": [
  {
   "cell_type": "code",
   "execution_count": 1,
   "metadata": {
    "colab": {
     "base_uri": "https://localhost:8080/",
     "height": 269
    },
    "id": "GOeD3dP8DeIG",
    "outputId": "9a4e55c9-9826-481b-8583-fa05b0247d9b"
   },
   "outputs": [],
   "source": [
    "#!wget http://data.vision.ee.ethz.ch/cvl/DIV2K/DIV2K_train_HR.zip"
   ]
  },
  {
   "cell_type": "code",
   "execution_count": 2,
   "metadata": {
    "colab": {
     "base_uri": "https://localhost:8080/",
     "height": 118
    },
    "id": "fD9dGwVA9Ghr",
    "outputId": "d2a53d4c-fb01-435a-9f2b-3c10bb58c8f1"
   },
   "outputs": [
    {
     "name": "stderr",
     "output_type": "stream",
     "text": [
      "fatal: destination path 'SRCNN-Keras' already exists and is not an empty directory.\n"
     ]
    }
   ],
   "source": [
    "!git clone https://github.com/niazwazir/SRCNN-Keras.git"
   ]
  },
  {
   "cell_type": "code",
   "execution_count": 3,
   "metadata": {
    "colab": {
     "base_uri": "https://localhost:8080/",
     "height": 34
    },
    "id": "DGaooD6C9olO",
    "outputId": "64198e46-bec4-4f27-f711-ac9fc4b8e17c"
   },
   "outputs": [
    {
     "name": "stdout",
     "output_type": "stream",
     "text": [
      "C:\\Users\\user\\Desktop\\ELECTRONICS_HANS_PAPER_COMMENTS_RESPONSE\\SRCNN-Keras\n"
     ]
    }
   ],
   "source": [
    "cd SRCNN-Keras/"
   ]
  },
  {
   "cell_type": "code",
   "execution_count": 4,
   "metadata": {
    "colab": {
     "base_uri": "https://localhost:8080/",
     "height": 151
    },
    "id": "BXJ_SDhF9tM1",
    "outputId": "62c48edd-e9e1-454b-83a2-eaaa548c9143"
   },
   "outputs": [
    {
     "name": "stdout",
     "output_type": "stream",
     "text": [
      "Image_Super_Resolution.ipynb\n",
      "MOUNT_SRCNN_37_PSNR.ipynb\n",
      "PSNR_SSIM_MSE_SRCNN_Super_Resolution_.ipynb\n",
      "SRCNNMODIFIEDPYTHON2.ipynb\n",
      "SRCNN_COLOR_IMAGE_GENERATED.ipynb\n",
      "SRCNN_KERAS.ipynb\n",
      "SRCNN_KERAS_2nd.ipynb\n",
      "SRCNN_KERAS_IN_Python3.ipynb\n",
      "SRCNN_KERAS_IN_Python3_Curves.ipynb\n",
      "baby_GT.bmp\n",
      "baby_x2_GT.png\n",
      "bird_GT.bmp\n",
      "butterfly_GT.bmp\n",
      "head_GT.bmp\n",
      "prepare_data.py\n",
      "project.gif\n",
      "subpixel.py\n",
      "text\n",
      "woman_GT.bmp\n",
      "yang91\n"
     ]
    }
   ],
   "source": [
    "!ls"
   ]
  },
  {
   "cell_type": "code",
   "execution_count": 5,
   "metadata": {
    "colab": {
     "base_uri": "https://localhost:8080/",
     "height": 1000
    },
    "id": "qkqRdZec9t3a",
    "outputId": "71c916e5-63f8-48c3-eae6-852bfd055716"
   },
   "outputs": [
    {
     "name": "stderr",
     "output_type": "stream",
     "text": [
      "unzip:  cannot find or open yang91.zip, yang91.zip.zip or yang91.zip.ZIP.\n"
     ]
    }
   ],
   "source": [
    "!unzip yang91.zip"
   ]
  },
  {
   "cell_type": "code",
   "execution_count": 6,
   "metadata": {
    "colab": {
     "base_uri": "https://localhost:8080/",
     "height": 168
    },
    "id": "B2Rg2BGtoDSl",
    "outputId": "ca10f16e-95a1-43d3-8054-03d37da3c65b"
   },
   "outputs": [
    {
     "name": "stdout",
     "output_type": "stream",
     "text": [
      "Image_Super_Resolution.ipynb\n",
      "MOUNT_SRCNN_37_PSNR.ipynb\n",
      "PSNR_SSIM_MSE_SRCNN_Super_Resolution_.ipynb\n",
      "SRCNNMODIFIEDPYTHON2.ipynb\n",
      "SRCNN_COLOR_IMAGE_GENERATED.ipynb\n",
      "SRCNN_KERAS.ipynb\n",
      "SRCNN_KERAS_2nd.ipynb\n",
      "SRCNN_KERAS_IN_Python3.ipynb\n",
      "SRCNN_KERAS_IN_Python3_Curves.ipynb\n",
      "baby_GT.bmp\n",
      "baby_x2_GT.png\n",
      "bird_GT.bmp\n",
      "butterfly_GT.bmp\n",
      "head_GT.bmp\n",
      "prepare_data.py\n",
      "project.gif\n",
      "subpixel.py\n",
      "text\n",
      "woman_GT.bmp\n",
      "yang91\n"
     ]
    }
   ],
   "source": [
    "!ls"
   ]
  },
  {
   "cell_type": "code",
   "execution_count": 7,
   "metadata": {
    "id": "aaLOFe3soDi6"
   },
   "outputs": [
    {
     "name": "stderr",
     "output_type": "stream",
     "text": [
      "rm: cannot remove '*.zip': No such file or directory\n"
     ]
    }
   ],
   "source": [
    "!rm -r *.zip"
   ]
  },
  {
   "cell_type": "code",
   "execution_count": 8,
   "metadata": {
    "colab": {
     "base_uri": "https://localhost:8080/",
     "height": 151
    },
    "id": "f0sw_I9YoDe9",
    "outputId": "fd0ac6da-c0e9-4041-e9c7-2379372ef1d0"
   },
   "outputs": [
    {
     "name": "stdout",
     "output_type": "stream",
     "text": [
      "Image_Super_Resolution.ipynb\n",
      "MOUNT_SRCNN_37_PSNR.ipynb\n",
      "PSNR_SSIM_MSE_SRCNN_Super_Resolution_.ipynb\n",
      "SRCNNMODIFIEDPYTHON2.ipynb\n",
      "SRCNN_COLOR_IMAGE_GENERATED.ipynb\n",
      "SRCNN_KERAS.ipynb\n",
      "SRCNN_KERAS_2nd.ipynb\n",
      "SRCNN_KERAS_IN_Python3.ipynb\n",
      "SRCNN_KERAS_IN_Python3_Curves.ipynb\n",
      "baby_GT.bmp\n",
      "baby_x2_GT.png\n",
      "bird_GT.bmp\n",
      "butterfly_GT.bmp\n",
      "head_GT.bmp\n",
      "prepare_data.py\n",
      "project.gif\n",
      "subpixel.py\n",
      "text\n",
      "woman_GT.bmp\n",
      "yang91\n"
     ]
    }
   ],
   "source": [
    "!ls"
   ]
  },
  {
   "cell_type": "code",
   "execution_count": 9,
   "metadata": {
    "colab": {
     "base_uri": "https://localhost:8080/",
     "height": 34
    },
    "id": "-_to1Cbz9t8R",
    "outputId": "0e60f7c7-ecb7-4a51-f6e5-68eef0164646"
   },
   "outputs": [
    {
     "name": "stdout",
     "output_type": "stream",
     "text": [
      "C:\\Users\\user\\Desktop\\ELECTRONICS_HANS_PAPER_COMMENTS_RESPONSE\n"
     ]
    }
   ],
   "source": [
    "cd .."
   ]
  },
  {
   "cell_type": "code",
   "execution_count": 10,
   "metadata": {
    "colab": {
     "base_uri": "https://localhost:8080/",
     "height": 34
    },
    "id": "8ZwIhMYY9t0u",
    "outputId": "61fce2ce-b6c9-4423-bc55-90d22326aa4c"
   },
   "outputs": [
    {
     "name": "stdout",
     "output_type": "stream",
     "text": [
      "1REVIEWERCOMMENTSRESPONSE.docx\n",
      "20_BLOCK_MODEL_FOR_IMAGE_SR.ipynb\n",
      "2REVIEWERCOMMENTSRESPONSE.docx\n",
      "3REVIEWERCOMMENTSRESPONSE.docx\n",
      "4REVIEWERCOMMENTSRESPONSE.docx\n",
      "HANS1\n",
      "HANS_PAPER\n",
      "LINK.txt\n",
      "SRCNN-Keras\n",
      "best_model_improved.h5\n",
      "electronics-10-02072.pdf\n",
      "electronics-1466697.docx\n",
      "model.png\n",
      "~$EVIEWERCOMMENTSRESPONSE.docx\n"
     ]
    }
   ],
   "source": [
    "!ls"
   ]
  },
  {
   "cell_type": "code",
   "execution_count": 11,
   "metadata": {
    "colab": {
     "base_uri": "https://localhost:8080/",
     "height": 1000
    },
    "id": "FLFuW18UEMXi",
    "outputId": "050e32da-87f9-404d-b82f-81da6b6bec2d"
   },
   "outputs": [
    {
     "name": "stderr",
     "output_type": "stream",
     "text": [
      "unzip:  cannot find or open DIV2K_train_HR.zip, DIV2K_train_HR.zip.zip or DIV2K_train_HR.zip.ZIP.\n"
     ]
    }
   ],
   "source": [
    "!unzip \"DIV2K_train_HR.zip\""
   ]
  },
  {
   "cell_type": "code",
   "execution_count": 12,
   "metadata": {
    "id": "p6VyDPRsoQZJ"
   },
   "outputs": [
    {
     "name": "stderr",
     "output_type": "stream",
     "text": [
      "rm: cannot remove '*.zip': No such file or directory\n"
     ]
    }
   ],
   "source": [
    "!rm -r *.zip"
   ]
  },
  {
   "cell_type": "code",
   "execution_count": 13,
   "metadata": {
    "colab": {
     "base_uri": "https://localhost:8080/",
     "height": 34
    },
    "id": "fYHIjuWpukaS",
    "outputId": "d762d282-265b-421d-dce9-973c288768d7"
   },
   "outputs": [
    {
     "name": "stdout",
     "output_type": "stream",
     "text": [
      "1REVIEWERCOMMENTSRESPONSE.docx\n",
      "20_BLOCK_MODEL_FOR_IMAGE_SR.ipynb\n",
      "2REVIEWERCOMMENTSRESPONSE.docx\n",
      "3REVIEWERCOMMENTSRESPONSE.docx\n",
      "4REVIEWERCOMMENTSRESPONSE.docx\n",
      "HANS1\n",
      "HANS_PAPER\n",
      "LINK.txt\n",
      "SRCNN-Keras\n",
      "best_model_improved.h5\n",
      "electronics-10-02072.pdf\n",
      "electronics-1466697.docx\n",
      "model.png\n",
      "~$EVIEWERCOMMENTSRESPONSE.docx\n"
     ]
    }
   ],
   "source": [
    "!ls"
   ]
  },
  {
   "cell_type": "code",
   "execution_count": 14,
   "metadata": {
    "id": "2w9fURjBP0Ov"
   },
   "outputs": [],
   "source": [
    "DATADIR = \"SRCNN-Keras/yang91\"\n",
    "DATADIR2 = \"SRCNN-Keras/yang91\"\n",
    "#DATADIR2 = \"DIV2K_train_HR\""
   ]
  },
  {
   "cell_type": "code",
   "execution_count": 15,
   "metadata": {
    "id": "6_Xvzi4fj1R2"
   },
   "outputs": [],
   "source": [
    "import os\n",
    "import cv2\n",
    "import keras\n",
    "import numpy as np\n",
    "import tensorflow as tf\n",
    "#from google.colab.patches import cv2_imshow\n",
    "from keras.callbacks import ModelCheckpoint\n",
    "from tensorflow.keras.optimizers import Adam\n",
    "from tensorflow.keras.models import Model, Sequential\n",
    "from tensorflow.keras.layers import Dense, Conv2D, Dropout, BatchNormalization, Input,Conv2DTranspose, add, Activation, LeakyReLU"
   ]
  },
  {
   "cell_type": "code",
   "execution_count": 16,
   "metadata": {
    "id": "ZxBdm7j4fLw7"
   },
   "outputs": [],
   "source": [
    "scale = 2\n",
    "req_size = 20\n",
    "inp_size = int(req_size/scale)\n",
    "stride = 15\n",
    "\n",
    "X=[]\n",
    "labels=[]\n",
    "\n",
    "for filera in os.listdir(DATADIR):\n",
    "    readpath = os.path.join(DATADIR,filera)\n",
    "    img = cv2.imread(readpath)\n",
    "    img = np.asarray(img)\n",
    "    shapes = img.shape\n",
    "    for i in range(0, shapes[0]-req_size+1, stride):\n",
    "        for j in range(0, shapes[1]-req_size+1,stride):\n",
    "            subimage_HR = img[i:i+req_size, j:j+req_size]\n",
    "            #cv2_imshow(subimage_HR)\n",
    "            subimage_LR = cv2.resize(subimage_HR,(inp_size,inp_size))\n",
    "            X.append(subimage_LR)\n",
    "            labels.append(subimage_HR)\n",
    "\n",
    "counta=0\n",
    "for filera in os.listdir(DATADIR2):\n",
    "    counta=counta+1\n",
    "    if(counta==300):\n",
    "        break\n",
    "        readpath = os.path.join(DATADIR2,filera)\n",
    "        img = cv2.imread(readpath)\n",
    "        img = np.asarray(img)\n",
    "        shapes = img.shape\n",
    "        for i in range(0, shapes[0]-req_size+1, stride):\n",
    "            for j in range(0, shapes[1]-req_size+1,stride):\n",
    "                subimage_HR = img[i:i+req_size, j:j+req_size]\n",
    "                #cv2_imshow(subimage_HR)\n",
    "                subimage_LR = cv2.resize(subimage_HR,(inp_size,inp_size))\n",
    "                X.append(subimage_LR)\n",
    "                labels.append(subimage_HR)"
   ]
  },
  {
   "cell_type": "code",
   "execution_count": 17,
   "metadata": {
    "colab": {
     "base_uri": "https://localhost:8080/",
     "height": 50
    },
    "id": "GK3LFglUm6rY",
    "outputId": "bf5d0e4f-abdc-4acc-e8cd-812978c3314a"
   },
   "outputs": [
    {
     "name": "stdout",
     "output_type": "stream",
     "text": [
      "(18849, 20, 20, 3)\n",
      "(18849, 10, 10, 3)\n"
     ]
    }
   ],
   "source": [
    "X = np.asarray(X)\n",
    "labels = np.asarray(labels)\n",
    "print(labels.shape)\n",
    "print(X.shape)"
   ]
  },
  {
   "cell_type": "code",
   "execution_count": 18,
   "metadata": {
    "id": "lXm7CzkdPKwp"
   },
   "outputs": [],
   "source": [
    "alpha = 0.85\n",
    "def basic_mse(y_true, y_pred):\n",
    "    pred = tf.image.sobel_edges(y_pred)\n",
    "    true = tf.image.sobel_edges(y_true)\n",
    "    lossmse = tf.reduce_mean(tf.square(y_pred-y_true))\n",
    "    lossedge = tf.reduce_mean(tf.square(pred-true))\n",
    "    return alpha*lossmse + (1-alpha)*lossedge"
   ]
  },
  {
   "cell_type": "code",
   "execution_count": 19,
   "metadata": {},
   "outputs": [],
   "source": [
    "from tensorflow.keras.layers import Input, Conv2D, Activation, SeparableConv2D\n",
    "from tensorflow.keras.layers import PReLU"
   ]
  },
  {
   "cell_type": "code",
   "execution_count": 20,
   "metadata": {},
   "outputs": [],
   "source": [
    "from keras.layers.advanced_activations import PReLU"
   ]
  },
  {
   "cell_type": "code",
   "execution_count": 21,
   "metadata": {},
   "outputs": [],
   "source": [
    "def Shallow_Network():\n",
    "    _input = Input(shape=(None, None, 3))\n",
    "    DC = SeparableConv2D(3,(3,3),padding='SAME')(_input)\n",
    "    PRS1 = PReLU(shared_axes=[1,2])(DC)\n",
    "    DC1 = SeparableConv2D(32,(1,1),padding='SAME')(PRS1)\n",
    "    PRS2 = PReLU(shared_axes=[1,2])(DC1)\n",
    "    UShallow = Conv2DTranspose(3,(9,9), strides = (scale,scale), padding=\"same\",activation=None)(PRS2)\n",
    "    DC2 = SeparableConv2D(3,(1,1),padding='SAME')(UShallow)\n",
    "    PRS3 = PReLU(shared_axes=[1,2])(DC2)\n",
    "    \n",
    "    Shallow = Model(inputs=_input, outputs=PRS3)\n",
    "\n",
    "    return Shallow\n",
    "model = Shallow_Network()"
   ]
  },
  {
   "cell_type": "code",
   "execution_count": 22,
   "metadata": {},
   "outputs": [
    {
     "name": "stdout",
     "output_type": "stream",
     "text": [
      "Model: \"model\"\n",
      "_________________________________________________________________\n",
      " Layer (type)                Output Shape              Param #   \n",
      "=================================================================\n",
      " input_1 (InputLayer)        [(None, None, None, 3)]   0         \n",
      "                                                                 \n",
      " separable_conv2d (Separable  (None, None, None, 3)    39        \n",
      " Conv2D)                                                         \n",
      "                                                                 \n",
      " p_re_lu (PReLU)             (None, None, None, 3)     3         \n",
      "                                                                 \n",
      " separable_conv2d_1 (Separab  (None, None, None, 32)   131       \n",
      " leConv2D)                                                       \n",
      "                                                                 \n",
      " p_re_lu_1 (PReLU)           (None, None, None, 32)    32        \n",
      "                                                                 \n",
      " conv2d_transpose (Conv2DTra  (None, None, None, 3)    7779      \n",
      " nspose)                                                         \n",
      "                                                                 \n",
      " separable_conv2d_2 (Separab  (None, None, None, 3)    15        \n",
      " leConv2D)                                                       \n",
      "                                                                 \n",
      " p_re_lu_2 (PReLU)           (None, None, None, 3)     3         \n",
      "                                                                 \n",
      "=================================================================\n",
      "Total params: 8,002\n",
      "Trainable params: 8,002\n",
      "Non-trainable params: 0\n",
      "_________________________________________________________________\n"
     ]
    }
   ],
   "source": [
    "model.summary()"
   ]
  },
  {
   "cell_type": "code",
   "execution_count": 24,
   "metadata": {},
   "outputs": [
    {
     "data": {
      "image/png": "[encoded data removed]",
      "text/plain": [
       "<IPython.core.display.Image object>"
      ]
     },
     "execution_count": 24,
     "metadata": {},
     "output_type": "execute_result"
    }
   ],
   "source": [
    "tf.keras.utils.plot_model(\n",
    "    model, to_file='model.png', show_shapes=False, show_layer_names=True, rankdir='LR', expand_nested=False, dpi=96\n",
    ")"
   ]
  },
  {
   "cell_type": "code",
   "execution_count": 25,
   "metadata": {
    "colab": {
     "base_uri": "https://localhost:8080/",
     "height": 638
    },
    "id": "AXTCMeqxP411",
    "outputId": "7bb07015-b91c-479f-e93a-4371d4dd7af5",
    "scrolled": false
   },
   "outputs": [
    {
     "name": "stdout",
     "output_type": "stream",
     "text": [
      "Model: \"model\"\n",
      "_________________________________________________________________\n",
      " Layer (type)                Output Shape              Param #   \n",
      "=================================================================\n",
      " input_1 (InputLayer)        [(None, None, None, 3)]   0         \n",
      "                                                                 \n",
      " separable_conv2d (Separable  (None, None, None, 3)    39        \n",
      " Conv2D)                                                         \n",
      "                                                                 \n",
      " p_re_lu (PReLU)             (None, None, None, 3)     3         \n",
      "                                                                 \n",
      " separable_conv2d_1 (Separab  (None, None, None, 32)   131       \n",
      " leConv2D)                                                       \n",
      "                                                                 \n",
      " p_re_lu_1 (PReLU)           (None, None, None, 32)    32        \n",
      "                                                                 \n",
      " conv2d_transpose (Conv2DTra  (None, None, None, 3)    7779      \n",
      " nspose)                                                         \n",
      "                                                                 \n",
      " separable_conv2d_2 (Separab  (None, None, None, 3)    15        \n",
      " leConv2D)                                                       \n",
      "                                                                 \n",
      " p_re_lu_2 (PReLU)           (None, None, None, 3)     3         \n",
      "                                                                 \n",
      "=================================================================\n",
      "Total params: 8,002\n",
      "Trainable params: 8,002\n",
      "Non-trainable params: 0\n",
      "_________________________________________________________________\n"
     ]
    }
   ],
   "source": [
    "model.compile(loss='mse',optimizer='adam',metrics=['accuracy'])\n",
    "model.summary()"
   ]
  },
  {
   "cell_type": "code",
   "execution_count": 26,
   "metadata": {
    "scrolled": true
   },
   "outputs": [
    {
     "data": {
      "image/png": "[encoded data removed]",
      "text/plain": [
       "<IPython.core.display.Image object>"
      ]
     },
     "execution_count": 26,
     "metadata": {},
     "output_type": "execute_result"
    }
   ],
   "source": [
    "tf.keras.utils.plot_model(\n",
    "    model, to_file='model.png', show_shapes=False, show_layer_names=True, rankdir='LR', expand_nested=False, dpi=96\n",
    ")"
   ]
  },
  {
   "cell_type": "code",
   "execution_count": 27,
   "metadata": {
    "id": "4l2qU6Acj1W-"
   },
   "outputs": [],
   "source": [
    "checkpoint = ModelCheckpoint('best_model_improved.h5',  # model filename\n",
    "                             monitor='val_loss', # quantity to monitor\n",
    "                             verbose=0, # verbosity - 0 or 1\n",
    "                             save_best_only= True, # The latest best model will not be overwritten\n",
    "                             mode='auto') # The decision to overwrite model is made \n",
    "                                          # automatically depending on the quantity to monitor"
   ]
  },
  {
   "cell_type": "code",
   "execution_count": 28,
   "metadata": {
    "colab": {
     "base_uri": "https://localhost:8080/",
     "height": 1000
    },
    "id": "KFTza99ToCtg",
    "outputId": "923ddd9b-a223-4d45-e59c-78ec64533069"
   },
   "outputs": [
    {
     "name": "stdout",
     "output_type": "stream",
     "text": [
      "Epoch 1/5\n",
      "584/584 [==============================] - 10s 6ms/step - loss: 1880.4346 - accuracy: 0.7049 - val_loss: 215.2552 - val_accuracy: 1.0000\n",
      "Epoch 2/5\n",
      "584/584 [==============================] - 4s 6ms/step - loss: 286.5854 - accuracy: 0.8812 - val_loss: 112.6962 - val_accuracy: 1.0000\n",
      "Epoch 3/5\n",
      "584/584 [==============================] - 4s 6ms/step - loss: 207.1936 - accuracy: 0.9028 - val_loss: 78.8365 - val_accuracy: 1.0000\n",
      "Epoch 4/5\n",
      "584/584 [==============================] - 4s 6ms/step - loss: 176.6174 - accuracy: 0.9164 - val_loss: 62.6990 - val_accuracy: 1.0000\n",
      "Epoch 5/5\n",
      "584/584 [==============================] - 4s 6ms/step - loss: 153.5576 - accuracy: 0.9290 - val_loss: 59.0027 - val_accuracy: 1.0000\n"
     ]
    }
   ],
   "source": [
    "history = model.fit(X,labels,batch_size=32,shuffle=True,validation_split=0.01 ,epochs=5,callbacks=[checkpoint],\n",
    "                    verbose=1 )"
   ]
  },
  {
   "cell_type": "code",
   "execution_count": 29,
   "metadata": {
    "id": "qsuVLb6riEvt"
   },
   "outputs": [],
   "source": [
    "import matplotlib.pyplot as plt"
   ]
  },
  {
   "cell_type": "code",
   "execution_count": 30,
   "metadata": {
    "colab": {
     "base_uri": "https://localhost:8080/",
     "height": 428
    },
    "id": "kswhJaz8huEY",
    "outputId": "8ff40869-147d-4195-91a5-7100b9abee55"
   },
   "outputs": [
    {
     "data": {
      "text/plain": [
       "Text(0.5, 1.0, 'Loss Curves')"
      ]
     },
     "execution_count": 30,
     "metadata": {},
     "output_type": "execute_result"
    },
    {
     "data": {
      "image/png": "[encoded data removed]",
      "text/plain": [
       "<Figure size 576x432 with 1 Axes>"
      ]
     },
     "metadata": {
      "needs_background": "light"
     },
     "output_type": "display_data"
    }
   ],
   "source": [
    "# Loss Curves\n",
    "plt.figure(figsize=[8,6])\n",
    "plt.plot(history.history['loss'],'r',linewidth=3.0)\n",
    "plt.plot(history.history['val_loss'],'b',linewidth=3.0)\n",
    "plt.legend(['Training loss', 'Validation Loss'],fontsize=18)\n",
    "plt.xlabel('Epochs ',fontsize=16)\n",
    "plt.ylabel('Loss',fontsize=16)\n",
    "plt.title('Loss Curves',fontsize=16)"
   ]
  },
  {
   "cell_type": "code",
   "execution_count": 31,
   "metadata": {
    "colab": {
     "base_uri": "https://localhost:8080/",
     "height": 428
    },
    "id": "PAe-oncliIsD",
    "outputId": "8f42eebf-f2ba-4ba9-f219-2200f510788f"
   },
   "outputs": [
    {
     "data": {
      "text/plain": [
       "Text(0.5, 1.0, 'Accuracy Curves')"
      ]
     },
     "execution_count": 31,
     "metadata": {},
     "output_type": "execute_result"
    },
    {
     "data": {
      "image/png": "[encoded data removed]",
      "text/plain": [
       "<Figure size 576x432 with 1 Axes>"
      ]
     },
     "metadata": {
      "needs_background": "light"
     },
     "output_type": "display_data"
    }
   ],
   "source": [
    "# Accuracy Curves\n",
    "plt.figure(figsize=[8,6])\n",
    "plt.plot(history.history['accuracy'],'r',linewidth=3.0)\n",
    "plt.plot(history.history['val_accuracy'],'b',linewidth=3.0)\n",
    "plt.legend(['Training Accuracy', 'Validation Accuracy'],fontsize=18)\n",
    "plt.xlabel('Epochs ',fontsize=16)\n",
    "plt.ylabel('Accuracy',fontsize=16)\n",
    "plt.title('Accuracy Curves',fontsize=16)"
   ]
  },
  {
   "cell_type": "code",
   "execution_count": 32,
   "metadata": {
    "id": "IBOspcO-msge"
   },
   "outputs": [],
   "source": [
    "def psnr_calc():\n",
    "    testimg = []\n",
    "    GT = cv2.imread(\"SRCNN-Keras/baby_x2_GT.png\")\n",
    "    GT = np.asarray(GT)\n",
    "    h = GT.shape[0]\n",
    "    l = GT.shape[1]\n",
    "    img1 = cv2.resize(GT,(int(l/2),int(h/2)),interpolation = cv2.INTER_CUBIC)\n",
    "    img1 = np.asarray(img1)\n",
    "    testimg.append(img1)\n",
    "    testimg = np.asarray(testimg)\n",
    "    print(testimg.shape)\n",
    "    fin =(model.predict(testimg)[0])\n",
    "    inp = cv2.resize(img1,(l,h),interpolation = cv2.INTER_CUBIC)\n",
    "    GT = GT[0:fin.shape[0],0:fin.shape[1],:]\n",
    "    mse = np.square(np.subtract(GT, fin)).mean()\n",
    "    #cv2_imshow(inp)\n",
    "    #cv2_imshow(fin)\n",
    "    #cv2_imshow(GT)\n",
    "    import math\n",
    "    psnr = 20*math.log(255.0,10) - 10*(math.log(mse,10))\n",
    "    return psnr"
   ]
  },
  {
   "cell_type": "code",
   "execution_count": 33,
   "metadata": {
    "colab": {
     "base_uri": "https://localhost:8080/",
     "height": 1000
    },
    "id": "cgs0qUdwWuln",
    "outputId": "2ca744a1-13d1-4085-dea4-6d98cf2e0f17"
   },
   "outputs": [
    {
     "name": "stdout",
     "output_type": "stream",
     "text": [
      "(1, 256, 256, 3)\n",
      "30.093462371516498\n"
     ]
    }
   ],
   "source": [
    "ps1 = psnr_calc()\n",
    "print(ps1)"
   ]
  },
  {
   "cell_type": "code",
   "execution_count": null,
   "metadata": {
    "id": "4QjSLa-WWm7a"
   },
   "outputs": [],
   "source": [
    "#35.27103087889881"
   ]
  },
  {
   "cell_type": "code",
   "execution_count": null,
   "metadata": {
    "id": "GIZfQITtqRJ9"
   },
   "outputs": [],
   "source": [
    "model.save(\"model2_FCN_FSRCNN.h5\")"
   ]
  }
 ],
 "metadata": {
  "accelerator": "GPU",
  "colab": {
   "collapsed_sections": [],
   "name": "FSRCNN_Experimental.ipynb",
   "provenance": []
  },
  "kernelspec": {
   "display_name": "cuda_tf",
   "language": "python",
   "name": "cuda_tf"
  },
  "language_info": {
   "codemirror_mode": {
    "name": "ipython",
    "version": 3
   },
   "file_extension": ".py",
   "mimetype": "text/x-python",
   "name": "python",
   "nbconvert_exporter": "python",
   "pygments_lexer": "ipython3",
   "version": "3.9.7"
  }
 },
 "nbformat": 4,
 "nbformat_minor": 1
}
