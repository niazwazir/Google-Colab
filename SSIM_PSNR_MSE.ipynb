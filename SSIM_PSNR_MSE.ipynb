{
  "nbformat": 4,
  "nbformat_minor": 0,
  "metadata": {
    "kernelspec": {
      "name": "python3",
      "display_name": "Python 3"
    },
    "colab": {
      "name": "PSNR_SSIM_MSE.ipynb",
      "provenance": []
    },
    "accelerator": "GPU"
  },
  "cells": [
    {
      "cell_type": "code",
      "metadata": {
        "id": "CrTp7icgaJYM",
        "colab_type": "code",
        "colab": {}
      },
      "source": [
        "import os\n",
        "import cv2\n",
        "import math\n",
        "import numpy as np\n",
        "from skimage.measure import compare_ssim as ssim"
      ],
      "execution_count": 0,
      "outputs": []
    },
    {
      "cell_type": "code",
      "metadata": {
        "id": "VF75V-9ZaVnO",
        "colab_type": "code",
        "colab": {
          "base_uri": "https://localhost:8080/",
          "height": 119
        },
        "outputId": "136870b2-1754-4134-e0e8-0902c4397df0"
      },
      "source": [
        "!git clone https://github.com/niazwazir/Set5_Images.git"
      ],
      "execution_count": 2,
      "outputs": [
        {
          "output_type": "stream",
          "text": [
            "Cloning into 'Set5_Images'...\n",
            "remote: Enumerating objects: 59, done.\u001b[K\n",
            "remote: Counting objects: 100% (59/59), done.\u001b[K\n",
            "remote: Compressing objects: 100% (56/56), done.\u001b[K\n",
            "remote: Total 59 (delta 17), reused 0 (delta 0), pack-reused 0\u001b[K\n",
            "Unpacking objects: 100% (59/59), done.\n"
          ],
          "name": "stdout"
        }
      ]
    },
    {
      "cell_type": "code",
      "metadata": {
        "id": "CPDMAKW2hIBz",
        "colab_type": "code",
        "colab": {
          "base_uri": "https://localhost:8080/",
          "height": 34
        },
        "outputId": "e8f8c9a2-d323-4e97-836b-d716ed5d5d3d"
      },
      "source": [
        "cd Set5_Images/"
      ],
      "execution_count": 3,
      "outputs": [
        {
          "output_type": "stream",
          "text": [
            "/content/Set5_Images\n"
          ],
          "name": "stdout"
        }
      ]
    },
    {
      "cell_type": "code",
      "metadata": {
        "id": "tAnrleyghII3",
        "colab_type": "code",
        "colab": {
          "base_uri": "https://localhost:8080/",
          "height": 323
        },
        "outputId": "fdc73113-601c-447a-a102-f4c3a94e5b83"
      },
      "source": [
        "!unzip SET5_BMP.zip"
      ],
      "execution_count": 4,
      "outputs": [
        {
          "output_type": "stream",
          "text": [
            "Archive:  SET5_BMP.zip\n",
            "  inflating: SET5_BMP/baboon.bmp     \n",
            "  inflating: SET5_BMP/baby_GT.bmp    \n",
            "  inflating: SET5_BMP/barbara.bmp    \n",
            "  inflating: SET5_BMP/bird_GT.bmp    \n",
            "  inflating: SET5_BMP/butterfly_GT.bmp  \n",
            "  inflating: SET5_BMP/coastguard.bmp  \n",
            "  inflating: SET5_BMP/comic.bmp      \n",
            "  inflating: SET5_BMP/face.bmp       \n",
            "  inflating: SET5_BMP/flowers.bmp    \n",
            "  inflating: SET5_BMP/foreman.bmp    \n",
            "  inflating: SET5_BMP/head_GT.bmp    \n",
            "  inflating: SET5_BMP/lenna.bmp      \n",
            "  inflating: SET5_BMP/monarch.bmp    \n",
            "  inflating: SET5_BMP/pepper.bmp     \n",
            "  inflating: SET5_BMP/ppt3.bmp       \n",
            "  inflating: SET5_BMP/woman_GT.bmp   \n",
            "  inflating: SET5_BMP/zebra.bmp      \n"
          ],
          "name": "stdout"
        }
      ]
    },
    {
      "cell_type": "code",
      "metadata": {
        "id": "R-2NFyPjaJYQ",
        "colab_type": "code",
        "colab": {}
      },
      "source": [
        "#define fumctions for image quality metrices\n",
        "# Mean squared error(MSE)\n",
        "def MSE(target, ref):\n",
        "    \n",
        "    error = np.sum((target.astype('float') - ref.astype('float')) **2)\n",
        "    error /= float(target.shape[0] * target.shape[1])\n",
        "    \n",
        "    return error\n",
        "\n",
        "#Peak-Signal-To-Noise-Ratio\n",
        "def PSNR(target, ref):\n",
        "    \n",
        "    #assume RGB/BGR image\n",
        "    target_data=target.astype(float)\n",
        "    ref_data=ref.astype(float)\n",
        "    \n",
        "    diff=ref_data - target_data\n",
        "    diff=diff.flatten('C')\n",
        "    \n",
        "    rmse=math.sqrt(np.mean(diff ** 2))\n",
        "    \n",
        "    return 20 * math.log10(255. / rmse)\n",
        "\n",
        "#function to combine all three image quality metrices\n",
        "def Compare_Images(target, ref):\n",
        "    scores=[]\n",
        "    scores.append(PSNR(target, ref))\n",
        "    scores.append(MSE(target, ref))\n",
        "    scores.append(ssim(target, ref, multichannel= True))\n",
        "    \n",
        "    return scores\n",
        "    "
      ],
      "execution_count": 0,
      "outputs": []
    },
    {
      "cell_type": "code",
      "metadata": {
        "id": "vpfOhw5yaJYS",
        "colab_type": "code",
        "colab": {}
      },
      "source": [
        "mkdir HR_IMAGES"
      ],
      "execution_count": 0,
      "outputs": []
    },
    {
      "cell_type": "code",
      "metadata": {
        "id": "jk6tbY7HaJYV",
        "colab_type": "code",
        "colab": {}
      },
      "source": [
        "#prepare degraded images by intruducing quality distortion\n",
        "def Prepare_Images(path, factor):\n",
        "    for file in os.listdir(path):\n",
        "        \n",
        "        img=cv2.imread(path + '/' + file )\n",
        "        \n",
        "        #old dimensions\n",
        "        h,w,c=img.shape\n",
        "        \n",
        "        #new diemnsions\n",
        "        new_height= int(h / factor)\n",
        "        new_width= int(w / factor)\n",
        "        \n",
        "        #resize the images - down\n",
        "        img = cv2.resize(img, (new_width, new_height), interpolation= cv2.INTER_LINEAR)\n",
        "        \n",
        "        #resize the images - up\n",
        "        img = cv2.resize(img, (w,h), interpolation= cv2.INTER_LINEAR)\n",
        "        \n",
        "        #save the images\n",
        "        print('Saving{}'.format(file))\n",
        "        cv2.imwrite('HR_IMAGES/{}'.format(file), img)\n",
        "        "
      ],
      "execution_count": 0,
      "outputs": []
    },
    {
      "cell_type": "code",
      "metadata": {
        "id": "gw1K98jmaJYX",
        "colab_type": "code",
        "colab": {
          "base_uri": "https://localhost:8080/",
          "height": 306
        },
        "outputId": "4dbb7730-44f4-4fa3-8cdf-b6a32caed1f3"
      },
      "source": [
        "Prepare_Images('SET5_BMP', 2)"
      ],
      "execution_count": 8,
      "outputs": [
        {
          "output_type": "stream",
          "text": [
            "Savingzebra.bmp\n",
            "Savingwoman_GT.bmp\n",
            "Savingflowers.bmp\n",
            "Savingcoastguard.bmp\n",
            "Savingbarbara.bmp\n",
            "Savingforeman.bmp\n",
            "Savingface.bmp\n",
            "Savingbaboon.bmp\n",
            "Savinghead_GT.bmp\n",
            "Savinglenna.bmp\n",
            "Savingbutterfly_GT.bmp\n",
            "Savingppt3.bmp\n",
            "Savingbaby_GT.bmp\n",
            "Savingmonarch.bmp\n",
            "Savingcomic.bmp\n",
            "Savingpepper.bmp\n",
            "Savingbird_GT.bmp\n"
          ],
          "name": "stdout"
        }
      ]
    },
    {
      "cell_type": "code",
      "metadata": {
        "id": "8CF8HFc0aJYZ",
        "colab_type": "code",
        "colab": {
          "base_uri": "https://localhost:8080/",
          "height": 1000
        },
        "outputId": "3af92636-98f9-49cd-8f03-6c2c56701ba5"
      },
      "source": [
        "#check the degraded image which are generated using quality metrices\n",
        "for file in os.listdir('HR_IMAGES/'):\n",
        "    \n",
        "    #read both target and ground_truth(reference) images\n",
        "    target=cv2.imread('HR_IMAGES/{}'.format(file))\n",
        "    ref=cv2.imread('SET5_BMP/{}'.format(file))\n",
        "    \n",
        "    #calculate the scores\n",
        "    scores=Compare_Images(target, ref)\n",
        "\n",
        "    print(\"{}\\nPSNR: {} \\nMSE: {}\\nSSIM: {}\\n\".format(file,scores[0],scores[1],scores[2]))\n"
      ],
      "execution_count": 9,
      "outputs": [
        {
          "output_type": "stream",
          "text": [
            "zebra.bmp\n",
            "PSNR: 27.909840639329513 \n",
            "MSE: 315.6585459528818\n",
            "SSIM: 0.8911656209329116\n",
            "\n",
            "woman_GT.bmp\n",
            "PSNR: 29.326236280817465 \n",
            "MSE: 227.812729498164\n",
            "SSIM: 0.9335397280466592\n",
            "\n",
            "flowers.bmp\n",
            "PSNR: 27.454504805386144 \n",
            "MSE: 350.55093922651935\n",
            "SSIM: 0.8697286286974628\n",
            "\n"
          ],
          "name": "stdout"
        },
        {
          "output_type": "stream",
          "text": [
            "/usr/local/lib/python3.6/dist-packages/ipykernel_launcher.py:27: UserWarning: DEPRECATED: skimage.measure.compare_ssim has been moved to skimage.metrics.structural_similarity. It will be removed from skimage.measure in version 0.18.\n"
          ],
          "name": "stderr"
        },
        {
          "output_type": "stream",
          "text": [
            "coastguard.bmp\n",
            "PSNR: 27.161600663887082 \n",
            "MSE: 375.00887784090907\n",
            "SSIM: 0.756950063354931\n",
            "\n",
            "barbara.bmp\n",
            "PSNR: 25.906629837568126 \n",
            "MSE: 500.65508535879627\n",
            "SSIM: 0.8098632646406401\n",
            "\n",
            "foreman.bmp\n",
            "PSNR: 30.14456532664372 \n",
            "MSE: 188.6883483270202\n",
            "SSIM: 0.933268417388899\n",
            "\n",
            "face.bmp\n",
            "PSNR: 30.99220650287191 \n",
            "MSE: 155.23189718546524\n",
            "SSIM: 0.8008439492289884\n",
            "\n",
            "baboon.bmp\n",
            "PSNR: 22.157084083442548 \n",
            "MSE: 1187.1161333333334\n",
            "SSIM: 0.629277587900277\n",
            "\n",
            "head_GT.bmp\n",
            "PSNR: 31.020502848237534 \n",
            "MSE: 154.2237755102041\n",
            "SSIM: 0.8011121330733371\n",
            "\n",
            "lenna.bmp\n",
            "PSNR: 31.47349297867539 \n",
            "MSE: 138.94800567626953\n",
            "SSIM: 0.8460989200521499\n",
            "\n",
            "butterfly_GT.bmp\n",
            "PSNR: 24.782076560337416 \n",
            "MSE: 648.6254119873047\n",
            "SSIM: 0.8791344763843051\n",
            "\n",
            "ppt3.bmp\n",
            "PSNR: 24.84926168950471 \n",
            "MSE: 638.6684263912582\n",
            "SSIM: 0.9284023942315316\n",
            "\n",
            "baby_GT.bmp\n",
            "PSNR: 34.371806409661986 \n",
            "MSE: 71.28874588012695\n",
            "SSIM: 0.9356987872724932\n",
            "\n",
            "monarch.bmp\n",
            "PSNR: 30.196242365288896 \n",
            "MSE: 186.45643615722656\n",
            "SSIM: 0.9439574293434104\n",
            "\n",
            "comic.bmp\n",
            "PSNR: 23.799861502225532 \n",
            "MSE: 813.2338836565096\n",
            "SSIM: 0.8347335416398209\n",
            "\n",
            "pepper.bmp\n",
            "PSNR: 29.88947161686106 \n",
            "MSE: 200.1033935546875\n",
            "SSIM: 0.8357937568464359\n",
            "\n",
            "bird_GT.bmp\n",
            "PSNR: 32.896644728720005 \n",
            "MSE: 100.12375819830247\n",
            "SSIM: 0.9533644866026473\n",
            "\n"
          ],
          "name": "stdout"
        }
      ]
    }
  ]
}