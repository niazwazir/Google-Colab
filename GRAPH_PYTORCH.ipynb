{
  "nbformat": 4,
  "nbformat_minor": 0,
  "metadata": {
    "colab": {
      "name": "Untitled62.ipynb",
      "provenance": []
    },
    "kernelspec": {
      "name": "python3",
      "display_name": "Python 3"
    },
    "language_info": {
      "name": "python"
    }
  },
  "cells": [
    {
      "cell_type": "code",
      "execution_count": 1,
      "metadata": {
        "colab": {
          "base_uri": "https://localhost:8080/"
        },
        "id": "0nQ_gOyts_f4",
        "outputId": "5ab773bc-032e-423a-eafd-8a7a823203dd"
      },
      "outputs": [
        {
          "output_type": "stream",
          "name": "stdout",
          "text": [
            "Collecting torchviz\n",
            "  Downloading torchviz-0.0.2.tar.gz (4.9 kB)\n",
            "Requirement already satisfied: torch in /usr/local/lib/python3.7/dist-packages (from torchviz) (1.10.0+cu111)\n",
            "Requirement already satisfied: graphviz in /usr/local/lib/python3.7/dist-packages (from torchviz) (0.10.1)\n",
            "Requirement already satisfied: typing-extensions in /usr/local/lib/python3.7/dist-packages (from torch->torchviz) (3.10.0.2)\n",
            "Building wheels for collected packages: torchviz\n",
            "  Building wheel for torchviz (setup.py) ... \u001b[?25l\u001b[?25hdone\n",
            "  Created wheel for torchviz: filename=torchviz-0.0.2-py3-none-any.whl size=4151 sha256=b8a59fe212a3fd4439c91e0ef9130d34a2913b71d1c3ba9a707ef6112567e1f8\n",
            "  Stored in directory: /root/.cache/pip/wheels/04/38/f5/dc4f85c3909051823df49901e72015d2d750bd26b086480ec2\n",
            "Successfully built torchviz\n",
            "Installing collected packages: torchviz\n",
            "Successfully installed torchviz-0.0.2\n",
            "Collecting pytorch_model_summary\n",
            "  Downloading pytorch_model_summary-0.1.2-py3-none-any.whl (9.3 kB)\n",
            "Requirement already satisfied: numpy in /usr/local/lib/python3.7/dist-packages (from pytorch_model_summary) (1.19.5)\n",
            "Requirement already satisfied: tqdm in /usr/local/lib/python3.7/dist-packages (from pytorch_model_summary) (4.62.3)\n",
            "Requirement already satisfied: torch in /usr/local/lib/python3.7/dist-packages (from pytorch_model_summary) (1.10.0+cu111)\n",
            "Requirement already satisfied: typing-extensions in /usr/local/lib/python3.7/dist-packages (from torch->pytorch_model_summary) (3.10.0.2)\n",
            "Installing collected packages: pytorch-model-summary\n",
            "Successfully installed pytorch-model-summary-0.1.2\n"
          ]
        }
      ],
      "source": [
        "!pip install torchviz\n",
        "!pip install pytorch_model_summary"
      ]
    },
    {
      "cell_type": "code",
      "source": [
        "import torch\n",
        "from torch import nn\n",
        "from torch.autograd import Variable\n",
        "from torchviz import make_dot, make_dot_from_trace"
      ],
      "metadata": {
        "id": "X5nPzQh8tHoI"
      },
      "execution_count": 10,
      "outputs": []
    },
    {
      "cell_type": "code",
      "source": [
        "class SRCNN(nn.Module):\n",
        "    \"\"\"\n",
        "    Model for SRCNN\n",
        "\n",
        "    Input -> Conv1 -> Relu -> Conv2 -> Relu -> Conv3 -> MSE\n",
        "    \n",
        "    Args:\n",
        "        - C1, C2, C3: num output channels for Conv1, Conv2, and Conv3\n",
        "        - F1, F2, F3: filter size\n",
        "    \"\"\"\n",
        "    def __init__(self,\n",
        "                 C1=64, C2=32, C3=1,\n",
        "                 F1=9, F2=1, F3=5):\n",
        "        super(SRCNN, self).__init__()\n",
        "        self.conv1 = nn.Conv2d(1, C1, F1) # in, out, kernel\n",
        "        self.conv2 = nn.Conv2d(C1, C2, F2)\n",
        "        self.conv3 = nn.Conv2d(C2, C3, F3)\n",
        "    \n",
        "    def forward(self, x):\n",
        "        x = F.relu(self.conv1(x))\n",
        "        x = F.relu(self.conv2(x))\n",
        "        x = self.conv3(x)\n",
        "        return x"
      ],
      "metadata": {
        "id": "sv7PpPZitNg-"
      },
      "execution_count": 3,
      "outputs": []
    },
    {
      "cell_type": "code",
      "source": [
        "class AYE_MODEL(nn.Module):\n",
        "    def __init__(self, num_channels=1):\n",
        "        super(AYE_MODEL, self).__init__()\n",
        "        self.conv1 = nn.Conv2d(num_channels, 64, kernel_size=3, padding=3 // 2,bias=False)\n",
        "        self.conv2 = nn.Conv2d(64, 64, kernel_size=3, padding=3 // 2,bias=False)\n",
        "        self.conv3 = nn.Conv2d(64, 64, kernel_size=3, padding=3 // 2,bias=False)\n",
        "        self.conv4 = nn.Conv2d(64, 64, kernel_size=3, padding=3 // 2,bias=False)\n",
        "        self.conv5 = nn.Conv2d(64, 64, kernel_size=3, padding=3 // 2,bias=False)\n",
        "        self.conv6 = nn.Conv2d(64, 64, kernel_size=3, padding=3 // 2,bias=False)\n",
        "        self.conv7 = nn.Conv2d(64, 64, kernel_size=3, padding=3 // 2,bias=False)\n",
        "        self.conv8 = nn.Conv2d(64, 64, kernel_size=3, padding=3 // 2,bias=False)\n",
        "        self.conv9 = nn.Conv2d(64, 32, kernel_size=3, padding=3 // 2,bias=False)\n",
        "        self.conv10 = nn.Conv2d(32, num_channels, kernel_size=3, padding=3 // 2,bias=False)\n",
        "        self.relu = nn.PReLU()\n",
        "\n",
        "    def forward(self, x):\n",
        "        x = self.conv1(x)\n",
        "        x = self.relu(x)\n",
        "        x = self.conv2(x)\n",
        "        x = self.relu(x)\n",
        "        x = self.conv3(x)\n",
        "        x = self.relu(x)\n",
        "        x = self.conv4(x)\n",
        "        x = self.relu(x)\n",
        "        x = self.conv5(x)\n",
        "        x = self.relu(x)\n",
        "        x = self.conv6(x)\n",
        "        x = self.relu(x)\n",
        "        x = self.conv7(x)\n",
        "        x = self.relu(x)\n",
        "        x = self.conv8(x)\n",
        "        x = self.relu(x)\n",
        "        x = self.conv9(x)\n",
        "        x = self.relu(x)\n",
        "        x = self.conv10(x)\n",
        "        x = self.relu(x)\n",
        "        return x\n",
        "Ayemodel = AYE_MODEL()\n",
        "print(Ayemodel)"
      ],
      "metadata": {
        "colab": {
          "base_uri": "https://localhost:8080/"
        },
        "id": "acoFhjMHtYsI",
        "outputId": "18a02394-b948-43c7-93a7-76e8e71e1f64"
      },
      "execution_count": 4,
      "outputs": [
        {
          "output_type": "stream",
          "name": "stdout",
          "text": [
            "AYE_MODEL(\n",
            "  (conv1): Conv2d(1, 64, kernel_size=(3, 3), stride=(1, 1), padding=(1, 1), bias=False)\n",
            "  (conv2): Conv2d(64, 64, kernel_size=(3, 3), stride=(1, 1), padding=(1, 1), bias=False)\n",
            "  (conv3): Conv2d(64, 64, kernel_size=(3, 3), stride=(1, 1), padding=(1, 1), bias=False)\n",
            "  (conv4): Conv2d(64, 64, kernel_size=(3, 3), stride=(1, 1), padding=(1, 1), bias=False)\n",
            "  (conv5): Conv2d(64, 64, kernel_size=(3, 3), stride=(1, 1), padding=(1, 1), bias=False)\n",
            "  (conv6): Conv2d(64, 64, kernel_size=(3, 3), stride=(1, 1), padding=(1, 1), bias=False)\n",
            "  (conv7): Conv2d(64, 64, kernel_size=(3, 3), stride=(1, 1), padding=(1, 1), bias=False)\n",
            "  (conv8): Conv2d(64, 64, kernel_size=(3, 3), stride=(1, 1), padding=(1, 1), bias=False)\n",
            "  (conv9): Conv2d(64, 32, kernel_size=(3, 3), stride=(1, 1), padding=(1, 1), bias=False)\n",
            "  (conv10): Conv2d(32, 1, kernel_size=(3, 3), stride=(1, 1), padding=(1, 1), bias=False)\n",
            "  (relu): PReLU(num_parameters=1)\n",
            ")\n"
          ]
        }
      ]
    },
    {
      "cell_type": "code",
      "source": [
        "# show output shape and hierarchical view of net\n",
        "from pytorch_model_summary import summary\n",
        "print(summary(AYE_MODEL(), torch.zeros((1, 1, 28, 28)), show_input=False, show_hierarchical=True))"
      ],
      "metadata": {
        "colab": {
          "base_uri": "https://localhost:8080/"
        },
        "id": "MlnVBsgntfQe",
        "outputId": "996815ed-2f00-4e29-a8b8-56bb5f0d46d8"
      },
      "execution_count": 5,
      "outputs": [
        {
          "output_type": "stream",
          "name": "stdout",
          "text": [
            "-----------------------------------------------------------------------\n",
            "      Layer (type)        Output Shape         Param #     Tr. Param #\n",
            "=======================================================================\n",
            "          Conv2d-1     [1, 64, 28, 28]             576             576\n",
            "           PReLU-2     [1, 64, 28, 28]               1               1\n",
            "          Conv2d-3     [1, 64, 28, 28]          36,864          36,864\n",
            "          Conv2d-4     [1, 64, 28, 28]          36,864          36,864\n",
            "          Conv2d-5     [1, 64, 28, 28]          36,864          36,864\n",
            "          Conv2d-6     [1, 64, 28, 28]          36,864          36,864\n",
            "          Conv2d-7     [1, 64, 28, 28]          36,864          36,864\n",
            "          Conv2d-8     [1, 64, 28, 28]          36,864          36,864\n",
            "          Conv2d-9     [1, 64, 28, 28]          36,864          36,864\n",
            "         Conv2d-10     [1, 32, 28, 28]          18,432          18,432\n",
            "         Conv2d-11      [1, 1, 28, 28]             288             288\n",
            "=======================================================================\n",
            "Total params: 277,345\n",
            "Trainable params: 277,345\n",
            "Non-trainable params: 0\n",
            "-----------------------------------------------------------------------\n",
            "\n",
            "\n",
            "========================================= Hierarchical Summary =========================================\n",
            "\n",
            "AYE_MODEL(\n",
            "  (conv1): Conv2d(1, 64, kernel_size=(3, 3), stride=(1, 1), padding=(1, 1), bias=False), 576 params\n",
            "  (conv2): Conv2d(64, 64, kernel_size=(3, 3), stride=(1, 1), padding=(1, 1), bias=False), 36,864 params\n",
            "  (conv3): Conv2d(64, 64, kernel_size=(3, 3), stride=(1, 1), padding=(1, 1), bias=False), 36,864 params\n",
            "  (conv4): Conv2d(64, 64, kernel_size=(3, 3), stride=(1, 1), padding=(1, 1), bias=False), 36,864 params\n",
            "  (conv5): Conv2d(64, 64, kernel_size=(3, 3), stride=(1, 1), padding=(1, 1), bias=False), 36,864 params\n",
            "  (conv6): Conv2d(64, 64, kernel_size=(3, 3), stride=(1, 1), padding=(1, 1), bias=False), 36,864 params\n",
            "  (conv7): Conv2d(64, 64, kernel_size=(3, 3), stride=(1, 1), padding=(1, 1), bias=False), 36,864 params\n",
            "  (conv8): Conv2d(64, 64, kernel_size=(3, 3), stride=(1, 1), padding=(1, 1), bias=False), 36,864 params\n",
            "  (conv9): Conv2d(64, 32, kernel_size=(3, 3), stride=(1, 1), padding=(1, 1), bias=False), 18,432 params\n",
            "  (conv10): Conv2d(32, 1, kernel_size=(3, 3), stride=(1, 1), padding=(1, 1), bias=False), 288 params\n",
            "  (relu): PReLU(num_parameters=1), 1 params\n",
            "), 277,345 params\n",
            "\n",
            "\n",
            "========================================================================================================\n",
            "\n"
          ]
        }
      ]
    },
    {
      "cell_type": "code",
      "source": [
        "from prettytable import PrettyTable\n",
        "\n",
        "def count_parameters(Ayemodel):\n",
        "    table = PrettyTable([\"Modules\", \"Parameters\"])\n",
        "    total_params = 0\n",
        "    for name, parameter in Ayemodel.named_parameters():\n",
        "        if not parameter.requires_grad: continue\n",
        "        param = parameter.numel()\n",
        "        table.add_row([name, param])\n",
        "        total_params+=param\n",
        "    print(table)\n",
        "    print(f\"Total Trainable Params: {total_params}\")\n",
        "    return total_params\n",
        "    \n",
        "count_parameters(Ayemodel)"
      ],
      "metadata": {
        "colab": {
          "base_uri": "https://localhost:8080/"
        },
        "id": "tN_c0sMftm-3",
        "outputId": "1ff76663-560a-4efc-9f2c-fa619b2507f4"
      },
      "execution_count": 6,
      "outputs": [
        {
          "output_type": "stream",
          "name": "stdout",
          "text": [
            "+---------------+------------+\n",
            "|    Modules    | Parameters |\n",
            "+---------------+------------+\n",
            "|  conv1.weight |    576     |\n",
            "|  conv2.weight |   36864    |\n",
            "|  conv3.weight |   36864    |\n",
            "|  conv4.weight |   36864    |\n",
            "|  conv5.weight |   36864    |\n",
            "|  conv6.weight |   36864    |\n",
            "|  conv7.weight |   36864    |\n",
            "|  conv8.weight |   36864    |\n",
            "|  conv9.weight |   18432    |\n",
            "| conv10.weight |    288     |\n",
            "|  relu.weight  |     1      |\n",
            "+---------------+------------+\n",
            "Total Trainable Params: 277345\n"
          ]
        },
        {
          "output_type": "execute_result",
          "data": {
            "text/plain": [
              "277345"
            ]
          },
          "metadata": {},
          "execution_count": 6
        }
      ]
    },
    {
      "cell_type": "code",
      "source": [
        "x = Variable(torch.randn(1,1,33,33))\n",
        "y = Ayemodel(x)\n",
        "make_dot(y.mean(),params=dict(Ayemodel.named_parameters()))"
      ],
      "metadata": {
        "colab": {
          "base_uri": "https://localhost:8080/",
          "height": 1000
        },
        "id": "TZ8ClqYgtp1-",
        "outputId": "ffafa0c8-2dbf-4ca1-d3bc-cf9b79a9261b"
      },
      "execution_count": 7,
      "outputs": [
        {
          "output_type": "execute_result",
          "data": {
            "text/plain": [
              "<graphviz.dot.Digraph at 0x7f0e766a9050>"
            ],
            "image/svg+xml": "<?xml version=\"1.0\" encoding=\"UTF-8\" standalone=\"no\"?>\n<!DOCTYPE svg PUBLIC \"-//W3C//DTD SVG 1.1//EN\"\n \"http://www.w3.org/Graphics/SVG/1.1/DTD/svg11.dtd\">\n<!-- Generated by graphviz version 2.40.1 (20161225.0304)\n -->\n<!-- Title: %3 Pages: 1 -->\n<svg width=\"465pt\" height=\"1037pt\"\n viewBox=\"0.00 0.00 464.65 1037.00\" xmlns=\"http://www.w3.org/2000/svg\" xmlns:xlink=\"http://www.w3.org/1999/xlink\">\n<g id=\"graph0\" class=\"graph\" transform=\"scale(.7277 .7277) rotate(0) translate(4 1421)\">\n<title>%3</title>\n<polygon fill=\"#ffffff\" stroke=\"transparent\" points=\"-4,4 -4,-1421 634.5,-1421 634.5,4 -4,4\"/>\n<!-- 139700092963056 -->\n<g id=\"node1\" class=\"node\">\n<title>139700092963056</title>\n<polygon fill=\"#caff70\" stroke=\"#000000\" points=\"599.5,-31 545.5,-31 545.5,0 599.5,0 599.5,-31\"/>\n<text text-anchor=\"middle\" x=\"572.5\" y=\"-7\" font-family=\"monospace\" font-size=\"10.00\" fill=\"#000000\"> ()</text>\n</g>\n<!-- 139700092965072 -->\n<g id=\"node2\" class=\"node\">\n<title>139700092965072</title>\n<polygon fill=\"#d3d3d3\" stroke=\"#000000\" points=\"620,-86 525,-86 525,-67 620,-67 620,-86\"/>\n<text text-anchor=\"middle\" x=\"572.5\" y=\"-74\" font-family=\"monospace\" font-size=\"10.00\" fill=\"#000000\">MeanBackward0</text>\n</g>\n<!-- 139700092965072&#45;&gt;139700092963056 -->\n<g id=\"edge52\" class=\"edge\">\n<title>139700092965072&#45;&gt;139700092963056</title>\n<path fill=\"none\" stroke=\"#000000\" d=\"M572.5,-66.9688C572.5,-60.1289 572.5,-50.5621 572.5,-41.5298\"/>\n<polygon fill=\"#000000\" stroke=\"#000000\" points=\"576.0001,-41.3678 572.5,-31.3678 569.0001,-41.3678 576.0001,-41.3678\"/>\n</g>\n<!-- 139700092968784 -->\n<g id=\"node3\" class=\"node\">\n<title>139700092968784</title>\n<polygon fill=\"#d3d3d3\" stroke=\"#000000\" points=\"623,-141 522,-141 522,-122 623,-122 623,-141\"/>\n<text text-anchor=\"middle\" x=\"572.5\" y=\"-129\" font-family=\"monospace\" font-size=\"10.00\" fill=\"#000000\">PreluBackward0</text>\n</g>\n<!-- 139700092968784&#45;&gt;139700092965072 -->\n<g id=\"edge1\" class=\"edge\">\n<title>139700092968784&#45;&gt;139700092965072</title>\n<path fill=\"none\" stroke=\"#000000\" d=\"M572.5,-121.9197C572.5,-114.9083 572.5,-105.1442 572.5,-96.4652\"/>\n<polygon fill=\"#000000\" stroke=\"#000000\" points=\"576.0001,-96.3408 572.5,-86.3408 569.0001,-96.3409 576.0001,-96.3408\"/>\n</g>\n<!-- 139700092965136 -->\n<g id=\"node4\" class=\"node\">\n<title>139700092965136</title>\n<polygon fill=\"#d3d3d3\" stroke=\"#000000\" points=\"583,-196 410,-196 410,-177 583,-177 583,-196\"/>\n<text text-anchor=\"middle\" x=\"496.5\" y=\"-184\" font-family=\"monospace\" font-size=\"10.00\" fill=\"#000000\">MkldnnConvolutionBackward0</text>\n</g>\n<!-- 139700092965136&#45;&gt;139700092968784 -->\n<g id=\"edge2\" class=\"edge\">\n<title>139700092965136&#45;&gt;139700092968784</title>\n<path fill=\"none\" stroke=\"#000000\" d=\"M509.7382,-176.9197C521.1112,-168.6893 537.7256,-156.6657 551.0035,-147.0567\"/>\n<polygon fill=\"#000000\" stroke=\"#000000\" points=\"553.1093,-149.8532 559.1585,-141.155 549.0054,-144.1823 553.1093,-149.8532\"/>\n</g>\n<!-- 139700092965008 -->\n<g id=\"node5\" class=\"node\">\n<title>139700092965008</title>\n<polygon fill=\"#d3d3d3\" stroke=\"#000000\" points=\"547,-251 446,-251 446,-232 547,-232 547,-251\"/>\n<text text-anchor=\"middle\" x=\"496.5\" y=\"-239\" font-family=\"monospace\" font-size=\"10.00\" fill=\"#000000\">PreluBackward0</text>\n</g>\n<!-- 139700092965008&#45;&gt;139700092965136 -->\n<g id=\"edge3\" class=\"edge\">\n<title>139700092965008&#45;&gt;139700092965136</title>\n<path fill=\"none\" stroke=\"#000000\" d=\"M496.5,-231.9197C496.5,-224.9083 496.5,-215.1442 496.5,-206.4652\"/>\n<polygon fill=\"#000000\" stroke=\"#000000\" points=\"500.0001,-206.3408 496.5,-196.3408 493.0001,-206.3409 500.0001,-206.3408\"/>\n</g>\n<!-- 139700092966288 -->\n<g id=\"node6\" class=\"node\">\n<title>139700092966288</title>\n<polygon fill=\"#d3d3d3\" stroke=\"#000000\" points=\"564,-311.5 391,-311.5 391,-292.5 564,-292.5 564,-311.5\"/>\n<text text-anchor=\"middle\" x=\"477.5\" y=\"-299.5\" font-family=\"monospace\" font-size=\"10.00\" fill=\"#000000\">MkldnnConvolutionBackward0</text>\n</g>\n<!-- 139700092966288&#45;&gt;139700092965008 -->\n<g id=\"edge4\" class=\"edge\">\n<title>139700092966288&#45;&gt;139700092965008</title>\n<path fill=\"none\" stroke=\"#000000\" d=\"M480.5527,-292.2796C483.1961,-283.8623 487.1007,-271.4295 490.3845,-260.973\"/>\n<polygon fill=\"#000000\" stroke=\"#000000\" points=\"493.7347,-261.9865 493.3918,-251.3972 487.0563,-259.8891 493.7347,-261.9865\"/>\n</g>\n<!-- 139700092965712 -->\n<g id=\"node7\" class=\"node\">\n<title>139700092965712</title>\n<polygon fill=\"#d3d3d3\" stroke=\"#000000\" points=\"528,-372 427,-372 427,-353 528,-353 528,-372\"/>\n<text text-anchor=\"middle\" x=\"477.5\" y=\"-360\" font-family=\"monospace\" font-size=\"10.00\" fill=\"#000000\">PreluBackward0</text>\n</g>\n<!-- 139700092965712&#45;&gt;139700092966288 -->\n<g id=\"edge5\" class=\"edge\">\n<title>139700092965712&#45;&gt;139700092966288</title>\n<path fill=\"none\" stroke=\"#000000\" d=\"M477.5,-352.7796C477.5,-344.5376 477.5,-332.4457 477.5,-322.129\"/>\n<polygon fill=\"#000000\" stroke=\"#000000\" points=\"481.0001,-321.8972 477.5,-311.8972 474.0001,-321.8973 481.0001,-321.8972\"/>\n</g>\n<!-- 139700092965392 -->\n<g id=\"node8\" class=\"node\">\n<title>139700092965392</title>\n<polygon fill=\"#d3d3d3\" stroke=\"#000000\" points=\"526,-432.5 353,-432.5 353,-413.5 526,-413.5 526,-432.5\"/>\n<text text-anchor=\"middle\" x=\"439.5\" y=\"-420.5\" font-family=\"monospace\" font-size=\"10.00\" fill=\"#000000\">MkldnnConvolutionBackward0</text>\n</g>\n<!-- 139700092965392&#45;&gt;139700092965712 -->\n<g id=\"edge6\" class=\"edge\">\n<title>139700092965392&#45;&gt;139700092965712</title>\n<path fill=\"none\" stroke=\"#000000\" d=\"M445.6054,-413.2796C451.0575,-404.5992 459.1919,-391.6485 465.881,-380.9987\"/>\n<polygon fill=\"#000000\" stroke=\"#000000\" points=\"468.9285,-382.727 471.2836,-372.3972 463.0008,-379.0038 468.9285,-382.727\"/>\n</g>\n<!-- 139700092966032 -->\n<g id=\"node9\" class=\"node\">\n<title>139700092966032</title>\n<polygon fill=\"#d3d3d3\" stroke=\"#000000\" points=\"490,-493 389,-493 389,-474 490,-474 490,-493\"/>\n<text text-anchor=\"middle\" x=\"439.5\" y=\"-481\" font-family=\"monospace\" font-size=\"10.00\" fill=\"#000000\">PreluBackward0</text>\n</g>\n<!-- 139700092966032&#45;&gt;139700092965392 -->\n<g id=\"edge7\" class=\"edge\">\n<title>139700092966032&#45;&gt;139700092965392</title>\n<path fill=\"none\" stroke=\"#000000\" d=\"M439.5,-473.7796C439.5,-465.5376 439.5,-453.4457 439.5,-443.129\"/>\n<polygon fill=\"#000000\" stroke=\"#000000\" points=\"443.0001,-442.8972 439.5,-432.8972 436.0001,-442.8973 443.0001,-442.8972\"/>\n</g>\n<!-- 139700092965968 -->\n<g id=\"node10\" class=\"node\">\n<title>139700092965968</title>\n<polygon fill=\"#d3d3d3\" stroke=\"#000000\" points=\"488,-553.5 315,-553.5 315,-534.5 488,-534.5 488,-553.5\"/>\n<text text-anchor=\"middle\" x=\"401.5\" y=\"-541.5\" font-family=\"monospace\" font-size=\"10.00\" fill=\"#000000\">MkldnnConvolutionBackward0</text>\n</g>\n<!-- 139700092965968&#45;&gt;139700092966032 -->\n<g id=\"edge8\" class=\"edge\">\n<title>139700092965968&#45;&gt;139700092966032</title>\n<path fill=\"none\" stroke=\"#000000\" d=\"M407.6054,-534.2796C413.0575,-525.5992 421.1919,-512.6485 427.881,-501.9987\"/>\n<polygon fill=\"#000000\" stroke=\"#000000\" points=\"430.9285,-503.727 433.2836,-493.3972 425.0008,-500.0038 430.9285,-503.727\"/>\n</g>\n<!-- 139700092966160 -->\n<g id=\"node11\" class=\"node\">\n<title>139700092966160</title>\n<polygon fill=\"#d3d3d3\" stroke=\"#000000\" points=\"452,-614 351,-614 351,-595 452,-595 452,-614\"/>\n<text text-anchor=\"middle\" x=\"401.5\" y=\"-602\" font-family=\"monospace\" font-size=\"10.00\" fill=\"#000000\">PreluBackward0</text>\n</g>\n<!-- 139700092966160&#45;&gt;139700092965968 -->\n<g id=\"edge9\" class=\"edge\">\n<title>139700092966160&#45;&gt;139700092965968</title>\n<path fill=\"none\" stroke=\"#000000\" d=\"M401.5,-594.7796C401.5,-586.5376 401.5,-574.4457 401.5,-564.129\"/>\n<polygon fill=\"#000000\" stroke=\"#000000\" points=\"405.0001,-563.8972 401.5,-553.8972 398.0001,-563.8973 405.0001,-563.8972\"/>\n</g>\n<!-- 139700092968464 -->\n<g id=\"node12\" class=\"node\">\n<title>139700092968464</title>\n<polygon fill=\"#d3d3d3\" stroke=\"#000000\" points=\"450,-674.5 277,-674.5 277,-655.5 450,-655.5 450,-674.5\"/>\n<text text-anchor=\"middle\" x=\"363.5\" y=\"-662.5\" font-family=\"monospace\" font-size=\"10.00\" fill=\"#000000\">MkldnnConvolutionBackward0</text>\n</g>\n<!-- 139700092968464&#45;&gt;139700092966160 -->\n<g id=\"edge10\" class=\"edge\">\n<title>139700092968464&#45;&gt;139700092966160</title>\n<path fill=\"none\" stroke=\"#000000\" d=\"M369.6054,-655.2796C375.0575,-646.5992 383.1919,-633.6485 389.881,-622.9987\"/>\n<polygon fill=\"#000000\" stroke=\"#000000\" points=\"392.9285,-624.727 395.2836,-614.3972 387.0008,-621.0038 392.9285,-624.727\"/>\n</g>\n<!-- 139700096514960 -->\n<g id=\"node13\" class=\"node\">\n<title>139700096514960</title>\n<polygon fill=\"#d3d3d3\" stroke=\"#000000\" points=\"414,-735 313,-735 313,-716 414,-716 414,-735\"/>\n<text text-anchor=\"middle\" x=\"363.5\" y=\"-723\" font-family=\"monospace\" font-size=\"10.00\" fill=\"#000000\">PreluBackward0</text>\n</g>\n<!-- 139700096514960&#45;&gt;139700092968464 -->\n<g id=\"edge11\" class=\"edge\">\n<title>139700096514960&#45;&gt;139700092968464</title>\n<path fill=\"none\" stroke=\"#000000\" d=\"M363.5,-715.7796C363.5,-707.5376 363.5,-695.4457 363.5,-685.129\"/>\n<polygon fill=\"#000000\" stroke=\"#000000\" points=\"367.0001,-684.8972 363.5,-674.8972 360.0001,-684.8973 367.0001,-684.8972\"/>\n</g>\n<!-- 139700096514384 -->\n<g id=\"node14\" class=\"node\">\n<title>139700096514384</title>\n<polygon fill=\"#d3d3d3\" stroke=\"#000000\" points=\"412,-795.5 239,-795.5 239,-776.5 412,-776.5 412,-795.5\"/>\n<text text-anchor=\"middle\" x=\"325.5\" y=\"-783.5\" font-family=\"monospace\" font-size=\"10.00\" fill=\"#000000\">MkldnnConvolutionBackward0</text>\n</g>\n<!-- 139700096514384&#45;&gt;139700096514960 -->\n<g id=\"edge12\" class=\"edge\">\n<title>139700096514384&#45;&gt;139700096514960</title>\n<path fill=\"none\" stroke=\"#000000\" d=\"M331.6054,-776.2796C337.0575,-767.5992 345.1919,-754.6485 351.881,-743.9987\"/>\n<polygon fill=\"#000000\" stroke=\"#000000\" points=\"354.9285,-745.727 357.2836,-735.3972 349.0008,-742.0038 354.9285,-745.727\"/>\n</g>\n<!-- 139700096512848 -->\n<g id=\"node15\" class=\"node\">\n<title>139700096512848</title>\n<polygon fill=\"#d3d3d3\" stroke=\"#000000\" points=\"376,-856 275,-856 275,-837 376,-837 376,-856\"/>\n<text text-anchor=\"middle\" x=\"325.5\" y=\"-844\" font-family=\"monospace\" font-size=\"10.00\" fill=\"#000000\">PreluBackward0</text>\n</g>\n<!-- 139700096512848&#45;&gt;139700096514384 -->\n<g id=\"edge13\" class=\"edge\">\n<title>139700096512848&#45;&gt;139700096514384</title>\n<path fill=\"none\" stroke=\"#000000\" d=\"M325.5,-836.7796C325.5,-828.5376 325.5,-816.4457 325.5,-806.129\"/>\n<polygon fill=\"#000000\" stroke=\"#000000\" points=\"329.0001,-805.8972 325.5,-795.8972 322.0001,-805.8973 329.0001,-805.8972\"/>\n</g>\n<!-- 139700096514256 -->\n<g id=\"node16\" class=\"node\">\n<title>139700096514256</title>\n<polygon fill=\"#d3d3d3\" stroke=\"#000000\" points=\"374,-916.5 201,-916.5 201,-897.5 374,-897.5 374,-916.5\"/>\n<text text-anchor=\"middle\" x=\"287.5\" y=\"-904.5\" font-family=\"monospace\" font-size=\"10.00\" fill=\"#000000\">MkldnnConvolutionBackward0</text>\n</g>\n<!-- 139700096514256&#45;&gt;139700096512848 -->\n<g id=\"edge14\" class=\"edge\">\n<title>139700096514256&#45;&gt;139700096512848</title>\n<path fill=\"none\" stroke=\"#000000\" d=\"M293.6054,-897.2796C299.0575,-888.5992 307.1919,-875.6485 313.881,-864.9987\"/>\n<polygon fill=\"#000000\" stroke=\"#000000\" points=\"316.9285,-866.727 319.2836,-856.3972 311.0008,-863.0038 316.9285,-866.727\"/>\n</g>\n<!-- 139700096512208 -->\n<g id=\"node17\" class=\"node\">\n<title>139700096512208</title>\n<polygon fill=\"#d3d3d3\" stroke=\"#000000\" points=\"338,-977 237,-977 237,-958 338,-958 338,-977\"/>\n<text text-anchor=\"middle\" x=\"287.5\" y=\"-965\" font-family=\"monospace\" font-size=\"10.00\" fill=\"#000000\">PreluBackward0</text>\n</g>\n<!-- 139700096512208&#45;&gt;139700096514256 -->\n<g id=\"edge15\" class=\"edge\">\n<title>139700096512208&#45;&gt;139700096514256</title>\n<path fill=\"none\" stroke=\"#000000\" d=\"M287.5,-957.7796C287.5,-949.5376 287.5,-937.4457 287.5,-927.129\"/>\n<polygon fill=\"#000000\" stroke=\"#000000\" points=\"291.0001,-926.8972 287.5,-916.8972 284.0001,-926.8973 291.0001,-926.8972\"/>\n</g>\n<!-- 139700092706896 -->\n<g id=\"node18\" class=\"node\">\n<title>139700092706896</title>\n<polygon fill=\"#d3d3d3\" stroke=\"#000000\" points=\"336,-1037.5 163,-1037.5 163,-1018.5 336,-1018.5 336,-1037.5\"/>\n<text text-anchor=\"middle\" x=\"249.5\" y=\"-1025.5\" font-family=\"monospace\" font-size=\"10.00\" fill=\"#000000\">MkldnnConvolutionBackward0</text>\n</g>\n<!-- 139700092706896&#45;&gt;139700096512208 -->\n<g id=\"edge16\" class=\"edge\">\n<title>139700092706896&#45;&gt;139700096512208</title>\n<path fill=\"none\" stroke=\"#000000\" d=\"M255.6054,-1018.2796C261.0575,-1009.5992 269.1919,-996.6485 275.881,-985.9987\"/>\n<polygon fill=\"#000000\" stroke=\"#000000\" points=\"278.9285,-987.727 281.2836,-977.3972 273.0008,-984.0038 278.9285,-987.727\"/>\n</g>\n<!-- 139700092707088 -->\n<g id=\"node19\" class=\"node\">\n<title>139700092707088</title>\n<polygon fill=\"#d3d3d3\" stroke=\"#000000\" points=\"300,-1098 199,-1098 199,-1079 300,-1079 300,-1098\"/>\n<text text-anchor=\"middle\" x=\"249.5\" y=\"-1086\" font-family=\"monospace\" font-size=\"10.00\" fill=\"#000000\">PreluBackward0</text>\n</g>\n<!-- 139700092707088&#45;&gt;139700092706896 -->\n<g id=\"edge17\" class=\"edge\">\n<title>139700092707088&#45;&gt;139700092706896</title>\n<path fill=\"none\" stroke=\"#000000\" d=\"M249.5,-1078.7796C249.5,-1070.5376 249.5,-1058.4457 249.5,-1048.129\"/>\n<polygon fill=\"#000000\" stroke=\"#000000\" points=\"253.0001,-1047.8972 249.5,-1037.8972 246.0001,-1047.8973 253.0001,-1047.8972\"/>\n</g>\n<!-- 139700092707024 -->\n<g id=\"node20\" class=\"node\">\n<title>139700092707024</title>\n<polygon fill=\"#d3d3d3\" stroke=\"#000000\" points=\"298,-1158.5 125,-1158.5 125,-1139.5 298,-1139.5 298,-1158.5\"/>\n<text text-anchor=\"middle\" x=\"211.5\" y=\"-1146.5\" font-family=\"monospace\" font-size=\"10.00\" fill=\"#000000\">MkldnnConvolutionBackward0</text>\n</g>\n<!-- 139700092707024&#45;&gt;139700092707088 -->\n<g id=\"edge18\" class=\"edge\">\n<title>139700092707024&#45;&gt;139700092707088</title>\n<path fill=\"none\" stroke=\"#000000\" d=\"M217.6054,-1139.2796C223.0575,-1130.5992 231.1919,-1117.6485 237.881,-1106.9987\"/>\n<polygon fill=\"#000000\" stroke=\"#000000\" points=\"240.9285,-1108.727 243.2836,-1098.3972 235.0008,-1105.0038 240.9285,-1108.727\"/>\n</g>\n<!-- 139700092707408 -->\n<g id=\"node21\" class=\"node\">\n<title>139700092707408</title>\n<polygon fill=\"#d3d3d3\" stroke=\"#000000\" points=\"298,-1219 197,-1219 197,-1200 298,-1200 298,-1219\"/>\n<text text-anchor=\"middle\" x=\"247.5\" y=\"-1207\" font-family=\"monospace\" font-size=\"10.00\" fill=\"#000000\">PreluBackward0</text>\n</g>\n<!-- 139700092707408&#45;&gt;139700092707024 -->\n<g id=\"edge19\" class=\"edge\">\n<title>139700092707408&#45;&gt;139700092707024</title>\n<path fill=\"none\" stroke=\"#000000\" d=\"M241.716,-1199.7796C236.5508,-1191.0992 228.8445,-1178.1485 222.5075,-1167.4987\"/>\n<polygon fill=\"#000000\" stroke=\"#000000\" points=\"225.5107,-1165.7011 217.3893,-1158.8972 219.4951,-1169.2807 225.5107,-1165.7011\"/>\n</g>\n<!-- 139700092707344 -->\n<g id=\"node22\" class=\"node\">\n<title>139700092707344</title>\n<polygon fill=\"#d3d3d3\" stroke=\"#000000\" points=\"318,-1279.5 187,-1279.5 187,-1260.5 318,-1260.5 318,-1279.5\"/>\n<text text-anchor=\"middle\" x=\"252.5\" y=\"-1267.5\" font-family=\"monospace\" font-size=\"10.00\" fill=\"#000000\">ThnnConv2DBackward0</text>\n</g>\n<!-- 139700092707344&#45;&gt;139700092707408 -->\n<g id=\"edge20\" class=\"edge\">\n<title>139700092707344&#45;&gt;139700092707408</title>\n<path fill=\"none\" stroke=\"#000000\" d=\"M251.6967,-1260.2796C251.0155,-1252.0376 250.0162,-1239.9457 249.1636,-1229.629\"/>\n<polygon fill=\"#000000\" stroke=\"#000000\" points=\"252.6298,-1229.075 248.318,-1219.3972 245.6536,-1229.6516 252.6298,-1229.075\"/>\n</g>\n<!-- 139700092707728 -->\n<g id=\"node23\" class=\"node\">\n<title>139700092707728</title>\n<polygon fill=\"#d3d3d3\" stroke=\"#000000\" points=\"303,-1345.5 202,-1345.5 202,-1326.5 303,-1326.5 303,-1345.5\"/>\n<text text-anchor=\"middle\" x=\"252.5\" y=\"-1333.5\" font-family=\"monospace\" font-size=\"10.00\" fill=\"#000000\">AccumulateGrad</text>\n</g>\n<!-- 139700092707728&#45;&gt;139700092707344 -->\n<g id=\"edge21\" class=\"edge\">\n<title>139700092707728&#45;&gt;139700092707344</title>\n<path fill=\"none\" stroke=\"#000000\" d=\"M252.5,-1326.2615C252.5,-1316.7077 252.5,-1301.8615 252.5,-1289.8183\"/>\n<polygon fill=\"#000000\" stroke=\"#000000\" points=\"256.0001,-1289.7784 252.5,-1279.7785 249.0001,-1289.7785 256.0001,-1289.7784\"/>\n</g>\n<!-- 139700096497904 -->\n<g id=\"node24\" class=\"node\">\n<title>139700096497904</title>\n<polygon fill=\"#add8e6\" stroke=\"#000000\" points=\"303,-1417 202,-1417 202,-1387 303,-1387 303,-1417\"/>\n<text text-anchor=\"middle\" x=\"252.5\" y=\"-1405\" font-family=\"monospace\" font-size=\"10.00\" fill=\"#000000\">conv1.weight</text>\n<text text-anchor=\"middle\" x=\"252.5\" y=\"-1394\" font-family=\"monospace\" font-size=\"10.00\" fill=\"#000000\"> (64, 1, 3, 3)</text>\n</g>\n<!-- 139700096497904&#45;&gt;139700092707728 -->\n<g id=\"edge22\" class=\"edge\">\n<title>139700096497904&#45;&gt;139700092707728</title>\n<path fill=\"none\" stroke=\"#000000\" d=\"M252.5,-1386.6924C252.5,-1377.5067 252.5,-1365.7245 252.5,-1355.8312\"/>\n<polygon fill=\"#000000\" stroke=\"#000000\" points=\"256.0001,-1355.703 252.5,-1345.7031 249.0001,-1355.7031 256.0001,-1355.703\"/>\n</g>\n<!-- 139700092965200 -->\n<g id=\"node25\" class=\"node\">\n<title>139700092965200</title>\n<polygon fill=\"#d3d3d3\" stroke=\"#000000\" points=\"510,-1279.5 409,-1279.5 409,-1260.5 510,-1260.5 510,-1279.5\"/>\n<text text-anchor=\"middle\" x=\"459.5\" y=\"-1267.5\" font-family=\"monospace\" font-size=\"10.00\" fill=\"#000000\">AccumulateGrad</text>\n</g>\n<!-- 139700092965200&#45;&gt;139700092968784 -->\n<g id=\"edge51\" class=\"edge\">\n<title>139700092965200&#45;&gt;139700092968784</title>\n<path fill=\"none\" stroke=\"#000000\" d=\"M500.0246,-1260.4395C550.5916,-1245.8182 630.5,-1212.6442 630.5,-1149 630.5,-1149 630.5,-1149 630.5,-241.5 630.5,-205.2578 605.5598,-169.2466 588.3883,-148.7477\"/>\n<polygon fill=\"#000000\" stroke=\"#000000\" points=\"591.0236,-146.4443 581.8187,-141.1982 585.743,-151.0395 591.0236,-146.4443\"/>\n</g>\n<!-- 139700092965200&#45;&gt;139700092965008 -->\n<g id=\"edge48\" class=\"edge\">\n<title>139700092965200&#45;&gt;139700092965008</title>\n<path fill=\"none\" stroke=\"#000000\" d=\"M484.8293,-1260.4342C523.4181,-1244.0206 592.5,-1206.5939 592.5,-1149 592.5,-1149 592.5,-1149 592.5,-362.5 592.5,-327.7871 593.3735,-314.736 572.5,-287 562.1835,-273.2918 546.4253,-262.8904 531.9274,-255.5169\"/>\n<polygon fill=\"#000000\" stroke=\"#000000\" points=\"533.186,-252.2398 522.6521,-251.1045 530.1788,-258.561 533.186,-252.2398\"/>\n</g>\n<!-- 139700092965200&#45;&gt;139700092965712 -->\n<g id=\"edge45\" class=\"edge\">\n<title>139700092965200&#45;&gt;139700092965712</title>\n<path fill=\"none\" stroke=\"#000000\" d=\"M474.7634,-1260.4253C501.6177,-1242.26 554.5,-1200.0121 554.5,-1149 554.5,-1149 554.5,-1149 554.5,-483.5 554.5,-448.7871 553.4666,-437.0733 534.5,-408 526.5845,-395.8665 514.3588,-385.4902 503.2567,-377.724\"/>\n<polygon fill=\"#000000\" stroke=\"#000000\" points=\"504.9711,-374.6619 494.6978,-372.0716 501.1135,-380.503 504.9711,-374.6619\"/>\n</g>\n<!-- 139700092965200&#45;&gt;139700092966032 -->\n<g id=\"edge42\" class=\"edge\">\n<title>139700092965200&#45;&gt;139700092966032</title>\n<path fill=\"none\" stroke=\"#000000\" d=\"M467.6667,-1260.3766C483.4277,-1240.7854 516.5,-1194.2811 516.5,-1149 516.5,-1149 516.5,-1149 516.5,-604.5 516.5,-569.7871 515.4666,-558.0733 496.5,-529 488.5845,-516.8665 476.3588,-506.4902 465.2567,-498.724\"/>\n<polygon fill=\"#000000\" stroke=\"#000000\" points=\"466.9711,-495.6619 456.6978,-493.0716 463.1135,-501.503 466.9711,-495.6619\"/>\n</g>\n<!-- 139700092965200&#45;&gt;139700092966160 -->\n<g id=\"edge39\" class=\"edge\">\n<title>139700092965200&#45;&gt;139700092966160</title>\n<path fill=\"none\" stroke=\"#000000\" d=\"M462.0624,-1260.3566C467.2486,-1239.9626 478.5,-1190.8908 478.5,-1149 478.5,-1149 478.5,-1149 478.5,-725.5 478.5,-690.7871 477.4666,-679.0733 458.5,-650 450.5845,-637.8665 438.3588,-627.4902 427.2567,-619.724\"/>\n<polygon fill=\"#000000\" stroke=\"#000000\" points=\"428.9711,-616.6619 418.6978,-614.0716 425.1135,-622.503 428.9711,-616.6619\"/>\n</g>\n<!-- 139700092965200&#45;&gt;139700096514960 -->\n<g id=\"edge36\" class=\"edge\">\n<title>139700092965200&#45;&gt;139700096514960</title>\n<path fill=\"none\" stroke=\"#000000\" d=\"M456.9376,-1260.3566C451.7514,-1239.9626 440.5,-1190.8908 440.5,-1149 440.5,-1149 440.5,-1149 440.5,-846.5 440.5,-811.7871 439.4666,-800.0733 420.5,-771 412.5845,-758.8665 400.3588,-748.4902 389.2567,-740.724\"/>\n<polygon fill=\"#000000\" stroke=\"#000000\" points=\"390.9711,-737.6619 380.6978,-735.0716 387.1135,-743.503 390.9711,-737.6619\"/>\n</g>\n<!-- 139700092965200&#45;&gt;139700096512848 -->\n<g id=\"edge33\" class=\"edge\">\n<title>139700092965200&#45;&gt;139700096512848</title>\n<path fill=\"none\" stroke=\"#000000\" d=\"M451.3333,-1260.3766C435.5723,-1240.7854 402.5,-1194.2811 402.5,-1149 402.5,-1149 402.5,-1149 402.5,-967.5 402.5,-932.7871 401.4666,-921.0733 382.5,-892 374.5845,-879.8665 362.3588,-869.4902 351.2567,-861.724\"/>\n<polygon fill=\"#000000\" stroke=\"#000000\" points=\"352.9711,-858.6619 342.6978,-856.0716 349.1135,-864.503 352.9711,-858.6619\"/>\n</g>\n<!-- 139700092965200&#45;&gt;139700096512208 -->\n<g id=\"edge30\" class=\"edge\">\n<title>139700092965200&#45;&gt;139700096512208</title>\n<path fill=\"none\" stroke=\"#000000\" d=\"M440.0463,-1260.4077C424.1208,-1251.6412 402.0787,-1237.2722 388.5,-1219 368.8829,-1192.6021 364.5,-1181.8889 364.5,-1149 364.5,-1149 364.5,-1149 364.5,-1088.5 364.5,-1053.7871 363.4666,-1042.0733 344.5,-1013 336.5845,-1000.8665 324.3588,-990.4902 313.2567,-982.724\"/>\n<polygon fill=\"#000000\" stroke=\"#000000\" points=\"314.9711,-979.6619 304.6978,-977.0716 311.1135,-985.503 314.9711,-979.6619\"/>\n</g>\n<!-- 139700092965200&#45;&gt;139700092707088 -->\n<g id=\"edge27\" class=\"edge\">\n<title>139700092965200&#45;&gt;139700092707088</title>\n<path fill=\"none\" stroke=\"#000000\" d=\"M425.3826,-1260.4724C401.9953,-1252.5219 371.5171,-1239.1921 350.5,-1219 319.8242,-1189.5284 333.4922,-1166.8786 306.5,-1134 297.1173,-1122.5712 284.4334,-1112.1011 273.4127,-1104.0933\"/>\n<polygon fill=\"#000000\" stroke=\"#000000\" points=\"275.2264,-1101.0908 265.0257,-1098.2278 271.2147,-1106.8271 275.2264,-1101.0908\"/>\n</g>\n<!-- 139700092965200&#45;&gt;139700092707408 -->\n<g id=\"edge23\" class=\"edge\">\n<title>139700092965200&#45;&gt;139700092707408</title>\n<path fill=\"none\" stroke=\"#000000\" d=\"M425.908,-1260.4136C389.3128,-1249.9702 330.6619,-1233.2325 290.6743,-1221.821\"/>\n<polygon fill=\"#000000\" stroke=\"#000000\" points=\"291.5115,-1218.4202 280.9349,-1219.0416 289.5905,-1225.1515 291.5115,-1218.4202\"/>\n</g>\n<!-- 139700096499536 -->\n<g id=\"node26\" class=\"node\">\n<title>139700096499536</title>\n<polygon fill=\"#add8e6\" stroke=\"#000000\" points=\"501,-1351 418,-1351 418,-1321 501,-1321 501,-1351\"/>\n<text text-anchor=\"middle\" x=\"459.5\" y=\"-1339\" font-family=\"monospace\" font-size=\"10.00\" fill=\"#000000\">relu.weight</text>\n<text text-anchor=\"middle\" x=\"459.5\" y=\"-1328\" font-family=\"monospace\" font-size=\"10.00\" fill=\"#000000\"> (1)</text>\n</g>\n<!-- 139700096499536&#45;&gt;139700092965200 -->\n<g id=\"edge24\" class=\"edge\">\n<title>139700096499536&#45;&gt;139700092965200</title>\n<path fill=\"none\" stroke=\"#000000\" d=\"M459.5,-1320.6924C459.5,-1311.5067 459.5,-1299.7245 459.5,-1289.8312\"/>\n<polygon fill=\"#000000\" stroke=\"#000000\" points=\"463.0001,-1289.703 459.5,-1279.7031 456.0001,-1289.7031 463.0001,-1289.703\"/>\n</g>\n<!-- 139700092707536 -->\n<g id=\"node27\" class=\"node\">\n<title>139700092707536</title>\n<polygon fill=\"#d3d3d3\" stroke=\"#000000\" points=\"175,-1219 74,-1219 74,-1200 175,-1200 175,-1219\"/>\n<text text-anchor=\"middle\" x=\"124.5\" y=\"-1207\" font-family=\"monospace\" font-size=\"10.00\" fill=\"#000000\">AccumulateGrad</text>\n</g>\n<!-- 139700092707536&#45;&gt;139700092707024 -->\n<g id=\"edge25\" class=\"edge\">\n<title>139700092707536&#45;&gt;139700092707024</title>\n<path fill=\"none\" stroke=\"#000000\" d=\"M138.4781,-1199.7796C152.1765,-1190.2537 173.2702,-1175.5851 189.2707,-1164.4583\"/>\n<polygon fill=\"#000000\" stroke=\"#000000\" points=\"191.3449,-1167.2791 197.5566,-1158.6962 187.3483,-1161.532 191.3449,-1167.2791\"/>\n</g>\n<!-- 139700096498096 -->\n<g id=\"node28\" class=\"node\">\n<title>139700096498096</title>\n<polygon fill=\"#add8e6\" stroke=\"#000000\" points=\"169,-1285 62,-1285 62,-1255 169,-1255 169,-1285\"/>\n<text text-anchor=\"middle\" x=\"115.5\" y=\"-1273\" font-family=\"monospace\" font-size=\"10.00\" fill=\"#000000\">conv2.weight</text>\n<text text-anchor=\"middle\" x=\"115.5\" y=\"-1262\" font-family=\"monospace\" font-size=\"10.00\" fill=\"#000000\"> (64, 64, 3, 3)</text>\n</g>\n<!-- 139700096498096&#45;&gt;139700092707536 -->\n<g id=\"edge26\" class=\"edge\">\n<title>139700096498096&#45;&gt;139700092707536</title>\n<path fill=\"none\" stroke=\"#000000\" d=\"M117.7711,-1254.7333C118.9297,-1246.9447 120.3521,-1237.3831 121.5902,-1229.0604\"/>\n<polygon fill=\"#000000\" stroke=\"#000000\" points=\"125.0643,-1229.4926 123.0739,-1219.0864 118.1405,-1228.4625 125.0643,-1229.4926\"/>\n</g>\n<!-- 139700092707216 -->\n<g id=\"node29\" class=\"node\">\n<title>139700092707216</title>\n<polygon fill=\"#d3d3d3\" stroke=\"#000000\" points=\"143,-1098 42,-1098 42,-1079 143,-1079 143,-1098\"/>\n<text text-anchor=\"middle\" x=\"92.5\" y=\"-1086\" font-family=\"monospace\" font-size=\"10.00\" fill=\"#000000\">AccumulateGrad</text>\n</g>\n<!-- 139700092707216&#45;&gt;139700092706896 -->\n<g id=\"edge28\" class=\"edge\">\n<title>139700092707216&#45;&gt;139700092706896</title>\n<path fill=\"none\" stroke=\"#000000\" d=\"M117.3771,-1078.9136C143.7893,-1068.7357 185.7151,-1052.5795 215.2416,-1041.2015\"/>\n<polygon fill=\"#000000\" stroke=\"#000000\" points=\"216.6666,-1044.4033 224.7393,-1037.5416 214.1496,-1037.8715 216.6666,-1044.4033\"/>\n</g>\n<!-- 139700096498288 -->\n<g id=\"node30\" class=\"node\">\n<title>139700096498288</title>\n<polygon fill=\"#add8e6\" stroke=\"#000000\" points=\"107,-1164 0,-1164 0,-1134 107,-1134 107,-1164\"/>\n<text text-anchor=\"middle\" x=\"53.5\" y=\"-1152\" font-family=\"monospace\" font-size=\"10.00\" fill=\"#000000\">conv3.weight</text>\n<text text-anchor=\"middle\" x=\"53.5\" y=\"-1141\" font-family=\"monospace\" font-size=\"10.00\" fill=\"#000000\"> (64, 64, 3, 3)</text>\n</g>\n<!-- 139700096498288&#45;&gt;139700092707216 -->\n<g id=\"edge29\" class=\"edge\">\n<title>139700096498288&#45;&gt;139700092707216</title>\n<path fill=\"none\" stroke=\"#000000\" d=\"M63.3413,-1133.7333C68.6442,-1125.5071 75.2219,-1115.3031 80.7872,-1106.6699\"/>\n<polygon fill=\"#000000\" stroke=\"#000000\" points=\"83.8439,-1108.3878 86.3203,-1098.0864 77.9604,-1104.5951 83.8439,-1108.3878\"/>\n</g>\n<!-- 139700096513872 -->\n<g id=\"node31\" class=\"node\">\n<title>139700096513872</title>\n<polygon fill=\"#d3d3d3\" stroke=\"#000000\" points=\"181,-977 80,-977 80,-958 181,-958 181,-977\"/>\n<text text-anchor=\"middle\" x=\"130.5\" y=\"-965\" font-family=\"monospace\" font-size=\"10.00\" fill=\"#000000\">AccumulateGrad</text>\n</g>\n<!-- 139700096513872&#45;&gt;139700096514256 -->\n<g id=\"edge31\" class=\"edge\">\n<title>139700096513872&#45;&gt;139700096514256</title>\n<path fill=\"none\" stroke=\"#000000\" d=\"M155.3771,-957.9136C181.7893,-947.7357 223.7151,-931.5795 253.2416,-920.2015\"/>\n<polygon fill=\"#000000\" stroke=\"#000000\" points=\"254.6666,-923.4033 262.7393,-916.5416 252.1496,-916.8715 254.6666,-923.4033\"/>\n</g>\n<!-- 139700096498480 -->\n<g id=\"node32\" class=\"node\">\n<title>139700096498480</title>\n<polygon fill=\"#add8e6\" stroke=\"#000000\" points=\"145,-1043 38,-1043 38,-1013 145,-1013 145,-1043\"/>\n<text text-anchor=\"middle\" x=\"91.5\" y=\"-1031\" font-family=\"monospace\" font-size=\"10.00\" fill=\"#000000\">conv4.weight</text>\n<text text-anchor=\"middle\" x=\"91.5\" y=\"-1020\" font-family=\"monospace\" font-size=\"10.00\" fill=\"#000000\"> (64, 64, 3, 3)</text>\n</g>\n<!-- 139700096498480&#45;&gt;139700096513872 -->\n<g id=\"edge32\" class=\"edge\">\n<title>139700096498480&#45;&gt;139700096513872</title>\n<path fill=\"none\" stroke=\"#000000\" d=\"M101.3413,-1012.7333C106.6442,-1004.5071 113.2219,-994.3031 118.7872,-985.6699\"/>\n<polygon fill=\"#000000\" stroke=\"#000000\" points=\"121.8439,-987.3878 124.3203,-977.0864 115.9604,-983.5951 121.8439,-987.3878\"/>\n</g>\n<!-- 139700096514128 -->\n<g id=\"node33\" class=\"node\">\n<title>139700096514128</title>\n<polygon fill=\"#d3d3d3\" stroke=\"#000000\" points=\"219,-856 118,-856 118,-837 219,-837 219,-856\"/>\n<text text-anchor=\"middle\" x=\"168.5\" y=\"-844\" font-family=\"monospace\" font-size=\"10.00\" fill=\"#000000\">AccumulateGrad</text>\n</g>\n<!-- 139700096514128&#45;&gt;139700096514384 -->\n<g id=\"edge34\" class=\"edge\">\n<title>139700096514128&#45;&gt;139700096514384</title>\n<path fill=\"none\" stroke=\"#000000\" d=\"M193.3771,-836.9136C219.7893,-826.7357 261.7151,-810.5795 291.2416,-799.2015\"/>\n<polygon fill=\"#000000\" stroke=\"#000000\" points=\"292.6666,-802.4033 300.7393,-795.5416 290.1496,-795.8715 292.6666,-802.4033\"/>\n</g>\n<!-- 139700096498672 -->\n<g id=\"node34\" class=\"node\">\n<title>139700096498672</title>\n<polygon fill=\"#add8e6\" stroke=\"#000000\" points=\"183,-922 76,-922 76,-892 183,-892 183,-922\"/>\n<text text-anchor=\"middle\" x=\"129.5\" y=\"-910\" font-family=\"monospace\" font-size=\"10.00\" fill=\"#000000\">conv5.weight</text>\n<text text-anchor=\"middle\" x=\"129.5\" y=\"-899\" font-family=\"monospace\" font-size=\"10.00\" fill=\"#000000\"> (64, 64, 3, 3)</text>\n</g>\n<!-- 139700096498672&#45;&gt;139700096514128 -->\n<g id=\"edge35\" class=\"edge\">\n<title>139700096498672&#45;&gt;139700096514128</title>\n<path fill=\"none\" stroke=\"#000000\" d=\"M139.3413,-891.7333C144.6442,-883.5071 151.2219,-873.3031 156.7872,-864.6699\"/>\n<polygon fill=\"#000000\" stroke=\"#000000\" points=\"159.8439,-866.3878 162.3203,-856.0864 153.9604,-862.5951 159.8439,-866.3878\"/>\n</g>\n<!-- 139700096513552 -->\n<g id=\"node35\" class=\"node\">\n<title>139700096513552</title>\n<polygon fill=\"#d3d3d3\" stroke=\"#000000\" points=\"257,-735 156,-735 156,-716 257,-716 257,-735\"/>\n<text text-anchor=\"middle\" x=\"206.5\" y=\"-723\" font-family=\"monospace\" font-size=\"10.00\" fill=\"#000000\">AccumulateGrad</text>\n</g>\n<!-- 139700096513552&#45;&gt;139700092968464 -->\n<g id=\"edge37\" class=\"edge\">\n<title>139700096513552&#45;&gt;139700092968464</title>\n<path fill=\"none\" stroke=\"#000000\" d=\"M231.3771,-715.9136C257.7893,-705.7357 299.7151,-689.5795 329.2416,-678.2015\"/>\n<polygon fill=\"#000000\" stroke=\"#000000\" points=\"330.6666,-681.4033 338.7393,-674.5416 328.1496,-674.8715 330.6666,-681.4033\"/>\n</g>\n<!-- 139700096498864 -->\n<g id=\"node36\" class=\"node\">\n<title>139700096498864</title>\n<polygon fill=\"#add8e6\" stroke=\"#000000\" points=\"221,-801 114,-801 114,-771 221,-771 221,-801\"/>\n<text text-anchor=\"middle\" x=\"167.5\" y=\"-789\" font-family=\"monospace\" font-size=\"10.00\" fill=\"#000000\">conv6.weight</text>\n<text text-anchor=\"middle\" x=\"167.5\" y=\"-778\" font-family=\"monospace\" font-size=\"10.00\" fill=\"#000000\"> (64, 64, 3, 3)</text>\n</g>\n<!-- 139700096498864&#45;&gt;139700096513552 -->\n<g id=\"edge38\" class=\"edge\">\n<title>139700096498864&#45;&gt;139700096513552</title>\n<path fill=\"none\" stroke=\"#000000\" d=\"M177.3413,-770.7333C182.6442,-762.5071 189.2219,-752.3031 194.7872,-743.6699\"/>\n<polygon fill=\"#000000\" stroke=\"#000000\" points=\"197.8439,-745.3878 200.3203,-735.0864 191.9604,-741.5951 197.8439,-745.3878\"/>\n</g>\n<!-- 139700092968720 -->\n<g id=\"node37\" class=\"node\">\n<title>139700092968720</title>\n<polygon fill=\"#d3d3d3\" stroke=\"#000000\" points=\"295,-614 194,-614 194,-595 295,-595 295,-614\"/>\n<text text-anchor=\"middle\" x=\"244.5\" y=\"-602\" font-family=\"monospace\" font-size=\"10.00\" fill=\"#000000\">AccumulateGrad</text>\n</g>\n<!-- 139700092968720&#45;&gt;139700092965968 -->\n<g id=\"edge40\" class=\"edge\">\n<title>139700092968720&#45;&gt;139700092965968</title>\n<path fill=\"none\" stroke=\"#000000\" d=\"M269.3771,-594.9136C295.7893,-584.7357 337.7151,-568.5795 367.2416,-557.2015\"/>\n<polygon fill=\"#000000\" stroke=\"#000000\" points=\"368.6666,-560.4033 376.7393,-553.5416 366.1496,-553.8715 368.6666,-560.4033\"/>\n</g>\n<!-- 139700096499056 -->\n<g id=\"node38\" class=\"node\">\n<title>139700096499056</title>\n<polygon fill=\"#add8e6\" stroke=\"#000000\" points=\"259,-680 152,-680 152,-650 259,-650 259,-680\"/>\n<text text-anchor=\"middle\" x=\"205.5\" y=\"-668\" font-family=\"monospace\" font-size=\"10.00\" fill=\"#000000\">conv7.weight</text>\n<text text-anchor=\"middle\" x=\"205.5\" y=\"-657\" font-family=\"monospace\" font-size=\"10.00\" fill=\"#000000\"> (64, 64, 3, 3)</text>\n</g>\n<!-- 139700096499056&#45;&gt;139700092968720 -->\n<g id=\"edge41\" class=\"edge\">\n<title>139700096499056&#45;&gt;139700092968720</title>\n<path fill=\"none\" stroke=\"#000000\" d=\"M215.3413,-649.7333C220.6442,-641.5071 227.2219,-631.3031 232.7872,-622.6699\"/>\n<polygon fill=\"#000000\" stroke=\"#000000\" points=\"235.8439,-624.3878 238.3203,-614.0864 229.9604,-620.5951 235.8439,-624.3878\"/>\n</g>\n<!-- 139700092966096 -->\n<g id=\"node39\" class=\"node\">\n<title>139700092966096</title>\n<polygon fill=\"#d3d3d3\" stroke=\"#000000\" points=\"333,-493 232,-493 232,-474 333,-474 333,-493\"/>\n<text text-anchor=\"middle\" x=\"282.5\" y=\"-481\" font-family=\"monospace\" font-size=\"10.00\" fill=\"#000000\">AccumulateGrad</text>\n</g>\n<!-- 139700092966096&#45;&gt;139700092965392 -->\n<g id=\"edge43\" class=\"edge\">\n<title>139700092966096&#45;&gt;139700092965392</title>\n<path fill=\"none\" stroke=\"#000000\" d=\"M307.3771,-473.9136C333.7893,-463.7357 375.7151,-447.5795 405.2416,-436.2015\"/>\n<polygon fill=\"#000000\" stroke=\"#000000\" points=\"406.6666,-439.4033 414.7393,-432.5416 404.1496,-432.8715 406.6666,-439.4033\"/>\n</g>\n<!-- 139700096499248 -->\n<g id=\"node40\" class=\"node\">\n<title>139700096499248</title>\n<polygon fill=\"#add8e6\" stroke=\"#000000\" points=\"297,-559 190,-559 190,-529 297,-529 297,-559\"/>\n<text text-anchor=\"middle\" x=\"243.5\" y=\"-547\" font-family=\"monospace\" font-size=\"10.00\" fill=\"#000000\">conv8.weight</text>\n<text text-anchor=\"middle\" x=\"243.5\" y=\"-536\" font-family=\"monospace\" font-size=\"10.00\" fill=\"#000000\"> (64, 64, 3, 3)</text>\n</g>\n<!-- 139700096499248&#45;&gt;139700092966096 -->\n<g id=\"edge44\" class=\"edge\">\n<title>139700096499248&#45;&gt;139700092966096</title>\n<path fill=\"none\" stroke=\"#000000\" d=\"M253.3413,-528.7333C258.6442,-520.5071 265.2219,-510.3031 270.7872,-501.6699\"/>\n<polygon fill=\"#000000\" stroke=\"#000000\" points=\"273.8439,-503.3878 276.3203,-493.0864 267.9604,-499.5951 273.8439,-503.3878\"/>\n</g>\n<!-- 139700092965648 -->\n<g id=\"node41\" class=\"node\">\n<title>139700092965648</title>\n<polygon fill=\"#d3d3d3\" stroke=\"#000000\" points=\"371,-372 270,-372 270,-353 371,-353 371,-372\"/>\n<text text-anchor=\"middle\" x=\"320.5\" y=\"-360\" font-family=\"monospace\" font-size=\"10.00\" fill=\"#000000\">AccumulateGrad</text>\n</g>\n<!-- 139700092965648&#45;&gt;139700092966288 -->\n<g id=\"edge46\" class=\"edge\">\n<title>139700092965648&#45;&gt;139700092966288</title>\n<path fill=\"none\" stroke=\"#000000\" d=\"M345.3771,-352.9136C371.7893,-342.7357 413.7151,-326.5795 443.2416,-315.2015\"/>\n<polygon fill=\"#000000\" stroke=\"#000000\" points=\"444.6666,-318.4033 452.7393,-311.5416 442.1496,-311.8715 444.6666,-318.4033\"/>\n</g>\n<!-- 139700096499440 -->\n<g id=\"node42\" class=\"node\">\n<title>139700096499440</title>\n<polygon fill=\"#add8e6\" stroke=\"#000000\" points=\"335,-438 228,-438 228,-408 335,-408 335,-438\"/>\n<text text-anchor=\"middle\" x=\"281.5\" y=\"-426\" font-family=\"monospace\" font-size=\"10.00\" fill=\"#000000\">conv9.weight</text>\n<text text-anchor=\"middle\" x=\"281.5\" y=\"-415\" font-family=\"monospace\" font-size=\"10.00\" fill=\"#000000\"> (32, 64, 3, 3)</text>\n</g>\n<!-- 139700096499440&#45;&gt;139700092965648 -->\n<g id=\"edge47\" class=\"edge\">\n<title>139700096499440&#45;&gt;139700092965648</title>\n<path fill=\"none\" stroke=\"#000000\" d=\"M291.3413,-407.7333C296.6442,-399.5071 303.2219,-389.3031 308.7872,-380.6699\"/>\n<polygon fill=\"#000000\" stroke=\"#000000\" points=\"311.8439,-382.3878 314.3203,-372.0864 305.9604,-378.5951 311.8439,-382.3878\"/>\n</g>\n<!-- 139700092965584 -->\n<g id=\"node43\" class=\"node\">\n<title>139700092965584</title>\n<polygon fill=\"#d3d3d3\" stroke=\"#000000\" points=\"410,-251 309,-251 309,-232 410,-232 410,-251\"/>\n<text text-anchor=\"middle\" x=\"359.5\" y=\"-239\" font-family=\"monospace\" font-size=\"10.00\" fill=\"#000000\">AccumulateGrad</text>\n</g>\n<!-- 139700092965584&#45;&gt;139700092965136 -->\n<g id=\"edge49\" class=\"edge\">\n<title>139700092965584&#45;&gt;139700092965136</title>\n<path fill=\"none\" stroke=\"#000000\" d=\"M383.3636,-231.9197C405.4269,-223.0622 438.4331,-209.8115 463.109,-199.9052\"/>\n<polygon fill=\"#000000\" stroke=\"#000000\" points=\"464.4741,-203.1287 472.4502,-196.155 461.8661,-196.6326 464.4741,-203.1287\"/>\n</g>\n<!-- 139700096499632 -->\n<g id=\"node44\" class=\"node\">\n<title>139700096499632</title>\n<polygon fill=\"#add8e6\" stroke=\"#000000\" points=\"373,-317 272,-317 272,-287 373,-287 373,-317\"/>\n<text text-anchor=\"middle\" x=\"322.5\" y=\"-305\" font-family=\"monospace\" font-size=\"10.00\" fill=\"#000000\">conv10.weight</text>\n<text text-anchor=\"middle\" x=\"322.5\" y=\"-294\" font-family=\"monospace\" font-size=\"10.00\" fill=\"#000000\"> (1, 32, 3, 3)</text>\n</g>\n<!-- 139700096499632&#45;&gt;139700092965584 -->\n<g id=\"edge50\" class=\"edge\">\n<title>139700096499632&#45;&gt;139700092965584</title>\n<path fill=\"none\" stroke=\"#000000\" d=\"M331.8367,-286.7333C336.8676,-278.5071 343.108,-268.3031 348.3878,-259.6699\"/>\n<polygon fill=\"#000000\" stroke=\"#000000\" points=\"351.4057,-261.4436 353.6372,-251.0864 345.434,-257.7914 351.4057,-261.4436\"/>\n</g>\n</g>\n</svg>\n"
          },
          "metadata": {},
          "execution_count": 7
        }
      ]
    },
    {
      "cell_type": "code",
      "source": [
        ""
      ],
      "metadata": {
        "id": "SchBWFdFy2Me"
      },
      "execution_count": null,
      "outputs": []
    }
  ]
}