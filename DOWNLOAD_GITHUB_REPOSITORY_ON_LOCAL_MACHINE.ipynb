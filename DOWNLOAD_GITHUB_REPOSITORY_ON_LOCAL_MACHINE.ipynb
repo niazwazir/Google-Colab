{
  "nbformat": 4,
  "nbformat_minor": 0,
  "metadata": {
    "colab": {
      "provenance": []
    },
    "kernelspec": {
      "name": "python3",
      "display_name": "Python 3"
    },
    "language_info": {
      "name": "python"
    },
    "accelerator": "GPU",
    "gpuClass": "standard"
  },
  "cells": [
    {
      "cell_type": "code",
      "execution_count": 1,
      "metadata": {
        "colab": {
          "base_uri": "https://localhost:8080/"
        },
        "id": "FhAYxPvLwykn",
        "outputId": "b07ba8f8-21e2-4972-a4e2-88326fcf5572"
      },
      "outputs": [
        {
          "output_type": "stream",
          "name": "stdout",
          "text": [
            "Cloning into 'FDSCSR'...\n",
            "remote: Enumerating objects: 142, done.\u001b[K\n",
            "remote: Counting objects: 100% (142/142), done.\u001b[K\n",
            "remote: Compressing objects: 100% (102/102), done.\u001b[K\n",
            "remote: Total 142 (delta 31), reused 118 (delta 24), pack-reused 0\u001b[K\n",
            "Receiving objects: 100% (142/142), 26.95 MiB | 9.88 MiB/s, done.\n",
            "Resolving deltas: 100% (31/31), done.\n"
          ]
        }
      ],
      "source": [
        "!git clone https://github.com/IVIPLab/FDSCSR.git"
      ]
    },
    {
      "cell_type": "code",
      "source": [
        "!ls"
      ],
      "metadata": {
        "colab": {
          "base_uri": "https://localhost:8080/"
        },
        "id": "p_tp7zCmw3VZ",
        "outputId": "1fd97a17-d10b-4c8e-dda5-0e2a5188ca58"
      },
      "execution_count": 2,
      "outputs": [
        {
          "output_type": "stream",
          "name": "stdout",
          "text": [
            "FDSCSR\tsample_data\n"
          ]
        }
      ]
    },
    {
      "cell_type": "code",
      "source": [
        "!zip -r FDSCSR.zip FDSCSR"
      ],
      "metadata": {
        "colab": {
          "base_uri": "https://localhost:8080/"
        },
        "id": "LYeYQfH2xuyq",
        "outputId": "d8e8437d-04aa-4a5d-ff57-837332364abd"
      },
      "execution_count": 12,
      "outputs": [
        {
          "output_type": "stream",
          "name": "stdout",
          "text": [
            "  adding: FDSCSR/ (stored 0%)\n",
            "  adding: FDSCSR/Train/ (stored 0%)\n",
            "  adding: FDSCSR/Train/experiment/ (stored 0%)\n",
            "  adding: FDSCSR/Train/experiment/model/ (stored 0%)\n",
            "  adding: FDSCSR/Train/experiment/model/FDSCSR_X4.pt (deflated 10%)\n",
            "  adding: FDSCSR/Train/experiment/model/FDSCSR-S_X4.pt (deflated 12%)\n",
            "  adding: FDSCSR/Train/experiment/model/Network_RCAN_BIX2_G10R20P48-2018-07-15-20-14-55.txt (deflated 99%)\n",
            "  adding: FDSCSR/Train/experiment/model/FDSCSR-S_X3.pt (deflated 12%)\n",
            "  adding: FDSCSR/Train/experiment/model/FDSCSR-S_X2.pt (deflated 12%)\n",
            "  adding: FDSCSR/Train/experiment/model/FDSCSR_X2.pt (deflated 10%)\n",
            "  adding: FDSCSR/Train/experiment/model/Readme.md (deflated 20%)\n",
            "  adding: FDSCSR/Train/experiment/model/FDSCSR_X3.pt (deflated 10%)\n",
            "  adding: FDSCSR/Train/.idea/ (stored 0%)\n",
            "  adding: FDSCSR/Train/.idea/inspectionProfiles/ (stored 0%)\n",
            "  adding: FDSCSR/Train/.idea/inspectionProfiles/profiles_settings.xml (deflated 27%)\n",
            "  adding: FDSCSR/Train/.idea/.gitignore (stored 0%)\n",
            "  adding: FDSCSR/Train/.idea/RCAN_TrainCode.iml (deflated 32%)\n",
            "  adding: FDSCSR/Train/.idea/modules.xml (deflated 38%)\n",
            "  adding: FDSCSR/Train/.idea/misc.xml (deflated 30%)\n",
            "  adding: FDSCSR/Train/code/ (stored 0%)\n",
            "  adding: FDSCSR/Train/code/dataloader.py (deflated 73%)\n",
            "  adding: FDSCSR/Train/code/utility.py (deflated 67%)\n",
            "  adding: FDSCSR/Train/code/data/ (stored 0%)\n",
            "  adding: FDSCSR/Train/code/data/div2k.py (deflated 66%)\n",
            "  adding: FDSCSR/Train/code/data/srdata.py (deflated 73%)\n",
            "  adding: FDSCSR/Train/code/data/common.py (deflated 63%)\n",
            "  adding: FDSCSR/Train/code/data/benchmark.py (deflated 60%)\n",
            "  adding: FDSCSR/Train/code/data/__init__.py (deflated 72%)\n",
            "  adding: FDSCSR/Train/code/data/demo.py (deflated 59%)\n",
            "  adding: FDSCSR/Train/code/option.py (deflated 77%)\n",
            "  adding: FDSCSR/Train/code/__init__.py (stored 0%)\n",
            "  adding: FDSCSR/Train/code/model/ (stored 0%)\n",
            "  adding: FDSCSR/Train/code/model/fdscsr.py (deflated 71%)\n",
            "  adding: FDSCSR/Train/code/model/common.py (deflated 61%)\n",
            "  adding: FDSCSR/Train/code/model/__init__.py (deflated 73%)\n",
            "  adding: FDSCSR/Train/code/loss/ (stored 0%)\n",
            "  adding: FDSCSR/Train/code/loss/vgg.py (deflated 58%)\n",
            "  adding: FDSCSR/Train/code/loss/discriminator.py (deflated 59%)\n",
            "  adding: FDSCSR/Train/code/loss/__init__.py (deflated 71%)\n",
            "  adding: FDSCSR/Train/code/loss/adversarial.py (deflated 68%)\n",
            "  adding: FDSCSR/Train/code/.idea/ (stored 0%)\n",
            "  adding: FDSCSR/Train/code/.idea/code.iml (deflated 31%)\n",
            "  adding: FDSCSR/Train/code/.idea/inspectionProfiles/ (stored 0%)\n",
            "  adding: FDSCSR/Train/code/.idea/inspectionProfiles/profiles_settings.xml (deflated 27%)\n",
            "  adding: FDSCSR/Train/code/.idea/.gitignore (stored 0%)\n",
            "  adding: FDSCSR/Train/code/.idea/modules.xml (deflated 36%)\n",
            "  adding: FDSCSR/Train/code/.idea/misc.xml (deflated 28%)\n",
            "  adding: FDSCSR/Train/code/trainer.py (deflated 71%)\n",
            "  adding: FDSCSR/Train/code/main.py (deflated 52%)\n",
            "  adding: FDSCSR/images/ (stored 0%)\n",
            "  adding: FDSCSR/images/FDSCSR-Patch-X2.png (deflated 13%)\n",
            "  adding: FDSCSR/images/FDSCSR_ExecTime_x4_Set5.png (deflated 21%)\n",
            "  adding: FDSCSR/images/FDSCSR_ExecTime_x4_Set14.png (deflated 21%)\n",
            "  adding: FDSCSR/images/FDSCSR_Tradeoff_MultAdds.png (deflated 48%)\n",
            "  adding: FDSCSR/images/FDSCSR-Patch-X4.png (deflated 14%)\n",
            "  adding: FDSCSR/images/FDSCSR-Patch-X3.png (deflated 14%)\n",
            "  adding: FDSCSR/images/FDSCSR_Tradeoff_Params.png (deflated 41%)\n",
            "  adding: FDSCSR/.git/ (stored 0%)\n",
            "  adding: FDSCSR/.git/packed-refs (deflated 9%)\n",
            "  adding: FDSCSR/.git/description (deflated 14%)\n",
            "  adding: FDSCSR/.git/logs/ (stored 0%)\n",
            "  adding: FDSCSR/.git/logs/refs/ (stored 0%)\n",
            "  adding: FDSCSR/.git/logs/refs/heads/ (stored 0%)\n",
            "  adding: FDSCSR/.git/logs/refs/heads/main (deflated 25%)\n",
            "  adding: FDSCSR/.git/logs/refs/remotes/ (stored 0%)\n",
            "  adding: FDSCSR/.git/logs/refs/remotes/origin/ (stored 0%)\n",
            "  adding: FDSCSR/.git/logs/refs/remotes/origin/HEAD (deflated 25%)\n",
            "  adding: FDSCSR/.git/logs/HEAD (deflated 25%)\n",
            "  adding: FDSCSR/.git/index (deflated 61%)\n",
            "  adding: FDSCSR/.git/branches/ (stored 0%)\n",
            "  adding: FDSCSR/.git/info/ (stored 0%)\n",
            "  adding: FDSCSR/.git/info/exclude (deflated 28%)\n",
            "  adding: FDSCSR/.git/objects/ (stored 0%)\n",
            "  adding: FDSCSR/.git/objects/info/ (stored 0%)\n",
            "  adding: FDSCSR/.git/objects/pack/ (stored 0%)\n",
            "  adding: FDSCSR/.git/objects/pack/pack-a793cf752609e0965e9c4e4ba8af5e0f35919b53.idx (deflated 16%)\n",
            "  adding: FDSCSR/.git/objects/pack/pack-a793cf752609e0965e9c4e4ba8af5e0f35919b53.pack (deflated 0%)\n",
            "  adding: FDSCSR/.git/refs/ (stored 0%)\n",
            "  adding: FDSCSR/.git/refs/heads/ (stored 0%)\n",
            "  adding: FDSCSR/.git/refs/heads/main (stored 0%)\n",
            "  adding: FDSCSR/.git/refs/tags/ (stored 0%)\n",
            "  adding: FDSCSR/.git/refs/remotes/ (stored 0%)\n",
            "  adding: FDSCSR/.git/refs/remotes/origin/ (stored 0%)\n",
            "  adding: FDSCSR/.git/refs/remotes/origin/HEAD (stored 0%)\n",
            "  adding: FDSCSR/.git/config (deflated 30%)\n",
            "  adding: FDSCSR/.git/hooks/ (stored 0%)\n",
            "  adding: FDSCSR/.git/hooks/pre-push.sample (deflated 50%)\n",
            "  adding: FDSCSR/.git/hooks/applypatch-msg.sample (deflated 42%)\n",
            "  adding: FDSCSR/.git/hooks/post-update.sample (deflated 27%)\n",
            "  adding: FDSCSR/.git/hooks/pre-rebase.sample (deflated 59%)\n",
            "  adding: FDSCSR/.git/hooks/pre-applypatch.sample (deflated 38%)\n",
            "  adding: FDSCSR/.git/hooks/update.sample (deflated 68%)\n",
            "  adding: FDSCSR/.git/hooks/pre-receive.sample (deflated 40%)\n",
            "  adding: FDSCSR/.git/hooks/prepare-commit-msg.sample (deflated 50%)\n",
            "  adding: FDSCSR/.git/hooks/fsmonitor-watchman.sample (deflated 53%)\n",
            "  adding: FDSCSR/.git/hooks/commit-msg.sample (deflated 44%)\n",
            "  adding: FDSCSR/.git/hooks/pre-commit.sample (deflated 43%)\n",
            "  adding: FDSCSR/.git/HEAD (stored 0%)\n",
            "  adding: FDSCSR/Test/ (stored 0%)\n",
            "  adding: FDSCSR/Test/Evaluate_PSNR_SSIM.m (deflated 68%)\n",
            "  adding: FDSCSR/Test/HR/ (stored 0%)\n",
            "  adding: FDSCSR/Test/HR/Readme.md (stored 0%)\n",
            "  adding: FDSCSR/Test/Prepare_TestData_HR_LR.m (deflated 68%)\n",
            "  adding: FDSCSR/Test/model/ (stored 0%)\n",
            "  adding: FDSCSR/Test/model/FDSCSR_X4.pt (deflated 10%)\n",
            "  adding: FDSCSR/Test/model/FDSCSR-S_X4.pt (deflated 12%)\n",
            "  adding: FDSCSR/Test/model/FDSCSR-S_X3.pt (deflated 12%)\n",
            "  adding: FDSCSR/Test/model/FDSCSR-S_X2.pt (deflated 12%)\n",
            "  adding: FDSCSR/Test/model/FDSCSR_X2.pt (deflated 10%)\n",
            "  adding: FDSCSR/Test/model/Readme.md (stored 0%)\n",
            "  adding: FDSCSR/Test/model/FDSCSR_X3.pt (deflated 10%)\n",
            "  adding: FDSCSR/Test/code/ (stored 0%)\n",
            "  adding: FDSCSR/Test/code/dataloader.py (deflated 73%)\n",
            "  adding: FDSCSR/Test/code/utility.py (deflated 70%)\n",
            "  adding: FDSCSR/Test/code/data/ (stored 0%)\n",
            "  adding: FDSCSR/Test/code/data/div2k.py (deflated 67%)\n",
            "  adding: FDSCSR/Test/code/data/srdata.py (deflated 74%)\n",
            "  adding: FDSCSR/Test/code/data/common.py (deflated 63%)\n",
            "  adding: FDSCSR/Test/code/data/benchmark.py (deflated 60%)\n",
            "  adding: FDSCSR/Test/code/data/latticenet.py (deflated 76%)\n",
            "  adding: FDSCSR/Test/code/data/myimage.py (deflated 65%)\n",
            "  adding: FDSCSR/Test/code/data/__init__.py (deflated 72%)\n",
            "  adding: FDSCSR/Test/code/data/demo.py (deflated 59%)\n",
            "  adding: FDSCSR/Test/code/data/__pycache__/ (stored 0%)\n",
            "  adding: FDSCSR/Test/code/data/__pycache__/__init__.cpython-35.pyc (deflated 43%)\n",
            "  adding: FDSCSR/Test/code/data/__pycache__/common.cpython-35.pyc (deflated 52%)\n",
            "  adding: FDSCSR/Test/code/data/__pycache__/myimage.cpython-35.pyc (deflated 45%)\n",
            "  adding: FDSCSR/Test/code/option.py (deflated 77%)\n",
            "  adding: FDSCSR/Test/code/__init__.py (stored 0%)\n",
            "  adding: FDSCSR/Test/code/model/ (stored 0%)\n",
            "  adding: FDSCSR/Test/code/model/fdscsr.py (deflated 71%)\n",
            "  adding: FDSCSR/Test/code/model/common.py (deflated 61%)\n",
            "  adding: FDSCSR/Test/code/model/__init__.py (deflated 74%)\n",
            "  adding: FDSCSR/Test/code/model/__pycache__/ (stored 0%)\n",
            "  adding: FDSCSR/Test/code/model/__pycache__/ghost3_lffm.cpython-35.pyc (deflated 54%)\n",
            "  adding: FDSCSR/Test/code/model/__pycache__/latticenet.cpython-35.pyc (deflated 56%)\n",
            "  adding: FDSCSR/Test/code/model/__pycache__/r2r_ncs2_casa2_se_transf6_2.cpython-35.pyc (deflated 54%)\n",
            "  adding: FDSCSR/Test/code/model/__pycache__/__init__.cpython-35.pyc (deflated 52%)\n",
            "  adding: FDSCSR/Test/code/model/__pycache__/se_ablation1_2.cpython-35.pyc (deflated 55%)\n",
            "  adding: FDSCSR/Test/code/model/__pycache__/se_ablation1_3.cpython-35.pyc (deflated 55%)\n",
            "  adding: FDSCSR/Test/code/model/__pycache__/ghost3_ablation2_1.cpython-35.pyc (deflated 54%)\n",
            "  adding: FDSCSR/Test/code/model/__pycache__/ghost3.cpython-35.pyc (deflated 54%)\n",
            "  adding: FDSCSR/Test/code/model/__pycache__/r2r_ncs2_casa2_se_x2.cpython-35.pyc (deflated 55%)\n",
            "  adding: FDSCSR/Test/code/model/__pycache__/ghost3_ablation2_2.cpython-35.pyc (deflated 54%)\n",
            "  adding: FDSCSR/Test/code/model/__pycache__/r2r_ncs2_casa2_se.cpython-35.pyc (deflated 55%)\n",
            "  adding: FDSCSR/Test/code/model/__pycache__/r2r_ncs2_casa2_se_transf6_3.cpython-35.pyc (deflated 54%)\n",
            "  adding: FDSCSR/Test/code/model/__pycache__/se_ablation1_4.cpython-35.pyc (deflated 55%)\n",
            "  adding: FDSCSR/Test/code/model/__pycache__/common.cpython-35.pyc (deflated 56%)\n",
            "  adding: FDSCSR/Test/code/model/__pycache__/r2r_ncs2_casa2_se_x3.cpython-35.pyc (deflated 55%)\n",
            "  adding: FDSCSR/Test/code/model/__pycache__/se_ablation1_1.cpython-35.pyc (deflated 55%)\n",
            "  adding: FDSCSR/Test/code/model/__pycache__/r2r_ncs2_casa2_se_transf6_4.cpython-35.pyc (deflated 54%)\n",
            "  adding: FDSCSR/Test/code/loss/ (stored 0%)\n",
            "  adding: FDSCSR/Test/code/loss/vgg.py (deflated 58%)\n",
            "  adding: FDSCSR/Test/code/loss/discriminator.py (deflated 59%)\n",
            "  adding: FDSCSR/Test/code/loss/__init__.py (deflated 70%)\n",
            "  adding: FDSCSR/Test/code/loss/adversarial.py (deflated 68%)\n",
            "  adding: FDSCSR/Test/code/loss/__pycache__/ (stored 0%)\n",
            "  adding: FDSCSR/Test/code/loss/__pycache__/__init__.cpython-35.pyc (deflated 48%)\n",
            "  adding: FDSCSR/Test/code/.idea/ (stored 0%)\n",
            "  adding: FDSCSR/Test/code/.idea/code.iml (deflated 31%)\n",
            "  adding: FDSCSR/Test/code/.idea/inspectionProfiles/ (stored 0%)\n",
            "  adding: FDSCSR/Test/code/.idea/inspectionProfiles/profiles_settings.xml (deflated 27%)\n",
            "  adding: FDSCSR/Test/code/.idea/workspace.xml (deflated 63%)\n",
            "  adding: FDSCSR/Test/code/.idea/modules.xml (deflated 36%)\n",
            "  adding: FDSCSR/Test/code/.idea/misc.xml (deflated 28%)\n",
            "  adding: FDSCSR/Test/code/trainer.py (deflated 71%)\n",
            "  adding: FDSCSR/Test/code/__pycache__/ (stored 0%)\n",
            "  adding: FDSCSR/Test/code/__pycache__/template.cpython-35.pyc (deflated 40%)\n",
            "  adding: FDSCSR/Test/code/__pycache__/utility.cpython-35.pyc (deflated 51%)\n",
            "  adding: FDSCSR/Test/code/__pycache__/option.cpython-35.pyc (deflated 55%)\n",
            "  adding: FDSCSR/Test/code/__pycache__/dataloader.cpython-35.pyc (deflated 48%)\n",
            "  adding: FDSCSR/Test/code/__pycache__/trainer.cpython-35.pyc (deflated 46%)\n",
            "  adding: FDSCSR/Test/code/main.py (deflated 52%)\n",
            "  adding: FDSCSR/Test/SR/ (stored 0%)\n",
            "  adding: FDSCSR/Test/SR/BI/ (stored 0%)\n",
            "  adding: FDSCSR/Test/SR/BI/Readme.md (stored 0%)\n",
            "  adding: FDSCSR/Test/LR/ (stored 0%)\n",
            "  adding: FDSCSR/Test/LR/LRBI/ (stored 0%)\n",
            "  adding: FDSCSR/Test/LR/LRBI/Readme.md (stored 0%)\n",
            "  adding: FDSCSR/Readme.md (deflated 65%)\n"
          ]
        }
      ]
    },
    {
      "cell_type": "code",
      "source": [],
      "metadata": {
        "id": "Uc9cNIxtylJo"
      },
      "execution_count": null,
      "outputs": []
    }
  ]
}