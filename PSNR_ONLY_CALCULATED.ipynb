{
  "nbformat": 4,
  "nbformat_minor": 0,
  "metadata": {
    "kernelspec": {
      "display_name": "Python 3",
      "language": "python",
      "name": "python3"
    },
    "language_info": {
      "codemirror_mode": {
        "name": "ipython",
        "version": 3
      },
      "file_extension": ".py",
      "mimetype": "text/x-python",
      "name": "python",
      "nbconvert_exporter": "python",
      "pygments_lexer": "ipython3",
      "version": "3.7.6"
    },
    "colab": {
      "name": "PSNR_ONLY_CALCULATED.ipynb",
      "provenance": []
    }
  },
  "cells": [
    {
      "cell_type": "code",
      "metadata": {
        "id": "8m9bDdr7pN1B"
      },
      "source": [
        "import numpy\r\n",
        "import math\r\n",
        "import cv2"
      ],
      "execution_count": 1,
      "outputs": []
    },
    {
      "cell_type": "code",
      "metadata": {
        "id": "5TVvhMXSpTXg",
        "colab": {
          "base_uri": "https://localhost:8080/"
        },
        "outputId": "93940ee2-505d-4d66-fd5c-ad55d7f49f38"
      },
      "source": [
        "!git clone https://github.com/niazwazir/PSNR_CALCULATIONS.git"
      ],
      "execution_count": 2,
      "outputs": [
        {
          "output_type": "stream",
          "text": [
            "Cloning into 'PSNR_CALCULATIONS'...\n",
            "remote: Enumerating objects: 6, done.\u001b[K\n",
            "remote: Counting objects: 100% (6/6), done.\u001b[K\n",
            "remote: Compressing objects: 100% (5/5), done.\u001b[K\n",
            "remote: Total 6 (delta 0), reused 0 (delta 0), pack-reused 0\u001b[K\n",
            "Unpacking objects: 100% (6/6), done.\n"
          ],
          "name": "stdout"
        }
      ]
    },
    {
      "cell_type": "code",
      "metadata": {
        "id": "0E2gYH39qIMi",
        "colab": {
          "base_uri": "https://localhost:8080/"
        },
        "outputId": "b914da3b-c981-48eb-f49b-9827fbdcc1ad"
      },
      "source": [
        "cd PSNR_CALCULATIONS/"
      ],
      "execution_count": 3,
      "outputs": [
        {
          "output_type": "stream",
          "text": [
            "/content/PSNR_CALCULATIONS\n"
          ],
          "name": "stdout"
        }
      ]
    },
    {
      "cell_type": "code",
      "metadata": {
        "id": "cII3IBIaqQCX",
        "colab": {
          "base_uri": "https://localhost:8080/"
        },
        "outputId": "d5414d09-c29f-4806-9386-2ac809d767c1"
      },
      "source": [
        "!unzip PSNR_WAZIR.zip"
      ],
      "execution_count": 4,
      "outputs": [
        {
          "output_type": "stream",
          "text": [
            "Archive:  PSNR_WAZIR.zip\n",
            "   creating: PSNR_WAZIR/GT/\n",
            "  inflating: PSNR_WAZIR/GT/baby.png  \n",
            "  inflating: PSNR_WAZIR/GT/butterfly.png  \n",
            "   creating: PSNR_WAZIR/SR/\n",
            "  inflating: PSNR_WAZIR/SR/baby_WAZIR_XCEPTION_MODEL_X22.png  \n",
            "  inflating: PSNR_WAZIR/SR/butterfly_WAZIR_XCEPTION_MODEL_X22.png  \n"
          ],
          "name": "stdout"
        }
      ]
    },
    {
      "cell_type": "code",
      "metadata": {
        "id": "rhQM84aFqQJr",
        "colab": {
          "base_uri": "https://localhost:8080/"
        },
        "outputId": "7149e42a-0eea-40e8-fac7-6b869e31fd11"
      },
      "source": [
        "cd PSNR_WAZIR/"
      ],
      "execution_count": 5,
      "outputs": [
        {
          "output_type": "stream",
          "text": [
            "/content/PSNR_CALCULATIONS/PSNR_WAZIR\n"
          ],
          "name": "stdout"
        }
      ]
    },
    {
      "cell_type": "code",
      "metadata": {
        "id": "_APlEqv8r7Ux"
      },
      "source": [
        "img1 = cv2.imread(r\"GT/baby.png\")\r\n",
        "img2 = cv2.imread(r\"SR/baby_WAZIR_XCEPTION_MODEL_X22.png\",1)"
      ],
      "execution_count": 6,
      "outputs": []
    },
    {
      "cell_type": "code",
      "metadata": {
        "colab": {
          "base_uri": "https://localhost:8080/"
        },
        "id": "dM6Rxk7st5sM",
        "outputId": "36829224-3806-4a47-b81b-fae8c6346c28"
      },
      "source": [
        "def psnr(img1, img2):\r\n",
        "    mse = numpy.mean( (img1 - img2) ** 2 )\r\n",
        "    PIXEL_MAX = 255.0\r\n",
        "    return 20 * math.log10(PIXEL_MAX / math.sqrt(mse))\r\n",
        "\r\n",
        "d=psnr(img1,img2)\r\n",
        "print(d)"
      ],
      "execution_count": 7,
      "outputs": [
        {
          "output_type": "stream",
          "text": [
            "35.82289773565726\n"
          ],
          "name": "stdout"
        }
      ]
    }
  ]
}