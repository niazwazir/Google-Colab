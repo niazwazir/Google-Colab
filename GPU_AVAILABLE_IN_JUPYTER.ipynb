{
  "nbformat": 4,
  "nbformat_minor": 0,
  "metadata": {
    "colab": {
      "name": "GPU_AVAILABLE_IN_JUPYTER.ipynb",
      "provenance": []
    },
    "kernelspec": {
      "name": "python3",
      "display_name": "Python 3"
    },
    "accelerator": "GPU"
  },
  "cells": [
    {
      "cell_type": "code",
      "metadata": {
        "id": "irJpTDj9IhAe",
        "colab_type": "code",
        "colab": {
          "base_uri": "https://localhost:8080/",
          "height": 68
        },
        "outputId": "cba115db-371e-49ac-8881-80b3d79c9ccf"
      },
      "source": [
        "from distutils.version import LooseVersion \n",
        "import warnings \n",
        "import tensorflow as tf \n",
        " \n",
        "assert LooseVersion(tf.__version__) >= LooseVersion('1.0') \n",
        "print('Tensorflow Version: {}'.format(tf.__version__)) \n",
        " \n",
        "if not tf.test.gpu_device_name(): \n",
        "    warnings.warn(\"No GPU found. Please ensure you have installed Tensorflow correctly\") \n",
        "else: \n",
        "    print('Default GPU Device: {}'.format(tf.test.gpu_device_name())) "
      ],
      "execution_count": 1,
      "outputs": [
        {
          "output_type": "stream",
          "text": [
            "Tensorflow Version: 2.2.0-rc2\n"
          ],
          "name": "stdout"
        },
        {
          "output_type": "stream",
          "text": [
            "/usr/local/lib/python3.6/dist-packages/ipykernel_launcher.py:9: UserWarning: No GPU found. Please ensure you have installed Tensorflow correctly\n",
            "  if __name__ == '__main__':\n"
          ],
          "name": "stderr"
        }
      ]
    },
    {
      "cell_type": "code",
      "metadata": {
        "id": "oiFWQaGsIimT",
        "colab_type": "code",
        "colab": {
          "base_uri": "https://localhost:8080/",
          "height": 51
        },
        "outputId": "661d4a0d-d4e8-44e3-b968-12d5810ce857"
      },
      "source": [
        "from distutils.version import LooseVersion \n",
        "import warnings \n",
        "import tensorflow as tf \n",
        " \n",
        "assert LooseVersion(tf.__version__) >= LooseVersion('1.0') \n",
        "print('Tensorflow Version: {}'.format(tf.__version__)) \n",
        " \n",
        "if not tf.test.gpu_device_name(): \n",
        "    warnings.warn(\"No GPU found. Please ensure you have installed Tensorflow correctly\") \n",
        "else: \n",
        "    print('Default GPU Device: {}'.format(tf.test.gpu_device_name())) "
      ],
      "execution_count": 1,
      "outputs": [
        {
          "output_type": "stream",
          "text": [
            "Tensorflow Version: 2.2.0-rc2\n",
            "Default GPU Device: /device:GPU:0\n"
          ],
          "name": "stdout"
        }
      ]
    },
    {
      "cell_type": "code",
      "metadata": {
        "id": "GNDD9tFBIwid",
        "colab_type": "code",
        "colab": {}
      },
      "source": [
        ""
      ],
      "execution_count": 0,
      "outputs": []
    }
  ]
}