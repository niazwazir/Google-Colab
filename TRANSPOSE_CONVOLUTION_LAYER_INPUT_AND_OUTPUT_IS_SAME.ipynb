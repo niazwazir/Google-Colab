{
  "nbformat": 4,
  "nbformat_minor": 0,
  "metadata": {
    "colab": {
      "name": "TRANSPOSE_CONVOLUTION_LAYER.ipynb",
      "provenance": []
    },
    "kernelspec": {
      "name": "python3",
      "display_name": "Python 3"
    }
  },
  "cells": [
    {
      "cell_type": "code",
      "metadata": {
        "id": "J16g4AcMx-h5"
      },
      "source": [
        "from keras.layers import Input\n",
        "from keras.layers import Conv2DTranspose\n",
        "from keras.layers import Conv2D\n",
        "from keras.models import Model"
      ],
      "execution_count": 1,
      "outputs": []
    },
    {
      "cell_type": "code",
      "metadata": {
        "id": "B4LLJeN8i7D6",
        "colab": {
          "base_uri": "https://localhost:8080/"
        },
        "outputId": "61e572a2-2d42-4014-83a5-00026cb742fd"
      },
      "source": [
        "img_shape = (32,32,1)\r\n",
        "input_img = Input(shape=(img_shape))\r\n",
        "C1 = Conv2D(32,(1,1),padding='SAME',name='CONV1')(input_img)\r\n",
        "C2 = Conv2D(32,(1,1),padding='SAME',name='CONV2')(C1)\r\n",
        "D3 = Conv2DTranspose(32, (3, 3), strides=(2,2), padding='same',name='TRANS_CONV3')(C2)\r\n",
        "C3 = Conv2D(1,(33,33),padding='VALID',name='CONV3')(D3)\r\n",
        "model = Model(input_img, C3)\r\n",
        "model.summary()"
      ],
      "execution_count": 2,
      "outputs": [
        {
          "output_type": "stream",
          "text": [
            "Model: \"model\"\n",
            "_________________________________________________________________\n",
            "Layer (type)                 Output Shape              Param #   \n",
            "=================================================================\n",
            "input_1 (InputLayer)         [(None, 32, 32, 1)]       0         \n",
            "_________________________________________________________________\n",
            "CONV1 (Conv2D)               (None, 32, 32, 32)        64        \n",
            "_________________________________________________________________\n",
            "CONV2 (Conv2D)               (None, 32, 32, 32)        1056      \n",
            "_________________________________________________________________\n",
            "TRANS_CONV3 (Conv2DTranspose (None, 64, 64, 32)        9248      \n",
            "_________________________________________________________________\n",
            "CONV3 (Conv2D)               (None, 32, 32, 1)         34849     \n",
            "=================================================================\n",
            "Total params: 45,217\n",
            "Trainable params: 45,217\n",
            "Non-trainable params: 0\n",
            "_________________________________________________________________\n"
          ],
          "name": "stdout"
        }
      ]
    },
    {
      "cell_type": "code",
      "metadata": {
        "id": "fEqSuDwvVauL"
      },
      "source": [
        ""
      ],
      "execution_count": null,
      "outputs": []
    }
  ]
}