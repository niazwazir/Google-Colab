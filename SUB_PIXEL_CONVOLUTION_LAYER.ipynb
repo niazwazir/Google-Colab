{
  "nbformat": 4,
  "nbformat_minor": 0,
  "metadata": {
    "kernelspec": {
      "name": "python3",
      "display_name": "Python 3"
    },
    "language_info": {
      "codemirror_mode": {
        "name": "ipython",
        "version": 3
      },
      "file_extension": ".py",
      "mimetype": "text/x-python",
      "name": "python",
      "nbconvert_exporter": "python",
      "pygments_lexer": "ipython3",
      "version": "3.5.2"
    },
    "colab": {
      "name": "ESPCN-pb.ipynb",
      "version": "0.3.2",
      "provenance": []
    },
    "accelerator": "GPU"
  },
  "cells": [
    {
      "cell_type": "code",
      "metadata": {
        "id": "ckOtHrsb5m1R",
        "colab_type": "code",
        "colab": {
          "base_uri": "https://localhost:8080/",
          "height": 119
        },
        "outputId": "fe95461a-07a3-438f-d955-83262cb44173"
      },
      "source": [
        "!git clone https://github.com/niazwazir/subpixellayer.git"
      ],
      "execution_count": 12,
      "outputs": [
        {
          "output_type": "stream",
          "text": [
            "Cloning into 'subpixellayer'...\n",
            "remote: Enumerating objects: 3, done.\u001b[K\n",
            "remote: Counting objects:  33% (1/3)\u001b[K\rremote: Counting objects:  66% (2/3)\u001b[K\rremote: Counting objects: 100% (3/3)\u001b[K\rremote: Counting objects: 100% (3/3), done.\u001b[K\n",
            "remote: Compressing objects:  50% (1/2)\u001b[K\rremote: Compressing objects: 100% (2/2)\u001b[K\rremote: Compressing objects: 100% (2/2), done.\u001b[K\n",
            "remote: Total 3 (delta 0), reused 0 (delta 0), pack-reused 0\u001b[K\n",
            "Unpacking objects:  33% (1/3)   \rUnpacking objects:  66% (2/3)   \rUnpacking objects: 100% (3/3)   \rUnpacking objects: 100% (3/3), done.\n"
          ],
          "name": "stdout"
        }
      ]
    },
    {
      "cell_type": "code",
      "metadata": {
        "id": "JQeq8gnW6UGQ",
        "colab_type": "code",
        "colab": {
          "base_uri": "https://localhost:8080/",
          "height": 34
        },
        "outputId": "5f0b2626-174a-4646-a251-c2d730364428"
      },
      "source": [
        "!ls"
      ],
      "execution_count": 13,
      "outputs": [
        {
          "output_type": "stream",
          "text": [
            "__pycache__  subpixellayer  subpixel.py\n"
          ],
          "name": "stdout"
        }
      ]
    },
    {
      "cell_type": "code",
      "metadata": {
        "id": "rcoYINej89z4",
        "colab_type": "code",
        "colab": {
          "base_uri": "https://localhost:8080/",
          "height": 34
        },
        "outputId": "545fb79f-99b5-413d-9821-07967acb7462"
      },
      "source": [
        "cd subpixellayer"
      ],
      "execution_count": 14,
      "outputs": [
        {
          "output_type": "stream",
          "text": [
            "/content/subpixellayer/subpixellayer\n"
          ],
          "name": "stdout"
        }
      ]
    },
    {
      "cell_type": "code",
      "metadata": {
        "id": "mg3KlPi17EEM",
        "colab_type": "code",
        "colab": {}
      },
      "source": [
        "from keras.layers import Input, Conv2D, Activation\n",
        "from subpixel import SubpixelConv2D\n",
        "from keras.models import Model\n",
        "from IPython.display import SVG\n",
        "from keras.utils.vis_utils import model_to_dot"
      ],
      "execution_count": 0,
      "outputs": []
    },
    {
      "cell_type": "code",
      "metadata": {
        "id": "XmK-vX5a7TeJ",
        "colab_type": "code",
        "colab": {
          "base_uri": "https://localhost:8080/",
          "height": 375
        },
        "outputId": "1ac08bf1-7a00-417b-b3b1-3d43ba125e29"
      },
      "source": [
        "img_shape = (32,32,1)\n",
        "input_img = Input(shape=(img_shape))\n",
        "C1 = Conv2D(64, (9,9), name='FIRST_CONVOLUTION_LAYER')((input_img)) \n",
        "A1 = Activation('relu', name='act1')(C1)\n",
        "C2 = Conv2D(64, (9,9), name='SECOND_CONVOLUTION_LAYER')((A1)) \n",
        "A2 = Activation('relu', name='act2')(C2)\n",
        "SubPixel = SubpixelConv2D(img_shape, scale=4)(A2)#UPSCALING FACTOR VALUE IS 2,4,8\n",
        "A3 = Activation('relu', name='act3')(SubPixel)\n",
        "\n",
        "model = Model(inputs=input_img, outputs=A3)\n",
        "model.summary()"
      ],
      "execution_count": 20,
      "outputs": [
        {
          "output_type": "stream",
          "text": [
            "_________________________________________________________________\n",
            "Layer (type)                 Output Shape              Param #   \n",
            "=================================================================\n",
            "input_8 (InputLayer)         (None, 32, 32, 1)         0         \n",
            "_________________________________________________________________\n",
            "FIRST_CONVOLUTION_LAYER (Con (None, 24, 24, 64)        5248      \n",
            "_________________________________________________________________\n",
            "act1 (Activation)            (None, 24, 24, 64)        0         \n",
            "_________________________________________________________________\n",
            "SECOND_CONVOLUTION_LAYER (Co (None, 16, 16, 64)        331840    \n",
            "_________________________________________________________________\n",
            "act2 (Activation)            (None, 16, 16, 64)        0         \n",
            "_________________________________________________________________\n",
            "subpixel (Lambda)            (None, 64, 64, 4)         0         \n",
            "_________________________________________________________________\n",
            "act3 (Activation)            (None, 64, 64, 4)         0         \n",
            "=================================================================\n",
            "Total params: 337,088\n",
            "Trainable params: 337,088\n",
            "Non-trainable params: 0\n",
            "_________________________________________________________________\n"
          ],
          "name": "stdout"
        }
      ]
    },
    {
      "cell_type": "code",
      "metadata": {
        "id": "tF9AEAwv7evD",
        "colab_type": "code",
        "colab": {
          "base_uri": "https://localhost:8080/",
          "height": 758
        },
        "outputId": "c792d94f-919d-43e0-a74b-e11fd9ef1c6e"
      },
      "source": [
        "SVG(model_to_dot(model, show_shapes=True).create(prog='dot', format='svg'))"
      ],
      "execution_count": 21,
      "outputs": [
        {
          "output_type": "execute_result",
          "data": {
            "text/plain": [
              "<IPython.core.display.SVG object>"
            ],
            "image/svg+xml": "<svg height=\"553pt\" viewBox=\"0.00 0.00 492.00 553.00\" width=\"492pt\" xmlns=\"http://www.w3.org/2000/svg\" xmlns:xlink=\"http://www.w3.org/1999/xlink\">\n<g class=\"graph\" id=\"graph0\" transform=\"scale(1 1) rotate(0) translate(4 549)\">\n<title>G</title>\n<polygon fill=\"#ffffff\" points=\"-4,4 -4,-549 488,-549 488,4 -4,4\" stroke=\"transparent\"/>\n<!-- 140408075985920 -->\n<g class=\"node\" id=\"node1\">\n<title>140408075985920</title>\n<polygon fill=\"none\" points=\"88,-498.5 88,-544.5 396,-544.5 396,-498.5 88,-498.5\" stroke=\"#000000\"/>\n<text fill=\"#000000\" font-family=\"Times,serif\" font-size=\"14.00\" text-anchor=\"middle\" x=\"154.5\" y=\"-517.8\">input_8: InputLayer</text>\n<polyline fill=\"none\" points=\"221,-498.5 221,-544.5 \" stroke=\"#000000\"/>\n<text fill=\"#000000\" font-family=\"Times,serif\" font-size=\"14.00\" text-anchor=\"middle\" x=\"250\" y=\"-529.3\">input:</text>\n<polyline fill=\"none\" points=\"221,-521.5 279,-521.5 \" stroke=\"#000000\"/>\n<text fill=\"#000000\" font-family=\"Times,serif\" font-size=\"14.00\" text-anchor=\"middle\" x=\"250\" y=\"-506.3\">output:</text>\n<polyline fill=\"none\" points=\"279,-498.5 279,-544.5 \" stroke=\"#000000\"/>\n<text fill=\"#000000\" font-family=\"Times,serif\" font-size=\"14.00\" text-anchor=\"middle\" x=\"337.5\" y=\"-529.3\">(None, 32, 32, 1)</text>\n<polyline fill=\"none\" points=\"279,-521.5 396,-521.5 \" stroke=\"#000000\"/>\n<text fill=\"#000000\" font-family=\"Times,serif\" font-size=\"14.00\" text-anchor=\"middle\" x=\"337.5\" y=\"-506.3\">(None, 32, 32, 1)</text>\n</g>\n<!-- 140408075986816 -->\n<g class=\"node\" id=\"node2\">\n<title>140408075986816</title>\n<polygon fill=\"none\" points=\"9.5,-415.5 9.5,-461.5 474.5,-461.5 474.5,-415.5 9.5,-415.5\" stroke=\"#000000\"/>\n<text fill=\"#000000\" font-family=\"Times,serif\" font-size=\"14.00\" text-anchor=\"middle\" x=\"150.5\" y=\"-434.8\">FIRST_CONVOLUTION_LAYER: Conv2D</text>\n<polyline fill=\"none\" points=\"291.5,-415.5 291.5,-461.5 \" stroke=\"#000000\"/>\n<text fill=\"#000000\" font-family=\"Times,serif\" font-size=\"14.00\" text-anchor=\"middle\" x=\"320.5\" y=\"-446.3\">input:</text>\n<polyline fill=\"none\" points=\"291.5,-438.5 349.5,-438.5 \" stroke=\"#000000\"/>\n<text fill=\"#000000\" font-family=\"Times,serif\" font-size=\"14.00\" text-anchor=\"middle\" x=\"320.5\" y=\"-423.3\">output:</text>\n<polyline fill=\"none\" points=\"349.5,-415.5 349.5,-461.5 \" stroke=\"#000000\"/>\n<text fill=\"#000000\" font-family=\"Times,serif\" font-size=\"14.00\" text-anchor=\"middle\" x=\"412\" y=\"-446.3\">(None, 32, 32, 1)</text>\n<polyline fill=\"none\" points=\"349.5,-438.5 474.5,-438.5 \" stroke=\"#000000\"/>\n<text fill=\"#000000\" font-family=\"Times,serif\" font-size=\"14.00\" text-anchor=\"middle\" x=\"412\" y=\"-423.3\">(None, 24, 24, 64)</text>\n</g>\n<!-- 140408075985920&#45;&gt;140408075986816 -->\n<g class=\"edge\" id=\"edge1\">\n<title>140408075985920-&gt;140408075986816</title>\n<path d=\"M242,-498.3799C242,-490.1745 242,-480.7679 242,-471.8786\" fill=\"none\" stroke=\"#000000\"/>\n<polygon fill=\"#000000\" points=\"245.5001,-471.784 242,-461.784 238.5001,-471.784 245.5001,-471.784\" stroke=\"#000000\"/>\n</g>\n<!-- 140408075986088 -->\n<g class=\"node\" id=\"node3\">\n<title>140408075986088</title>\n<polygon fill=\"none\" points=\"97,-332.5 97,-378.5 387,-378.5 387,-332.5 97,-332.5\" stroke=\"#000000\"/>\n<text fill=\"#000000\" font-family=\"Times,serif\" font-size=\"14.00\" text-anchor=\"middle\" x=\"150.5\" y=\"-351.8\">act1: Activation</text>\n<polyline fill=\"none\" points=\"204,-332.5 204,-378.5 \" stroke=\"#000000\"/>\n<text fill=\"#000000\" font-family=\"Times,serif\" font-size=\"14.00\" text-anchor=\"middle\" x=\"233\" y=\"-363.3\">input:</text>\n<polyline fill=\"none\" points=\"204,-355.5 262,-355.5 \" stroke=\"#000000\"/>\n<text fill=\"#000000\" font-family=\"Times,serif\" font-size=\"14.00\" text-anchor=\"middle\" x=\"233\" y=\"-340.3\">output:</text>\n<polyline fill=\"none\" points=\"262,-332.5 262,-378.5 \" stroke=\"#000000\"/>\n<text fill=\"#000000\" font-family=\"Times,serif\" font-size=\"14.00\" text-anchor=\"middle\" x=\"324.5\" y=\"-363.3\">(None, 24, 24, 64)</text>\n<polyline fill=\"none\" points=\"262,-355.5 387,-355.5 \" stroke=\"#000000\"/>\n<text fill=\"#000000\" font-family=\"Times,serif\" font-size=\"14.00\" text-anchor=\"middle\" x=\"324.5\" y=\"-340.3\">(None, 24, 24, 64)</text>\n</g>\n<!-- 140408075986816&#45;&gt;140408075986088 -->\n<g class=\"edge\" id=\"edge2\">\n<title>140408075986816-&gt;140408075986088</title>\n<path d=\"M242,-415.3799C242,-407.1745 242,-397.7679 242,-388.8786\" fill=\"none\" stroke=\"#000000\"/>\n<polygon fill=\"#000000\" points=\"245.5001,-388.784 242,-378.784 238.5001,-388.784 245.5001,-388.784\" stroke=\"#000000\"/>\n</g>\n<!-- 140408075986480 -->\n<g class=\"node\" id=\"node4\">\n<title>140408075986480</title>\n<polygon fill=\"none\" points=\"0,-249.5 0,-295.5 484,-295.5 484,-249.5 0,-249.5\" stroke=\"#000000\"/>\n<text fill=\"#000000\" font-family=\"Times,serif\" font-size=\"14.00\" text-anchor=\"middle\" x=\"150.5\" y=\"-268.8\">SECOND_CONVOLUTION_LAYER: Conv2D</text>\n<polyline fill=\"none\" points=\"301,-249.5 301,-295.5 \" stroke=\"#000000\"/>\n<text fill=\"#000000\" font-family=\"Times,serif\" font-size=\"14.00\" text-anchor=\"middle\" x=\"330\" y=\"-280.3\">input:</text>\n<polyline fill=\"none\" points=\"301,-272.5 359,-272.5 \" stroke=\"#000000\"/>\n<text fill=\"#000000\" font-family=\"Times,serif\" font-size=\"14.00\" text-anchor=\"middle\" x=\"330\" y=\"-257.3\">output:</text>\n<polyline fill=\"none\" points=\"359,-249.5 359,-295.5 \" stroke=\"#000000\"/>\n<text fill=\"#000000\" font-family=\"Times,serif\" font-size=\"14.00\" text-anchor=\"middle\" x=\"421.5\" y=\"-280.3\">(None, 24, 24, 64)</text>\n<polyline fill=\"none\" points=\"359,-272.5 484,-272.5 \" stroke=\"#000000\"/>\n<text fill=\"#000000\" font-family=\"Times,serif\" font-size=\"14.00\" text-anchor=\"middle\" x=\"421.5\" y=\"-257.3\">(None, 16, 16, 64)</text>\n</g>\n<!-- 140408075986088&#45;&gt;140408075986480 -->\n<g class=\"edge\" id=\"edge3\">\n<title>140408075986088-&gt;140408075986480</title>\n<path d=\"M242,-332.3799C242,-324.1745 242,-314.7679 242,-305.8786\" fill=\"none\" stroke=\"#000000\"/>\n<polygon fill=\"#000000\" points=\"245.5001,-305.784 242,-295.784 238.5001,-305.784 245.5001,-305.784\" stroke=\"#000000\"/>\n</g>\n<!-- 140408075986424 -->\n<g class=\"node\" id=\"node5\">\n<title>140408075986424</title>\n<polygon fill=\"none\" points=\"97,-166.5 97,-212.5 387,-212.5 387,-166.5 97,-166.5\" stroke=\"#000000\"/>\n<text fill=\"#000000\" font-family=\"Times,serif\" font-size=\"14.00\" text-anchor=\"middle\" x=\"150.5\" y=\"-185.8\">act2: Activation</text>\n<polyline fill=\"none\" points=\"204,-166.5 204,-212.5 \" stroke=\"#000000\"/>\n<text fill=\"#000000\" font-family=\"Times,serif\" font-size=\"14.00\" text-anchor=\"middle\" x=\"233\" y=\"-197.3\">input:</text>\n<polyline fill=\"none\" points=\"204,-189.5 262,-189.5 \" stroke=\"#000000\"/>\n<text fill=\"#000000\" font-family=\"Times,serif\" font-size=\"14.00\" text-anchor=\"middle\" x=\"233\" y=\"-174.3\">output:</text>\n<polyline fill=\"none\" points=\"262,-166.5 262,-212.5 \" stroke=\"#000000\"/>\n<text fill=\"#000000\" font-family=\"Times,serif\" font-size=\"14.00\" text-anchor=\"middle\" x=\"324.5\" y=\"-197.3\">(None, 16, 16, 64)</text>\n<polyline fill=\"none\" points=\"262,-189.5 387,-189.5 \" stroke=\"#000000\"/>\n<text fill=\"#000000\" font-family=\"Times,serif\" font-size=\"14.00\" text-anchor=\"middle\" x=\"324.5\" y=\"-174.3\">(None, 16, 16, 64)</text>\n</g>\n<!-- 140408075986480&#45;&gt;140408075986424 -->\n<g class=\"edge\" id=\"edge4\">\n<title>140408075986480-&gt;140408075986424</title>\n<path d=\"M242,-249.3799C242,-241.1745 242,-231.7679 242,-222.8786\" fill=\"none\" stroke=\"#000000\"/>\n<polygon fill=\"#000000\" points=\"245.5001,-222.784 242,-212.784 238.5001,-222.784 245.5001,-222.784\" stroke=\"#000000\"/>\n</g>\n<!-- 140408075988160 -->\n<g class=\"node\" id=\"node6\">\n<title>140408075988160</title>\n<polygon fill=\"none\" points=\"90.5,-83.5 90.5,-129.5 393.5,-129.5 393.5,-83.5 90.5,-83.5\" stroke=\"#000000\"/>\n<text fill=\"#000000\" font-family=\"Times,serif\" font-size=\"14.00\" text-anchor=\"middle\" x=\"150.5\" y=\"-102.8\">subpixel: Lambda</text>\n<polyline fill=\"none\" points=\"210.5,-83.5 210.5,-129.5 \" stroke=\"#000000\"/>\n<text fill=\"#000000\" font-family=\"Times,serif\" font-size=\"14.00\" text-anchor=\"middle\" x=\"239.5\" y=\"-114.3\">input:</text>\n<polyline fill=\"none\" points=\"210.5,-106.5 268.5,-106.5 \" stroke=\"#000000\"/>\n<text fill=\"#000000\" font-family=\"Times,serif\" font-size=\"14.00\" text-anchor=\"middle\" x=\"239.5\" y=\"-91.3\">output:</text>\n<polyline fill=\"none\" points=\"268.5,-83.5 268.5,-129.5 \" stroke=\"#000000\"/>\n<text fill=\"#000000\" font-family=\"Times,serif\" font-size=\"14.00\" text-anchor=\"middle\" x=\"331\" y=\"-114.3\">(None, 16, 16, 64)</text>\n<polyline fill=\"none\" points=\"268.5,-106.5 393.5,-106.5 \" stroke=\"#000000\"/>\n<text fill=\"#000000\" font-family=\"Times,serif\" font-size=\"14.00\" text-anchor=\"middle\" x=\"331\" y=\"-91.3\">(None, 64, 64, 4)</text>\n</g>\n<!-- 140408075986424&#45;&gt;140408075988160 -->\n<g class=\"edge\" id=\"edge5\">\n<title>140408075986424-&gt;140408075988160</title>\n<path d=\"M242,-166.3799C242,-158.1745 242,-148.7679 242,-139.8786\" fill=\"none\" stroke=\"#000000\"/>\n<polygon fill=\"#000000\" points=\"245.5001,-139.784 242,-129.784 238.5001,-139.784 245.5001,-139.784\" stroke=\"#000000\"/>\n</g>\n<!-- 140408075988272 -->\n<g class=\"node\" id=\"node7\">\n<title>140408075988272</title>\n<polygon fill=\"none\" points=\"101,-.5 101,-46.5 383,-46.5 383,-.5 101,-.5\" stroke=\"#000000\"/>\n<text fill=\"#000000\" font-family=\"Times,serif\" font-size=\"14.00\" text-anchor=\"middle\" x=\"154.5\" y=\"-19.8\">act3: Activation</text>\n<polyline fill=\"none\" points=\"208,-.5 208,-46.5 \" stroke=\"#000000\"/>\n<text fill=\"#000000\" font-family=\"Times,serif\" font-size=\"14.00\" text-anchor=\"middle\" x=\"237\" y=\"-31.3\">input:</text>\n<polyline fill=\"none\" points=\"208,-23.5 266,-23.5 \" stroke=\"#000000\"/>\n<text fill=\"#000000\" font-family=\"Times,serif\" font-size=\"14.00\" text-anchor=\"middle\" x=\"237\" y=\"-8.3\">output:</text>\n<polyline fill=\"none\" points=\"266,-.5 266,-46.5 \" stroke=\"#000000\"/>\n<text fill=\"#000000\" font-family=\"Times,serif\" font-size=\"14.00\" text-anchor=\"middle\" x=\"324.5\" y=\"-31.3\">(None, 64, 64, 4)</text>\n<polyline fill=\"none\" points=\"266,-23.5 383,-23.5 \" stroke=\"#000000\"/>\n<text fill=\"#000000\" font-family=\"Times,serif\" font-size=\"14.00\" text-anchor=\"middle\" x=\"324.5\" y=\"-8.3\">(None, 64, 64, 4)</text>\n</g>\n<!-- 140408075988160&#45;&gt;140408075988272 -->\n<g class=\"edge\" id=\"edge6\">\n<title>140408075988160-&gt;140408075988272</title>\n<path d=\"M242,-83.3799C242,-75.1745 242,-65.7679 242,-56.8786\" fill=\"none\" stroke=\"#000000\"/>\n<polygon fill=\"#000000\" points=\"245.5001,-56.784 242,-46.784 238.5001,-56.784 245.5001,-56.784\" stroke=\"#000000\"/>\n</g>\n</g>\n</svg>"
          },
          "metadata": {
            "tags": []
          },
          "execution_count": 21
        }
      ]
    },
    {
      "cell_type": "code",
      "metadata": {
        "id": "CLGgwWEr7j9G",
        "colab_type": "code",
        "colab": {}
      },
      "source": [
        ""
      ],
      "execution_count": 0,
      "outputs": []
    }
  ]
}