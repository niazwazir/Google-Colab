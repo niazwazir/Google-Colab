{
  "cells": [
    {
      "cell_type": "code",
      "source": [
        "!git clone https://github.com/niazwazir/TESTING_IMAGES.git"
      ],
      "metadata": {
        "colab": {
          "base_uri": "https://localhost:8080/"
        },
        "id": "ZSUiG_aeBoNR",
        "outputId": "840df6e1-6202-4b41-828b-a6dde7281ea4"
      },
      "execution_count": 1,
      "outputs": [
        {
          "output_type": "stream",
          "name": "stdout",
          "text": [
            "Cloning into 'TESTING_IMAGES'...\n",
            "remote: Enumerating objects: 46, done.\u001b[K\n",
            "remote: Counting objects: 100% (46/46), done.\u001b[K\n",
            "remote: Compressing objects: 100% (44/44), done.\u001b[K\n",
            "remote: Total 46 (delta 9), reused 0 (delta 0), pack-reused 0\u001b[K\n",
            "Unpacking objects: 100% (46/46), done.\n"
          ]
        }
      ]
    },
    {
      "cell_type": "code",
      "source": [
        "!ls"
      ],
      "metadata": {
        "colab": {
          "base_uri": "https://localhost:8080/"
        },
        "id": "86jcPGEJBxSI",
        "outputId": "d6b02c3f-11bd-4ed3-cef3-3a262d529a27"
      },
      "execution_count": 2,
      "outputs": [
        {
          "output_type": "stream",
          "name": "stdout",
          "text": [
            "sample_data  TESTING_IMAGES\n"
          ]
        }
      ]
    },
    {
      "cell_type": "code",
      "source": [
        "cd TESTING_IMAGES/"
      ],
      "metadata": {
        "colab": {
          "base_uri": "https://localhost:8080/"
        },
        "id": "qzqwogbwByxI",
        "outputId": "5fb45e4f-e985-4e16-b2d9-fa07859949ff"
      },
      "execution_count": 3,
      "outputs": [
        {
          "output_type": "stream",
          "name": "stdout",
          "text": [
            "/content/TESTING_IMAGES\n"
          ]
        }
      ]
    },
    {
      "cell_type": "code",
      "source": [
        "!ls"
      ],
      "metadata": {
        "colab": {
          "base_uri": "https://localhost:8080/"
        },
        "id": "WjHdpfAvB1ig",
        "outputId": "592a767d-40c6-4e3a-a173-99c27030ea5e"
      },
      "execution_count": 4,
      "outputs": [
        {
          "output_type": "stream",
          "name": "stdout",
          "text": [
            "baby_x2_bicubic.png  baby_x2_SRCNN.png\tHR\n",
            "baby_x2_GT.png\t     BUTTERFLY.png\tWAZIR_MODEL_IMAGES\n"
          ]
        }
      ]
    },
    {
      "cell_type": "code",
      "source": [
        "import os\n",
        "import cv2\n",
        "import math\n",
        "import numpy as np\n",
        "from skimage.metrics import structural_similarity as ssim"
      ],
      "metadata": {
        "id": "YOof1N4ZBoSv"
      },
      "execution_count": 5,
      "outputs": []
    },
    {
      "cell_type": "code",
      "execution_count": 6,
      "metadata": {
        "id": "R-2NFyPjaJYQ"
      },
      "outputs": [],
      "source": [
        "#define fumctions for image quality metrices\n",
        "# Mean squared error(MSE)\n",
        "def MSE(target, ref):\n",
        "    \n",
        "    error = np.sum((target.astype('float') - ref.astype('float')) **2)\n",
        "    error /= float(target.shape[0] * target.shape[1])\n",
        "    \n",
        "    return error\n",
        "\n",
        "#Peak-Signal-To-Noise-Ratio\n",
        "def PSNR(target, ref):\n",
        "    \n",
        "    #assume RGB/BGR image\n",
        "    target_data=target.astype(float)\n",
        "    ref_data=ref.astype(float)\n",
        "    \n",
        "    diff=ref_data - target_data\n",
        "    diff=diff.flatten('C')\n",
        "    \n",
        "    rmse=math.sqrt(np.mean(diff ** 2))\n",
        "    \n",
        "    return 20 * math.log10(255. / rmse)\n",
        "\n",
        "#function to combine all three image quality metrices\n",
        "def Compare_Images(target, ref):\n",
        "    scores=[]\n",
        "    scores.append(PSNR(target, ref))\n",
        "    scores.append(MSE(target, ref))\n",
        "    scores.append(ssim(target, ref, multichannel= True))\n",
        "    \n",
        "    return scores\n",
        "    "
      ]
    },
    {
      "cell_type": "code",
      "execution_count": 7,
      "metadata": {
        "colab": {
          "base_uri": "https://localhost:8080/"
        },
        "id": "8CF8HFc0aJYZ",
        "outputId": "7bfd185e-2b6d-482e-8330-33c0f10bdb0b"
      },
      "outputs": [
        {
          "output_type": "stream",
          "name": "stdout",
          "text": [
            "03.png\n",
            "PSNR: 34.310817702010006 \n",
            "MSE: 72.29692824877829\n",
            "SSIM: 0.9380137135370301\u0003\n",
            "58.png\n",
            "PSNR: 27.54265366427874 \n",
            "MSE: 343.50752013406634\n",
            "SSIM: 0.7951261044083716\u0003\n",
            "05.png\n",
            "PSNR: 33.03792431930305 \n",
            "MSE: 96.91905783822017\n",
            "SSIM: 0.8881920025471435\u0003\n",
            "51.png\n",
            "PSNR: 28.18862762482734 \n",
            "MSE: 296.0321321212706\n",
            "SSIM: 0.8237190670194522\u0003\n",
            "02.png\n",
            "PSNR: 34.1548085449607 \n",
            "MSE: 74.94122038162294\n",
            "SSIM: 0.9225587972090609\u0003\n",
            "56.png\n",
            "PSNR: 30.507305368202914 \n",
            "MSE: 173.5685673466435\n",
            "SSIM: 0.7678365747320594\u0003\n",
            "01.png\n",
            "PSNR: 33.07259348333105 \n",
            "MSE: 96.14844553755144\n",
            "SSIM: 0.9402788871954315\u0003\n",
            "49.png\n",
            "PSNR: 28.449436609230357 \n",
            "MSE: 278.7776511863426\n",
            "SSIM: 0.841247684112294\u0003\n",
            "04.png\n",
            "PSNR: 34.36695825299075 \n",
            "MSE: 71.36837203414352\n",
            "SSIM: 0.9483737421820996\u0003\n",
            "60.png\n",
            "PSNR: 26.526683233225206 \n",
            "MSE: 434.04353539737656\n",
            "SSIM: 0.7413043902411581\u0003\n"
          ]
        }
      ],
      "source": [
        "#check the degraded image which are generated using quality metrices\n",
        "for file in os.listdir('HR/'):\n",
        "    \n",
        "    #read both target and ground_truth(reference) images\n",
        "    target=cv2.imread('HR/{}'.format(file))\n",
        "    ref=cv2.imread('WAZIR_MODEL_IMAGES/{}'.format(file))\n",
        "    \n",
        "    #calculate the scores\n",
        "    scores=Compare_Images(target, ref)\n",
        "\n",
        "    print(\"{}\\nPSNR: {} \\nMSE: {}\\nSSIM: {}\\3\".format(file,scores[0],scores[1],scores[2]))\n"
      ]
    },
    {
      "cell_type": "code",
      "execution_count": 7,
      "metadata": {
        "id": "fsjUNepQBjEU"
      },
      "outputs": [],
      "source": []
    }
  ],
  "metadata": {
    "accelerator": "GPU",
    "colab": {
      "provenance": []
    },
    "kernelspec": {
      "display_name": "Python 3 (ipykernel)",
      "language": "python",
      "name": "python3"
    },
    "language_info": {
      "codemirror_mode": {
        "name": "ipython",
        "version": 3
      },
      "file_extension": ".py",
      "mimetype": "text/x-python",
      "name": "python",
      "nbconvert_exporter": "python",
      "pygments_lexer": "ipython3",
      "version": "3.9.12"
    }
  },
  "nbformat": 4,
  "nbformat_minor": 0
}