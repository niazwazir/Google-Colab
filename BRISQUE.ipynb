{
 "cells": [
  {
   "cell_type": "code",
   "execution_count": 1,
   "id": "a1bbf807",
   "metadata": {},
   "outputs": [],
   "source": [
    "#https://www.youtube.com/watch?v=Vj-YcXswTek\n",
    "#LOW VALUE OF BRISQUE SCORE IT MEANS HIGH QUALITY\n",
    "#HUGH VALUE OF BRISQUE SCORE IT MEANS LOW QUALITY \n",
    "#pip install image-quality\n",
    "import numpy as np\n",
    "from skimage import io, img_as_float\n",
    "import imquality.brisque as brisque"
   ]
  },
  {
   "cell_type": "code",
   "execution_count": 2,
   "id": "e24bf2ac",
   "metadata": {},
   "outputs": [
    {
     "name": "stderr",
     "output_type": "stream",
     "text": [
      "C:\\Users\\user\\anaconda3\\envs\\cuda_tf\\lib\\site-packages\\imquality\\brisque.py:45: FutureWarning: The behavior of rgb2gray will change in scikit-image 0.19. Currently, rgb2gray allows 2D grayscale image to be passed as inputs and leaves them unmodified as outputs. Starting from version 0.19, 2D arrays will be treated as 1D images with 3 channels.\n",
      "  self.image = skimage.color.rgb2gray(self.image)\n",
      "C:\\Users\\user\\anaconda3\\envs\\cuda_tf\\lib\\site-packages\\imquality\\brisque.py:45: FutureWarning: The behavior of rgb2gray will change in scikit-image 0.19. Currently, rgb2gray allows 2D grayscale image to be passed as inputs and leaves them unmodified as outputs. Starting from version 0.19, 2D arrays will be treated as 1D images with 3 channels.\n",
      "  self.image = skimage.color.rgb2gray(self.image)\n"
     ]
    },
    {
     "name": "stdout",
     "output_type": "stream",
     "text": [
      "Brisque score =  9.872021536306733\n"
     ]
    }
   ],
   "source": [
    "#img = img_as_float(io.imread('noisy_images/BSE.jpg', as_gray=True))\n",
    "img = img_as_float(io.imread('baby_GT.bmp', as_gray=True))\n",
    "\n",
    "score = brisque.score(img)\n",
    "print(\"Brisque score = \", score)"
   ]
  },
  {
   "cell_type": "code",
   "execution_count": 3,
   "id": "b1b9d336",
   "metadata": {},
   "outputs": [
    {
     "name": "stderr",
     "output_type": "stream",
     "text": [
      "C:\\Users\\user\\anaconda3\\envs\\cuda_tf\\lib\\site-packages\\imquality\\brisque.py:45: FutureWarning: The behavior of rgb2gray will change in scikit-image 0.19. Currently, rgb2gray allows 2D grayscale image to be passed as inputs and leaves them unmodified as outputs. Starting from version 0.19, 2D arrays will be treated as 1D images with 3 channels.\n",
      "  self.image = skimage.color.rgb2gray(self.image)\n"
     ]
    },
    {
     "name": "stdout",
     "output_type": "stream",
     "text": [
      "Brisque score =  37.87494239645227\n"
     ]
    }
   ],
   "source": [
    "#img = img_as_float(io.imread('noisy_images/BSE.jpg', as_gray=True))\n",
    "img = img_as_float(io.imread('baby_x2_bicubic.png', as_gray=True))\n",
    "score = brisque.score(img)\n",
    "print(\"Brisque score = \", score)"
   ]
  },
  {
   "cell_type": "code",
   "execution_count": null,
   "id": "cd3b585d",
   "metadata": {},
   "outputs": [],
   "source": []
  }
 ],
 "metadata": {
  "kernelspec": {
   "display_name": "cuda_tf",
   "language": "python",
   "name": "cuda_tf"
  },
  "language_info": {
   "codemirror_mode": {
    "name": "ipython",
    "version": 3
   },
   "file_extension": ".py",
   "mimetype": "text/x-python",
   "name": "python",
   "nbconvert_exporter": "python",
   "pygments_lexer": "ipython3",
   "version": "3.9.7"
  }
 },
 "nbformat": 4,
 "nbformat_minor": 5
}
