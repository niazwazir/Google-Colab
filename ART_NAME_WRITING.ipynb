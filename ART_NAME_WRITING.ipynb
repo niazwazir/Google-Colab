{
 "cells": [
  {
   "cell_type": "code",
   "execution_count": 1,
   "id": "91e1ef86",
   "metadata": {},
   "outputs": [],
   "source": [
    "import art"
   ]
  },
  {
   "cell_type": "code",
   "execution_count": 2,
   "id": "1639c35f",
   "metadata": {},
   "outputs": [
    {
     "name": "stdout",
     "output_type": "stream",
     "text": [
      " ____         __        __             _         _  _  _ \n",
      "|  _ \\  _ __  \\ \\      / /  __ _  ____(_) _ __  | || || |\n",
      "| | | || '__|  \\ \\ /\\ / /  / _` ||_  /| || '__| | || || |\n",
      "| |_| || |      \\ V  V /  | (_| | / / | || |    |_||_||_|\n",
      "|____/ |_|       \\_/\\_/    \\__,_|/___||_||_|    (_)(_)(_)\n",
      "                                                         \n",
      "\n"
     ]
    }
   ],
   "source": [
    "from art import *\n",
    "Art = text2art(\"Dr Wazir !!!\")\n",
    "print(Art)"
   ]
  }
 ],
 "metadata": {
  "kernelspec": {
   "display_name": "cuda_tf",
   "language": "python",
   "name": "cuda_tf"
  },
  "language_info": {
   "codemirror_mode": {
    "name": "ipython",
    "version": 3
   },
   "file_extension": ".py",
   "mimetype": "text/x-python",
   "name": "python",
   "nbconvert_exporter": "python",
   "pygments_lexer": "ipython3",
   "version": "3.9.7"
  }
 },
 "nbformat": 4,
 "nbformat_minor": 5
}
