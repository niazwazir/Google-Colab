{
  "nbformat": 4,
  "nbformat_minor": 0,
  "metadata": {
    "colab": {
      "name": "FSRCNN_CREATED_BY-ME.ipynb",
      "version": "0.3.2",
      "provenance": []
    },
    "kernelspec": {
      "name": "python3",
      "display_name": "Python 3"
    }
  },
  "cells": [
    {
      "metadata": {
        "id": "NlqYehZxFc6V",
        "colab_type": "code",
        "colab": {}
      },
      "cell_type": "code",
      "source": [
        "from keras.layers import Input\n",
        "from keras.layers import Conv2DTranspose\n",
        "from keras.layers import Conv2D\n",
        "from keras.models import Model"
      ],
      "execution_count": 0,
      "outputs": []
    },
    {
      "metadata": {
        "id": "ZOg99npqEDdm",
        "colab_type": "code",
        "colab": {
          "base_uri": "https://localhost:8080/",
          "height": 442
        },
        "outputId": "7e55d300-8c4c-4b8b-839d-2c5da1c787f9"
      },
      "cell_type": "code",
      "source": [
        "img_shape = (32,32,1)\n",
        "input_img = Input(shape=(img_shape))\n",
        "C1 = Conv2D(56,(5,5),activation ='relu',padding='same',name='CONV1')(input_img)\n",
        "C2 = Conv2D(12,(1,1),activation ='relu',padding='same',name='CONV2')(C1)\n",
        "C3 = Conv2D(12,(3,3),activation ='relu',padding='same',name='CONV3')(C2)\n",
        "C4 = Conv2D(12,(3,3),activation ='relu',padding='same',name='CONV4')(C3)\n",
        "C5 = Conv2D(12,(3,3),activation ='relu',padding='same',name='CONV5')(C4)\n",
        "C6 = Conv2D(12,(3,3),activation ='relu',padding='same',name='CONV6')(C5)\n",
        "C7 = Conv2D(56,(1,1),activation ='relu',padding='same',name='CONV7')(C6)\n",
        "D1 = Conv2DTranspose(1,(9,9), strides=(1,1), padding='same',name='TRANS_CONV')(C7)\n",
        "model = Model(input_img, D1)\n",
        "model.summary()"
      ],
      "execution_count": 5,
      "outputs": [
        {
          "output_type": "stream",
          "text": [
            "_________________________________________________________________\n",
            "Layer (type)                 Output Shape              Param #   \n",
            "=================================================================\n",
            "input_2 (InputLayer)         (None, 32, 32, 1)         0         \n",
            "_________________________________________________________________\n",
            "CONV1 (Conv2D)               (None, 32, 32, 56)        1456      \n",
            "_________________________________________________________________\n",
            "CONV2 (Conv2D)               (None, 32, 32, 12)        684       \n",
            "_________________________________________________________________\n",
            "CONV3 (Conv2D)               (None, 32, 32, 12)        1308      \n",
            "_________________________________________________________________\n",
            "CONV4 (Conv2D)               (None, 32, 32, 12)        1308      \n",
            "_________________________________________________________________\n",
            "CONV5 (Conv2D)               (None, 32, 32, 12)        1308      \n",
            "_________________________________________________________________\n",
            "CONV6 (Conv2D)               (None, 32, 32, 12)        1308      \n",
            "_________________________________________________________________\n",
            "CONV7 (Conv2D)               (None, 32, 32, 56)        728       \n",
            "_________________________________________________________________\n",
            "TRANS_CONV (Conv2DTranspose) (None, 32, 32, 1)         4537      \n",
            "=================================================================\n",
            "Total params: 12,637\n",
            "Trainable params: 12,637\n",
            "Non-trainable params: 0\n",
            "_________________________________________________________________\n"
          ],
          "name": "stdout"
        }
      ]
    },
    {
      "metadata": {
        "id": "2g1qWfWIGpWW",
        "colab_type": "code",
        "colab": {
          "base_uri": "https://localhost:8080/",
          "height": 980
        },
        "outputId": "e33203e6-4b6a-4930-b16d-9a91d5395bc1"
      },
      "cell_type": "code",
      "source": [
        "from IPython.display import SVG\n",
        "from keras.utils.vis_utils import model_to_dot\n",
        "SVG(model_to_dot(model, show_shapes=True).create(prog='dot', format='svg'))"
      ],
      "execution_count": 6,
      "outputs": [
        {
          "output_type": "execute_result",
          "data": {
            "text/plain": [
              "<IPython.core.display.SVG object>"
            ],
            "image/svg+xml": "<svg height=\"719pt\" viewBox=\"0.00 0.00 419.00 719.00\" width=\"419pt\" xmlns=\"http://www.w3.org/2000/svg\" xmlns:xlink=\"http://www.w3.org/1999/xlink\">\n<g class=\"graph\" id=\"graph0\" transform=\"scale(1 1) rotate(0) translate(4 715)\">\n<title>G</title>\n<polygon fill=\"#ffffff\" points=\"-4,4 -4,-715 415,-715 415,4 -4,4\" stroke=\"transparent\"/>\n<!-- 140488536425920 -->\n<g class=\"node\" id=\"node1\">\n<title>140488536425920</title>\n<polygon fill=\"none\" points=\"51.5,-664.5 51.5,-710.5 359.5,-710.5 359.5,-664.5 51.5,-664.5\" stroke=\"#000000\"/>\n<text fill=\"#000000\" font-family=\"Times,serif\" font-size=\"14.00\" text-anchor=\"middle\" x=\"118\" y=\"-683.8\">input_2: InputLayer</text>\n<polyline fill=\"none\" points=\"184.5,-664.5 184.5,-710.5 \" stroke=\"#000000\"/>\n<text fill=\"#000000\" font-family=\"Times,serif\" font-size=\"14.00\" text-anchor=\"middle\" x=\"213.5\" y=\"-695.3\">input:</text>\n<polyline fill=\"none\" points=\"184.5,-687.5 242.5,-687.5 \" stroke=\"#000000\"/>\n<text fill=\"#000000\" font-family=\"Times,serif\" font-size=\"14.00\" text-anchor=\"middle\" x=\"213.5\" y=\"-672.3\">output:</text>\n<polyline fill=\"none\" points=\"242.5,-664.5 242.5,-710.5 \" stroke=\"#000000\"/>\n<text fill=\"#000000\" font-family=\"Times,serif\" font-size=\"14.00\" text-anchor=\"middle\" x=\"301\" y=\"-695.3\">(None, 32, 32, 1)</text>\n<polyline fill=\"none\" points=\"242.5,-687.5 359.5,-687.5 \" stroke=\"#000000\"/>\n<text fill=\"#000000\" font-family=\"Times,serif\" font-size=\"14.00\" text-anchor=\"middle\" x=\"301\" y=\"-672.3\">(None, 32, 32, 1)</text>\n</g>\n<!-- 140488536425808 -->\n<g class=\"node\" id=\"node2\">\n<title>140488536425808</title>\n<polygon fill=\"none\" points=\"52.5,-581.5 52.5,-627.5 358.5,-627.5 358.5,-581.5 52.5,-581.5\" stroke=\"#000000\"/>\n<text fill=\"#000000\" font-family=\"Times,serif\" font-size=\"14.00\" text-anchor=\"middle\" x=\"114\" y=\"-600.8\">CONV1: Conv2D</text>\n<polyline fill=\"none\" points=\"175.5,-581.5 175.5,-627.5 \" stroke=\"#000000\"/>\n<text fill=\"#000000\" font-family=\"Times,serif\" font-size=\"14.00\" text-anchor=\"middle\" x=\"204.5\" y=\"-612.3\">input:</text>\n<polyline fill=\"none\" points=\"175.5,-604.5 233.5,-604.5 \" stroke=\"#000000\"/>\n<text fill=\"#000000\" font-family=\"Times,serif\" font-size=\"14.00\" text-anchor=\"middle\" x=\"204.5\" y=\"-589.3\">output:</text>\n<polyline fill=\"none\" points=\"233.5,-581.5 233.5,-627.5 \" stroke=\"#000000\"/>\n<text fill=\"#000000\" font-family=\"Times,serif\" font-size=\"14.00\" text-anchor=\"middle\" x=\"296\" y=\"-612.3\">(None, 32, 32, 1)</text>\n<polyline fill=\"none\" points=\"233.5,-604.5 358.5,-604.5 \" stroke=\"#000000\"/>\n<text fill=\"#000000\" font-family=\"Times,serif\" font-size=\"14.00\" text-anchor=\"middle\" x=\"296\" y=\"-589.3\">(None, 32, 32, 56)</text>\n</g>\n<!-- 140488536425920&#45;&gt;140488536425808 -->\n<g class=\"edge\" id=\"edge1\">\n<title>140488536425920-&gt;140488536425808</title>\n<path d=\"M205.5,-664.3799C205.5,-656.1745 205.5,-646.7679 205.5,-637.8786\" fill=\"none\" stroke=\"#000000\"/>\n<polygon fill=\"#000000\" points=\"209.0001,-637.784 205.5,-627.784 202.0001,-637.784 209.0001,-637.784\" stroke=\"#000000\"/>\n</g>\n<!-- 140488536425584 -->\n<g class=\"node\" id=\"node3\">\n<title>140488536425584</title>\n<polygon fill=\"none\" points=\"52.5,-498.5 52.5,-544.5 358.5,-544.5 358.5,-498.5 52.5,-498.5\" stroke=\"#000000\"/>\n<text fill=\"#000000\" font-family=\"Times,serif\" font-size=\"14.00\" text-anchor=\"middle\" x=\"114\" y=\"-517.8\">CONV2: Conv2D</text>\n<polyline fill=\"none\" points=\"175.5,-498.5 175.5,-544.5 \" stroke=\"#000000\"/>\n<text fill=\"#000000\" font-family=\"Times,serif\" font-size=\"14.00\" text-anchor=\"middle\" x=\"204.5\" y=\"-529.3\">input:</text>\n<polyline fill=\"none\" points=\"175.5,-521.5 233.5,-521.5 \" stroke=\"#000000\"/>\n<text fill=\"#000000\" font-family=\"Times,serif\" font-size=\"14.00\" text-anchor=\"middle\" x=\"204.5\" y=\"-506.3\">output:</text>\n<polyline fill=\"none\" points=\"233.5,-498.5 233.5,-544.5 \" stroke=\"#000000\"/>\n<text fill=\"#000000\" font-family=\"Times,serif\" font-size=\"14.00\" text-anchor=\"middle\" x=\"296\" y=\"-529.3\">(None, 32, 32, 56)</text>\n<polyline fill=\"none\" points=\"233.5,-521.5 358.5,-521.5 \" stroke=\"#000000\"/>\n<text fill=\"#000000\" font-family=\"Times,serif\" font-size=\"14.00\" text-anchor=\"middle\" x=\"296\" y=\"-506.3\">(None, 32, 32, 12)</text>\n</g>\n<!-- 140488536425808&#45;&gt;140488536425584 -->\n<g class=\"edge\" id=\"edge2\">\n<title>140488536425808-&gt;140488536425584</title>\n<path d=\"M205.5,-581.3799C205.5,-573.1745 205.5,-563.7679 205.5,-554.8786\" fill=\"none\" stroke=\"#000000\"/>\n<polygon fill=\"#000000\" points=\"209.0001,-554.784 205.5,-544.784 202.0001,-554.784 209.0001,-554.784\" stroke=\"#000000\"/>\n</g>\n<!-- 140488536425360 -->\n<g class=\"node\" id=\"node4\">\n<title>140488536425360</title>\n<polygon fill=\"none\" points=\"52.5,-415.5 52.5,-461.5 358.5,-461.5 358.5,-415.5 52.5,-415.5\" stroke=\"#000000\"/>\n<text fill=\"#000000\" font-family=\"Times,serif\" font-size=\"14.00\" text-anchor=\"middle\" x=\"114\" y=\"-434.8\">CONV3: Conv2D</text>\n<polyline fill=\"none\" points=\"175.5,-415.5 175.5,-461.5 \" stroke=\"#000000\"/>\n<text fill=\"#000000\" font-family=\"Times,serif\" font-size=\"14.00\" text-anchor=\"middle\" x=\"204.5\" y=\"-446.3\">input:</text>\n<polyline fill=\"none\" points=\"175.5,-438.5 233.5,-438.5 \" stroke=\"#000000\"/>\n<text fill=\"#000000\" font-family=\"Times,serif\" font-size=\"14.00\" text-anchor=\"middle\" x=\"204.5\" y=\"-423.3\">output:</text>\n<polyline fill=\"none\" points=\"233.5,-415.5 233.5,-461.5 \" stroke=\"#000000\"/>\n<text fill=\"#000000\" font-family=\"Times,serif\" font-size=\"14.00\" text-anchor=\"middle\" x=\"296\" y=\"-446.3\">(None, 32, 32, 12)</text>\n<polyline fill=\"none\" points=\"233.5,-438.5 358.5,-438.5 \" stroke=\"#000000\"/>\n<text fill=\"#000000\" font-family=\"Times,serif\" font-size=\"14.00\" text-anchor=\"middle\" x=\"296\" y=\"-423.3\">(None, 32, 32, 12)</text>\n</g>\n<!-- 140488536425584&#45;&gt;140488536425360 -->\n<g class=\"edge\" id=\"edge3\">\n<title>140488536425584-&gt;140488536425360</title>\n<path d=\"M205.5,-498.3799C205.5,-490.1745 205.5,-480.7679 205.5,-471.8786\" fill=\"none\" stroke=\"#000000\"/>\n<polygon fill=\"#000000\" points=\"209.0001,-471.784 205.5,-461.784 202.0001,-471.784 209.0001,-471.784\" stroke=\"#000000\"/>\n</g>\n<!-- 140488536418736 -->\n<g class=\"node\" id=\"node5\">\n<title>140488536418736</title>\n<polygon fill=\"none\" points=\"52.5,-332.5 52.5,-378.5 358.5,-378.5 358.5,-332.5 52.5,-332.5\" stroke=\"#000000\"/>\n<text fill=\"#000000\" font-family=\"Times,serif\" font-size=\"14.00\" text-anchor=\"middle\" x=\"114\" y=\"-351.8\">CONV4: Conv2D</text>\n<polyline fill=\"none\" points=\"175.5,-332.5 175.5,-378.5 \" stroke=\"#000000\"/>\n<text fill=\"#000000\" font-family=\"Times,serif\" font-size=\"14.00\" text-anchor=\"middle\" x=\"204.5\" y=\"-363.3\">input:</text>\n<polyline fill=\"none\" points=\"175.5,-355.5 233.5,-355.5 \" stroke=\"#000000\"/>\n<text fill=\"#000000\" font-family=\"Times,serif\" font-size=\"14.00\" text-anchor=\"middle\" x=\"204.5\" y=\"-340.3\">output:</text>\n<polyline fill=\"none\" points=\"233.5,-332.5 233.5,-378.5 \" stroke=\"#000000\"/>\n<text fill=\"#000000\" font-family=\"Times,serif\" font-size=\"14.00\" text-anchor=\"middle\" x=\"296\" y=\"-363.3\">(None, 32, 32, 12)</text>\n<polyline fill=\"none\" points=\"233.5,-355.5 358.5,-355.5 \" stroke=\"#000000\"/>\n<text fill=\"#000000\" font-family=\"Times,serif\" font-size=\"14.00\" text-anchor=\"middle\" x=\"296\" y=\"-340.3\">(None, 32, 32, 12)</text>\n</g>\n<!-- 140488536425360&#45;&gt;140488536418736 -->\n<g class=\"edge\" id=\"edge4\">\n<title>140488536425360-&gt;140488536418736</title>\n<path d=\"M205.5,-415.3799C205.5,-407.1745 205.5,-397.7679 205.5,-388.8786\" fill=\"none\" stroke=\"#000000\"/>\n<polygon fill=\"#000000\" points=\"209.0001,-388.784 205.5,-378.784 202.0001,-388.784 209.0001,-388.784\" stroke=\"#000000\"/>\n</g>\n<!-- 140488536785696 -->\n<g class=\"node\" id=\"node6\">\n<title>140488536785696</title>\n<polygon fill=\"none\" points=\"52.5,-249.5 52.5,-295.5 358.5,-295.5 358.5,-249.5 52.5,-249.5\" stroke=\"#000000\"/>\n<text fill=\"#000000\" font-family=\"Times,serif\" font-size=\"14.00\" text-anchor=\"middle\" x=\"114\" y=\"-268.8\">CONV5: Conv2D</text>\n<polyline fill=\"none\" points=\"175.5,-249.5 175.5,-295.5 \" stroke=\"#000000\"/>\n<text fill=\"#000000\" font-family=\"Times,serif\" font-size=\"14.00\" text-anchor=\"middle\" x=\"204.5\" y=\"-280.3\">input:</text>\n<polyline fill=\"none\" points=\"175.5,-272.5 233.5,-272.5 \" stroke=\"#000000\"/>\n<text fill=\"#000000\" font-family=\"Times,serif\" font-size=\"14.00\" text-anchor=\"middle\" x=\"204.5\" y=\"-257.3\">output:</text>\n<polyline fill=\"none\" points=\"233.5,-249.5 233.5,-295.5 \" stroke=\"#000000\"/>\n<text fill=\"#000000\" font-family=\"Times,serif\" font-size=\"14.00\" text-anchor=\"middle\" x=\"296\" y=\"-280.3\">(None, 32, 32, 12)</text>\n<polyline fill=\"none\" points=\"233.5,-272.5 358.5,-272.5 \" stroke=\"#000000\"/>\n<text fill=\"#000000\" font-family=\"Times,serif\" font-size=\"14.00\" text-anchor=\"middle\" x=\"296\" y=\"-257.3\">(None, 32, 32, 12)</text>\n</g>\n<!-- 140488536418736&#45;&gt;140488536785696 -->\n<g class=\"edge\" id=\"edge5\">\n<title>140488536418736-&gt;140488536785696</title>\n<path d=\"M205.5,-332.3799C205.5,-324.1745 205.5,-314.7679 205.5,-305.8786\" fill=\"none\" stroke=\"#000000\"/>\n<polygon fill=\"#000000\" points=\"209.0001,-305.784 205.5,-295.784 202.0001,-305.784 209.0001,-305.784\" stroke=\"#000000\"/>\n</g>\n<!-- 140488535995952 -->\n<g class=\"node\" id=\"node7\">\n<title>140488535995952</title>\n<polygon fill=\"none\" points=\"52.5,-166.5 52.5,-212.5 358.5,-212.5 358.5,-166.5 52.5,-166.5\" stroke=\"#000000\"/>\n<text fill=\"#000000\" font-family=\"Times,serif\" font-size=\"14.00\" text-anchor=\"middle\" x=\"114\" y=\"-185.8\">CONV6: Conv2D</text>\n<polyline fill=\"none\" points=\"175.5,-166.5 175.5,-212.5 \" stroke=\"#000000\"/>\n<text fill=\"#000000\" font-family=\"Times,serif\" font-size=\"14.00\" text-anchor=\"middle\" x=\"204.5\" y=\"-197.3\">input:</text>\n<polyline fill=\"none\" points=\"175.5,-189.5 233.5,-189.5 \" stroke=\"#000000\"/>\n<text fill=\"#000000\" font-family=\"Times,serif\" font-size=\"14.00\" text-anchor=\"middle\" x=\"204.5\" y=\"-174.3\">output:</text>\n<polyline fill=\"none\" points=\"233.5,-166.5 233.5,-212.5 \" stroke=\"#000000\"/>\n<text fill=\"#000000\" font-family=\"Times,serif\" font-size=\"14.00\" text-anchor=\"middle\" x=\"296\" y=\"-197.3\">(None, 32, 32, 12)</text>\n<polyline fill=\"none\" points=\"233.5,-189.5 358.5,-189.5 \" stroke=\"#000000\"/>\n<text fill=\"#000000\" font-family=\"Times,serif\" font-size=\"14.00\" text-anchor=\"middle\" x=\"296\" y=\"-174.3\">(None, 32, 32, 12)</text>\n</g>\n<!-- 140488536785696&#45;&gt;140488535995952 -->\n<g class=\"edge\" id=\"edge6\">\n<title>140488536785696-&gt;140488535995952</title>\n<path d=\"M205.5,-249.3799C205.5,-241.1745 205.5,-231.7679 205.5,-222.8786\" fill=\"none\" stroke=\"#000000\"/>\n<polygon fill=\"#000000\" points=\"209.0001,-222.784 205.5,-212.784 202.0001,-222.784 209.0001,-222.784\" stroke=\"#000000\"/>\n</g>\n<!-- 140488536103008 -->\n<g class=\"node\" id=\"node8\">\n<title>140488536103008</title>\n<polygon fill=\"none\" points=\"52.5,-83.5 52.5,-129.5 358.5,-129.5 358.5,-83.5 52.5,-83.5\" stroke=\"#000000\"/>\n<text fill=\"#000000\" font-family=\"Times,serif\" font-size=\"14.00\" text-anchor=\"middle\" x=\"114\" y=\"-102.8\">CONV7: Conv2D</text>\n<polyline fill=\"none\" points=\"175.5,-83.5 175.5,-129.5 \" stroke=\"#000000\"/>\n<text fill=\"#000000\" font-family=\"Times,serif\" font-size=\"14.00\" text-anchor=\"middle\" x=\"204.5\" y=\"-114.3\">input:</text>\n<polyline fill=\"none\" points=\"175.5,-106.5 233.5,-106.5 \" stroke=\"#000000\"/>\n<text fill=\"#000000\" font-family=\"Times,serif\" font-size=\"14.00\" text-anchor=\"middle\" x=\"204.5\" y=\"-91.3\">output:</text>\n<polyline fill=\"none\" points=\"233.5,-83.5 233.5,-129.5 \" stroke=\"#000000\"/>\n<text fill=\"#000000\" font-family=\"Times,serif\" font-size=\"14.00\" text-anchor=\"middle\" x=\"296\" y=\"-114.3\">(None, 32, 32, 12)</text>\n<polyline fill=\"none\" points=\"233.5,-106.5 358.5,-106.5 \" stroke=\"#000000\"/>\n<text fill=\"#000000\" font-family=\"Times,serif\" font-size=\"14.00\" text-anchor=\"middle\" x=\"296\" y=\"-91.3\">(None, 32, 32, 56)</text>\n</g>\n<!-- 140488535995952&#45;&gt;140488536103008 -->\n<g class=\"edge\" id=\"edge7\">\n<title>140488535995952-&gt;140488536103008</title>\n<path d=\"M205.5,-166.3799C205.5,-158.1745 205.5,-148.7679 205.5,-139.8786\" fill=\"none\" stroke=\"#000000\"/>\n<polygon fill=\"#000000\" points=\"209.0001,-139.784 205.5,-129.784 202.0001,-139.784 209.0001,-139.784\" stroke=\"#000000\"/>\n</g>\n<!-- 140488535758384 -->\n<g class=\"node\" id=\"node9\">\n<title>140488535758384</title>\n<polygon fill=\"none\" points=\"0,-.5 0,-46.5 411,-46.5 411,-.5 0,-.5\" stroke=\"#000000\"/>\n<text fill=\"#000000\" font-family=\"Times,serif\" font-size=\"14.00\" text-anchor=\"middle\" x=\"114\" y=\"-19.8\">TRANS_CONV: Conv2DTranspose</text>\n<polyline fill=\"none\" points=\"228,-.5 228,-46.5 \" stroke=\"#000000\"/>\n<text fill=\"#000000\" font-family=\"Times,serif\" font-size=\"14.00\" text-anchor=\"middle\" x=\"257\" y=\"-31.3\">input:</text>\n<polyline fill=\"none\" points=\"228,-23.5 286,-23.5 \" stroke=\"#000000\"/>\n<text fill=\"#000000\" font-family=\"Times,serif\" font-size=\"14.00\" text-anchor=\"middle\" x=\"257\" y=\"-8.3\">output:</text>\n<polyline fill=\"none\" points=\"286,-.5 286,-46.5 \" stroke=\"#000000\"/>\n<text fill=\"#000000\" font-family=\"Times,serif\" font-size=\"14.00\" text-anchor=\"middle\" x=\"348.5\" y=\"-31.3\">(None, 32, 32, 56)</text>\n<polyline fill=\"none\" points=\"286,-23.5 411,-23.5 \" stroke=\"#000000\"/>\n<text fill=\"#000000\" font-family=\"Times,serif\" font-size=\"14.00\" text-anchor=\"middle\" x=\"348.5\" y=\"-8.3\">(None, 32, 32, 1)</text>\n</g>\n<!-- 140488536103008&#45;&gt;140488535758384 -->\n<g class=\"edge\" id=\"edge8\">\n<title>140488536103008-&gt;140488535758384</title>\n<path d=\"M205.5,-83.3799C205.5,-75.1745 205.5,-65.7679 205.5,-56.8786\" fill=\"none\" stroke=\"#000000\"/>\n<polygon fill=\"#000000\" points=\"209.0001,-56.784 205.5,-46.784 202.0001,-56.784 209.0001,-56.784\" stroke=\"#000000\"/>\n</g>\n</g>\n</svg>"
          },
          "metadata": {
            "tags": []
          },
          "execution_count": 6
        }
      ]
    },
    {
      "metadata": {
        "id": "m5rvdhzYGqWT",
        "colab_type": "code",
        "colab": {}
      },
      "cell_type": "code",
      "source": [
        ""
      ],
      "execution_count": 0,
      "outputs": []
    }
  ]
}