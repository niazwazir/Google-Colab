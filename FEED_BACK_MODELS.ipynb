{
  "nbformat": 4,
  "nbformat_minor": 0,
  "metadata": {
    "colab": {
      "name": "FEED_BACK_MODELS.ipynb",
      "version": "0.3.2",
      "provenance": []
    },
    "kernelspec": {
      "name": "python3",
      "display_name": "Python 3"
    },
    "accelerator": "GPU"
  },
  "cells": [
    {
      "metadata": {
        "id": "1ErEGnDG0yod",
        "colab_type": "code",
        "colab": {
          "base_uri": "https://localhost:8080/",
          "height": 34
        },
        "outputId": "7863f352-8c12-4dda-9f1d-f3df3d91070a"
      },
      "cell_type": "code",
      "source": [
        "from keras.models import Sequential\n",
        "from keras.layers import Dense, Conv2D, Activation\n",
        "import keras.backend as K\n",
        "from keras import optimizers\n",
        "import numpy as np\n",
        "import h5py\n",
        "from keras.layers import Input,Dense,Convolution2D,Activation,MaxPooling2D,Flatten,merge\n",
        "from keras.layers.merge import add\n",
        "from keras.models import Model, load_model\n",
        "from IPython.display import SVG\n",
        "from keras.utils.vis_utils import model_to_dot\n",
        "from keras.utils import plot_model\n",
        "from keras.layers.convolutional import Deconv2D as Conv2DTranspose"
      ],
      "execution_count": 1,
      "outputs": [
        {
          "output_type": "stream",
          "text": [
            "Using TensorFlow backend.\n"
          ],
          "name": "stderr"
        }
      ]
    },
    {
      "metadata": {
        "id": "NPMiEdFo06Wi",
        "colab_type": "code",
        "colab": {
          "base_uri": "https://localhost:8080/",
          "height": 341
        },
        "outputId": "34a27d9c-2c0f-4c92-f414-b0efe6d1caf2"
      },
      "cell_type": "code",
      "source": [
        "img_shape = (32,32,1)\n",
        "input_img = Input(shape=(img_shape))\n",
        "C1 = Conv2D(64,(9,9),padding='SAME',name='CONV1')(input_img)\n",
        "A1 = Activation('relu', name='act1')(C1)\n",
        "C2 = Conv2D(32,(1,1),padding='SAME',name='CONV2')(A1)\n",
        "A2 = Activation('relu', name='act2')(C2)\n",
        "C3 = Conv2D(1,(5,5),padding='SAME',name='CONV3')(C2)\n",
        "A3 = Activation('relu', name='act3')(C3)\n",
        "model = Model(input_img, A3)\n",
        "opt = optimizers.Adam(lr=0.0003)\n",
        "model.compile(optimizer=opt,loss='mean_squared_error')\n",
        "model.summary()"
      ],
      "execution_count": 58,
      "outputs": [
        {
          "output_type": "stream",
          "text": [
            "_________________________________________________________________\n",
            "Layer (type)                 Output Shape              Param #   \n",
            "=================================================================\n",
            "input_5 (InputLayer)         (None, 32, 32, 1)         0         \n",
            "_________________________________________________________________\n",
            "CONV1 (Conv2D)               (None, 32, 32, 64)        5248      \n",
            "_________________________________________________________________\n",
            "act1 (Activation)            (None, 32, 32, 64)        0         \n",
            "_________________________________________________________________\n",
            "CONV2 (Conv2D)               (None, 32, 32, 32)        2080      \n",
            "_________________________________________________________________\n",
            "CONV3 (Conv2D)               (None, 32, 32, 1)         801       \n",
            "_________________________________________________________________\n",
            "act3 (Activation)            (None, 32, 32, 1)         0         \n",
            "=================================================================\n",
            "Total params: 8,129\n",
            "Trainable params: 8,129\n",
            "Non-trainable params: 0\n",
            "_________________________________________________________________\n"
          ],
          "name": "stdout"
        }
      ]
    },
    {
      "metadata": {
        "id": "mcTandPd1K9k",
        "colab_type": "code",
        "colab": {
          "base_uri": "https://localhost:8080/",
          "height": 647
        },
        "outputId": "d304bbbe-795a-4f16-a4a6-4da3db59eb4b"
      },
      "cell_type": "code",
      "source": [
        "SVG(model_to_dot(model, show_shapes=True).create(prog='dot', format='svg'))"
      ],
      "execution_count": 7,
      "outputs": [
        {
          "output_type": "execute_result",
          "data": {
            "text/plain": [
              "<IPython.core.display.SVG object>"
            ],
            "image/svg+xml": "<svg height=\"470pt\" viewBox=\"0.00 0.00 316.00 470.00\" width=\"316pt\" xmlns=\"http://www.w3.org/2000/svg\" xmlns:xlink=\"http://www.w3.org/1999/xlink\">\n<g class=\"graph\" id=\"graph0\" transform=\"scale(1 1) rotate(0) translate(4 466)\">\n<title>G</title>\n<polygon fill=\"#ffffff\" points=\"-4,4 -4,-466 312,-466 312,4 -4,4\" stroke=\"transparent\"/>\n<!-- 140270268696784 -->\n<g class=\"node\" id=\"node1\">\n<title>140270268696784</title>\n<polygon fill=\"none\" points=\"0,-415.5 0,-461.5 308,-461.5 308,-415.5 0,-415.5\" stroke=\"#000000\"/>\n<text fill=\"#000000\" font-family=\"Times,serif\" font-size=\"14.00\" text-anchor=\"middle\" x=\"66.5\" y=\"-434.8\">input_3: InputLayer</text>\n<polyline fill=\"none\" points=\"133,-415.5 133,-461.5 \" stroke=\"#000000\"/>\n<text fill=\"#000000\" font-family=\"Times,serif\" font-size=\"14.00\" text-anchor=\"middle\" x=\"162\" y=\"-446.3\">input:</text>\n<polyline fill=\"none\" points=\"133,-438.5 191,-438.5 \" stroke=\"#000000\"/>\n<text fill=\"#000000\" font-family=\"Times,serif\" font-size=\"14.00\" text-anchor=\"middle\" x=\"162\" y=\"-423.3\">output:</text>\n<polyline fill=\"none\" points=\"191,-415.5 191,-461.5 \" stroke=\"#000000\"/>\n<text fill=\"#000000\" font-family=\"Times,serif\" font-size=\"14.00\" text-anchor=\"middle\" x=\"249.5\" y=\"-446.3\">(None, 32, 32, 1)</text>\n<polyline fill=\"none\" points=\"191,-438.5 308,-438.5 \" stroke=\"#000000\"/>\n<text fill=\"#000000\" font-family=\"Times,serif\" font-size=\"14.00\" text-anchor=\"middle\" x=\"249.5\" y=\"-423.3\">(None, 32, 32, 1)</text>\n</g>\n<!-- 140270268696840 -->\n<g class=\"node\" id=\"node2\">\n<title>140270268696840</title>\n<polygon fill=\"none\" points=\"1,-332.5 1,-378.5 307,-378.5 307,-332.5 1,-332.5\" stroke=\"#000000\"/>\n<text fill=\"#000000\" font-family=\"Times,serif\" font-size=\"14.00\" text-anchor=\"middle\" x=\"62.5\" y=\"-351.8\">CONV1: Conv2D</text>\n<polyline fill=\"none\" points=\"124,-332.5 124,-378.5 \" stroke=\"#000000\"/>\n<text fill=\"#000000\" font-family=\"Times,serif\" font-size=\"14.00\" text-anchor=\"middle\" x=\"153\" y=\"-363.3\">input:</text>\n<polyline fill=\"none\" points=\"124,-355.5 182,-355.5 \" stroke=\"#000000\"/>\n<text fill=\"#000000\" font-family=\"Times,serif\" font-size=\"14.00\" text-anchor=\"middle\" x=\"153\" y=\"-340.3\">output:</text>\n<polyline fill=\"none\" points=\"182,-332.5 182,-378.5 \" stroke=\"#000000\"/>\n<text fill=\"#000000\" font-family=\"Times,serif\" font-size=\"14.00\" text-anchor=\"middle\" x=\"244.5\" y=\"-363.3\">(None, 32, 32, 1)</text>\n<polyline fill=\"none\" points=\"182,-355.5 307,-355.5 \" stroke=\"#000000\"/>\n<text fill=\"#000000\" font-family=\"Times,serif\" font-size=\"14.00\" text-anchor=\"middle\" x=\"244.5\" y=\"-340.3\">(None, 32, 32, 64)</text>\n</g>\n<!-- 140270268696784&#45;&gt;140270268696840 -->\n<g class=\"edge\" id=\"edge1\">\n<title>140270268696784-&gt;140270268696840</title>\n<path d=\"M154,-415.3799C154,-407.1745 154,-397.7679 154,-388.8786\" fill=\"none\" stroke=\"#000000\"/>\n<polygon fill=\"#000000\" points=\"157.5001,-388.784 154,-378.784 150.5001,-388.784 157.5001,-388.784\" stroke=\"#000000\"/>\n</g>\n<!-- 140270269514360 -->\n<g class=\"node\" id=\"node3\">\n<title>140270269514360</title>\n<polygon fill=\"none\" points=\"9,-249.5 9,-295.5 299,-295.5 299,-249.5 9,-249.5\" stroke=\"#000000\"/>\n<text fill=\"#000000\" font-family=\"Times,serif\" font-size=\"14.00\" text-anchor=\"middle\" x=\"62.5\" y=\"-268.8\">act1: Activation</text>\n<polyline fill=\"none\" points=\"116,-249.5 116,-295.5 \" stroke=\"#000000\"/>\n<text fill=\"#000000\" font-family=\"Times,serif\" font-size=\"14.00\" text-anchor=\"middle\" x=\"145\" y=\"-280.3\">input:</text>\n<polyline fill=\"none\" points=\"116,-272.5 174,-272.5 \" stroke=\"#000000\"/>\n<text fill=\"#000000\" font-family=\"Times,serif\" font-size=\"14.00\" text-anchor=\"middle\" x=\"145\" y=\"-257.3\">output:</text>\n<polyline fill=\"none\" points=\"174,-249.5 174,-295.5 \" stroke=\"#000000\"/>\n<text fill=\"#000000\" font-family=\"Times,serif\" font-size=\"14.00\" text-anchor=\"middle\" x=\"236.5\" y=\"-280.3\">(None, 32, 32, 64)</text>\n<polyline fill=\"none\" points=\"174,-272.5 299,-272.5 \" stroke=\"#000000\"/>\n<text fill=\"#000000\" font-family=\"Times,serif\" font-size=\"14.00\" text-anchor=\"middle\" x=\"236.5\" y=\"-257.3\">(None, 32, 32, 64)</text>\n</g>\n<!-- 140270268696840&#45;&gt;140270269514360 -->\n<g class=\"edge\" id=\"edge2\">\n<title>140270268696840-&gt;140270269514360</title>\n<path d=\"M154,-332.3799C154,-324.1745 154,-314.7679 154,-305.8786\" fill=\"none\" stroke=\"#000000\"/>\n<polygon fill=\"#000000\" points=\"157.5001,-305.784 154,-295.784 150.5001,-305.784 157.5001,-305.784\" stroke=\"#000000\"/>\n</g>\n<!-- 140270268697344 -->\n<g class=\"node\" id=\"node4\">\n<title>140270268697344</title>\n<polygon fill=\"none\" points=\"1,-166.5 1,-212.5 307,-212.5 307,-166.5 1,-166.5\" stroke=\"#000000\"/>\n<text fill=\"#000000\" font-family=\"Times,serif\" font-size=\"14.00\" text-anchor=\"middle\" x=\"62.5\" y=\"-185.8\">CONV2: Conv2D</text>\n<polyline fill=\"none\" points=\"124,-166.5 124,-212.5 \" stroke=\"#000000\"/>\n<text fill=\"#000000\" font-family=\"Times,serif\" font-size=\"14.00\" text-anchor=\"middle\" x=\"153\" y=\"-197.3\">input:</text>\n<polyline fill=\"none\" points=\"124,-189.5 182,-189.5 \" stroke=\"#000000\"/>\n<text fill=\"#000000\" font-family=\"Times,serif\" font-size=\"14.00\" text-anchor=\"middle\" x=\"153\" y=\"-174.3\">output:</text>\n<polyline fill=\"none\" points=\"182,-166.5 182,-212.5 \" stroke=\"#000000\"/>\n<text fill=\"#000000\" font-family=\"Times,serif\" font-size=\"14.00\" text-anchor=\"middle\" x=\"244.5\" y=\"-197.3\">(None, 32, 32, 64)</text>\n<polyline fill=\"none\" points=\"182,-189.5 307,-189.5 \" stroke=\"#000000\"/>\n<text fill=\"#000000\" font-family=\"Times,serif\" font-size=\"14.00\" text-anchor=\"middle\" x=\"244.5\" y=\"-174.3\">(None, 32, 32, 32)</text>\n</g>\n<!-- 140270269514360&#45;&gt;140270268697344 -->\n<g class=\"edge\" id=\"edge3\">\n<title>140270269514360-&gt;140270268697344</title>\n<path d=\"M154,-249.3799C154,-241.1745 154,-231.7679 154,-222.8786\" fill=\"none\" stroke=\"#000000\"/>\n<polygon fill=\"#000000\" points=\"157.5001,-222.784 154,-212.784 150.5001,-222.784 157.5001,-222.784\" stroke=\"#000000\"/>\n</g>\n<!-- 140270268651336 -->\n<g class=\"node\" id=\"node5\">\n<title>140270268651336</title>\n<polygon fill=\"none\" points=\"1,-83.5 1,-129.5 307,-129.5 307,-83.5 1,-83.5\" stroke=\"#000000\"/>\n<text fill=\"#000000\" font-family=\"Times,serif\" font-size=\"14.00\" text-anchor=\"middle\" x=\"62.5\" y=\"-102.8\">CONV3: Conv2D</text>\n<polyline fill=\"none\" points=\"124,-83.5 124,-129.5 \" stroke=\"#000000\"/>\n<text fill=\"#000000\" font-family=\"Times,serif\" font-size=\"14.00\" text-anchor=\"middle\" x=\"153\" y=\"-114.3\">input:</text>\n<polyline fill=\"none\" points=\"124,-106.5 182,-106.5 \" stroke=\"#000000\"/>\n<text fill=\"#000000\" font-family=\"Times,serif\" font-size=\"14.00\" text-anchor=\"middle\" x=\"153\" y=\"-91.3\">output:</text>\n<polyline fill=\"none\" points=\"182,-83.5 182,-129.5 \" stroke=\"#000000\"/>\n<text fill=\"#000000\" font-family=\"Times,serif\" font-size=\"14.00\" text-anchor=\"middle\" x=\"244.5\" y=\"-114.3\">(None, 32, 32, 32)</text>\n<polyline fill=\"none\" points=\"182,-106.5 307,-106.5 \" stroke=\"#000000\"/>\n<text fill=\"#000000\" font-family=\"Times,serif\" font-size=\"14.00\" text-anchor=\"middle\" x=\"244.5\" y=\"-91.3\">(None, 32, 32, 1)</text>\n</g>\n<!-- 140270268697344&#45;&gt;140270268651336 -->\n<g class=\"edge\" id=\"edge4\">\n<title>140270268697344-&gt;140270268651336</title>\n<path d=\"M154,-166.3799C154,-158.1745 154,-148.7679 154,-139.8786\" fill=\"none\" stroke=\"#000000\"/>\n<polygon fill=\"#000000\" points=\"157.5001,-139.784 154,-129.784 150.5001,-139.784 157.5001,-139.784\" stroke=\"#000000\"/>\n</g>\n<!-- 140270268652736 -->\n<g class=\"node\" id=\"node6\">\n<title>140270268652736</title>\n<polygon fill=\"none\" points=\"13,-.5 13,-46.5 295,-46.5 295,-.5 13,-.5\" stroke=\"#000000\"/>\n<text fill=\"#000000\" font-family=\"Times,serif\" font-size=\"14.00\" text-anchor=\"middle\" x=\"66.5\" y=\"-19.8\">act3: Activation</text>\n<polyline fill=\"none\" points=\"120,-.5 120,-46.5 \" stroke=\"#000000\"/>\n<text fill=\"#000000\" font-family=\"Times,serif\" font-size=\"14.00\" text-anchor=\"middle\" x=\"149\" y=\"-31.3\">input:</text>\n<polyline fill=\"none\" points=\"120,-23.5 178,-23.5 \" stroke=\"#000000\"/>\n<text fill=\"#000000\" font-family=\"Times,serif\" font-size=\"14.00\" text-anchor=\"middle\" x=\"149\" y=\"-8.3\">output:</text>\n<polyline fill=\"none\" points=\"178,-.5 178,-46.5 \" stroke=\"#000000\"/>\n<text fill=\"#000000\" font-family=\"Times,serif\" font-size=\"14.00\" text-anchor=\"middle\" x=\"236.5\" y=\"-31.3\">(None, 32, 32, 1)</text>\n<polyline fill=\"none\" points=\"178,-23.5 295,-23.5 \" stroke=\"#000000\"/>\n<text fill=\"#000000\" font-family=\"Times,serif\" font-size=\"14.00\" text-anchor=\"middle\" x=\"236.5\" y=\"-8.3\">(None, 32, 32, 1)</text>\n</g>\n<!-- 140270268651336&#45;&gt;140270268652736 -->\n<g class=\"edge\" id=\"edge5\">\n<title>140270268651336-&gt;140270268652736</title>\n<path d=\"M154,-83.3799C154,-75.1745 154,-65.7679 154,-56.8786\" fill=\"none\" stroke=\"#000000\"/>\n<polygon fill=\"#000000\" points=\"157.5001,-56.784 154,-46.784 150.5001,-56.784 157.5001,-56.784\" stroke=\"#000000\"/>\n</g>\n</g>\n</svg>"
          },
          "metadata": {
            "tags": []
          },
          "execution_count": 7
        }
      ]
    },
    {
      "metadata": {
        "id": "ze6UeZqy1W-H",
        "colab_type": "code",
        "colab": {
          "base_uri": "https://localhost:8080/",
          "height": 574
        },
        "outputId": "b8381deb-8b2f-4fa9-e335-1b949c342d8e"
      },
      "cell_type": "code",
      "source": [
        "from keras.layers import Dense, Input\n",
        "from keras.models import Model\n",
        "from IPython.display import SVG\n",
        "from keras.utils.vis_utils import model_to_dot\n",
        "\n",
        "input = Input(batch_shape=(2, 5), dtype='float32', name='WAZIR_INPUT_LAYER')\n",
        "L1 = Dense(5,name='wazird1')\n",
        "L2 = Dense(5,name='wazird2')\n",
        "L3 = Dense(5,name='wazird3')\n",
        "L4 = Dense(5,name='wazird4')\n",
        "L5 = Dense(5,name='wazird5')\n",
        "L6 = Dense(5,name='wazird6')\n",
        "L7 = Dense(5,name='wazird7')\n",
        "L8 = Dense(5,name='wazird87')\n",
        "\n",
        "\n",
        "\n",
        "o1 = L1(input)\n",
        "o2 = L2(o1)\n",
        "o3 = L3(o2)\n",
        "o4 = L1(o3)\n",
        "o5 = L2(o4)\n",
        "o6 = L4(o4)\n",
        "o7 = L2(o6)\n",
        "\n",
        "\n",
        "\n",
        "m = Model(input=input, output=o7)\n",
        "m.compile('rmsprop', 'mse')\n",
        "\n",
        "SVG(model_to_dot(m, show_shapes=True).create(prog='dot', format='svg'))\n"
      ],
      "execution_count": 11,
      "outputs": [
        {
          "output_type": "stream",
          "text": [
            "/usr/local/lib/python3.6/dist-packages/ipykernel_launcher.py:28: UserWarning: Update your `Model` call to the Keras 2 API: `Model(inputs=Tensor(\"WA..., outputs=Tensor(\"wa...)`\n"
          ],
          "name": "stderr"
        },
        {
          "output_type": "execute_result",
          "data": {
            "text/plain": [
              "<IPython.core.display.SVG object>"
            ],
            "image/svg+xml": "<svg height=\"387pt\" viewBox=\"0.00 0.00 353.00 387.00\" width=\"353pt\" xmlns=\"http://www.w3.org/2000/svg\" xmlns:xlink=\"http://www.w3.org/1999/xlink\">\n<g class=\"graph\" id=\"graph0\" transform=\"scale(1 1) rotate(0) translate(4 383)\">\n<title>G</title>\n<polygon fill=\"#ffffff\" points=\"-4,4 -4,-383 349,-383 349,4 -4,4\" stroke=\"transparent\"/>\n<!-- 140270264656896 -->\n<g class=\"node\" id=\"node1\">\n<title>140270264656896</title>\n<polygon fill=\"none\" points=\"0,-332.5 0,-378.5 345,-378.5 345,-332.5 0,-332.5\" stroke=\"#000000\"/>\n<text fill=\"#000000\" font-family=\"Times,serif\" font-size=\"14.00\" text-anchor=\"middle\" x=\"119.5\" y=\"-351.8\">WAZIR_INPUT_LAYER: InputLayer</text>\n<polyline fill=\"none\" points=\"239,-332.5 239,-378.5 \" stroke=\"#000000\"/>\n<text fill=\"#000000\" font-family=\"Times,serif\" font-size=\"14.00\" text-anchor=\"middle\" x=\"268\" y=\"-363.3\">input:</text>\n<polyline fill=\"none\" points=\"239,-355.5 297,-355.5 \" stroke=\"#000000\"/>\n<text fill=\"#000000\" font-family=\"Times,serif\" font-size=\"14.00\" text-anchor=\"middle\" x=\"268\" y=\"-340.3\">output:</text>\n<polyline fill=\"none\" points=\"297,-332.5 297,-378.5 \" stroke=\"#000000\"/>\n<text fill=\"#000000\" font-family=\"Times,serif\" font-size=\"14.00\" text-anchor=\"middle\" x=\"321\" y=\"-363.3\">(2, 5)</text>\n<polyline fill=\"none\" points=\"297,-355.5 345,-355.5 \" stroke=\"#000000\"/>\n<text fill=\"#000000\" font-family=\"Times,serif\" font-size=\"14.00\" text-anchor=\"middle\" x=\"321\" y=\"-340.3\">(2, 5)</text>\n</g>\n<!-- 140270264656952 -->\n<g class=\"node\" id=\"node2\">\n<title>140270264656952</title>\n<polygon fill=\"none\" points=\"67,-249.5 67,-295.5 278,-295.5 278,-249.5 67,-249.5\" stroke=\"#000000\"/>\n<text fill=\"#000000\" font-family=\"Times,serif\" font-size=\"14.00\" text-anchor=\"middle\" x=\"119.5\" y=\"-268.8\">wazird1: Dense</text>\n<polyline fill=\"none\" points=\"172,-249.5 172,-295.5 \" stroke=\"#000000\"/>\n<text fill=\"#000000\" font-family=\"Times,serif\" font-size=\"14.00\" text-anchor=\"middle\" x=\"201\" y=\"-280.3\">input:</text>\n<polyline fill=\"none\" points=\"172,-272.5 230,-272.5 \" stroke=\"#000000\"/>\n<text fill=\"#000000\" font-family=\"Times,serif\" font-size=\"14.00\" text-anchor=\"middle\" x=\"201\" y=\"-257.3\">output:</text>\n<polyline fill=\"none\" points=\"230,-249.5 230,-295.5 \" stroke=\"#000000\"/>\n<text fill=\"#000000\" font-family=\"Times,serif\" font-size=\"14.00\" text-anchor=\"middle\" x=\"254\" y=\"-280.3\">(2, 5)</text>\n<polyline fill=\"none\" points=\"230,-272.5 278,-272.5 \" stroke=\"#000000\"/>\n<text fill=\"#000000\" font-family=\"Times,serif\" font-size=\"14.00\" text-anchor=\"middle\" x=\"254\" y=\"-257.3\">(2, 5)</text>\n</g>\n<!-- 140270264656896&#45;&gt;140270264656952 -->\n<g class=\"edge\" id=\"edge1\">\n<title>140270264656896-&gt;140270264656952</title>\n<path d=\"M172.5,-332.3799C172.5,-324.1745 172.5,-314.7679 172.5,-305.8786\" fill=\"none\" stroke=\"#000000\"/>\n<polygon fill=\"#000000\" points=\"176.0001,-305.784 172.5,-295.784 169.0001,-305.784 176.0001,-305.784\" stroke=\"#000000\"/>\n</g>\n<!-- 140270264657120 -->\n<g class=\"node\" id=\"node3\">\n<title>140270264657120</title>\n<polygon fill=\"none\" points=\"67,-83.5 67,-129.5 278,-129.5 278,-83.5 67,-83.5\" stroke=\"#000000\"/>\n<text fill=\"#000000\" font-family=\"Times,serif\" font-size=\"14.00\" text-anchor=\"middle\" x=\"119.5\" y=\"-102.8\">wazird2: Dense</text>\n<polyline fill=\"none\" points=\"172,-83.5 172,-129.5 \" stroke=\"#000000\"/>\n<text fill=\"#000000\" font-family=\"Times,serif\" font-size=\"14.00\" text-anchor=\"middle\" x=\"201\" y=\"-114.3\">input:</text>\n<polyline fill=\"none\" points=\"172,-106.5 230,-106.5 \" stroke=\"#000000\"/>\n<text fill=\"#000000\" font-family=\"Times,serif\" font-size=\"14.00\" text-anchor=\"middle\" x=\"201\" y=\"-91.3\">output:</text>\n<polyline fill=\"none\" points=\"230,-83.5 230,-129.5 \" stroke=\"#000000\"/>\n<text fill=\"#000000\" font-family=\"Times,serif\" font-size=\"14.00\" text-anchor=\"middle\" x=\"254\" y=\"-114.3\">(2, 5)</text>\n<polyline fill=\"none\" points=\"230,-106.5 278,-106.5 \" stroke=\"#000000\"/>\n<text fill=\"#000000\" font-family=\"Times,serif\" font-size=\"14.00\" text-anchor=\"middle\" x=\"254\" y=\"-91.3\">(2, 5)</text>\n</g>\n<!-- 140270264656952&#45;&gt;140270264657120 -->\n<g class=\"edge\" id=\"edge3\">\n<title>140270264656952-&gt;140270264657120</title>\n<path d=\"M98.9168,-249.3861C82.511,-240.6536 67.1407,-228.8426 57.5,-213 46.6411,-195.1554 46.6411,-183.8446 57.5,-166 65.4084,-153.0041 77.1723,-142.7211 90.2006,-134.625\" fill=\"none\" stroke=\"#000000\"/>\n<polygon fill=\"#000000\" points=\"91.9918,-137.6324 98.9168,-129.6139 88.5029,-131.5639 91.9918,-137.6324\" stroke=\"#000000\"/>\n</g>\n<!-- 140270264657624 -->\n<g class=\"node\" id=\"node5\">\n<title>140270264657624</title>\n<polygon fill=\"none\" points=\"67,-166.5 67,-212.5 278,-212.5 278,-166.5 67,-166.5\" stroke=\"#000000\"/>\n<text fill=\"#000000\" font-family=\"Times,serif\" font-size=\"14.00\" text-anchor=\"middle\" x=\"119.5\" y=\"-185.8\">wazird4: Dense</text>\n<polyline fill=\"none\" points=\"172,-166.5 172,-212.5 \" stroke=\"#000000\"/>\n<text fill=\"#000000\" font-family=\"Times,serif\" font-size=\"14.00\" text-anchor=\"middle\" x=\"201\" y=\"-197.3\">input:</text>\n<polyline fill=\"none\" points=\"172,-189.5 230,-189.5 \" stroke=\"#000000\"/>\n<text fill=\"#000000\" font-family=\"Times,serif\" font-size=\"14.00\" text-anchor=\"middle\" x=\"201\" y=\"-174.3\">output:</text>\n<polyline fill=\"none\" points=\"230,-166.5 230,-212.5 \" stroke=\"#000000\"/>\n<text fill=\"#000000\" font-family=\"Times,serif\" font-size=\"14.00\" text-anchor=\"middle\" x=\"254\" y=\"-197.3\">(2, 5)</text>\n<polyline fill=\"none\" points=\"230,-189.5 278,-189.5 \" stroke=\"#000000\"/>\n<text fill=\"#000000\" font-family=\"Times,serif\" font-size=\"14.00\" text-anchor=\"middle\" x=\"254\" y=\"-174.3\">(2, 5)</text>\n</g>\n<!-- 140270264656952&#45;&gt;140270264657624 -->\n<g class=\"edge\" id=\"edge6\">\n<title>140270264656952-&gt;140270264657624</title>\n<path d=\"M172.5,-249.3799C172.5,-241.1745 172.5,-231.7679 172.5,-222.8786\" fill=\"none\" stroke=\"#000000\"/>\n<polygon fill=\"#000000\" points=\"176.0001,-222.784 172.5,-212.784 169.0001,-222.784 176.0001,-222.784\" stroke=\"#000000\"/>\n</g>\n<!-- 140270264657232 -->\n<g class=\"node\" id=\"node4\">\n<title>140270264657232</title>\n<polygon fill=\"none\" points=\"134,-.5 134,-46.5 345,-46.5 345,-.5 134,-.5\" stroke=\"#000000\"/>\n<text fill=\"#000000\" font-family=\"Times,serif\" font-size=\"14.00\" text-anchor=\"middle\" x=\"186.5\" y=\"-19.8\">wazird3: Dense</text>\n<polyline fill=\"none\" points=\"239,-.5 239,-46.5 \" stroke=\"#000000\"/>\n<text fill=\"#000000\" font-family=\"Times,serif\" font-size=\"14.00\" text-anchor=\"middle\" x=\"268\" y=\"-31.3\">input:</text>\n<polyline fill=\"none\" points=\"239,-23.5 297,-23.5 \" stroke=\"#000000\"/>\n<text fill=\"#000000\" font-family=\"Times,serif\" font-size=\"14.00\" text-anchor=\"middle\" x=\"268\" y=\"-8.3\">output:</text>\n<polyline fill=\"none\" points=\"297,-.5 297,-46.5 \" stroke=\"#000000\"/>\n<text fill=\"#000000\" font-family=\"Times,serif\" font-size=\"14.00\" text-anchor=\"middle\" x=\"321\" y=\"-31.3\">(2, 5)</text>\n<polyline fill=\"none\" points=\"297,-23.5 345,-23.5 \" stroke=\"#000000\"/>\n<text fill=\"#000000\" font-family=\"Times,serif\" font-size=\"14.00\" text-anchor=\"middle\" x=\"321\" y=\"-8.3\">(2, 5)</text>\n</g>\n<!-- 140270264657120&#45;&gt;140270264657232 -->\n<g class=\"edge\" id=\"edge5\">\n<title>140270264657120-&gt;140270264657232</title>\n<path d=\"M191.1632,-83.3799C198.3628,-74.461 206.708,-64.1229 214.4173,-54.5725\" fill=\"none\" stroke=\"#000000\"/>\n<polygon fill=\"#000000\" points=\"217.1467,-56.7636 220.7045,-46.784 211.6998,-52.3668 217.1467,-56.7636\" stroke=\"#000000\"/>\n</g>\n<!-- 140270264657232&#45;&gt;140270264656952 -->\n<g class=\"edge\" id=\"edge2\">\n<title>140270264657232-&gt;140270264656952</title>\n<path d=\"M263.786,-46.6998C272.7417,-56.8818 281.8356,-69.57 286.5,-83 305.4563,-137.5796 316.4471,-163.589 286.5,-213 278.6214,-225.9992 266.8698,-236.2926 253.8627,-244.3999\" fill=\"none\" stroke=\"#000000\"/>\n<polygon fill=\"#000000\" points=\"252.0755,-241.3902 245.1619,-249.4184 255.573,-247.4539 252.0755,-241.3902\" stroke=\"#000000\"/>\n</g>\n<!-- 140270264657624&#45;&gt;140270264657120 -->\n<g class=\"edge\" id=\"edge4\">\n<title>140270264657624-&gt;140270264657120</title>\n<path d=\"M172.5,-166.3799C172.5,-158.1745 172.5,-148.7679 172.5,-139.8786\" fill=\"none\" stroke=\"#000000\"/>\n<polygon fill=\"#000000\" points=\"176.0001,-139.784 172.5,-129.784 169.0001,-139.784 176.0001,-139.784\" stroke=\"#000000\"/>\n</g>\n</g>\n</svg>"
          },
          "metadata": {
            "tags": []
          },
          "execution_count": 11
        }
      ]
    },
    {
      "metadata": {
        "id": "Lv4mkl4F5ssw",
        "colab_type": "code",
        "colab": {
          "base_uri": "https://localhost:8080/",
          "height": 463
        },
        "outputId": "f61e0268-334e-4f59-a3c9-4a89453cdfa8"
      },
      "cell_type": "code",
      "source": [
        "from keras.layers import Dense, Input\n",
        "from keras.models import Model\n",
        "from IPython.display import SVG\n",
        "from keras.utils.vis_utils import model_to_dot\n",
        "input = Input(batch_shape=(2, 9), dtype='float32', name='WAZIR_INPUT_LAYER')\n",
        "\n",
        "L1 = Dense(7,name='wazird1')\n",
        "L2 = Dense(7,name='wazird2')\n",
        "L3 = Dense(9,name='wazird3')\n",
        "\n",
        "\n",
        "o1 = L1(input)\n",
        "o2 = L2(o1)\n",
        "o3 = L3(o2)\n",
        "o4 = L1(o3)\n",
        "o5 = L3(o4)\n",
        "\n",
        "\n",
        "m = Model(input=input, output=o5)\n",
        "m.compile('rmsprop', 'mse')\n",
        "SVG(model_to_dot(m, show_shapes=True).create(prog='dot', format='svg'))"
      ],
      "execution_count": 49,
      "outputs": [
        {
          "output_type": "stream",
          "text": [
            "/usr/local/lib/python3.6/dist-packages/ipykernel_launcher.py:19: UserWarning: Update your `Model` call to the Keras 2 API: `Model(inputs=Tensor(\"WA..., outputs=Tensor(\"wa...)`\n"
          ],
          "name": "stderr"
        },
        {
          "output_type": "execute_result",
          "data": {
            "text/plain": [
              "<IPython.core.display.SVG object>"
            ],
            "image/svg+xml": "<svg height=\"304pt\" viewBox=\"0.00 0.00 353.00 304.00\" width=\"353pt\" xmlns=\"http://www.w3.org/2000/svg\" xmlns:xlink=\"http://www.w3.org/1999/xlink\">\n<g class=\"graph\" id=\"graph0\" transform=\"scale(1 1) rotate(0) translate(4 300)\">\n<title>G</title>\n<polygon fill=\"#ffffff\" points=\"-4,4 -4,-300 349,-300 349,4 -4,4\" stroke=\"transparent\"/>\n<!-- 140270242018920 -->\n<g class=\"node\" id=\"node1\">\n<title>140270242018920</title>\n<polygon fill=\"none\" points=\"0,-249.5 0,-295.5 345,-295.5 345,-249.5 0,-249.5\" stroke=\"#000000\"/>\n<text fill=\"#000000\" font-family=\"Times,serif\" font-size=\"14.00\" text-anchor=\"middle\" x=\"119.5\" y=\"-268.8\">WAZIR_INPUT_LAYER: InputLayer</text>\n<polyline fill=\"none\" points=\"239,-249.5 239,-295.5 \" stroke=\"#000000\"/>\n<text fill=\"#000000\" font-family=\"Times,serif\" font-size=\"14.00\" text-anchor=\"middle\" x=\"268\" y=\"-280.3\">input:</text>\n<polyline fill=\"none\" points=\"239,-272.5 297,-272.5 \" stroke=\"#000000\"/>\n<text fill=\"#000000\" font-family=\"Times,serif\" font-size=\"14.00\" text-anchor=\"middle\" x=\"268\" y=\"-257.3\">output:</text>\n<polyline fill=\"none\" points=\"297,-249.5 297,-295.5 \" stroke=\"#000000\"/>\n<text fill=\"#000000\" font-family=\"Times,serif\" font-size=\"14.00\" text-anchor=\"middle\" x=\"321\" y=\"-280.3\">(2, 9)</text>\n<polyline fill=\"none\" points=\"297,-272.5 345,-272.5 \" stroke=\"#000000\"/>\n<text fill=\"#000000\" font-family=\"Times,serif\" font-size=\"14.00\" text-anchor=\"middle\" x=\"321\" y=\"-257.3\">(2, 9)</text>\n</g>\n<!-- 140270242017744 -->\n<g class=\"node\" id=\"node2\">\n<title>140270242017744</title>\n<polygon fill=\"none\" points=\"67,-166.5 67,-212.5 278,-212.5 278,-166.5 67,-166.5\" stroke=\"#000000\"/>\n<text fill=\"#000000\" font-family=\"Times,serif\" font-size=\"14.00\" text-anchor=\"middle\" x=\"119.5\" y=\"-185.8\">wazird1: Dense</text>\n<polyline fill=\"none\" points=\"172,-166.5 172,-212.5 \" stroke=\"#000000\"/>\n<text fill=\"#000000\" font-family=\"Times,serif\" font-size=\"14.00\" text-anchor=\"middle\" x=\"201\" y=\"-197.3\">input:</text>\n<polyline fill=\"none\" points=\"172,-189.5 230,-189.5 \" stroke=\"#000000\"/>\n<text fill=\"#000000\" font-family=\"Times,serif\" font-size=\"14.00\" text-anchor=\"middle\" x=\"201\" y=\"-174.3\">output:</text>\n<polyline fill=\"none\" points=\"230,-166.5 230,-212.5 \" stroke=\"#000000\"/>\n<text fill=\"#000000\" font-family=\"Times,serif\" font-size=\"14.00\" text-anchor=\"middle\" x=\"254\" y=\"-197.3\">(2, 9)</text>\n<polyline fill=\"none\" points=\"230,-189.5 278,-189.5 \" stroke=\"#000000\"/>\n<text fill=\"#000000\" font-family=\"Times,serif\" font-size=\"14.00\" text-anchor=\"middle\" x=\"254\" y=\"-174.3\">(2, 7)</text>\n</g>\n<!-- 140270242018920&#45;&gt;140270242017744 -->\n<g class=\"edge\" id=\"edge1\">\n<title>140270242018920-&gt;140270242017744</title>\n<path d=\"M172.5,-249.3799C172.5,-241.1745 172.5,-231.7679 172.5,-222.8786\" fill=\"none\" stroke=\"#000000\"/>\n<polygon fill=\"#000000\" points=\"176.0001,-222.784 172.5,-212.784 169.0001,-222.784 176.0001,-222.784\" stroke=\"#000000\"/>\n</g>\n<!-- 140270242001080 -->\n<g class=\"node\" id=\"node3\">\n<title>140270242001080</title>\n<polygon fill=\"none\" points=\"0,-83.5 0,-129.5 211,-129.5 211,-83.5 0,-83.5\" stroke=\"#000000\"/>\n<text fill=\"#000000\" font-family=\"Times,serif\" font-size=\"14.00\" text-anchor=\"middle\" x=\"52.5\" y=\"-102.8\">wazird2: Dense</text>\n<polyline fill=\"none\" points=\"105,-83.5 105,-129.5 \" stroke=\"#000000\"/>\n<text fill=\"#000000\" font-family=\"Times,serif\" font-size=\"14.00\" text-anchor=\"middle\" x=\"134\" y=\"-114.3\">input:</text>\n<polyline fill=\"none\" points=\"105,-106.5 163,-106.5 \" stroke=\"#000000\"/>\n<text fill=\"#000000\" font-family=\"Times,serif\" font-size=\"14.00\" text-anchor=\"middle\" x=\"134\" y=\"-91.3\">output:</text>\n<polyline fill=\"none\" points=\"163,-83.5 163,-129.5 \" stroke=\"#000000\"/>\n<text fill=\"#000000\" font-family=\"Times,serif\" font-size=\"14.00\" text-anchor=\"middle\" x=\"187\" y=\"-114.3\">(2, 7)</text>\n<polyline fill=\"none\" points=\"163,-106.5 211,-106.5 \" stroke=\"#000000\"/>\n<text fill=\"#000000\" font-family=\"Times,serif\" font-size=\"14.00\" text-anchor=\"middle\" x=\"187\" y=\"-91.3\">(2, 7)</text>\n</g>\n<!-- 140270242017744&#45;&gt;140270242001080 -->\n<g class=\"edge\" id=\"edge3\">\n<title>140270242017744-&gt;140270242001080</title>\n<path d=\"M153.8368,-166.3799C146.6372,-157.461 138.292,-147.1229 130.5827,-137.5725\" fill=\"none\" stroke=\"#000000\"/>\n<polygon fill=\"#000000\" points=\"133.3002,-135.3668 124.2955,-129.784 127.8533,-139.7636 133.3002,-135.3668\" stroke=\"#000000\"/>\n</g>\n<!-- 140270242001416 -->\n<g class=\"node\" id=\"node4\">\n<title>140270242001416</title>\n<polygon fill=\"none\" points=\"67,-.5 67,-46.5 278,-46.5 278,-.5 67,-.5\" stroke=\"#000000\"/>\n<text fill=\"#000000\" font-family=\"Times,serif\" font-size=\"14.00\" text-anchor=\"middle\" x=\"119.5\" y=\"-19.8\">wazird3: Dense</text>\n<polyline fill=\"none\" points=\"172,-.5 172,-46.5 \" stroke=\"#000000\"/>\n<text fill=\"#000000\" font-family=\"Times,serif\" font-size=\"14.00\" text-anchor=\"middle\" x=\"201\" y=\"-31.3\">input:</text>\n<polyline fill=\"none\" points=\"172,-23.5 230,-23.5 \" stroke=\"#000000\"/>\n<text fill=\"#000000\" font-family=\"Times,serif\" font-size=\"14.00\" text-anchor=\"middle\" x=\"201\" y=\"-8.3\">output:</text>\n<polyline fill=\"none\" points=\"230,-.5 230,-46.5 \" stroke=\"#000000\"/>\n<text fill=\"#000000\" font-family=\"Times,serif\" font-size=\"14.00\" text-anchor=\"middle\" x=\"254\" y=\"-31.3\">(2, 7)</text>\n<polyline fill=\"none\" points=\"230,-23.5 278,-23.5 \" stroke=\"#000000\"/>\n<text fill=\"#000000\" font-family=\"Times,serif\" font-size=\"14.00\" text-anchor=\"middle\" x=\"254\" y=\"-8.3\">(2, 9)</text>\n</g>\n<!-- 140270242017744&#45;&gt;140270242001416 -->\n<g class=\"edge\" id=\"edge5\">\n<title>140270242017744-&gt;140270242001416</title>\n<path d=\"M203.8976,-158.5771C210.6734,-150.0177 216.8835,-140.2427 220.5,-130 227.4546,-110.3028 227.4546,-102.6972 220.5,-83 216.8835,-72.7573 210.6734,-62.9823 203.8976,-54.4229\" fill=\"none\" stroke=\"#000000\"/>\n<polygon fill=\"#000000\" points=\"201.0784,-156.4906 197.2942,-166.3866 206.4236,-161.0104 201.0784,-156.4906\" stroke=\"#000000\"/>\n<polygon fill=\"#000000\" points=\"206.4236,-51.9896 197.2942,-46.6134 201.0784,-56.5094 206.4236,-51.9896\" stroke=\"#000000\"/>\n</g>\n<!-- 140270242001080&#45;&gt;140270242001416 -->\n<g class=\"edge\" id=\"edge4\">\n<title>140270242001080-&gt;140270242001416</title>\n<path d=\"M124.1632,-83.3799C131.3628,-74.461 139.708,-64.1229 147.4173,-54.5725\" fill=\"none\" stroke=\"#000000\"/>\n<polygon fill=\"#000000\" points=\"150.1467,-56.7636 153.7045,-46.784 144.6998,-52.3668 150.1467,-56.7636\" stroke=\"#000000\"/>\n</g>\n</g>\n</svg>"
          },
          "metadata": {
            "tags": []
          },
          "execution_count": 49
        }
      ]
    },
    {
      "metadata": {
        "id": "_TpTfizFDZ9A",
        "colab_type": "code",
        "colab": {
          "base_uri": "https://localhost:8080/",
          "height": 463
        },
        "outputId": "80cab066-6692-4319-e38f-628d7e10b1d2"
      },
      "cell_type": "code",
      "source": [
        "from keras.layers import Dense, Input\n",
        "from keras.models import Model\n",
        "from IPython.display import SVG\n",
        "from keras.utils.vis_utils import model_to_dot\n",
        "input = Input(batch_shape=(2, 5), dtype='float32', name='WAZIR_INPUT_LAYER')\n",
        "\n",
        "L1 = Dense(5,name='wazird1')\n",
        "L2 = Dense(5,name='wazird2')\n",
        "L3 = Dense(5,name='wazird3')\n",
        "\n",
        "\n",
        "o1 = L1(input)\n",
        "o2 = L2(o1)\n",
        "o3 = L3(o2)\n",
        "o4 = L1(o3)\n",
        "\n",
        "\n",
        "\n",
        "m = Model(input=input, output=o4)\n",
        "m.compile('rmsprop', 'mse')\n",
        "SVG(model_to_dot(m, show_shapes=True).create(prog='dot', format='svg'))"
      ],
      "execution_count": 51,
      "outputs": [
        {
          "output_type": "stream",
          "text": [
            "/usr/local/lib/python3.6/dist-packages/ipykernel_launcher.py:19: UserWarning: Update your `Model` call to the Keras 2 API: `Model(inputs=Tensor(\"WA..., outputs=Tensor(\"wa...)`\n"
          ],
          "name": "stderr"
        },
        {
          "output_type": "execute_result",
          "data": {
            "text/plain": [
              "<IPython.core.display.SVG object>"
            ],
            "image/svg+xml": "<svg height=\"304pt\" viewBox=\"0.00 0.00 353.00 304.00\" width=\"353pt\" xmlns=\"http://www.w3.org/2000/svg\" xmlns:xlink=\"http://www.w3.org/1999/xlink\">\n<g class=\"graph\" id=\"graph0\" transform=\"scale(1 1) rotate(0) translate(4 300)\">\n<title>G</title>\n<polygon fill=\"#ffffff\" points=\"-4,4 -4,-300 349,-300 349,4 -4,4\" stroke=\"transparent\"/>\n<!-- 140270270167696 -->\n<g class=\"node\" id=\"node1\">\n<title>140270270167696</title>\n<polygon fill=\"none\" points=\"0,-249.5 0,-295.5 345,-295.5 345,-249.5 0,-249.5\" stroke=\"#000000\"/>\n<text fill=\"#000000\" font-family=\"Times,serif\" font-size=\"14.00\" text-anchor=\"middle\" x=\"119.5\" y=\"-268.8\">WAZIR_INPUT_LAYER: InputLayer</text>\n<polyline fill=\"none\" points=\"239,-249.5 239,-295.5 \" stroke=\"#000000\"/>\n<text fill=\"#000000\" font-family=\"Times,serif\" font-size=\"14.00\" text-anchor=\"middle\" x=\"268\" y=\"-280.3\">input:</text>\n<polyline fill=\"none\" points=\"239,-272.5 297,-272.5 \" stroke=\"#000000\"/>\n<text fill=\"#000000\" font-family=\"Times,serif\" font-size=\"14.00\" text-anchor=\"middle\" x=\"268\" y=\"-257.3\">output:</text>\n<polyline fill=\"none\" points=\"297,-249.5 297,-295.5 \" stroke=\"#000000\"/>\n<text fill=\"#000000\" font-family=\"Times,serif\" font-size=\"14.00\" text-anchor=\"middle\" x=\"321\" y=\"-280.3\">(2, 5)</text>\n<polyline fill=\"none\" points=\"297,-272.5 345,-272.5 \" stroke=\"#000000\"/>\n<text fill=\"#000000\" font-family=\"Times,serif\" font-size=\"14.00\" text-anchor=\"middle\" x=\"321\" y=\"-257.3\">(2, 5)</text>\n</g>\n<!-- 140270270168144 -->\n<g class=\"node\" id=\"node2\">\n<title>140270270168144</title>\n<polygon fill=\"none\" points=\"67,-166.5 67,-212.5 278,-212.5 278,-166.5 67,-166.5\" stroke=\"#000000\"/>\n<text fill=\"#000000\" font-family=\"Times,serif\" font-size=\"14.00\" text-anchor=\"middle\" x=\"119.5\" y=\"-185.8\">wazird1: Dense</text>\n<polyline fill=\"none\" points=\"172,-166.5 172,-212.5 \" stroke=\"#000000\"/>\n<text fill=\"#000000\" font-family=\"Times,serif\" font-size=\"14.00\" text-anchor=\"middle\" x=\"201\" y=\"-197.3\">input:</text>\n<polyline fill=\"none\" points=\"172,-189.5 230,-189.5 \" stroke=\"#000000\"/>\n<text fill=\"#000000\" font-family=\"Times,serif\" font-size=\"14.00\" text-anchor=\"middle\" x=\"201\" y=\"-174.3\">output:</text>\n<polyline fill=\"none\" points=\"230,-166.5 230,-212.5 \" stroke=\"#000000\"/>\n<text fill=\"#000000\" font-family=\"Times,serif\" font-size=\"14.00\" text-anchor=\"middle\" x=\"254\" y=\"-197.3\">(2, 5)</text>\n<polyline fill=\"none\" points=\"230,-189.5 278,-189.5 \" stroke=\"#000000\"/>\n<text fill=\"#000000\" font-family=\"Times,serif\" font-size=\"14.00\" text-anchor=\"middle\" x=\"254\" y=\"-174.3\">(2, 5)</text>\n</g>\n<!-- 140270270167696&#45;&gt;140270270168144 -->\n<g class=\"edge\" id=\"edge1\">\n<title>140270270167696-&gt;140270270168144</title>\n<path d=\"M172.5,-249.3799C172.5,-241.1745 172.5,-231.7679 172.5,-222.8786\" fill=\"none\" stroke=\"#000000\"/>\n<polygon fill=\"#000000\" points=\"176.0001,-222.784 172.5,-212.784 169.0001,-222.784 176.0001,-222.784\" stroke=\"#000000\"/>\n</g>\n<!-- 140270238114424 -->\n<g class=\"node\" id=\"node3\">\n<title>140270238114424</title>\n<polygon fill=\"none\" points=\"0,-83.5 0,-129.5 211,-129.5 211,-83.5 0,-83.5\" stroke=\"#000000\"/>\n<text fill=\"#000000\" font-family=\"Times,serif\" font-size=\"14.00\" text-anchor=\"middle\" x=\"52.5\" y=\"-102.8\">wazird2: Dense</text>\n<polyline fill=\"none\" points=\"105,-83.5 105,-129.5 \" stroke=\"#000000\"/>\n<text fill=\"#000000\" font-family=\"Times,serif\" font-size=\"14.00\" text-anchor=\"middle\" x=\"134\" y=\"-114.3\">input:</text>\n<polyline fill=\"none\" points=\"105,-106.5 163,-106.5 \" stroke=\"#000000\"/>\n<text fill=\"#000000\" font-family=\"Times,serif\" font-size=\"14.00\" text-anchor=\"middle\" x=\"134\" y=\"-91.3\">output:</text>\n<polyline fill=\"none\" points=\"163,-83.5 163,-129.5 \" stroke=\"#000000\"/>\n<text fill=\"#000000\" font-family=\"Times,serif\" font-size=\"14.00\" text-anchor=\"middle\" x=\"187\" y=\"-114.3\">(2, 5)</text>\n<polyline fill=\"none\" points=\"163,-106.5 211,-106.5 \" stroke=\"#000000\"/>\n<text fill=\"#000000\" font-family=\"Times,serif\" font-size=\"14.00\" text-anchor=\"middle\" x=\"187\" y=\"-91.3\">(2, 5)</text>\n</g>\n<!-- 140270270168144&#45;&gt;140270238114424 -->\n<g class=\"edge\" id=\"edge3\">\n<title>140270270168144-&gt;140270238114424</title>\n<path d=\"M153.8368,-166.3799C146.6372,-157.461 138.292,-147.1229 130.5827,-137.5725\" fill=\"none\" stroke=\"#000000\"/>\n<polygon fill=\"#000000\" points=\"133.3002,-135.3668 124.2955,-129.784 127.8533,-139.7636 133.3002,-135.3668\" stroke=\"#000000\"/>\n</g>\n<!-- 140270270166912 -->\n<g class=\"node\" id=\"node4\">\n<title>140270270166912</title>\n<polygon fill=\"none\" points=\"67,-.5 67,-46.5 278,-46.5 278,-.5 67,-.5\" stroke=\"#000000\"/>\n<text fill=\"#000000\" font-family=\"Times,serif\" font-size=\"14.00\" text-anchor=\"middle\" x=\"119.5\" y=\"-19.8\">wazird3: Dense</text>\n<polyline fill=\"none\" points=\"172,-.5 172,-46.5 \" stroke=\"#000000\"/>\n<text fill=\"#000000\" font-family=\"Times,serif\" font-size=\"14.00\" text-anchor=\"middle\" x=\"201\" y=\"-31.3\">input:</text>\n<polyline fill=\"none\" points=\"172,-23.5 230,-23.5 \" stroke=\"#000000\"/>\n<text fill=\"#000000\" font-family=\"Times,serif\" font-size=\"14.00\" text-anchor=\"middle\" x=\"201\" y=\"-8.3\">output:</text>\n<polyline fill=\"none\" points=\"230,-.5 230,-46.5 \" stroke=\"#000000\"/>\n<text fill=\"#000000\" font-family=\"Times,serif\" font-size=\"14.00\" text-anchor=\"middle\" x=\"254\" y=\"-31.3\">(2, 5)</text>\n<polyline fill=\"none\" points=\"230,-23.5 278,-23.5 \" stroke=\"#000000\"/>\n<text fill=\"#000000\" font-family=\"Times,serif\" font-size=\"14.00\" text-anchor=\"middle\" x=\"254\" y=\"-8.3\">(2, 5)</text>\n</g>\n<!-- 140270238114424&#45;&gt;140270270166912 -->\n<g class=\"edge\" id=\"edge4\">\n<title>140270238114424-&gt;140270270166912</title>\n<path d=\"M124.1632,-83.3799C131.3628,-74.461 139.708,-64.1229 147.4173,-54.5725\" fill=\"none\" stroke=\"#000000\"/>\n<polygon fill=\"#000000\" points=\"150.1467,-56.7636 153.7045,-46.784 144.6998,-52.3668 150.1467,-56.7636\" stroke=\"#000000\"/>\n</g>\n<!-- 140270270166912&#45;&gt;140270270168144 -->\n<g class=\"edge\" id=\"edge2\">\n<title>140270270166912-&gt;140270270168144</title>\n<path d=\"M197.2942,-46.6134C206.4391,-56.7822 215.7277,-69.4838 220.5,-83 227.4546,-102.6972 227.4546,-110.3028 220.5,-130 216.8835,-140.2427 210.6734,-150.0177 203.8976,-158.5771\" fill=\"none\" stroke=\"#000000\"/>\n<polygon fill=\"#000000\" points=\"201.0784,-156.4906 197.2942,-166.3866 206.4236,-161.0104 201.0784,-156.4906\" stroke=\"#000000\"/>\n</g>\n</g>\n</svg>"
          },
          "metadata": {
            "tags": []
          },
          "execution_count": 51
        }
      ]
    },
    {
      "metadata": {
        "id": "u4O6kRlLEYb-",
        "colab_type": "code",
        "colab": {
          "base_uri": "https://localhost:8080/",
          "height": 574
        },
        "outputId": "647c2e2b-50bc-431b-abeb-79628d193ace"
      },
      "cell_type": "code",
      "source": [
        "from keras.layers import Dense, Input\n",
        "from keras.models import Model\n",
        "from IPython.display import SVG\n",
        "from keras.utils.vis_utils import model_to_dot\n",
        "input = Input(batch_shape=(2, 5), dtype='float32', name='WAZIR_INPUT_LAYER')\n",
        "\n",
        "L1 = Dense(5,name='wazird1')\n",
        "L2 = Dense(5,name='wazird2')\n",
        "L3 = Dense(5,name='wazird3')\n",
        "L4 = Dense(5,name='wazird4')\n",
        "\n",
        "o1 = L1(input)\n",
        "o2 = L2(o1)\n",
        "o3 = L3(o2)\n",
        "o4 = L4(o3)\n",
        "o5 = L1(o4)\n",
        "\n",
        "\n",
        "\n",
        "m = Model(input=input, output=o5)\n",
        "m.compile('rmsprop', 'mse')\n",
        "SVG(model_to_dot(m, show_shapes=True).create(prog='dot', format='svg'))"
      ],
      "execution_count": 52,
      "outputs": [
        {
          "output_type": "stream",
          "text": [
            "/usr/local/lib/python3.6/dist-packages/ipykernel_launcher.py:20: UserWarning: Update your `Model` call to the Keras 2 API: `Model(inputs=Tensor(\"WA..., outputs=Tensor(\"wa...)`\n"
          ],
          "name": "stderr"
        },
        {
          "output_type": "execute_result",
          "data": {
            "text/plain": [
              "<IPython.core.display.SVG object>"
            ],
            "image/svg+xml": "<svg height=\"387pt\" viewBox=\"0.00 0.00 353.00 387.00\" width=\"353pt\" xmlns=\"http://www.w3.org/2000/svg\" xmlns:xlink=\"http://www.w3.org/1999/xlink\">\n<g class=\"graph\" id=\"graph0\" transform=\"scale(1 1) rotate(0) translate(4 383)\">\n<title>G</title>\n<polygon fill=\"#ffffff\" points=\"-4,4 -4,-383 349,-383 349,4 -4,4\" stroke=\"transparent\"/>\n<!-- 140270232686776 -->\n<g class=\"node\" id=\"node1\">\n<title>140270232686776</title>\n<polygon fill=\"none\" points=\"0,-332.5 0,-378.5 345,-378.5 345,-332.5 0,-332.5\" stroke=\"#000000\"/>\n<text fill=\"#000000\" font-family=\"Times,serif\" font-size=\"14.00\" text-anchor=\"middle\" x=\"119.5\" y=\"-351.8\">WAZIR_INPUT_LAYER: InputLayer</text>\n<polyline fill=\"none\" points=\"239,-332.5 239,-378.5 \" stroke=\"#000000\"/>\n<text fill=\"#000000\" font-family=\"Times,serif\" font-size=\"14.00\" text-anchor=\"middle\" x=\"268\" y=\"-363.3\">input:</text>\n<polyline fill=\"none\" points=\"239,-355.5 297,-355.5 \" stroke=\"#000000\"/>\n<text fill=\"#000000\" font-family=\"Times,serif\" font-size=\"14.00\" text-anchor=\"middle\" x=\"268\" y=\"-340.3\">output:</text>\n<polyline fill=\"none\" points=\"297,-332.5 297,-378.5 \" stroke=\"#000000\"/>\n<text fill=\"#000000\" font-family=\"Times,serif\" font-size=\"14.00\" text-anchor=\"middle\" x=\"321\" y=\"-363.3\">(2, 5)</text>\n<polyline fill=\"none\" points=\"297,-355.5 345,-355.5 \" stroke=\"#000000\"/>\n<text fill=\"#000000\" font-family=\"Times,serif\" font-size=\"14.00\" text-anchor=\"middle\" x=\"321\" y=\"-340.3\">(2, 5)</text>\n</g>\n<!-- 140270252111856 -->\n<g class=\"node\" id=\"node2\">\n<title>140270252111856</title>\n<polygon fill=\"none\" points=\"67,-249.5 67,-295.5 278,-295.5 278,-249.5 67,-249.5\" stroke=\"#000000\"/>\n<text fill=\"#000000\" font-family=\"Times,serif\" font-size=\"14.00\" text-anchor=\"middle\" x=\"119.5\" y=\"-268.8\">wazird1: Dense</text>\n<polyline fill=\"none\" points=\"172,-249.5 172,-295.5 \" stroke=\"#000000\"/>\n<text fill=\"#000000\" font-family=\"Times,serif\" font-size=\"14.00\" text-anchor=\"middle\" x=\"201\" y=\"-280.3\">input:</text>\n<polyline fill=\"none\" points=\"172,-272.5 230,-272.5 \" stroke=\"#000000\"/>\n<text fill=\"#000000\" font-family=\"Times,serif\" font-size=\"14.00\" text-anchor=\"middle\" x=\"201\" y=\"-257.3\">output:</text>\n<polyline fill=\"none\" points=\"230,-249.5 230,-295.5 \" stroke=\"#000000\"/>\n<text fill=\"#000000\" font-family=\"Times,serif\" font-size=\"14.00\" text-anchor=\"middle\" x=\"254\" y=\"-280.3\">(2, 5)</text>\n<polyline fill=\"none\" points=\"230,-272.5 278,-272.5 \" stroke=\"#000000\"/>\n<text fill=\"#000000\" font-family=\"Times,serif\" font-size=\"14.00\" text-anchor=\"middle\" x=\"254\" y=\"-257.3\">(2, 5)</text>\n</g>\n<!-- 140270232686776&#45;&gt;140270252111856 -->\n<g class=\"edge\" id=\"edge1\">\n<title>140270232686776-&gt;140270252111856</title>\n<path d=\"M172.5,-332.3799C172.5,-324.1745 172.5,-314.7679 172.5,-305.8786\" fill=\"none\" stroke=\"#000000\"/>\n<polygon fill=\"#000000\" points=\"176.0001,-305.784 172.5,-295.784 169.0001,-305.784 176.0001,-305.784\" stroke=\"#000000\"/>\n</g>\n<!-- 140270270168760 -->\n<g class=\"node\" id=\"node3\">\n<title>140270270168760</title>\n<polygon fill=\"none\" points=\"0,-166.5 0,-212.5 211,-212.5 211,-166.5 0,-166.5\" stroke=\"#000000\"/>\n<text fill=\"#000000\" font-family=\"Times,serif\" font-size=\"14.00\" text-anchor=\"middle\" x=\"52.5\" y=\"-185.8\">wazird2: Dense</text>\n<polyline fill=\"none\" points=\"105,-166.5 105,-212.5 \" stroke=\"#000000\"/>\n<text fill=\"#000000\" font-family=\"Times,serif\" font-size=\"14.00\" text-anchor=\"middle\" x=\"134\" y=\"-197.3\">input:</text>\n<polyline fill=\"none\" points=\"105,-189.5 163,-189.5 \" stroke=\"#000000\"/>\n<text fill=\"#000000\" font-family=\"Times,serif\" font-size=\"14.00\" text-anchor=\"middle\" x=\"134\" y=\"-174.3\">output:</text>\n<polyline fill=\"none\" points=\"163,-166.5 163,-212.5 \" stroke=\"#000000\"/>\n<text fill=\"#000000\" font-family=\"Times,serif\" font-size=\"14.00\" text-anchor=\"middle\" x=\"187\" y=\"-197.3\">(2, 5)</text>\n<polyline fill=\"none\" points=\"163,-189.5 211,-189.5 \" stroke=\"#000000\"/>\n<text fill=\"#000000\" font-family=\"Times,serif\" font-size=\"14.00\" text-anchor=\"middle\" x=\"187\" y=\"-174.3\">(2, 5)</text>\n</g>\n<!-- 140270252111856&#45;&gt;140270270168760 -->\n<g class=\"edge\" id=\"edge3\">\n<title>140270252111856-&gt;140270270168760</title>\n<path d=\"M153.8368,-249.3799C146.6372,-240.461 138.292,-230.1229 130.5827,-220.5725\" fill=\"none\" stroke=\"#000000\"/>\n<polygon fill=\"#000000\" points=\"133.3002,-218.3668 124.2955,-212.784 127.8533,-222.7636 133.3002,-218.3668\" stroke=\"#000000\"/>\n</g>\n<!-- 140270243548912 -->\n<g class=\"node\" id=\"node4\">\n<title>140270243548912</title>\n<polygon fill=\"none\" points=\"0,-83.5 0,-129.5 211,-129.5 211,-83.5 0,-83.5\" stroke=\"#000000\"/>\n<text fill=\"#000000\" font-family=\"Times,serif\" font-size=\"14.00\" text-anchor=\"middle\" x=\"52.5\" y=\"-102.8\">wazird3: Dense</text>\n<polyline fill=\"none\" points=\"105,-83.5 105,-129.5 \" stroke=\"#000000\"/>\n<text fill=\"#000000\" font-family=\"Times,serif\" font-size=\"14.00\" text-anchor=\"middle\" x=\"134\" y=\"-114.3\">input:</text>\n<polyline fill=\"none\" points=\"105,-106.5 163,-106.5 \" stroke=\"#000000\"/>\n<text fill=\"#000000\" font-family=\"Times,serif\" font-size=\"14.00\" text-anchor=\"middle\" x=\"134\" y=\"-91.3\">output:</text>\n<polyline fill=\"none\" points=\"163,-83.5 163,-129.5 \" stroke=\"#000000\"/>\n<text fill=\"#000000\" font-family=\"Times,serif\" font-size=\"14.00\" text-anchor=\"middle\" x=\"187\" y=\"-114.3\">(2, 5)</text>\n<polyline fill=\"none\" points=\"163,-106.5 211,-106.5 \" stroke=\"#000000\"/>\n<text fill=\"#000000\" font-family=\"Times,serif\" font-size=\"14.00\" text-anchor=\"middle\" x=\"187\" y=\"-91.3\">(2, 5)</text>\n</g>\n<!-- 140270270168760&#45;&gt;140270243548912 -->\n<g class=\"edge\" id=\"edge4\">\n<title>140270270168760-&gt;140270243548912</title>\n<path d=\"M105.5,-166.3799C105.5,-158.1745 105.5,-148.7679 105.5,-139.8786\" fill=\"none\" stroke=\"#000000\"/>\n<polygon fill=\"#000000\" points=\"109.0001,-139.784 105.5,-129.784 102.0001,-139.784 109.0001,-139.784\" stroke=\"#000000\"/>\n</g>\n<!-- 140270232687448 -->\n<g class=\"node\" id=\"node5\">\n<title>140270232687448</title>\n<polygon fill=\"none\" points=\"67,-.5 67,-46.5 278,-46.5 278,-.5 67,-.5\" stroke=\"#000000\"/>\n<text fill=\"#000000\" font-family=\"Times,serif\" font-size=\"14.00\" text-anchor=\"middle\" x=\"119.5\" y=\"-19.8\">wazird4: Dense</text>\n<polyline fill=\"none\" points=\"172,-.5 172,-46.5 \" stroke=\"#000000\"/>\n<text fill=\"#000000\" font-family=\"Times,serif\" font-size=\"14.00\" text-anchor=\"middle\" x=\"201\" y=\"-31.3\">input:</text>\n<polyline fill=\"none\" points=\"172,-23.5 230,-23.5 \" stroke=\"#000000\"/>\n<text fill=\"#000000\" font-family=\"Times,serif\" font-size=\"14.00\" text-anchor=\"middle\" x=\"201\" y=\"-8.3\">output:</text>\n<polyline fill=\"none\" points=\"230,-.5 230,-46.5 \" stroke=\"#000000\"/>\n<text fill=\"#000000\" font-family=\"Times,serif\" font-size=\"14.00\" text-anchor=\"middle\" x=\"254\" y=\"-31.3\">(2, 5)</text>\n<polyline fill=\"none\" points=\"230,-23.5 278,-23.5 \" stroke=\"#000000\"/>\n<text fill=\"#000000\" font-family=\"Times,serif\" font-size=\"14.00\" text-anchor=\"middle\" x=\"254\" y=\"-8.3\">(2, 5)</text>\n</g>\n<!-- 140270243548912&#45;&gt;140270232687448 -->\n<g class=\"edge\" id=\"edge5\">\n<title>140270243548912-&gt;140270232687448</title>\n<path d=\"M124.1632,-83.3799C131.3628,-74.461 139.708,-64.1229 147.4173,-54.5725\" fill=\"none\" stroke=\"#000000\"/>\n<polygon fill=\"#000000\" points=\"150.1467,-56.7636 153.7045,-46.784 144.6998,-52.3668 150.1467,-56.7636\" stroke=\"#000000\"/>\n</g>\n<!-- 140270232687448&#45;&gt;140270252111856 -->\n<g class=\"edge\" id=\"edge2\">\n<title>140270232687448-&gt;140270252111856</title>\n<path d=\"M197.2942,-46.6134C206.4391,-56.7822 215.7277,-69.4838 220.5,-83 239.7362,-137.4816 239.7362,-158.5184 220.5,-213 216.8835,-223.2427 210.6734,-233.0177 203.8976,-241.5771\" fill=\"none\" stroke=\"#000000\"/>\n<polygon fill=\"#000000\" points=\"201.0784,-239.4906 197.2942,-249.3866 206.4236,-244.0104 201.0784,-239.4906\" stroke=\"#000000\"/>\n</g>\n</g>\n</svg>"
          },
          "metadata": {
            "tags": []
          },
          "execution_count": 52
        }
      ]
    },
    {
      "metadata": {
        "id": "xtLGYfZnEt7-",
        "colab_type": "code",
        "colab": {
          "base_uri": "https://localhost:8080/",
          "height": 684
        },
        "outputId": "f2667a01-3aee-4fd6-c94a-c63191d9a8be"
      },
      "cell_type": "code",
      "source": [
        "from keras.layers import Dense, Input\n",
        "from keras.models import Model\n",
        "from IPython.display import SVG\n",
        "from keras.utils.vis_utils import model_to_dot\n",
        "input = Input(batch_shape=(2, 5), dtype='float32', name='WAZIR_INPUT_LAYER')\n",
        "\n",
        "L1 = Dense(5,name='wazird1')\n",
        "L2 = Dense(5,name='wazird2')\n",
        "L3 = Dense(5,name='wazird3')\n",
        "L4 = Dense(5,name='wazird4')\n",
        "L5 = Dense(5,name='wazird5')\n",
        "\n",
        "o1 = L1(input)\n",
        "o2 = L2(o1)\n",
        "o3 = L3(o2)\n",
        "o4 = L4(o3)\n",
        "o5 = L5(o4)\n",
        "o6 = L1(o5)\n",
        "\n",
        "\n",
        "\n",
        "m = Model(input=input, output=o6)\n",
        "m.compile('rmsprop', 'mse')\n",
        "SVG(model_to_dot(m, show_shapes=True).create(prog='dot', format='svg'))"
      ],
      "execution_count": 54,
      "outputs": [
        {
          "output_type": "stream",
          "text": [
            "/usr/local/lib/python3.6/dist-packages/ipykernel_launcher.py:22: UserWarning: Update your `Model` call to the Keras 2 API: `Model(inputs=Tensor(\"WA..., outputs=Tensor(\"wa...)`\n"
          ],
          "name": "stderr"
        },
        {
          "output_type": "execute_result",
          "data": {
            "text/plain": [
              "<IPython.core.display.SVG object>"
            ],
            "image/svg+xml": "<svg height=\"470pt\" viewBox=\"0.00 0.00 353.00 470.00\" width=\"353pt\" xmlns=\"http://www.w3.org/2000/svg\" xmlns:xlink=\"http://www.w3.org/1999/xlink\">\n<g class=\"graph\" id=\"graph0\" transform=\"scale(1 1) rotate(0) translate(4 466)\">\n<title>G</title>\n<polygon fill=\"#ffffff\" points=\"-4,4 -4,-466 349,-466 349,4 -4,4\" stroke=\"transparent\"/>\n<!-- 140270231472392 -->\n<g class=\"node\" id=\"node1\">\n<title>140270231472392</title>\n<polygon fill=\"none\" points=\"0,-415.5 0,-461.5 345,-461.5 345,-415.5 0,-415.5\" stroke=\"#000000\"/>\n<text fill=\"#000000\" font-family=\"Times,serif\" font-size=\"14.00\" text-anchor=\"middle\" x=\"119.5\" y=\"-434.8\">WAZIR_INPUT_LAYER: InputLayer</text>\n<polyline fill=\"none\" points=\"239,-415.5 239,-461.5 \" stroke=\"#000000\"/>\n<text fill=\"#000000\" font-family=\"Times,serif\" font-size=\"14.00\" text-anchor=\"middle\" x=\"268\" y=\"-446.3\">input:</text>\n<polyline fill=\"none\" points=\"239,-438.5 297,-438.5 \" stroke=\"#000000\"/>\n<text fill=\"#000000\" font-family=\"Times,serif\" font-size=\"14.00\" text-anchor=\"middle\" x=\"268\" y=\"-423.3\">output:</text>\n<polyline fill=\"none\" points=\"297,-415.5 297,-461.5 \" stroke=\"#000000\"/>\n<text fill=\"#000000\" font-family=\"Times,serif\" font-size=\"14.00\" text-anchor=\"middle\" x=\"321\" y=\"-446.3\">(2, 5)</text>\n<polyline fill=\"none\" points=\"297,-438.5 345,-438.5 \" stroke=\"#000000\"/>\n<text fill=\"#000000\" font-family=\"Times,serif\" font-size=\"14.00\" text-anchor=\"middle\" x=\"321\" y=\"-423.3\">(2, 5)</text>\n</g>\n<!-- 140270231480192 -->\n<g class=\"node\" id=\"node2\">\n<title>140270231480192</title>\n<polygon fill=\"none\" points=\"67,-332.5 67,-378.5 278,-378.5 278,-332.5 67,-332.5\" stroke=\"#000000\"/>\n<text fill=\"#000000\" font-family=\"Times,serif\" font-size=\"14.00\" text-anchor=\"middle\" x=\"119.5\" y=\"-351.8\">wazird1: Dense</text>\n<polyline fill=\"none\" points=\"172,-332.5 172,-378.5 \" stroke=\"#000000\"/>\n<text fill=\"#000000\" font-family=\"Times,serif\" font-size=\"14.00\" text-anchor=\"middle\" x=\"201\" y=\"-363.3\">input:</text>\n<polyline fill=\"none\" points=\"172,-355.5 230,-355.5 \" stroke=\"#000000\"/>\n<text fill=\"#000000\" font-family=\"Times,serif\" font-size=\"14.00\" text-anchor=\"middle\" x=\"201\" y=\"-340.3\">output:</text>\n<polyline fill=\"none\" points=\"230,-332.5 230,-378.5 \" stroke=\"#000000\"/>\n<text fill=\"#000000\" font-family=\"Times,serif\" font-size=\"14.00\" text-anchor=\"middle\" x=\"254\" y=\"-363.3\">(2, 5)</text>\n<polyline fill=\"none\" points=\"230,-355.5 278,-355.5 \" stroke=\"#000000\"/>\n<text fill=\"#000000\" font-family=\"Times,serif\" font-size=\"14.00\" text-anchor=\"middle\" x=\"254\" y=\"-340.3\">(2, 5)</text>\n</g>\n<!-- 140270231472392&#45;&gt;140270231480192 -->\n<g class=\"edge\" id=\"edge1\">\n<title>140270231472392-&gt;140270231480192</title>\n<path d=\"M172.5,-415.3799C172.5,-407.1745 172.5,-397.7679 172.5,-388.8786\" fill=\"none\" stroke=\"#000000\"/>\n<polygon fill=\"#000000\" points=\"176.0001,-388.784 172.5,-378.784 169.0001,-388.784 176.0001,-388.784\" stroke=\"#000000\"/>\n</g>\n<!-- 140270231470376 -->\n<g class=\"node\" id=\"node3\">\n<title>140270231470376</title>\n<polygon fill=\"none\" points=\"0,-249.5 0,-295.5 211,-295.5 211,-249.5 0,-249.5\" stroke=\"#000000\"/>\n<text fill=\"#000000\" font-family=\"Times,serif\" font-size=\"14.00\" text-anchor=\"middle\" x=\"52.5\" y=\"-268.8\">wazird2: Dense</text>\n<polyline fill=\"none\" points=\"105,-249.5 105,-295.5 \" stroke=\"#000000\"/>\n<text fill=\"#000000\" font-family=\"Times,serif\" font-size=\"14.00\" text-anchor=\"middle\" x=\"134\" y=\"-280.3\">input:</text>\n<polyline fill=\"none\" points=\"105,-272.5 163,-272.5 \" stroke=\"#000000\"/>\n<text fill=\"#000000\" font-family=\"Times,serif\" font-size=\"14.00\" text-anchor=\"middle\" x=\"134\" y=\"-257.3\">output:</text>\n<polyline fill=\"none\" points=\"163,-249.5 163,-295.5 \" stroke=\"#000000\"/>\n<text fill=\"#000000\" font-family=\"Times,serif\" font-size=\"14.00\" text-anchor=\"middle\" x=\"187\" y=\"-280.3\">(2, 5)</text>\n<polyline fill=\"none\" points=\"163,-272.5 211,-272.5 \" stroke=\"#000000\"/>\n<text fill=\"#000000\" font-family=\"Times,serif\" font-size=\"14.00\" text-anchor=\"middle\" x=\"187\" y=\"-257.3\">(2, 5)</text>\n</g>\n<!-- 140270231480192&#45;&gt;140270231470376 -->\n<g class=\"edge\" id=\"edge3\">\n<title>140270231480192-&gt;140270231470376</title>\n<path d=\"M153.8368,-332.3799C146.6372,-323.461 138.292,-313.1229 130.5827,-303.5725\" fill=\"none\" stroke=\"#000000\"/>\n<polygon fill=\"#000000\" points=\"133.3002,-301.3668 124.2955,-295.784 127.8533,-305.7636 133.3002,-301.3668\" stroke=\"#000000\"/>\n</g>\n<!-- 140270231472112 -->\n<g class=\"node\" id=\"node4\">\n<title>140270231472112</title>\n<polygon fill=\"none\" points=\"0,-166.5 0,-212.5 211,-212.5 211,-166.5 0,-166.5\" stroke=\"#000000\"/>\n<text fill=\"#000000\" font-family=\"Times,serif\" font-size=\"14.00\" text-anchor=\"middle\" x=\"52.5\" y=\"-185.8\">wazird3: Dense</text>\n<polyline fill=\"none\" points=\"105,-166.5 105,-212.5 \" stroke=\"#000000\"/>\n<text fill=\"#000000\" font-family=\"Times,serif\" font-size=\"14.00\" text-anchor=\"middle\" x=\"134\" y=\"-197.3\">input:</text>\n<polyline fill=\"none\" points=\"105,-189.5 163,-189.5 \" stroke=\"#000000\"/>\n<text fill=\"#000000\" font-family=\"Times,serif\" font-size=\"14.00\" text-anchor=\"middle\" x=\"134\" y=\"-174.3\">output:</text>\n<polyline fill=\"none\" points=\"163,-166.5 163,-212.5 \" stroke=\"#000000\"/>\n<text fill=\"#000000\" font-family=\"Times,serif\" font-size=\"14.00\" text-anchor=\"middle\" x=\"187\" y=\"-197.3\">(2, 5)</text>\n<polyline fill=\"none\" points=\"163,-189.5 211,-189.5 \" stroke=\"#000000\"/>\n<text fill=\"#000000\" font-family=\"Times,serif\" font-size=\"14.00\" text-anchor=\"middle\" x=\"187\" y=\"-174.3\">(2, 5)</text>\n</g>\n<!-- 140270231470376&#45;&gt;140270231472112 -->\n<g class=\"edge\" id=\"edge4\">\n<title>140270231470376-&gt;140270231472112</title>\n<path d=\"M105.5,-249.3799C105.5,-241.1745 105.5,-231.7679 105.5,-222.8786\" fill=\"none\" stroke=\"#000000\"/>\n<polygon fill=\"#000000\" points=\"109.0001,-222.784 105.5,-212.784 102.0001,-222.784 109.0001,-222.784\" stroke=\"#000000\"/>\n</g>\n<!-- 140270231471328 -->\n<g class=\"node\" id=\"node5\">\n<title>140270231471328</title>\n<polygon fill=\"none\" points=\"0,-83.5 0,-129.5 211,-129.5 211,-83.5 0,-83.5\" stroke=\"#000000\"/>\n<text fill=\"#000000\" font-family=\"Times,serif\" font-size=\"14.00\" text-anchor=\"middle\" x=\"52.5\" y=\"-102.8\">wazird4: Dense</text>\n<polyline fill=\"none\" points=\"105,-83.5 105,-129.5 \" stroke=\"#000000\"/>\n<text fill=\"#000000\" font-family=\"Times,serif\" font-size=\"14.00\" text-anchor=\"middle\" x=\"134\" y=\"-114.3\">input:</text>\n<polyline fill=\"none\" points=\"105,-106.5 163,-106.5 \" stroke=\"#000000\"/>\n<text fill=\"#000000\" font-family=\"Times,serif\" font-size=\"14.00\" text-anchor=\"middle\" x=\"134\" y=\"-91.3\">output:</text>\n<polyline fill=\"none\" points=\"163,-83.5 163,-129.5 \" stroke=\"#000000\"/>\n<text fill=\"#000000\" font-family=\"Times,serif\" font-size=\"14.00\" text-anchor=\"middle\" x=\"187\" y=\"-114.3\">(2, 5)</text>\n<polyline fill=\"none\" points=\"163,-106.5 211,-106.5 \" stroke=\"#000000\"/>\n<text fill=\"#000000\" font-family=\"Times,serif\" font-size=\"14.00\" text-anchor=\"middle\" x=\"187\" y=\"-91.3\">(2, 5)</text>\n</g>\n<!-- 140270231472112&#45;&gt;140270231471328 -->\n<g class=\"edge\" id=\"edge5\">\n<title>140270231472112-&gt;140270231471328</title>\n<path d=\"M105.5,-166.3799C105.5,-158.1745 105.5,-148.7679 105.5,-139.8786\" fill=\"none\" stroke=\"#000000\"/>\n<polygon fill=\"#000000\" points=\"109.0001,-139.784 105.5,-129.784 102.0001,-139.784 109.0001,-139.784\" stroke=\"#000000\"/>\n</g>\n<!-- 140270231470936 -->\n<g class=\"node\" id=\"node6\">\n<title>140270231470936</title>\n<polygon fill=\"none\" points=\"67,-.5 67,-46.5 278,-46.5 278,-.5 67,-.5\" stroke=\"#000000\"/>\n<text fill=\"#000000\" font-family=\"Times,serif\" font-size=\"14.00\" text-anchor=\"middle\" x=\"119.5\" y=\"-19.8\">wazird5: Dense</text>\n<polyline fill=\"none\" points=\"172,-.5 172,-46.5 \" stroke=\"#000000\"/>\n<text fill=\"#000000\" font-family=\"Times,serif\" font-size=\"14.00\" text-anchor=\"middle\" x=\"201\" y=\"-31.3\">input:</text>\n<polyline fill=\"none\" points=\"172,-23.5 230,-23.5 \" stroke=\"#000000\"/>\n<text fill=\"#000000\" font-family=\"Times,serif\" font-size=\"14.00\" text-anchor=\"middle\" x=\"201\" y=\"-8.3\">output:</text>\n<polyline fill=\"none\" points=\"230,-.5 230,-46.5 \" stroke=\"#000000\"/>\n<text fill=\"#000000\" font-family=\"Times,serif\" font-size=\"14.00\" text-anchor=\"middle\" x=\"254\" y=\"-31.3\">(2, 5)</text>\n<polyline fill=\"none\" points=\"230,-23.5 278,-23.5 \" stroke=\"#000000\"/>\n<text fill=\"#000000\" font-family=\"Times,serif\" font-size=\"14.00\" text-anchor=\"middle\" x=\"254\" y=\"-8.3\">(2, 5)</text>\n</g>\n<!-- 140270231471328&#45;&gt;140270231470936 -->\n<g class=\"edge\" id=\"edge6\">\n<title>140270231471328-&gt;140270231470936</title>\n<path d=\"M124.1632,-83.3799C131.3628,-74.461 139.708,-64.1229 147.4173,-54.5725\" fill=\"none\" stroke=\"#000000\"/>\n<polygon fill=\"#000000\" points=\"150.1467,-56.7636 153.7045,-46.784 144.6998,-52.3668 150.1467,-56.7636\" stroke=\"#000000\"/>\n</g>\n<!-- 140270231470936&#45;&gt;140270231480192 -->\n<g class=\"edge\" id=\"edge2\">\n<title>140270231470936-&gt;140270231480192</title>\n<path d=\"M196.786,-46.6998C205.7417,-56.8818 214.8356,-69.57 219.5,-83 250.5592,-172.4265 250.5592,-206.5735 219.5,-296 215.9652,-306.1774 209.8868,-315.9288 203.2523,-324.4864\" fill=\"none\" stroke=\"#000000\"/>\n<polygon fill=\"#000000\" points=\"200.4651,-322.3646 196.786,-332.3002 205.858,-326.8275 200.4651,-322.3646\" stroke=\"#000000\"/>\n</g>\n</g>\n</svg>"
          },
          "metadata": {
            "tags": []
          },
          "execution_count": 54
        }
      ]
    },
    {
      "metadata": {
        "id": "ntJhp25uFR4E",
        "colab_type": "code",
        "colab": {
          "base_uri": "https://localhost:8080/",
          "height": 684
        },
        "outputId": "ff42688a-f46d-4d6e-ff82-31d9c251cdbc"
      },
      "cell_type": "code",
      "source": [
        "from keras.layers import Dense, Input\n",
        "from keras.models import Model\n",
        "from IPython.display import SVG\n",
        "from keras.utils.vis_utils import model_to_dot\n",
        "input = Input(batch_shape=(2, 5), dtype='float32', name='WAZIR_INPUT_LAYER')\n",
        "\n",
        "L1 = Dense(5,name='wazird1')\n",
        "L2 = Dense(5,name='wazird2')\n",
        "L3 = Dense(5,name='wazird3')\n",
        "L4 = Dense(5,name='wazird4')\n",
        "L5 = Dense(5,name='wazird5')\n",
        "\n",
        "o1 = L1(input)\n",
        "o2 = L2(o1)\n",
        "o3 = L3(o2)\n",
        "o4 = L4(o3)\n",
        "o5 = L5(o4)\n",
        "o6 = L1(o5)\n",
        "\n",
        "\n",
        "C1 =  Dense(5,name='wazird6')(o6)\n",
        "A1 = Activation('relu', name='act1')(C1)\n",
        "C2 =  Dense(5,name='wazird7')(A1)\n",
        "\n",
        "\n",
        "m = Model(input=input, output=C2)\n",
        "m.compile('rmsprop', 'mse')\n",
        "SVG(model_to_dot(m, show_shapes=True).create(prog='dot', format='svg'))"
      ],
      "execution_count": 57,
      "outputs": [
        {
          "output_type": "stream",
          "text": [
            "/usr/local/lib/python3.6/dist-packages/ipykernel_launcher.py:26: UserWarning: Update your `Model` call to the Keras 2 API: `Model(inputs=Tensor(\"WA..., outputs=Tensor(\"wa...)`\n"
          ],
          "name": "stderr"
        },
        {
          "output_type": "execute_result",
          "data": {
            "text/plain": [
              "<IPython.core.display.SVG object>"
            ],
            "image/svg+xml": "<svg height=\"470pt\" viewBox=\"0.00 0.00 516.00 470.00\" width=\"516pt\" xmlns=\"http://www.w3.org/2000/svg\" xmlns:xlink=\"http://www.w3.org/1999/xlink\">\n<g class=\"graph\" id=\"graph0\" transform=\"scale(1 1) rotate(0) translate(4 466)\">\n<title>G</title>\n<polygon fill=\"#ffffff\" points=\"-4,4 -4,-466 512,-466 512,4 -4,4\" stroke=\"transparent\"/>\n<!-- 140270228238232 -->\n<g class=\"node\" id=\"node1\">\n<title>140270228238232</title>\n<polygon fill=\"none\" points=\"163,-415.5 163,-461.5 508,-461.5 508,-415.5 163,-415.5\" stroke=\"#000000\"/>\n<text fill=\"#000000\" font-family=\"Times,serif\" font-size=\"14.00\" text-anchor=\"middle\" x=\"282.5\" y=\"-434.8\">WAZIR_INPUT_LAYER: InputLayer</text>\n<polyline fill=\"none\" points=\"402,-415.5 402,-461.5 \" stroke=\"#000000\"/>\n<text fill=\"#000000\" font-family=\"Times,serif\" font-size=\"14.00\" text-anchor=\"middle\" x=\"431\" y=\"-446.3\">input:</text>\n<polyline fill=\"none\" points=\"402,-438.5 460,-438.5 \" stroke=\"#000000\"/>\n<text fill=\"#000000\" font-family=\"Times,serif\" font-size=\"14.00\" text-anchor=\"middle\" x=\"431\" y=\"-423.3\">output:</text>\n<polyline fill=\"none\" points=\"460,-415.5 460,-461.5 \" stroke=\"#000000\"/>\n<text fill=\"#000000\" font-family=\"Times,serif\" font-size=\"14.00\" text-anchor=\"middle\" x=\"484\" y=\"-446.3\">(2, 5)</text>\n<polyline fill=\"none\" points=\"460,-438.5 508,-438.5 \" stroke=\"#000000\"/>\n<text fill=\"#000000\" font-family=\"Times,serif\" font-size=\"14.00\" text-anchor=\"middle\" x=\"484\" y=\"-423.3\">(2, 5)</text>\n</g>\n<!-- 140270228238288 -->\n<g class=\"node\" id=\"node2\">\n<title>140270228238288</title>\n<polygon fill=\"none\" points=\"230,-332.5 230,-378.5 441,-378.5 441,-332.5 230,-332.5\" stroke=\"#000000\"/>\n<text fill=\"#000000\" font-family=\"Times,serif\" font-size=\"14.00\" text-anchor=\"middle\" x=\"282.5\" y=\"-351.8\">wazird1: Dense</text>\n<polyline fill=\"none\" points=\"335,-332.5 335,-378.5 \" stroke=\"#000000\"/>\n<text fill=\"#000000\" font-family=\"Times,serif\" font-size=\"14.00\" text-anchor=\"middle\" x=\"364\" y=\"-363.3\">input:</text>\n<polyline fill=\"none\" points=\"335,-355.5 393,-355.5 \" stroke=\"#000000\"/>\n<text fill=\"#000000\" font-family=\"Times,serif\" font-size=\"14.00\" text-anchor=\"middle\" x=\"364\" y=\"-340.3\">output:</text>\n<polyline fill=\"none\" points=\"393,-332.5 393,-378.5 \" stroke=\"#000000\"/>\n<text fill=\"#000000\" font-family=\"Times,serif\" font-size=\"14.00\" text-anchor=\"middle\" x=\"417\" y=\"-363.3\">(2, 5)</text>\n<polyline fill=\"none\" points=\"393,-355.5 441,-355.5 \" stroke=\"#000000\"/>\n<text fill=\"#000000\" font-family=\"Times,serif\" font-size=\"14.00\" text-anchor=\"middle\" x=\"417\" y=\"-340.3\">(2, 5)</text>\n</g>\n<!-- 140270228238232&#45;&gt;140270228238288 -->\n<g class=\"edge\" id=\"edge1\">\n<title>140270228238232-&gt;140270228238288</title>\n<path d=\"M335.5,-415.3799C335.5,-407.1745 335.5,-397.7679 335.5,-388.8786\" fill=\"none\" stroke=\"#000000\"/>\n<polygon fill=\"#000000\" points=\"339.0001,-388.784 335.5,-378.784 332.0001,-388.784 339.0001,-388.784\" stroke=\"#000000\"/>\n</g>\n<!-- 140270228246600 -->\n<g class=\"node\" id=\"node3\">\n<title>140270228246600</title>\n<polygon fill=\"none\" points=\"1,-249.5 1,-295.5 212,-295.5 212,-249.5 1,-249.5\" stroke=\"#000000\"/>\n<text fill=\"#000000\" font-family=\"Times,serif\" font-size=\"14.00\" text-anchor=\"middle\" x=\"53.5\" y=\"-268.8\">wazird2: Dense</text>\n<polyline fill=\"none\" points=\"106,-249.5 106,-295.5 \" stroke=\"#000000\"/>\n<text fill=\"#000000\" font-family=\"Times,serif\" font-size=\"14.00\" text-anchor=\"middle\" x=\"135\" y=\"-280.3\">input:</text>\n<polyline fill=\"none\" points=\"106,-272.5 164,-272.5 \" stroke=\"#000000\"/>\n<text fill=\"#000000\" font-family=\"Times,serif\" font-size=\"14.00\" text-anchor=\"middle\" x=\"135\" y=\"-257.3\">output:</text>\n<polyline fill=\"none\" points=\"164,-249.5 164,-295.5 \" stroke=\"#000000\"/>\n<text fill=\"#000000\" font-family=\"Times,serif\" font-size=\"14.00\" text-anchor=\"middle\" x=\"188\" y=\"-280.3\">(2, 5)</text>\n<polyline fill=\"none\" points=\"164,-272.5 212,-272.5 \" stroke=\"#000000\"/>\n<text fill=\"#000000\" font-family=\"Times,serif\" font-size=\"14.00\" text-anchor=\"middle\" x=\"188\" y=\"-257.3\">(2, 5)</text>\n</g>\n<!-- 140270228238288&#45;&gt;140270228246600 -->\n<g class=\"edge\" id=\"edge3\">\n<title>140270228238288-&gt;140270228246600</title>\n<path d=\"M272.0148,-332.4901C243.3493,-322.1004 209.3216,-309.7672 179.5963,-298.9934\" fill=\"none\" stroke=\"#000000\"/>\n<polygon fill=\"#000000\" points=\"180.7028,-295.6717 170.1087,-295.5547 178.3175,-302.2528 180.7028,-295.6717\" stroke=\"#000000\"/>\n</g>\n<!-- 140270228248280 -->\n<g class=\"node\" id=\"node7\">\n<title>140270228248280</title>\n<polygon fill=\"none\" points=\"230,-249.5 230,-295.5 441,-295.5 441,-249.5 230,-249.5\" stroke=\"#000000\"/>\n<text fill=\"#000000\" font-family=\"Times,serif\" font-size=\"14.00\" text-anchor=\"middle\" x=\"282.5\" y=\"-268.8\">wazird6: Dense</text>\n<polyline fill=\"none\" points=\"335,-249.5 335,-295.5 \" stroke=\"#000000\"/>\n<text fill=\"#000000\" font-family=\"Times,serif\" font-size=\"14.00\" text-anchor=\"middle\" x=\"364\" y=\"-280.3\">input:</text>\n<polyline fill=\"none\" points=\"335,-272.5 393,-272.5 \" stroke=\"#000000\"/>\n<text fill=\"#000000\" font-family=\"Times,serif\" font-size=\"14.00\" text-anchor=\"middle\" x=\"364\" y=\"-257.3\">output:</text>\n<polyline fill=\"none\" points=\"393,-249.5 393,-295.5 \" stroke=\"#000000\"/>\n<text fill=\"#000000\" font-family=\"Times,serif\" font-size=\"14.00\" text-anchor=\"middle\" x=\"417\" y=\"-280.3\">(2, 5)</text>\n<polyline fill=\"none\" points=\"393,-272.5 441,-272.5 \" stroke=\"#000000\"/>\n<text fill=\"#000000\" font-family=\"Times,serif\" font-size=\"14.00\" text-anchor=\"middle\" x=\"417\" y=\"-257.3\">(2, 5)</text>\n</g>\n<!-- 140270228238288&#45;&gt;140270228248280 -->\n<g class=\"edge\" id=\"edge7\">\n<title>140270228238288-&gt;140270228248280</title>\n<path d=\"M335.5,-332.3799C335.5,-324.1745 335.5,-314.7679 335.5,-305.8786\" fill=\"none\" stroke=\"#000000\"/>\n<polygon fill=\"#000000\" points=\"339.0001,-305.784 335.5,-295.784 332.0001,-305.784 339.0001,-305.784\" stroke=\"#000000\"/>\n</g>\n<!-- 140270228246880 -->\n<g class=\"node\" id=\"node4\">\n<title>140270228246880</title>\n<polygon fill=\"none\" points=\"0,-166.5 0,-212.5 211,-212.5 211,-166.5 0,-166.5\" stroke=\"#000000\"/>\n<text fill=\"#000000\" font-family=\"Times,serif\" font-size=\"14.00\" text-anchor=\"middle\" x=\"52.5\" y=\"-185.8\">wazird3: Dense</text>\n<polyline fill=\"none\" points=\"105,-166.5 105,-212.5 \" stroke=\"#000000\"/>\n<text fill=\"#000000\" font-family=\"Times,serif\" font-size=\"14.00\" text-anchor=\"middle\" x=\"134\" y=\"-197.3\">input:</text>\n<polyline fill=\"none\" points=\"105,-189.5 163,-189.5 \" stroke=\"#000000\"/>\n<text fill=\"#000000\" font-family=\"Times,serif\" font-size=\"14.00\" text-anchor=\"middle\" x=\"134\" y=\"-174.3\">output:</text>\n<polyline fill=\"none\" points=\"163,-166.5 163,-212.5 \" stroke=\"#000000\"/>\n<text fill=\"#000000\" font-family=\"Times,serif\" font-size=\"14.00\" text-anchor=\"middle\" x=\"187\" y=\"-197.3\">(2, 5)</text>\n<polyline fill=\"none\" points=\"163,-189.5 211,-189.5 \" stroke=\"#000000\"/>\n<text fill=\"#000000\" font-family=\"Times,serif\" font-size=\"14.00\" text-anchor=\"middle\" x=\"187\" y=\"-174.3\">(2, 5)</text>\n</g>\n<!-- 140270228246600&#45;&gt;140270228246880 -->\n<g class=\"edge\" id=\"edge4\">\n<title>140270228246600-&gt;140270228246880</title>\n<path d=\"M106.2214,-249.3799C106.1226,-241.1745 106.0093,-231.7679 105.9022,-222.8786\" fill=\"none\" stroke=\"#000000\"/>\n<polygon fill=\"#000000\" points=\"109.4008,-222.7411 105.7805,-212.784 102.4014,-222.8255 109.4008,-222.7411\" stroke=\"#000000\"/>\n</g>\n<!-- 140270228247608 -->\n<g class=\"node\" id=\"node5\">\n<title>140270228247608</title>\n<polygon fill=\"none\" points=\"1,-83.5 1,-129.5 212,-129.5 212,-83.5 1,-83.5\" stroke=\"#000000\"/>\n<text fill=\"#000000\" font-family=\"Times,serif\" font-size=\"14.00\" text-anchor=\"middle\" x=\"53.5\" y=\"-102.8\">wazird4: Dense</text>\n<polyline fill=\"none\" points=\"106,-83.5 106,-129.5 \" stroke=\"#000000\"/>\n<text fill=\"#000000\" font-family=\"Times,serif\" font-size=\"14.00\" text-anchor=\"middle\" x=\"135\" y=\"-114.3\">input:</text>\n<polyline fill=\"none\" points=\"106,-106.5 164,-106.5 \" stroke=\"#000000\"/>\n<text fill=\"#000000\" font-family=\"Times,serif\" font-size=\"14.00\" text-anchor=\"middle\" x=\"135\" y=\"-91.3\">output:</text>\n<polyline fill=\"none\" points=\"164,-83.5 164,-129.5 \" stroke=\"#000000\"/>\n<text fill=\"#000000\" font-family=\"Times,serif\" font-size=\"14.00\" text-anchor=\"middle\" x=\"188\" y=\"-114.3\">(2, 5)</text>\n<polyline fill=\"none\" points=\"164,-106.5 212,-106.5 \" stroke=\"#000000\"/>\n<text fill=\"#000000\" font-family=\"Times,serif\" font-size=\"14.00\" text-anchor=\"middle\" x=\"188\" y=\"-91.3\">(2, 5)</text>\n</g>\n<!-- 140270228246880&#45;&gt;140270228247608 -->\n<g class=\"edge\" id=\"edge5\">\n<title>140270228246880-&gt;140270228247608</title>\n<path d=\"M105.7786,-166.3799C105.8774,-158.1745 105.9907,-148.7679 106.0978,-139.8786\" fill=\"none\" stroke=\"#000000\"/>\n<polygon fill=\"#000000\" points=\"109.5986,-139.8255 106.2195,-129.784 102.5992,-139.7411 109.5986,-139.8255\" stroke=\"#000000\"/>\n</g>\n<!-- 140270228247944 -->\n<g class=\"node\" id=\"node6\">\n<title>140270228247944</title>\n<polygon fill=\"none\" points=\"183,-.5 183,-46.5 394,-46.5 394,-.5 183,-.5\" stroke=\"#000000\"/>\n<text fill=\"#000000\" font-family=\"Times,serif\" font-size=\"14.00\" text-anchor=\"middle\" x=\"235.5\" y=\"-19.8\">wazird5: Dense</text>\n<polyline fill=\"none\" points=\"288,-.5 288,-46.5 \" stroke=\"#000000\"/>\n<text fill=\"#000000\" font-family=\"Times,serif\" font-size=\"14.00\" text-anchor=\"middle\" x=\"317\" y=\"-31.3\">input:</text>\n<polyline fill=\"none\" points=\"288,-23.5 346,-23.5 \" stroke=\"#000000\"/>\n<text fill=\"#000000\" font-family=\"Times,serif\" font-size=\"14.00\" text-anchor=\"middle\" x=\"317\" y=\"-8.3\">output:</text>\n<polyline fill=\"none\" points=\"346,-.5 346,-46.5 \" stroke=\"#000000\"/>\n<text fill=\"#000000\" font-family=\"Times,serif\" font-size=\"14.00\" text-anchor=\"middle\" x=\"370\" y=\"-31.3\">(2, 5)</text>\n<polyline fill=\"none\" points=\"346,-23.5 394,-23.5 \" stroke=\"#000000\"/>\n<text fill=\"#000000\" font-family=\"Times,serif\" font-size=\"14.00\" text-anchor=\"middle\" x=\"370\" y=\"-8.3\">(2, 5)</text>\n</g>\n<!-- 140270228247608&#45;&gt;140270228247944 -->\n<g class=\"edge\" id=\"edge6\">\n<title>140270228247608-&gt;140270228247944</title>\n<path d=\"M157.1971,-83.3799C179.2912,-73.304 205.3573,-61.4167 228.4173,-50.9003\" fill=\"none\" stroke=\"#000000\"/>\n<polygon fill=\"#000000\" points=\"230.1131,-53.9738 237.7594,-46.6399 227.2086,-47.6048 230.1131,-53.9738\" stroke=\"#000000\"/>\n</g>\n<!-- 140270228247944&#45;&gt;140270228238288 -->\n<g class=\"edge\" id=\"edge2\">\n<title>140270228247944-&gt;140270228238288</title>\n<path d=\"M378.1573,-46.5804C410.3972,-56.8359 441.1535,-69.6102 450.5,-83 504.6852,-160.6257 499.7117,-215.1298 450.5,-296 442.5916,-308.9959 430.8277,-319.2789 417.7994,-327.375\" fill=\"none\" stroke=\"#000000\"/>\n<polygon fill=\"#000000\" points=\"416.0082,-324.3676 409.0832,-332.3861 419.4971,-330.4361 416.0082,-324.3676\" stroke=\"#000000\"/>\n</g>\n<!-- 140270228248672 -->\n<g class=\"node\" id=\"node8\">\n<title>140270228248672</title>\n<polygon fill=\"none\" points=\"229,-166.5 229,-212.5 442,-212.5 442,-166.5 229,-166.5\" stroke=\"#000000\"/>\n<text fill=\"#000000\" font-family=\"Times,serif\" font-size=\"14.00\" text-anchor=\"middle\" x=\"282.5\" y=\"-185.8\">act1: Activation</text>\n<polyline fill=\"none\" points=\"336,-166.5 336,-212.5 \" stroke=\"#000000\"/>\n<text fill=\"#000000\" font-family=\"Times,serif\" font-size=\"14.00\" text-anchor=\"middle\" x=\"365\" y=\"-197.3\">input:</text>\n<polyline fill=\"none\" points=\"336,-189.5 394,-189.5 \" stroke=\"#000000\"/>\n<text fill=\"#000000\" font-family=\"Times,serif\" font-size=\"14.00\" text-anchor=\"middle\" x=\"365\" y=\"-174.3\">output:</text>\n<polyline fill=\"none\" points=\"394,-166.5 394,-212.5 \" stroke=\"#000000\"/>\n<text fill=\"#000000\" font-family=\"Times,serif\" font-size=\"14.00\" text-anchor=\"middle\" x=\"418\" y=\"-197.3\">(2, 5)</text>\n<polyline fill=\"none\" points=\"394,-189.5 442,-189.5 \" stroke=\"#000000\"/>\n<text fill=\"#000000\" font-family=\"Times,serif\" font-size=\"14.00\" text-anchor=\"middle\" x=\"418\" y=\"-174.3\">(2, 5)</text>\n</g>\n<!-- 140270228248280&#45;&gt;140270228248672 -->\n<g class=\"edge\" id=\"edge8\">\n<title>140270228248280-&gt;140270228248672</title>\n<path d=\"M335.5,-249.3799C335.5,-241.1745 335.5,-231.7679 335.5,-222.8786\" fill=\"none\" stroke=\"#000000\"/>\n<polygon fill=\"#000000\" points=\"339.0001,-222.784 335.5,-212.784 332.0001,-222.784 339.0001,-222.784\" stroke=\"#000000\"/>\n</g>\n<!-- 140270227669176 -->\n<g class=\"node\" id=\"node9\">\n<title>140270227669176</title>\n<polygon fill=\"none\" points=\"230,-83.5 230,-129.5 441,-129.5 441,-83.5 230,-83.5\" stroke=\"#000000\"/>\n<text fill=\"#000000\" font-family=\"Times,serif\" font-size=\"14.00\" text-anchor=\"middle\" x=\"282.5\" y=\"-102.8\">wazird7: Dense</text>\n<polyline fill=\"none\" points=\"335,-83.5 335,-129.5 \" stroke=\"#000000\"/>\n<text fill=\"#000000\" font-family=\"Times,serif\" font-size=\"14.00\" text-anchor=\"middle\" x=\"364\" y=\"-114.3\">input:</text>\n<polyline fill=\"none\" points=\"335,-106.5 393,-106.5 \" stroke=\"#000000\"/>\n<text fill=\"#000000\" font-family=\"Times,serif\" font-size=\"14.00\" text-anchor=\"middle\" x=\"364\" y=\"-91.3\">output:</text>\n<polyline fill=\"none\" points=\"393,-83.5 393,-129.5 \" stroke=\"#000000\"/>\n<text fill=\"#000000\" font-family=\"Times,serif\" font-size=\"14.00\" text-anchor=\"middle\" x=\"417\" y=\"-114.3\">(2, 5)</text>\n<polyline fill=\"none\" points=\"393,-106.5 441,-106.5 \" stroke=\"#000000\"/>\n<text fill=\"#000000\" font-family=\"Times,serif\" font-size=\"14.00\" text-anchor=\"middle\" x=\"417\" y=\"-91.3\">(2, 5)</text>\n</g>\n<!-- 140270228248672&#45;&gt;140270227669176 -->\n<g class=\"edge\" id=\"edge9\">\n<title>140270228248672-&gt;140270227669176</title>\n<path d=\"M335.5,-166.3799C335.5,-158.1745 335.5,-148.7679 335.5,-139.8786\" fill=\"none\" stroke=\"#000000\"/>\n<polygon fill=\"#000000\" points=\"339.0001,-139.784 335.5,-129.784 332.0001,-139.784 339.0001,-139.784\" stroke=\"#000000\"/>\n</g>\n</g>\n</svg>"
          },
          "metadata": {
            "tags": []
          },
          "execution_count": 57
        }
      ]
    },
    {
      "metadata": {
        "id": "s5GtVUFy7hgA",
        "colab_type": "code",
        "colab": {
          "base_uri": "https://localhost:8080/",
          "height": 795
        },
        "outputId": "ce3f67b7-53d2-47ab-d009-b49715cb6041"
      },
      "cell_type": "code",
      "source": [
        "from keras.layers import Dense, Input\n",
        "from keras.models import Model\n",
        "from IPython.display import SVG\n",
        "from keras.utils.vis_utils import model_to_dot\n",
        "\n",
        "input = Input(batch_shape=(2, 5), dtype='float32', name='WAZIR_INPUT_LAYER')\n",
        "L1 = Dense(5,name='wazird1')\n",
        "L2 = Dense(5,name='wazird2')\n",
        "L3 = Dense(5,name='wazird3')\n",
        "L4 = Dense(5,name='wazird4')\n",
        "\n",
        "\n",
        "o1 = L1(input)\n",
        "o2 = L2(o1)\n",
        "o3 = L3(o2)\n",
        "o4 = L4(o3)\n",
        "o5 = L2(o4)\n",
        "o6 = L2(o5)\n",
        "\n",
        "\n",
        "C1 =  Dense(5,name='wazird5')(o6)\n",
        "A1 = Activation('relu', name='act1')(C1)\n",
        "C2 =  Dense(5,name='wazird6')(A1)\n",
        "\n",
        "C3 =  Dense(5,name='wazird7')(C2)\n",
        "A2 = Activation('relu', name='act2')(C2)\n",
        "C4 =  Dense(5,name='wazird8')(A2)\n",
        "\n",
        "\n",
        "\n",
        "m = Model(input=input, output=A2)\n",
        "m.compile('rmsprop', 'mse')\n",
        "\n",
        "SVG(model_to_dot(m, show_shapes=True).create(prog='dot', format='svg'))"
      ],
      "execution_count": 39,
      "outputs": [
        {
          "output_type": "stream",
          "text": [
            "/usr/local/lib/python3.6/dist-packages/ipykernel_launcher.py:31: UserWarning: Update your `Model` call to the Keras 2 API: `Model(inputs=Tensor(\"WA..., outputs=Tensor(\"ac...)`\n"
          ],
          "name": "stderr"
        },
        {
          "output_type": "execute_result",
          "data": {
            "text/plain": [
              "<IPython.core.display.SVG object>"
            ],
            "image/svg+xml": "<svg height=\"553pt\" viewBox=\"0.00 0.00 488.00 553.00\" width=\"488pt\" xmlns=\"http://www.w3.org/2000/svg\" xmlns:xlink=\"http://www.w3.org/1999/xlink\">\n<g class=\"graph\" id=\"graph0\" transform=\"scale(1 1) rotate(0) translate(4 549)\">\n<title>G</title>\n<polygon fill=\"#ffffff\" points=\"-4,4 -4,-549 484,-549 484,4 -4,4\" stroke=\"transparent\"/>\n<!-- 140270240316552 -->\n<g class=\"node\" id=\"node1\">\n<title>140270240316552</title>\n<polygon fill=\"none\" points=\"67,-498.5 67,-544.5 412,-544.5 412,-498.5 67,-498.5\" stroke=\"#000000\"/>\n<text fill=\"#000000\" font-family=\"Times,serif\" font-size=\"14.00\" text-anchor=\"middle\" x=\"186.5\" y=\"-517.8\">WAZIR_INPUT_LAYER: InputLayer</text>\n<polyline fill=\"none\" points=\"306,-498.5 306,-544.5 \" stroke=\"#000000\"/>\n<text fill=\"#000000\" font-family=\"Times,serif\" font-size=\"14.00\" text-anchor=\"middle\" x=\"335\" y=\"-529.3\">input:</text>\n<polyline fill=\"none\" points=\"306,-521.5 364,-521.5 \" stroke=\"#000000\"/>\n<text fill=\"#000000\" font-family=\"Times,serif\" font-size=\"14.00\" text-anchor=\"middle\" x=\"335\" y=\"-506.3\">output:</text>\n<polyline fill=\"none\" points=\"364,-498.5 364,-544.5 \" stroke=\"#000000\"/>\n<text fill=\"#000000\" font-family=\"Times,serif\" font-size=\"14.00\" text-anchor=\"middle\" x=\"388\" y=\"-529.3\">(2, 5)</text>\n<polyline fill=\"none\" points=\"364,-521.5 412,-521.5 \" stroke=\"#000000\"/>\n<text fill=\"#000000\" font-family=\"Times,serif\" font-size=\"14.00\" text-anchor=\"middle\" x=\"388\" y=\"-506.3\">(2, 5)</text>\n</g>\n<!-- 140270249201848 -->\n<g class=\"node\" id=\"node2\">\n<title>140270249201848</title>\n<polygon fill=\"none\" points=\"134,-415.5 134,-461.5 345,-461.5 345,-415.5 134,-415.5\" stroke=\"#000000\"/>\n<text fill=\"#000000\" font-family=\"Times,serif\" font-size=\"14.00\" text-anchor=\"middle\" x=\"186.5\" y=\"-434.8\">wazird1: Dense</text>\n<polyline fill=\"none\" points=\"239,-415.5 239,-461.5 \" stroke=\"#000000\"/>\n<text fill=\"#000000\" font-family=\"Times,serif\" font-size=\"14.00\" text-anchor=\"middle\" x=\"268\" y=\"-446.3\">input:</text>\n<polyline fill=\"none\" points=\"239,-438.5 297,-438.5 \" stroke=\"#000000\"/>\n<text fill=\"#000000\" font-family=\"Times,serif\" font-size=\"14.00\" text-anchor=\"middle\" x=\"268\" y=\"-423.3\">output:</text>\n<polyline fill=\"none\" points=\"297,-415.5 297,-461.5 \" stroke=\"#000000\"/>\n<text fill=\"#000000\" font-family=\"Times,serif\" font-size=\"14.00\" text-anchor=\"middle\" x=\"321\" y=\"-446.3\">(2, 5)</text>\n<polyline fill=\"none\" points=\"297,-438.5 345,-438.5 \" stroke=\"#000000\"/>\n<text fill=\"#000000\" font-family=\"Times,serif\" font-size=\"14.00\" text-anchor=\"middle\" x=\"321\" y=\"-423.3\">(2, 5)</text>\n</g>\n<!-- 140270240316552&#45;&gt;140270249201848 -->\n<g class=\"edge\" id=\"edge1\">\n<title>140270240316552-&gt;140270249201848</title>\n<path d=\"M239.5,-498.3799C239.5,-490.1745 239.5,-480.7679 239.5,-471.8786\" fill=\"none\" stroke=\"#000000\"/>\n<polygon fill=\"#000000\" points=\"243.0001,-471.784 239.5,-461.784 236.0001,-471.784 243.0001,-471.784\" stroke=\"#000000\"/>\n</g>\n<!-- 140270258307592 -->\n<g class=\"node\" id=\"node3\">\n<title>140270258307592</title>\n<polygon fill=\"none\" points=\"134,-332.5 134,-378.5 345,-378.5 345,-332.5 134,-332.5\" stroke=\"#000000\"/>\n<text fill=\"#000000\" font-family=\"Times,serif\" font-size=\"14.00\" text-anchor=\"middle\" x=\"186.5\" y=\"-351.8\">wazird2: Dense</text>\n<polyline fill=\"none\" points=\"239,-332.5 239,-378.5 \" stroke=\"#000000\"/>\n<text fill=\"#000000\" font-family=\"Times,serif\" font-size=\"14.00\" text-anchor=\"middle\" x=\"268\" y=\"-363.3\">input:</text>\n<polyline fill=\"none\" points=\"239,-355.5 297,-355.5 \" stroke=\"#000000\"/>\n<text fill=\"#000000\" font-family=\"Times,serif\" font-size=\"14.00\" text-anchor=\"middle\" x=\"268\" y=\"-340.3\">output:</text>\n<polyline fill=\"none\" points=\"297,-332.5 297,-378.5 \" stroke=\"#000000\"/>\n<text fill=\"#000000\" font-family=\"Times,serif\" font-size=\"14.00\" text-anchor=\"middle\" x=\"321\" y=\"-363.3\">(2, 5)</text>\n<polyline fill=\"none\" points=\"297,-355.5 345,-355.5 \" stroke=\"#000000\"/>\n<text fill=\"#000000\" font-family=\"Times,serif\" font-size=\"14.00\" text-anchor=\"middle\" x=\"321\" y=\"-340.3\">(2, 5)</text>\n</g>\n<!-- 140270249201848&#45;&gt;140270258307592 -->\n<g class=\"edge\" id=\"edge2\">\n<title>140270249201848-&gt;140270258307592</title>\n<path d=\"M239.5,-415.3799C239.5,-407.1745 239.5,-397.7679 239.5,-388.8786\" fill=\"none\" stroke=\"#000000\"/>\n<polygon fill=\"#000000\" points=\"243.0001,-388.784 239.5,-378.784 236.0001,-388.784 243.0001,-388.784\" stroke=\"#000000\"/>\n</g>\n<!-- 140270258307592&#45;&gt;140270258307592 -->\n<g class=\"edge\" id=\"edge4\">\n<title>140270258307592-&gt;140270258307592</title>\n<path d=\"M345.3443,-368.1386C356.1205,-365.6386 363,-361.4258 363,-355.5 363,-351.6112 360.0372,-348.4601 354.9547,-346.0467\" fill=\"none\" stroke=\"#000000\"/>\n<polygon fill=\"#000000\" points=\"355.9377,-342.6853 345.3443,-342.8614 353.7354,-349.3299 355.9377,-342.6853\" stroke=\"#000000\"/>\n</g>\n<!-- 140270240796288 -->\n<g class=\"node\" id=\"node4\">\n<title>140270240796288</title>\n<polygon fill=\"none\" points=\"0,-249.5 0,-295.5 211,-295.5 211,-249.5 0,-249.5\" stroke=\"#000000\"/>\n<text fill=\"#000000\" font-family=\"Times,serif\" font-size=\"14.00\" text-anchor=\"middle\" x=\"52.5\" y=\"-268.8\">wazird3: Dense</text>\n<polyline fill=\"none\" points=\"105,-249.5 105,-295.5 \" stroke=\"#000000\"/>\n<text fill=\"#000000\" font-family=\"Times,serif\" font-size=\"14.00\" text-anchor=\"middle\" x=\"134\" y=\"-280.3\">input:</text>\n<polyline fill=\"none\" points=\"105,-272.5 163,-272.5 \" stroke=\"#000000\"/>\n<text fill=\"#000000\" font-family=\"Times,serif\" font-size=\"14.00\" text-anchor=\"middle\" x=\"134\" y=\"-257.3\">output:</text>\n<polyline fill=\"none\" points=\"163,-249.5 163,-295.5 \" stroke=\"#000000\"/>\n<text fill=\"#000000\" font-family=\"Times,serif\" font-size=\"14.00\" text-anchor=\"middle\" x=\"187\" y=\"-280.3\">(2, 5)</text>\n<polyline fill=\"none\" points=\"163,-272.5 211,-272.5 \" stroke=\"#000000\"/>\n<text fill=\"#000000\" font-family=\"Times,serif\" font-size=\"14.00\" text-anchor=\"middle\" x=\"187\" y=\"-257.3\">(2, 5)</text>\n</g>\n<!-- 140270258307592&#45;&gt;140270240796288 -->\n<g class=\"edge\" id=\"edge5\">\n<title>140270258307592-&gt;140270240796288</title>\n<path d=\"M202.1735,-332.3799C186.6225,-322.7475 168.3988,-311.4597 151.9911,-301.2967\" fill=\"none\" stroke=\"#000000\"/>\n<polygon fill=\"#000000\" points=\"153.4354,-298.0743 143.091,-295.784 149.7493,-304.0252 153.4354,-298.0743\" stroke=\"#000000\"/>\n</g>\n<!-- 140270240403640 -->\n<g class=\"node\" id=\"node6\">\n<title>140270240403640</title>\n<polygon fill=\"none\" points=\"268,-249.5 268,-295.5 479,-295.5 479,-249.5 268,-249.5\" stroke=\"#000000\"/>\n<text fill=\"#000000\" font-family=\"Times,serif\" font-size=\"14.00\" text-anchor=\"middle\" x=\"320.5\" y=\"-268.8\">wazird5: Dense</text>\n<polyline fill=\"none\" points=\"373,-249.5 373,-295.5 \" stroke=\"#000000\"/>\n<text fill=\"#000000\" font-family=\"Times,serif\" font-size=\"14.00\" text-anchor=\"middle\" x=\"402\" y=\"-280.3\">input:</text>\n<polyline fill=\"none\" points=\"373,-272.5 431,-272.5 \" stroke=\"#000000\"/>\n<text fill=\"#000000\" font-family=\"Times,serif\" font-size=\"14.00\" text-anchor=\"middle\" x=\"402\" y=\"-257.3\">output:</text>\n<polyline fill=\"none\" points=\"431,-249.5 431,-295.5 \" stroke=\"#000000\"/>\n<text fill=\"#000000\" font-family=\"Times,serif\" font-size=\"14.00\" text-anchor=\"middle\" x=\"455\" y=\"-280.3\">(2, 5)</text>\n<polyline fill=\"none\" points=\"431,-272.5 479,-272.5 \" stroke=\"#000000\"/>\n<text fill=\"#000000\" font-family=\"Times,serif\" font-size=\"14.00\" text-anchor=\"middle\" x=\"455\" y=\"-257.3\">(2, 5)</text>\n</g>\n<!-- 140270258307592&#45;&gt;140270240403640 -->\n<g class=\"edge\" id=\"edge7\">\n<title>140270258307592-&gt;140270240403640</title>\n<path d=\"M276.8265,-332.3799C292.3775,-322.7475 310.6012,-311.4597 327.0089,-301.2967\" fill=\"none\" stroke=\"#000000\"/>\n<polygon fill=\"#000000\" points=\"329.2507,-304.0252 335.909,-295.784 325.5646,-298.0743 329.2507,-304.0252\" stroke=\"#000000\"/>\n</g>\n<!-- 140270240317000 -->\n<g class=\"node\" id=\"node5\">\n<title>140270240317000</title>\n<polygon fill=\"none\" points=\"19,-166.5 19,-212.5 230,-212.5 230,-166.5 19,-166.5\" stroke=\"#000000\"/>\n<text fill=\"#000000\" font-family=\"Times,serif\" font-size=\"14.00\" text-anchor=\"middle\" x=\"71.5\" y=\"-185.8\">wazird4: Dense</text>\n<polyline fill=\"none\" points=\"124,-166.5 124,-212.5 \" stroke=\"#000000\"/>\n<text fill=\"#000000\" font-family=\"Times,serif\" font-size=\"14.00\" text-anchor=\"middle\" x=\"153\" y=\"-197.3\">input:</text>\n<polyline fill=\"none\" points=\"124,-189.5 182,-189.5 \" stroke=\"#000000\"/>\n<text fill=\"#000000\" font-family=\"Times,serif\" font-size=\"14.00\" text-anchor=\"middle\" x=\"153\" y=\"-174.3\">output:</text>\n<polyline fill=\"none\" points=\"182,-166.5 182,-212.5 \" stroke=\"#000000\"/>\n<text fill=\"#000000\" font-family=\"Times,serif\" font-size=\"14.00\" text-anchor=\"middle\" x=\"206\" y=\"-197.3\">(2, 5)</text>\n<polyline fill=\"none\" points=\"182,-189.5 230,-189.5 \" stroke=\"#000000\"/>\n<text fill=\"#000000\" font-family=\"Times,serif\" font-size=\"14.00\" text-anchor=\"middle\" x=\"206\" y=\"-174.3\">(2, 5)</text>\n</g>\n<!-- 140270240796288&#45;&gt;140270240317000 -->\n<g class=\"edge\" id=\"edge6\">\n<title>140270240796288-&gt;140270240317000</title>\n<path d=\"M110.7926,-249.3799C112.6913,-241.0854 114.8711,-231.5633 116.9254,-222.5889\" fill=\"none\" stroke=\"#000000\"/>\n<polygon fill=\"#000000\" points=\"120.3502,-223.3129 119.1699,-212.784 113.5267,-221.7508 120.3502,-223.3129\" stroke=\"#000000\"/>\n</g>\n<!-- 140270240317000&#45;&gt;140270258307592 -->\n<g class=\"edge\" id=\"edge3\">\n<title>140270240317000-&gt;140270258307592</title>\n<path d=\"M178.1,-212.6673C193.6484,-221.849 209.1944,-233.8858 219.5,-249 234.1389,-270.4693 238.8032,-299.7748 239.995,-322.2104\" fill=\"none\" stroke=\"#000000\"/>\n<polygon fill=\"#000000\" points=\"236.4997,-322.4147 240.3257,-332.2945 243.4959,-322.1851 236.4997,-322.4147\" stroke=\"#000000\"/>\n</g>\n<!-- 140270240403696 -->\n<g class=\"node\" id=\"node7\">\n<title>140270240403696</title>\n<polygon fill=\"none\" points=\"267,-166.5 267,-212.5 480,-212.5 480,-166.5 267,-166.5\" stroke=\"#000000\"/>\n<text fill=\"#000000\" font-family=\"Times,serif\" font-size=\"14.00\" text-anchor=\"middle\" x=\"320.5\" y=\"-185.8\">act1: Activation</text>\n<polyline fill=\"none\" points=\"374,-166.5 374,-212.5 \" stroke=\"#000000\"/>\n<text fill=\"#000000\" font-family=\"Times,serif\" font-size=\"14.00\" text-anchor=\"middle\" x=\"403\" y=\"-197.3\">input:</text>\n<polyline fill=\"none\" points=\"374,-189.5 432,-189.5 \" stroke=\"#000000\"/>\n<text fill=\"#000000\" font-family=\"Times,serif\" font-size=\"14.00\" text-anchor=\"middle\" x=\"403\" y=\"-174.3\">output:</text>\n<polyline fill=\"none\" points=\"432,-166.5 432,-212.5 \" stroke=\"#000000\"/>\n<text fill=\"#000000\" font-family=\"Times,serif\" font-size=\"14.00\" text-anchor=\"middle\" x=\"456\" y=\"-197.3\">(2, 5)</text>\n<polyline fill=\"none\" points=\"432,-189.5 480,-189.5 \" stroke=\"#000000\"/>\n<text fill=\"#000000\" font-family=\"Times,serif\" font-size=\"14.00\" text-anchor=\"middle\" x=\"456\" y=\"-174.3\">(2, 5)</text>\n</g>\n<!-- 140270240403640&#45;&gt;140270240403696 -->\n<g class=\"edge\" id=\"edge8\">\n<title>140270240403640-&gt;140270240403696</title>\n<path d=\"M373.5,-249.3799C373.5,-241.1745 373.5,-231.7679 373.5,-222.8786\" fill=\"none\" stroke=\"#000000\"/>\n<polygon fill=\"#000000\" points=\"377.0001,-222.784 373.5,-212.784 370.0001,-222.784 377.0001,-222.784\" stroke=\"#000000\"/>\n</g>\n<!-- 140270240475456 -->\n<g class=\"node\" id=\"node8\">\n<title>140270240475456</title>\n<polygon fill=\"none\" points=\"268,-83.5 268,-129.5 479,-129.5 479,-83.5 268,-83.5\" stroke=\"#000000\"/>\n<text fill=\"#000000\" font-family=\"Times,serif\" font-size=\"14.00\" text-anchor=\"middle\" x=\"320.5\" y=\"-102.8\">wazird6: Dense</text>\n<polyline fill=\"none\" points=\"373,-83.5 373,-129.5 \" stroke=\"#000000\"/>\n<text fill=\"#000000\" font-family=\"Times,serif\" font-size=\"14.00\" text-anchor=\"middle\" x=\"402\" y=\"-114.3\">input:</text>\n<polyline fill=\"none\" points=\"373,-106.5 431,-106.5 \" stroke=\"#000000\"/>\n<text fill=\"#000000\" font-family=\"Times,serif\" font-size=\"14.00\" text-anchor=\"middle\" x=\"402\" y=\"-91.3\">output:</text>\n<polyline fill=\"none\" points=\"431,-83.5 431,-129.5 \" stroke=\"#000000\"/>\n<text fill=\"#000000\" font-family=\"Times,serif\" font-size=\"14.00\" text-anchor=\"middle\" x=\"455\" y=\"-114.3\">(2, 5)</text>\n<polyline fill=\"none\" points=\"431,-106.5 479,-106.5 \" stroke=\"#000000\"/>\n<text fill=\"#000000\" font-family=\"Times,serif\" font-size=\"14.00\" text-anchor=\"middle\" x=\"455\" y=\"-91.3\">(2, 5)</text>\n</g>\n<!-- 140270240403696&#45;&gt;140270240475456 -->\n<g class=\"edge\" id=\"edge9\">\n<title>140270240403696-&gt;140270240475456</title>\n<path d=\"M373.5,-166.3799C373.5,-158.1745 373.5,-148.7679 373.5,-139.8786\" fill=\"none\" stroke=\"#000000\"/>\n<polygon fill=\"#000000\" points=\"377.0001,-139.784 373.5,-129.784 370.0001,-139.784 377.0001,-139.784\" stroke=\"#000000\"/>\n</g>\n<!-- 140270240465808 -->\n<g class=\"node\" id=\"node9\">\n<title>140270240465808</title>\n<polygon fill=\"none\" points=\"267,-.5 267,-46.5 480,-46.5 480,-.5 267,-.5\" stroke=\"#000000\"/>\n<text fill=\"#000000\" font-family=\"Times,serif\" font-size=\"14.00\" text-anchor=\"middle\" x=\"320.5\" y=\"-19.8\">act2: Activation</text>\n<polyline fill=\"none\" points=\"374,-.5 374,-46.5 \" stroke=\"#000000\"/>\n<text fill=\"#000000\" font-family=\"Times,serif\" font-size=\"14.00\" text-anchor=\"middle\" x=\"403\" y=\"-31.3\">input:</text>\n<polyline fill=\"none\" points=\"374,-23.5 432,-23.5 \" stroke=\"#000000\"/>\n<text fill=\"#000000\" font-family=\"Times,serif\" font-size=\"14.00\" text-anchor=\"middle\" x=\"403\" y=\"-8.3\">output:</text>\n<polyline fill=\"none\" points=\"432,-.5 432,-46.5 \" stroke=\"#000000\"/>\n<text fill=\"#000000\" font-family=\"Times,serif\" font-size=\"14.00\" text-anchor=\"middle\" x=\"456\" y=\"-31.3\">(2, 5)</text>\n<polyline fill=\"none\" points=\"432,-23.5 480,-23.5 \" stroke=\"#000000\"/>\n<text fill=\"#000000\" font-family=\"Times,serif\" font-size=\"14.00\" text-anchor=\"middle\" x=\"456\" y=\"-8.3\">(2, 5)</text>\n</g>\n<!-- 140270240475456&#45;&gt;140270240465808 -->\n<g class=\"edge\" id=\"edge10\">\n<title>140270240475456-&gt;140270240465808</title>\n<path d=\"M373.5,-83.3799C373.5,-75.1745 373.5,-65.7679 373.5,-56.8786\" fill=\"none\" stroke=\"#000000\"/>\n<polygon fill=\"#000000\" points=\"377.0001,-56.784 373.5,-46.784 370.0001,-56.784 377.0001,-56.784\" stroke=\"#000000\"/>\n</g>\n</g>\n</svg>"
          },
          "metadata": {
            "tags": []
          },
          "execution_count": 39
        }
      ]
    },
    {
      "metadata": {
        "id": "bkr3DMy67xlc",
        "colab_type": "code",
        "colab": {}
      },
      "cell_type": "code",
      "source": [
        ""
      ],
      "execution_count": 0,
      "outputs": []
    }
  ]
}