{
  "nbformat": 4,
  "nbformat_minor": 0,
  "metadata": {
    "colab": {
      "name": "OR_GATE.ipynb",
      "version": "0.3.2",
      "provenance": [],
      "collapsed_sections": []
    },
    "kernelspec": {
      "name": "python3",
      "display_name": "Python 3"
    },
    "accelerator": "GPU"
  },
  "cells": [
    {
      "metadata": {
        "id": "H1rGHHaElyBk",
        "colab_type": "code",
        "colab": {
          "base_uri": "https://localhost:8080/",
          "height": 34
        },
        "outputId": "07ef887a-fd25-4a80-ac7b-c0748076b963"
      },
      "cell_type": "code",
      "source": [
        "#TRAIN AND TEST MODEL ON AND GATE\n",
        "import keras\n",
        "import numpy as np"
      ],
      "execution_count": 3,
      "outputs": [
        {
          "output_type": "stream",
          "text": [
            "Using TensorFlow backend.\n"
          ],
          "name": "stderr"
        }
      ]
    },
    {
      "metadata": {
        "id": "YypLphBNl4j6",
        "colab_type": "code",
        "colab": {
          "base_uri": "https://localhost:8080/",
          "height": 156
        },
        "outputId": "8f26d9f3-a92b-4ef1-bb2f-49dc3645d157"
      },
      "cell_type": "code",
      "source": [
        "input = np.array([[0,0],\n",
        "                  [0,1],\n",
        "                  [1,0],\n",
        "                  [1,1]])\n",
        "output = np.array([[0],\n",
        "                     [1],\n",
        "                     [1],\n",
        "                     [0]])\n",
        "print(input)\n",
        "print(output)"
      ],
      "execution_count": 12,
      "outputs": [
        {
          "output_type": "stream",
          "text": [
            "[[0 0]\n",
            " [0 1]\n",
            " [1 0]\n",
            " [1 1]]\n",
            "[[0]\n",
            " [1]\n",
            " [1]\n",
            " [0]]\n"
          ],
          "name": "stdout"
        }
      ]
    },
    {
      "metadata": {
        "id": "pGcSYABbl74K",
        "colab_type": "code",
        "colab": {}
      },
      "cell_type": "code",
      "source": [
        "model = keras.models.Sequential(layers=[ \n",
        "    keras.layers.Dense(input_dim =2, units = 4), \n",
        "    keras.layers.Activation(keras.activations.sigmoid),\n",
        "    \n",
        "     keras.layers.Dense(input_dim =2, units = 2), \n",
        "    keras.layers.Activation(keras.activations.sigmoid),\n",
        "    \n",
        "    keras.layers.Dense(units = 1), \n",
        "    keras.layers.Activation(keras.activations.sigmoid)\n",
        "])"
      ],
      "execution_count": 0,
      "outputs": []
    },
    {
      "metadata": {
        "id": "SpZ7CLIimAL6",
        "colab_type": "code",
        "colab": {
          "base_uri": "https://localhost:8080/",
          "height": 347
        },
        "outputId": "4ce2b774-a30e-40b8-cf42-230f873583de"
      },
      "cell_type": "code",
      "source": [
        "model.summary()"
      ],
      "execution_count": 14,
      "outputs": [
        {
          "output_type": "stream",
          "text": [
            "_________________________________________________________________\n",
            "Layer (type)                 Output Shape              Param #   \n",
            "=================================================================\n",
            "dense_2 (Dense)              (None, 4)                 12        \n",
            "_________________________________________________________________\n",
            "activation_2 (Activation)    (None, 4)                 0         \n",
            "_________________________________________________________________\n",
            "dense_3 (Dense)              (None, 2)                 10        \n",
            "_________________________________________________________________\n",
            "activation_3 (Activation)    (None, 2)                 0         \n",
            "_________________________________________________________________\n",
            "dense_4 (Dense)              (None, 1)                 3         \n",
            "_________________________________________________________________\n",
            "activation_4 (Activation)    (None, 1)                 0         \n",
            "=================================================================\n",
            "Total params: 25\n",
            "Trainable params: 25\n",
            "Non-trainable params: 0\n",
            "_________________________________________________________________\n"
          ],
          "name": "stdout"
        }
      ]
    },
    {
      "metadata": {
        "id": "UwLsPke9mDsi",
        "colab_type": "code",
        "colab": {
          "base_uri": "https://localhost:8080/",
          "height": 745
        },
        "outputId": "cbbea301-bd24-4253-e11d-1be8b497a151"
      },
      "cell_type": "code",
      "source": [
        "from IPython.display import SVG\n",
        "from keras.utils.vis_utils import model_to_dot\n",
        "SVG(model_to_dot(model, show_shapes=True).create(prog='dot', format='svg'))"
      ],
      "execution_count": 15,
      "outputs": [
        {
          "output_type": "execute_result",
          "data": {
            "text/plain": [
              "<IPython.core.display.SVG object>"
            ],
            "image/svg+xml": "<svg height=\"543pt\" viewBox=\"0.00 0.00 292.00 543.00\" width=\"292pt\" xmlns=\"http://www.w3.org/2000/svg\" xmlns:xlink=\"http://www.w3.org/1999/xlink\">\n<g class=\"graph\" id=\"graph0\" transform=\"scale(1 1) rotate(0) translate(4 539)\">\n<title>G</title>\n<polygon fill=\"#ffffff\" points=\"-4,4 -4,-539 288,-539 288,4 -4,4\" stroke=\"transparent\"/>\n<!-- 140119692147120 -->\n<g class=\"node\" id=\"node1\">\n<title>140119692147120</title>\n<polygon fill=\"none\" points=\"23.5,-415.5 23.5,-461.5 260.5,-461.5 260.5,-415.5 23.5,-415.5\" stroke=\"#000000\"/>\n<text fill=\"#000000\" font-family=\"Times,serif\" font-size=\"14.00\" text-anchor=\"middle\" x=\"77\" y=\"-434.8\">dense_2: Dense</text>\n<polyline fill=\"none\" points=\"130.5,-415.5 130.5,-461.5 \" stroke=\"#000000\"/>\n<text fill=\"#000000\" font-family=\"Times,serif\" font-size=\"14.00\" text-anchor=\"middle\" x=\"159.5\" y=\"-446.3\">input:</text>\n<polyline fill=\"none\" points=\"130.5,-438.5 188.5,-438.5 \" stroke=\"#000000\"/>\n<text fill=\"#000000\" font-family=\"Times,serif\" font-size=\"14.00\" text-anchor=\"middle\" x=\"159.5\" y=\"-423.3\">output:</text>\n<polyline fill=\"none\" points=\"188.5,-415.5 188.5,-461.5 \" stroke=\"#000000\"/>\n<text fill=\"#000000\" font-family=\"Times,serif\" font-size=\"14.00\" text-anchor=\"middle\" x=\"224.5\" y=\"-446.3\">(None, 2)</text>\n<polyline fill=\"none\" points=\"188.5,-438.5 260.5,-438.5 \" stroke=\"#000000\"/>\n<text fill=\"#000000\" font-family=\"Times,serif\" font-size=\"14.00\" text-anchor=\"middle\" x=\"224.5\" y=\"-423.3\">(None, 4)</text>\n</g>\n<!-- 140119692147512 -->\n<g class=\"node\" id=\"node2\">\n<title>140119692147512</title>\n<polygon fill=\"none\" points=\"0,-332.5 0,-378.5 284,-378.5 284,-332.5 0,-332.5\" stroke=\"#000000\"/>\n<text fill=\"#000000\" font-family=\"Times,serif\" font-size=\"14.00\" text-anchor=\"middle\" x=\"77\" y=\"-351.8\">activation_2: Activation</text>\n<polyline fill=\"none\" points=\"154,-332.5 154,-378.5 \" stroke=\"#000000\"/>\n<text fill=\"#000000\" font-family=\"Times,serif\" font-size=\"14.00\" text-anchor=\"middle\" x=\"183\" y=\"-363.3\">input:</text>\n<polyline fill=\"none\" points=\"154,-355.5 212,-355.5 \" stroke=\"#000000\"/>\n<text fill=\"#000000\" font-family=\"Times,serif\" font-size=\"14.00\" text-anchor=\"middle\" x=\"183\" y=\"-340.3\">output:</text>\n<polyline fill=\"none\" points=\"212,-332.5 212,-378.5 \" stroke=\"#000000\"/>\n<text fill=\"#000000\" font-family=\"Times,serif\" font-size=\"14.00\" text-anchor=\"middle\" x=\"248\" y=\"-363.3\">(None, 4)</text>\n<polyline fill=\"none\" points=\"212,-355.5 284,-355.5 \" stroke=\"#000000\"/>\n<text fill=\"#000000\" font-family=\"Times,serif\" font-size=\"14.00\" text-anchor=\"middle\" x=\"248\" y=\"-340.3\">(None, 4)</text>\n</g>\n<!-- 140119692147120&#45;&gt;140119692147512 -->\n<g class=\"edge\" id=\"edge2\">\n<title>140119692147120-&gt;140119692147512</title>\n<path d=\"M142,-415.3799C142,-407.1745 142,-397.7679 142,-388.8786\" fill=\"none\" stroke=\"#000000\"/>\n<polygon fill=\"#000000\" points=\"145.5001,-388.784 142,-378.784 138.5001,-388.784 145.5001,-388.784\" stroke=\"#000000\"/>\n</g>\n<!-- 140119692147568 -->\n<g class=\"node\" id=\"node3\">\n<title>140119692147568</title>\n<polygon fill=\"none\" points=\"23.5,-249.5 23.5,-295.5 260.5,-295.5 260.5,-249.5 23.5,-249.5\" stroke=\"#000000\"/>\n<text fill=\"#000000\" font-family=\"Times,serif\" font-size=\"14.00\" text-anchor=\"middle\" x=\"77\" y=\"-268.8\">dense_3: Dense</text>\n<polyline fill=\"none\" points=\"130.5,-249.5 130.5,-295.5 \" stroke=\"#000000\"/>\n<text fill=\"#000000\" font-family=\"Times,serif\" font-size=\"14.00\" text-anchor=\"middle\" x=\"159.5\" y=\"-280.3\">input:</text>\n<polyline fill=\"none\" points=\"130.5,-272.5 188.5,-272.5 \" stroke=\"#000000\"/>\n<text fill=\"#000000\" font-family=\"Times,serif\" font-size=\"14.00\" text-anchor=\"middle\" x=\"159.5\" y=\"-257.3\">output:</text>\n<polyline fill=\"none\" points=\"188.5,-249.5 188.5,-295.5 \" stroke=\"#000000\"/>\n<text fill=\"#000000\" font-family=\"Times,serif\" font-size=\"14.00\" text-anchor=\"middle\" x=\"224.5\" y=\"-280.3\">(None, 4)</text>\n<polyline fill=\"none\" points=\"188.5,-272.5 260.5,-272.5 \" stroke=\"#000000\"/>\n<text fill=\"#000000\" font-family=\"Times,serif\" font-size=\"14.00\" text-anchor=\"middle\" x=\"224.5\" y=\"-257.3\">(None, 2)</text>\n</g>\n<!-- 140119692147512&#45;&gt;140119692147568 -->\n<g class=\"edge\" id=\"edge3\">\n<title>140119692147512-&gt;140119692147568</title>\n<path d=\"M142,-332.3799C142,-324.1745 142,-314.7679 142,-305.8786\" fill=\"none\" stroke=\"#000000\"/>\n<polygon fill=\"#000000\" points=\"145.5001,-305.784 142,-295.784 138.5001,-305.784 145.5001,-305.784\" stroke=\"#000000\"/>\n</g>\n<!-- 140119692147960 -->\n<g class=\"node\" id=\"node4\">\n<title>140119692147960</title>\n<polygon fill=\"none\" points=\"0,-166.5 0,-212.5 284,-212.5 284,-166.5 0,-166.5\" stroke=\"#000000\"/>\n<text fill=\"#000000\" font-family=\"Times,serif\" font-size=\"14.00\" text-anchor=\"middle\" x=\"77\" y=\"-185.8\">activation_3: Activation</text>\n<polyline fill=\"none\" points=\"154,-166.5 154,-212.5 \" stroke=\"#000000\"/>\n<text fill=\"#000000\" font-family=\"Times,serif\" font-size=\"14.00\" text-anchor=\"middle\" x=\"183\" y=\"-197.3\">input:</text>\n<polyline fill=\"none\" points=\"154,-189.5 212,-189.5 \" stroke=\"#000000\"/>\n<text fill=\"#000000\" font-family=\"Times,serif\" font-size=\"14.00\" text-anchor=\"middle\" x=\"183\" y=\"-174.3\">output:</text>\n<polyline fill=\"none\" points=\"212,-166.5 212,-212.5 \" stroke=\"#000000\"/>\n<text fill=\"#000000\" font-family=\"Times,serif\" font-size=\"14.00\" text-anchor=\"middle\" x=\"248\" y=\"-197.3\">(None, 2)</text>\n<polyline fill=\"none\" points=\"212,-189.5 284,-189.5 \" stroke=\"#000000\"/>\n<text fill=\"#000000\" font-family=\"Times,serif\" font-size=\"14.00\" text-anchor=\"middle\" x=\"248\" y=\"-174.3\">(None, 2)</text>\n</g>\n<!-- 140119692147568&#45;&gt;140119692147960 -->\n<g class=\"edge\" id=\"edge4\">\n<title>140119692147568-&gt;140119692147960</title>\n<path d=\"M142,-249.3799C142,-241.1745 142,-231.7679 142,-222.8786\" fill=\"none\" stroke=\"#000000\"/>\n<polygon fill=\"#000000\" points=\"145.5001,-222.784 142,-212.784 138.5001,-222.784 145.5001,-222.784\" stroke=\"#000000\"/>\n</g>\n<!-- 140119692148016 -->\n<g class=\"node\" id=\"node5\">\n<title>140119692148016</title>\n<polygon fill=\"none\" points=\"23.5,-83.5 23.5,-129.5 260.5,-129.5 260.5,-83.5 23.5,-83.5\" stroke=\"#000000\"/>\n<text fill=\"#000000\" font-family=\"Times,serif\" font-size=\"14.00\" text-anchor=\"middle\" x=\"77\" y=\"-102.8\">dense_4: Dense</text>\n<polyline fill=\"none\" points=\"130.5,-83.5 130.5,-129.5 \" stroke=\"#000000\"/>\n<text fill=\"#000000\" font-family=\"Times,serif\" font-size=\"14.00\" text-anchor=\"middle\" x=\"159.5\" y=\"-114.3\">input:</text>\n<polyline fill=\"none\" points=\"130.5,-106.5 188.5,-106.5 \" stroke=\"#000000\"/>\n<text fill=\"#000000\" font-family=\"Times,serif\" font-size=\"14.00\" text-anchor=\"middle\" x=\"159.5\" y=\"-91.3\">output:</text>\n<polyline fill=\"none\" points=\"188.5,-83.5 188.5,-129.5 \" stroke=\"#000000\"/>\n<text fill=\"#000000\" font-family=\"Times,serif\" font-size=\"14.00\" text-anchor=\"middle\" x=\"224.5\" y=\"-114.3\">(None, 2)</text>\n<polyline fill=\"none\" points=\"188.5,-106.5 260.5,-106.5 \" stroke=\"#000000\"/>\n<text fill=\"#000000\" font-family=\"Times,serif\" font-size=\"14.00\" text-anchor=\"middle\" x=\"224.5\" y=\"-91.3\">(None, 1)</text>\n</g>\n<!-- 140119692147960&#45;&gt;140119692148016 -->\n<g class=\"edge\" id=\"edge5\">\n<title>140119692147960-&gt;140119692148016</title>\n<path d=\"M142,-166.3799C142,-158.1745 142,-148.7679 142,-139.8786\" fill=\"none\" stroke=\"#000000\"/>\n<polygon fill=\"#000000\" points=\"145.5001,-139.784 142,-129.784 138.5001,-139.784 145.5001,-139.784\" stroke=\"#000000\"/>\n</g>\n<!-- 140119692148408 -->\n<g class=\"node\" id=\"node6\">\n<title>140119692148408</title>\n<polygon fill=\"none\" points=\"0,-.5 0,-46.5 284,-46.5 284,-.5 0,-.5\" stroke=\"#000000\"/>\n<text fill=\"#000000\" font-family=\"Times,serif\" font-size=\"14.00\" text-anchor=\"middle\" x=\"77\" y=\"-19.8\">activation_4: Activation</text>\n<polyline fill=\"none\" points=\"154,-.5 154,-46.5 \" stroke=\"#000000\"/>\n<text fill=\"#000000\" font-family=\"Times,serif\" font-size=\"14.00\" text-anchor=\"middle\" x=\"183\" y=\"-31.3\">input:</text>\n<polyline fill=\"none\" points=\"154,-23.5 212,-23.5 \" stroke=\"#000000\"/>\n<text fill=\"#000000\" font-family=\"Times,serif\" font-size=\"14.00\" text-anchor=\"middle\" x=\"183\" y=\"-8.3\">output:</text>\n<polyline fill=\"none\" points=\"212,-.5 212,-46.5 \" stroke=\"#000000\"/>\n<text fill=\"#000000\" font-family=\"Times,serif\" font-size=\"14.00\" text-anchor=\"middle\" x=\"248\" y=\"-31.3\">(None, 1)</text>\n<polyline fill=\"none\" points=\"212,-23.5 284,-23.5 \" stroke=\"#000000\"/>\n<text fill=\"#000000\" font-family=\"Times,serif\" font-size=\"14.00\" text-anchor=\"middle\" x=\"248\" y=\"-8.3\">(None, 1)</text>\n</g>\n<!-- 140119692148016&#45;&gt;140119692148408 -->\n<g class=\"edge\" id=\"edge6\">\n<title>140119692148016-&gt;140119692148408</title>\n<path d=\"M142,-83.3799C142,-75.1745 142,-65.7679 142,-56.8786\" fill=\"none\" stroke=\"#000000\"/>\n<polygon fill=\"#000000\" points=\"145.5001,-56.784 142,-46.784 138.5001,-56.784 145.5001,-56.784\" stroke=\"#000000\"/>\n</g>\n<!-- 140119692148576 -->\n<g class=\"node\" id=\"node7\">\n<title>140119692148576</title>\n<polygon fill=\"none\" points=\"78,-498.5 78,-534.5 206,-534.5 206,-498.5 78,-498.5\" stroke=\"#000000\"/>\n<text fill=\"#000000\" font-family=\"Times,serif\" font-size=\"14.00\" text-anchor=\"middle\" x=\"142\" y=\"-512.8\">140119692148576</text>\n</g>\n<!-- 140119692148576&#45;&gt;140119692147120 -->\n<g class=\"edge\" id=\"edge1\">\n<title>140119692148576-&gt;140119692147120</title>\n<path d=\"M142,-498.4092C142,-490.4308 142,-480.795 142,-471.606\" fill=\"none\" stroke=\"#000000\"/>\n<polygon fill=\"#000000\" points=\"145.5001,-471.5333 142,-461.5333 138.5001,-471.5334 145.5001,-471.5333\" stroke=\"#000000\"/>\n</g>\n</g>\n</svg>"
          },
          "metadata": {
            "tags": []
          },
          "execution_count": 15
        }
      ]
    },
    {
      "metadata": {
        "id": "QzKADZimmHhR",
        "colab_type": "code",
        "colab": {}
      },
      "cell_type": "code",
      "source": [
        "model.compile(optimizer=keras.optimizers.SGD(lr=.5),loss='mse')"
      ],
      "execution_count": 0,
      "outputs": []
    },
    {
      "metadata": {
        "id": "8V6C9jgCmMfp",
        "colab_type": "code",
        "colab": {
          "base_uri": "https://localhost:8080/",
          "height": 382
        },
        "outputId": "0b1f9d19-bc02-4eea-c571-ba3943a7c897"
      },
      "cell_type": "code",
      "source": [
        "model.fit(input, output, epochs = 10)"
      ],
      "execution_count": 17,
      "outputs": [
        {
          "output_type": "stream",
          "text": [
            "Epoch 1/10\n",
            "4/4 [==============================] - 0s 31ms/step - loss: 0.3166\n",
            "Epoch 2/10\n",
            "4/4 [==============================] - 0s 1ms/step - loss: 0.3083\n",
            "Epoch 3/10\n",
            "4/4 [==============================] - 0s 1ms/step - loss: 0.3006\n",
            "Epoch 4/10\n",
            "4/4 [==============================] - 0s 919us/step - loss: 0.2935\n",
            "Epoch 5/10\n",
            "4/4 [==============================] - 0s 896us/step - loss: 0.2870\n",
            "Epoch 6/10\n",
            "4/4 [==============================] - 0s 865us/step - loss: 0.2813\n",
            "Epoch 7/10\n",
            "4/4 [==============================] - 0s 812us/step - loss: 0.2762\n",
            "Epoch 8/10\n",
            "4/4 [==============================] - 0s 919us/step - loss: 0.2718\n",
            "Epoch 9/10\n",
            "4/4 [==============================] - 0s 813us/step - loss: 0.2681\n",
            "Epoch 10/10\n",
            "4/4 [==============================] - 0s 890us/step - loss: 0.2650\n"
          ],
          "name": "stdout"
        },
        {
          "output_type": "execute_result",
          "data": {
            "text/plain": [
              "<keras.callbacks.History at 0x7f70286ec908>"
            ]
          },
          "metadata": {
            "tags": []
          },
          "execution_count": 17
        }
      ]
    },
    {
      "metadata": {
        "id": "5laAl-5KmQJh",
        "colab_type": "code",
        "colab": {
          "base_uri": "https://localhost:8080/",
          "height": 34
        },
        "outputId": "3d1b47b2-0371-4975-e51e-df7cd68f765d"
      },
      "cell_type": "code",
      "source": [
        "model.predict(np.array([[0,1]]))"
      ],
      "execution_count": 18,
      "outputs": [
        {
          "output_type": "execute_result",
          "data": {
            "text/plain": [
              "array([[0.37549162]], dtype=float32)"
            ]
          },
          "metadata": {
            "tags": []
          },
          "execution_count": 18
        }
      ]
    },
    {
      "metadata": {
        "id": "ddBLOVlBmUbY",
        "colab_type": "code",
        "colab": {
          "base_uri": "https://localhost:8080/",
          "height": 34
        },
        "outputId": "b82d2b7a-5285-47db-b87b-1ec2b4615a8d"
      },
      "cell_type": "code",
      "source": [
        "model.predict(np.array([[1,1]]))"
      ],
      "execution_count": 19,
      "outputs": [
        {
          "output_type": "execute_result",
          "data": {
            "text/plain": [
              "array([[0.3921212]], dtype=float32)"
            ]
          },
          "metadata": {
            "tags": []
          },
          "execution_count": 19
        }
      ]
    },
    {
      "metadata": {
        "id": "o3A6zUIOmX0Y",
        "colab_type": "code",
        "colab": {}
      },
      "cell_type": "code",
      "source": [
        ""
      ],
      "execution_count": 0,
      "outputs": []
    }
  ]
}