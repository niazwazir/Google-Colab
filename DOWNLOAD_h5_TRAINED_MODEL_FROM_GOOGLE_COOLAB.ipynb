{
  "nbformat": 4,
  "nbformat_minor": 0,
  "metadata": {
    "colab": {
      "name": "DOWNLOAD h5 TRAINED MODEL FROM GOOGLE COOLAB.ipynb",
      "version": "0.3.2",
      "provenance": []
    },
    "kernelspec": {
      "name": "python3",
      "display_name": "Python 3"
    },
    "accelerator": "GPU"
  },
  "cells": [
    {
      "metadata": {
        "id": "8b5zmePuJ7u-",
        "colab_type": "code",
        "colab": {
          "base_uri": "https://localhost:8080/",
          "height": 34
        },
        "outputId": "02fcb1c7-bbcb-44c3-8084-7682baa1c37e"
      },
      "cell_type": "code",
      "source": [
        "#YOU MUST USE , GOOGLE CHROME THAN EASILY DOWN LOAD .h5 FILES\n",
        "#OTHER BROWSER HAS SOME PROBLEM, SO GO END OF PROGRAM CODE THAT COMMAND USED TO DOWNLOAD.h5 FILE\n",
        "import tensorflow as tf\n",
        "mnist = tf.keras.datasets.mnist\n",
        "tf.__version__"
      ],
      "execution_count": 1,
      "outputs": [
        {
          "output_type": "execute_result",
          "data": {
            "text/plain": [
              "'1.10.1'"
            ]
          },
          "metadata": {
            "tags": []
          },
          "execution_count": 1
        }
      ]
    },
    {
      "metadata": {
        "id": "1aqrJWzlKCF0",
        "colab_type": "code",
        "colab": {
          "base_uri": "https://localhost:8080/",
          "height": 51
        },
        "outputId": "02e1ac81-5e16-433b-bbee-071975b728fd"
      },
      "cell_type": "code",
      "source": [
        "(x_train,y_train),(x_test,y_test) = mnist.load_data()"
      ],
      "execution_count": 2,
      "outputs": [
        {
          "output_type": "stream",
          "text": [
            "Downloading data from https://storage.googleapis.com/tensorflow/tf-keras-datasets/mnist.npz\n",
            "11493376/11490434 [==============================] - 0s 0us/step\n"
          ],
          "name": "stdout"
        }
      ]
    },
    {
      "metadata": {
        "id": "AACJqKNrKQAe",
        "colab_type": "code",
        "colab": {}
      },
      "cell_type": "code",
      "source": [
        "import matplotlib.pyplot as plt"
      ],
      "execution_count": 0,
      "outputs": []
    },
    {
      "metadata": {
        "id": "Nuxp4cp4KTik",
        "colab_type": "code",
        "colab": {}
      },
      "cell_type": "code",
      "source": [
        "x_train = tf.keras.utils.normalize(x_train,axis=1)\n",
        "x_test = tf.keras.utils.normalize(x_test,axis=1)"
      ],
      "execution_count": 0,
      "outputs": []
    },
    {
      "metadata": {
        "id": "e5mDRIqgKXzS",
        "colab_type": "code",
        "colab": {
          "base_uri": "https://localhost:8080/",
          "height": 153
        },
        "outputId": "6c3a65e4-81a7-4c1f-f2c8-c9a311b0479d"
      },
      "cell_type": "code",
      "source": [
        "%%time\n",
        "model = tf.keras.models.Sequential()\n",
        "model.add(tf.keras.layers.Flatten())\n",
        "\n",
        "model.add(tf.keras.layers.Dense(128,activation=tf.nn.relu))\n",
        "model.add(tf.keras.layers.Dense(128,activation=tf.nn.relu))\n",
        "model.add(tf.keras.layers.Dense(10,activation=tf.nn.softmax))\n",
        "\n",
        "model.compile(optimizer='adam', loss='sparse_categorical_crossentropy',metrics=['accuracy'])\n",
        "model.fit(x_train,y_train,epochs=3)\n",
        "model.save_weights('NEW.h5')"
      ],
      "execution_count": 5,
      "outputs": [
        {
          "output_type": "stream",
          "text": [
            "Epoch 1/3\n",
            "60000/60000 [==============================] - 10s 171us/step - loss: 0.2644 - acc: 0.9213\n",
            "Epoch 2/3\n",
            "60000/60000 [==============================] - 9s 156us/step - loss: 0.1076 - acc: 0.9669\n",
            "Epoch 3/3\n",
            "60000/60000 [==============================] - 9s 155us/step - loss: 0.0726 - acc: 0.9771\n",
            "CPU times: user 33.2 s, sys: 5.13 s, total: 38.4 s\n",
            "Wall time: 29.4 s\n"
          ],
          "name": "stdout"
        }
      ]
    },
    {
      "metadata": {
        "id": "MEQyDGDHKc7N",
        "colab_type": "code",
        "colab": {
          "base_uri": "https://localhost:8080/",
          "height": 51
        },
        "outputId": "8b17c23c-f6e3-41af-af97-c382a1dde8e7"
      },
      "cell_type": "code",
      "source": [
        "v_loss,v_acc = model.evaluate(x_test,y_test)\n",
        "print(v_loss,v_acc)"
      ],
      "execution_count": 6,
      "outputs": [
        {
          "output_type": "stream",
          "text": [
            "10000/10000 [==============================] - 0s 48us/step\n",
            "0.09967426664382219 0.9699\n"
          ],
          "name": "stdout"
        }
      ]
    },
    {
      "metadata": {
        "id": "BHZOG-a2Kh17",
        "colab_type": "code",
        "colab": {}
      },
      "cell_type": "code",
      "source": [
        "#THIS COMMAND IS USED TO DOWNLOAD TRAINED MODEL\n",
        "from google.colab import files\n",
        "files.download('NEW.h5')"
      ],
      "execution_count": 0,
      "outputs": []
    },
    {
      "metadata": {
        "id": "69lMkhBgKm-I",
        "colab_type": "code",
        "colab": {}
      },
      "cell_type": "code",
      "source": [
        ""
      ],
      "execution_count": 0,
      "outputs": []
    }
  ]
}