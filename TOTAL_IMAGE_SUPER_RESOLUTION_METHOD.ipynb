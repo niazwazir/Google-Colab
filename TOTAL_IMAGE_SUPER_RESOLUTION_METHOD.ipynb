{
  "nbformat": 4,
  "nbformat_minor": 0,
  "metadata": {
    "colab": {
      "name": "TOTAL_IMAGE_SUPER_RESOLUTION_METHOD.ipynb",
      "provenance": []
    },
    "kernelspec": {
      "name": "python3",
      "display_name": "Python 3"
    },
    "accelerator": "GPU"
  },
  "cells": [
    {
      "cell_type": "code",
      "metadata": {
        "id": "_oYN2a_zdePE",
        "colab_type": "code",
        "colab": {}
      },
      "source": [
        "1) SRCNN  Method\n",
        "2) FSRCNN Method\n",
        "3) VDSR Method\n",
        "4) LapSRN\n",
        "5) IMDN Method\n",
        "6) SelfExSR\n",
        "7) DCSCN\n",
        "8) SRDenseNet\n",
        "9) MoreMNAS\n",
        "10) ILSR"
      ],
      "execution_count": 0,
      "outputs": []
    }
  ]
}