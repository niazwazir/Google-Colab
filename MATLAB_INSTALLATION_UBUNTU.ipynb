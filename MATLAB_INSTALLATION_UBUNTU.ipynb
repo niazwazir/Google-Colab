{
 "cells": [
  {
   "cell_type": "markdown",
   "metadata": {},
   "source": [
    "# HOW TO INSTALL MATLAB IN UBUNTU\n",
    "#DOWNLOAD FROM THIS SITE\n",
    "https://www.mathworks.com/downloads/web_downloads/download_release?release=R2018a\n",
    "    \n",
    "GO THIS SITE FOR STEP WISE\n",
    "\n",
    "https://linuxconfig.org/how-to-install-matlab-on-ubuntu-18-04-bionic-beaver-linux\n",
    "    \n",
    "\n",
    "    \n",
    "   "
   ]
  },
  {
   "cell_type": "markdown",
   "metadata": {},
   "source": [
    "# PUT USER NAME = GO TERMINAL AND TYPE whoami \n",
    "then put this name as user name"
   ]
  }
 ],
 "metadata": {
  "kernelspec": {
   "display_name": "Python 3",
   "language": "python",
   "name": "python3"
  },
  "language_info": {
   "codemirror_mode": {
    "name": "ipython",
    "version": 3
   },
   "file_extension": ".py",
   "mimetype": "text/x-python",
   "name": "python",
   "nbconvert_exporter": "python",
   "pygments_lexer": "ipython3",
   "version": "3.5.6"
  }
 },
 "nbformat": 4,
 "nbformat_minor": 2
}
