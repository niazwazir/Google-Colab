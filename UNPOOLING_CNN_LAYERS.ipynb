{
  "nbformat": 4,
  "nbformat_minor": 0,
  "metadata": {
    "colab": {
      "name": "UNPOOLING CNN LAYERS.ipynb",
      "provenance": []
    },
    "kernelspec": {
      "name": "python3",
      "display_name": "Python 3"
    },
    "language_info": {
      "name": "python"
    }
  },
  "cells": [
    {
      "cell_type": "code",
      "execution_count": 1,
      "metadata": {
        "id": "9GTfCF6iqA3O"
      },
      "outputs": [],
      "source": [
        "from keras.layers import Input, Conv2DTranspose, Conv2D, MaxPooling2D\n",
        "from keras.models import Model"
      ]
    },
    {
      "cell_type": "code",
      "source": [
        "img_shape = (32,32,1)\n",
        "input_img = Input(shape=(img_shape))\n",
        "MP1 = MaxPooling2D(pool_size=(2,2))(input_img)\n",
        "TC1 = Conv2DTranspose(1, (3, 3), strides=(2,2), padding='same')(MP1)\n",
        "C1 = Conv2D(1,(1,1),padding='SAME',strides=(2,2))(TC1)\n",
        "TC2 = Conv2DTranspose(1, (3, 3), strides=(2,2), padding='same')(C1)\n",
        "model = Model(input_img, TC2)\n",
        "model.summary()"
      ],
      "metadata": {
        "colab": {
          "base_uri": "https://localhost:8080/"
        },
        "id": "IxWPFeqaqFwx",
        "outputId": "4f982efe-a4a0-4381-b787-37c1f1bc03bd"
      },
      "execution_count": 2,
      "outputs": [
        {
          "output_type": "stream",
          "name": "stdout",
          "text": [
            "Model: \"model\"\n",
            "_________________________________________________________________\n",
            " Layer (type)                Output Shape              Param #   \n",
            "=================================================================\n",
            " input_1 (InputLayer)        [(None, 32, 32, 1)]       0         \n",
            "                                                                 \n",
            " max_pooling2d (MaxPooling2D  (None, 16, 16, 1)        0         \n",
            " )                                                               \n",
            "                                                                 \n",
            " conv2d_transpose (Conv2DTra  (None, 32, 32, 1)        10        \n",
            " nspose)                                                         \n",
            "                                                                 \n",
            " conv2d (Conv2D)             (None, 16, 16, 1)         2         \n",
            "                                                                 \n",
            " conv2d_transpose_1 (Conv2DT  (None, 32, 32, 1)        10        \n",
            " ranspose)                                                       \n",
            "                                                                 \n",
            "=================================================================\n",
            "Total params: 22\n",
            "Trainable params: 22\n",
            "Non-trainable params: 0\n",
            "_________________________________________________________________\n"
          ]
        }
      ]
    },
    {
      "cell_type": "code",
      "source": [
        ""
      ],
      "metadata": {
        "id": "i754RlMtqObd"
      },
      "execution_count": 2,
      "outputs": []
    }
  ]
}