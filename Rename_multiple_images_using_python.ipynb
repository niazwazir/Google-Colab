{
  "nbformat": 4,
  "nbformat_minor": 0,
  "metadata": {
    "kernelspec": {
      "display_name": "gputest",
      "language": "python",
      "name": "gputest"
    },
    "language_info": {
      "codemirror_mode": {
        "name": "ipython",
        "version": 3
      },
      "file_extension": ".py",
      "mimetype": "text/x-python",
      "name": "python",
      "nbconvert_exporter": "python",
      "pygments_lexer": "ipython3",
      "version": "3.7.7"
    },
    "colab": {
      "name": "Rename multiple images using python.ipynb",
      "provenance": []
    },
    "accelerator": "GPU"
  },
  "cells": [
    {
      "cell_type": "code",
      "metadata": {
        "id": "Pn2dlnw4bkt6",
        "colab_type": "code",
        "colab": {
          "base_uri": "https://localhost:8080/",
          "height": 118
        },
        "outputId": "ab2add8a-09ae-4fb1-c5b9-2871dde13235"
      },
      "source": [
        "!git clone https://github.com/niazwazir/SET5_BMP.git"
      ],
      "execution_count": 1,
      "outputs": [
        {
          "output_type": "stream",
          "text": [
            "Cloning into 'SET5_BMP'...\n",
            "remote: Enumerating objects: 7, done.\u001b[K\n",
            "remote: Counting objects: 100% (7/7), done.\u001b[K\n",
            "remote: Compressing objects: 100% (7/7), done.\u001b[K\n",
            "remote: Total 14 (delta 1), reused 0 (delta 0), pack-reused 7\u001b[K\n",
            "Unpacking objects: 100% (14/14), done.\n"
          ],
          "name": "stdout"
        }
      ]
    },
    {
      "cell_type": "code",
      "metadata": {
        "id": "NYIkrebkbkxk",
        "colab_type": "code",
        "colab": {
          "base_uri": "https://localhost:8080/",
          "height": 34
        },
        "outputId": "bc952fc7-8b5b-471d-f569-2b8dda368ba4"
      },
      "source": [
        "cd SET5_BMP/"
      ],
      "execution_count": 2,
      "outputs": [
        {
          "output_type": "stream",
          "text": [
            "/content/SET5_BMP\n"
          ],
          "name": "stdout"
        }
      ]
    },
    {
      "cell_type": "code",
      "metadata": {
        "id": "j24-p0Fub2mt",
        "colab_type": "code",
        "colab": {
          "base_uri": "https://localhost:8080/",
          "height": 50
        },
        "outputId": "c67da364-5cde-4eca-9ed3-636f4ef7d0e8"
      },
      "source": [
        "!ls"
      ],
      "execution_count": 3,
      "outputs": [
        {
          "output_type": "stream",
          "text": [
            "baby_GT.bmp  butterfly_GT.bmp  head_GT.bmp  test.bmp\n",
            "bird_GT.bmp  group.png\t       niaz.png     woman_GT.bmp\n"
          ],
          "name": "stdout"
        }
      ]
    },
    {
      "cell_type": "code",
      "metadata": {
        "id": "EcCi4Ppob48J",
        "colab_type": "code",
        "colab": {
          "base_uri": "https://localhost:8080/",
          "height": 34
        },
        "outputId": "ea3c2294-a43a-4be0-9dc4-f0b0b0cd6396"
      },
      "source": [
        "cd .."
      ],
      "execution_count": 4,
      "outputs": [
        {
          "output_type": "stream",
          "text": [
            "/content\n"
          ],
          "name": "stdout"
        }
      ]
    },
    {
      "cell_type": "code",
      "metadata": {
        "id": "HWhlxSjnbk1K",
        "colab_type": "code",
        "colab": {}
      },
      "source": [
        "import os\n",
        "# Function to rename multiple files\n",
        "def main():\n",
        "   i = 0\n",
        "   path=\"SET5_BMP/\"\n",
        "   for filename in os.listdir(path):\n",
        "      my_dest =\"NIAZ\" + str(i) + \".jpg\" ############################################PUT FILE NAME WITH EXTENSION\n",
        "      my_source =path + filename\n",
        "      my_dest =path + my_dest\n",
        "      # rename() function will\n",
        "      # rename all the files\n",
        "      os.rename(my_source, my_dest)\n",
        "      i += 1\n",
        "# Driver Code\n",
        "if __name__ == '__main__':\n",
        "   # Calling main() function\n",
        "   main()"
      ],
      "execution_count": 5,
      "outputs": []
    },
    {
      "cell_type": "code",
      "metadata": {
        "id": "Z_ya4nkgbWca",
        "colab_type": "code",
        "colab": {
          "base_uri": "https://localhost:8080/",
          "height": 34
        },
        "outputId": "055c7465-a450-4c24-903a-a139bf7fd071"
      },
      "source": [
        "cd SET5_BMP/"
      ],
      "execution_count": 6,
      "outputs": [
        {
          "output_type": "stream",
          "text": [
            "/content/SET5_BMP\n"
          ],
          "name": "stdout"
        }
      ]
    },
    {
      "cell_type": "code",
      "metadata": {
        "id": "HHZQeATRcOJ0",
        "colab_type": "code",
        "colab": {
          "base_uri": "https://localhost:8080/",
          "height": 50
        },
        "outputId": "98f2ed9e-cc1f-4578-8ce0-25362cbac3dd"
      },
      "source": [
        "!ls"
      ],
      "execution_count": 7,
      "outputs": [
        {
          "output_type": "stream",
          "text": [
            "NIAZ0.jpg  NIAZ2.jpg  NIAZ4.jpg  NIAZ6.jpg  NIAZ8.jpg\n",
            "NIAZ1.jpg  NIAZ3.jpg  NIAZ5.jpg  NIAZ7.jpg\n"
          ],
          "name": "stdout"
        }
      ]
    }
  ]
}