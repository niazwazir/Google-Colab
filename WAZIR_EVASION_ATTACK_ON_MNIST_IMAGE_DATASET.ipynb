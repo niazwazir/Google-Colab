{
  "nbformat": 4,
  "nbformat_minor": 0,
  "metadata": {
    "colab": {
      "provenance": []
    },
    "kernelspec": {
      "name": "python3",
      "display_name": "Python 3"
    },
    "language_info": {
      "name": "python"
    }
  },
  "cells": [
    {
      "cell_type": "code",
      "execution_count": 1,
      "metadata": {
        "colab": {
          "base_uri": "https://localhost:8080/"
        },
        "id": "h9OiodL6hVvu",
        "outputId": "e0f819e6-61af-4fa1-b670-5e80ed5236eb"
      },
      "outputs": [
        {
          "output_type": "stream",
          "name": "stdout",
          "text": [
            "Collecting git+https://github.com/pralab/secml\n",
            "  Cloning https://github.com/pralab/secml to /tmp/pip-req-build-idbz7lz5\n",
            "  Running command git clone --filter=blob:none --quiet https://github.com/pralab/secml /tmp/pip-req-build-idbz7lz5\n",
            "  Resolved https://github.com/pralab/secml to commit 660540d86427ba583cf57b3f07846a2b9494afa0\n",
            "  Preparing metadata (setup.py) ... \u001b[?25l\u001b[?25hdone\n",
            "Requirement already satisfied: numpy>=1.17 in /usr/local/lib/python3.10/dist-packages (from secml==0.15.6) (1.26.4)\n",
            "Requirement already satisfied: scipy>=1.3.2 in /usr/local/lib/python3.10/dist-packages (from secml==0.15.6) (1.13.1)\n",
            "Requirement already satisfied: matplotlib>=3 in /usr/local/lib/python3.10/dist-packages (from secml==0.15.6) (3.8.0)\n",
            "Requirement already satisfied: scikit-learn>=0.22 in /usr/local/lib/python3.10/dist-packages (from secml==0.15.6) (1.5.2)\n",
            "Requirement already satisfied: joblib>=0.14 in /usr/local/lib/python3.10/dist-packages (from secml==0.15.6) (1.4.2)\n",
            "Requirement already satisfied: Pillow>=6.2.1 in /usr/local/lib/python3.10/dist-packages (from secml==0.15.6) (10.4.0)\n",
            "Requirement already satisfied: requests in /usr/local/lib/python3.10/dist-packages (from secml==0.15.6) (2.32.3)\n",
            "Requirement already satisfied: python-dateutil in /usr/local/lib/python3.10/dist-packages (from secml==0.15.6) (2.8.2)\n",
            "Requirement already satisfied: contourpy>=1.0.1 in /usr/local/lib/python3.10/dist-packages (from matplotlib>=3->secml==0.15.6) (1.3.0)\n",
            "Requirement already satisfied: cycler>=0.10 in /usr/local/lib/python3.10/dist-packages (from matplotlib>=3->secml==0.15.6) (0.12.1)\n",
            "Requirement already satisfied: fonttools>=4.22.0 in /usr/local/lib/python3.10/dist-packages (from matplotlib>=3->secml==0.15.6) (4.54.1)\n",
            "Requirement already satisfied: kiwisolver>=1.0.1 in /usr/local/lib/python3.10/dist-packages (from matplotlib>=3->secml==0.15.6) (1.4.7)\n",
            "Requirement already satisfied: packaging>=20.0 in /usr/local/lib/python3.10/dist-packages (from matplotlib>=3->secml==0.15.6) (24.1)\n",
            "Requirement already satisfied: pyparsing>=2.3.1 in /usr/local/lib/python3.10/dist-packages (from matplotlib>=3->secml==0.15.6) (3.2.0)\n",
            "Requirement already satisfied: six>=1.5 in /usr/local/lib/python3.10/dist-packages (from python-dateutil->secml==0.15.6) (1.16.0)\n",
            "Requirement already satisfied: threadpoolctl>=3.1.0 in /usr/local/lib/python3.10/dist-packages (from scikit-learn>=0.22->secml==0.15.6) (3.5.0)\n",
            "Requirement already satisfied: charset-normalizer<4,>=2 in /usr/local/lib/python3.10/dist-packages (from requests->secml==0.15.6) (3.4.0)\n",
            "Requirement already satisfied: idna<4,>=2.5 in /usr/local/lib/python3.10/dist-packages (from requests->secml==0.15.6) (3.10)\n",
            "Requirement already satisfied: urllib3<3,>=1.21.1 in /usr/local/lib/python3.10/dist-packages (from requests->secml==0.15.6) (2.2.3)\n",
            "Requirement already satisfied: certifi>=2017.4.17 in /usr/local/lib/python3.10/dist-packages (from requests->secml==0.15.6) (2024.8.30)\n",
            "Building wheels for collected packages: secml\n",
            "  Building wheel for secml (setup.py) ... \u001b[?25l\u001b[?25hdone\n",
            "  Created wheel for secml: filename=secml-0.15.6-py3-none-any.whl size=464025 sha256=b4c904d56e9e0d54a4254fcdc17dead5909bde7818694e9cd0c96922b609db82\n",
            "  Stored in directory: /tmp/pip-ephem-wheel-cache-vv10rfvj/wheels/22/d7/97/6c54183f8e63358a946e938cc5ca912832afe4a0b9d9b3d736\n",
            "Successfully built secml\n",
            "Installing collected packages: secml\n",
            "Successfully installed secml-0.15.6\n"
          ]
        }
      ],
      "source": [
        "#https://samsclass.info/\n",
        "#https://samsclass.info/127/127_S23.shtml\n",
        "#https://www.youtube.com/watch?v=v9GycB7fZgE\n",
        "!pip install git+https://github.com/pralab/secml"
      ]
    },
    {
      "cell_type": "code",
      "source": [
        "import secml\n",
        "from secml.data.loader import CDataLoaderMNIST\n",
        "loader = CDataLoaderMNIST()"
      ],
      "metadata": {
        "colab": {
          "base_uri": "https://localhost:8080/"
        },
        "id": "cDVwyGNghdIl",
        "outputId": "22048a6c-9715-4ac6-85f1-5434cda9c248"
      },
      "execution_count": 2,
      "outputs": [
        {
          "output_type": "stream",
          "name": "stdout",
          "text": [
            "2024-11-10 07:02:35,337 - secml.settings - INFO - New `SECML_HOME_DIR` created: /root/secml-data\n",
            "2024-11-10 07:02:35,337 - secml.settings - INFO - New `SECML_HOME_DIR` created: /root/secml-data\n"
          ]
        },
        {
          "output_type": "stream",
          "name": "stderr",
          "text": [
            "INFO:secml.settings:New `SECML_HOME_DIR` created: /root/secml-data\n"
          ]
        },
        {
          "output_type": "stream",
          "name": "stdout",
          "text": [
            "2024-11-10 07:02:35,349 - secml.settings - INFO - Default configuration file copied to: /root/secml-data/secml.conf\n",
            "2024-11-10 07:02:35,349 - secml.settings - INFO - Default configuration file copied to: /root/secml-data/secml.conf\n"
          ]
        },
        {
          "output_type": "stream",
          "name": "stderr",
          "text": [
            "INFO:secml.settings:Default configuration file copied to: /root/secml-data/secml.conf\n"
          ]
        },
        {
          "output_type": "stream",
          "name": "stdout",
          "text": [
            "2024-11-10 07:02:35,358 - secml.settings - INFO - New `SECML_DS_DIR` created: /root/secml-data/datasets\n",
            "2024-11-10 07:02:35,358 - secml.settings - INFO - New `SECML_DS_DIR` created: /root/secml-data/datasets\n"
          ]
        },
        {
          "output_type": "stream",
          "name": "stderr",
          "text": [
            "INFO:secml.settings:New `SECML_DS_DIR` created: /root/secml-data/datasets\n"
          ]
        },
        {
          "output_type": "stream",
          "name": "stdout",
          "text": [
            "2024-11-10 07:02:35,365 - secml.settings - INFO - New `SECML_MODELS_DIR` created: /root/secml-data/models\n",
            "2024-11-10 07:02:35,365 - secml.settings - INFO - New `SECML_MODELS_DIR` created: /root/secml-data/models\n"
          ]
        },
        {
          "output_type": "stream",
          "name": "stderr",
          "text": [
            "INFO:secml.settings:New `SECML_MODELS_DIR` created: /root/secml-data/models\n"
          ]
        },
        {
          "output_type": "stream",
          "name": "stdout",
          "text": [
            "2024-11-10 07:02:35,372 - secml.settings - INFO - New `SECML_EXP_DIR` created: /root/secml-data/experiments\n",
            "2024-11-10 07:02:35,372 - secml.settings - INFO - New `SECML_EXP_DIR` created: /root/secml-data/experiments\n"
          ]
        },
        {
          "output_type": "stream",
          "name": "stderr",
          "text": [
            "INFO:secml.settings:New `SECML_EXP_DIR` created: /root/secml-data/experiments\n"
          ]
        },
        {
          "output_type": "stream",
          "name": "stdout",
          "text": [
            "2024-11-10 07:02:35,377 - secml.settings - INFO - New `SECML_LOGS_DIR` created: /root/secml-data/logs\n",
            "2024-11-10 07:02:35,377 - secml.settings - INFO - New `SECML_LOGS_DIR` created: /root/secml-data/logs\n"
          ]
        },
        {
          "output_type": "stream",
          "name": "stderr",
          "text": [
            "INFO:secml.settings:New `SECML_LOGS_DIR` created: /root/secml-data/logs\n"
          ]
        },
        {
          "output_type": "stream",
          "name": "stdout",
          "text": [
            "2024-11-10 07:02:35,384 - secml.settings - INFO - New `SECML_PYTORCH_DIR` created: /root/secml-data/pytorch-data\n",
            "2024-11-10 07:02:35,384 - secml.settings - INFO - New `SECML_PYTORCH_DIR` created: /root/secml-data/pytorch-data\n"
          ]
        },
        {
          "output_type": "stream",
          "name": "stderr",
          "text": [
            "INFO:secml.settings:New `SECML_PYTORCH_DIR` created: /root/secml-data/pytorch-data\n"
          ]
        },
        {
          "output_type": "stream",
          "name": "stdout",
          "text": [
            "Downloading from `https://gitlab.com/api/v4/projects/secml%2Fsecml-zoo/repository/files/datasets%2FMNIST%2Ftrain-images-idx3-ubyte.gz/raw?ref=master` (9912422 bytes)\n",
            "\n",
            "File stored in `/root/secml-data/datasets/mnist/train-images-idx3-ubyte.gz`\n",
            "Downloading from `https://gitlab.com/api/v4/projects/secml%2Fsecml-zoo/repository/files/datasets%2FMNIST%2Ftrain-labels-idx1-ubyte.gz/raw?ref=master` (28881 bytes)\n",
            "\n",
            "File stored in `/root/secml-data/datasets/mnist/train-labels-idx1-ubyte.gz`\n",
            "Downloading from `https://gitlab.com/api/v4/projects/secml%2Fsecml-zoo/repository/files/datasets%2FMNIST%2Ft10k-images-idx3-ubyte.gz/raw?ref=master` (1648877 bytes)\n",
            "\n",
            "File stored in `/root/secml-data/datasets/mnist/t10k-images-idx3-ubyte.gz`\n",
            "Downloading from `https://gitlab.com/api/v4/projects/secml%2Fsecml-zoo/repository/files/datasets%2FMNIST%2Ft10k-labels-idx1-ubyte.gz/raw?ref=master` (4542 bytes)\n",
            "\n",
            "File stored in `/root/secml-data/datasets/mnist/t10k-labels-idx1-ubyte.gz`\n"
          ]
        }
      ]
    },
    {
      "cell_type": "code",
      "source": [
        "random_state = 999\n",
        "n_tr = 100 # number of training samples\n",
        "n_val = 500 # number of validation set samples\n",
        "n_ts = 500 # number of test set samples\n",
        "\n",
        "digits = (5,9)\n",
        "\n",
        "tr_val = loader.load('training', digits=digits, num_samples=n_tr + n_val)\n",
        "ts = loader.load('testing', digits=digits, num_samples=n_ts)\n",
        "\n",
        "#Split in Training and Validation Set\n",
        "tr = tr_val[:n_tr, :]\n",
        "val = tr_val[n_tr:, :]\n",
        "\n",
        "#Normalize the Features in '[0,1]'\n",
        "tr.X /= 255\n",
        "val.X /= 255\n",
        "ts.X /= 255\n",
        "\n",
        "print(\"Training Set\")\n",
        "print(tr.X)\n",
        "print(tr.X.shape)\n",
        "\n",
        "print(\"Validation Set\")\n",
        "print(val.X)\n",
        "print(val.X.shape)\n",
        "\n",
        "print(\"Test Set\")\n",
        "print(ts.X)\n",
        "print(ts.X.shape)\n"
      ],
      "metadata": {
        "colab": {
          "base_uri": "https://localhost:8080/"
        },
        "id": "gKckM3GtjBs0",
        "outputId": "f9928c4a-4a72-4f4b-8dbc-9b29d47385f4"
      },
      "execution_count": 3,
      "outputs": [
        {
          "output_type": "stream",
          "name": "stdout",
          "text": [
            "Training Set\n",
            "CArray([[0. 0. 0. ... 0. 0. 0.]\n",
            " [0. 0. 0. ... 0. 0. 0.]\n",
            " [0. 0. 0. ... 0. 0. 0.]\n",
            " ...\n",
            " [0. 0. 0. ... 0. 0. 0.]\n",
            " [0. 0. 0. ... 0. 0. 0.]\n",
            " [0. 0. 0. ... 0. 0. 0.]])\n",
            "(100, 784)\n",
            "Validation Set\n",
            "CArray([[0. 0. 0. ... 0. 0. 0.]\n",
            " [0. 0. 0. ... 0. 0. 0.]\n",
            " [0. 0. 0. ... 0. 0. 0.]\n",
            " ...\n",
            " [0. 0. 0. ... 0. 0. 0.]\n",
            " [0. 0. 0. ... 0. 0. 0.]\n",
            " [0. 0. 0. ... 0. 0. 0.]])\n",
            "(500, 784)\n",
            "Test Set\n",
            "CArray([[0. 0. 0. ... 0. 0. 0.]\n",
            " [0. 0. 0. ... 0. 0. 0.]\n",
            " [0. 0. 0. ... 0. 0. 0.]\n",
            " ...\n",
            " [0. 0. 0. ... 0. 0. 0.]\n",
            " [0. 0. 0. ... 0. 0. 0.]\n",
            " [0. 0. 0. ... 0. 0. 0.]])\n",
            "(500, 784)\n"
          ]
        }
      ]
    },
    {
      "cell_type": "code",
      "source": [
        "from secml.figure import CFigure\n",
        "#only required for visualization in notebooks\n",
        "%matplotlib inline\n",
        "# Let's define a convenice function ti easily plot the MNIST Dataset\n",
        "def show_digits_1(samples, labels, digs, n_display=8):\n",
        "  samples = samples.atleast_2d()\n",
        "  n_display = min(n_display, samples.shape[0])\n",
        "  fig = CFigure(width=n_display*2, height=3)\n",
        "  for idx in range(n_display):\n",
        "    fig.subplot(2,n_display, idx+1)\n",
        "    fig.sp.xticks([])\n",
        "    fig.sp.yticks([])\n",
        "    fig.sp.imshow(samples[idx, :].reshape((28,28)), cmap='gray')\n",
        "    fig.sp.title(\"{}\".format(digits[labels[idx].item()]))\n",
        "  fig.show()\n",
        "show_digits_1(tr.X, tr.Y, digits)"
      ],
      "metadata": {
        "colab": {
          "base_uri": "https://localhost:8080/",
          "height": 155
        },
        "id": "Mtkh66e8l9lS",
        "outputId": "96c976eb-e3df-4704-e3fb-3e486006d1b3"
      },
      "execution_count": 4,
      "outputs": [
        {
          "output_type": "display_data",
          "data": {
            "text/plain": [
              "<Figure size 1600x300 with 8 Axes>"
            ],
            "image/png": "[encoded data removed]"
          },
          "metadata": {}
        }
      ]
    },
    {
      "cell_type": "code",
      "source": [
        "#TRAINING A CLASSIFIER\n",
        "from secml.ml.classifiers import CClassifierSVM\n",
        "#Traing SVM in the dual space, on a linear kernel , as needed for poisoning\n",
        "clf = CClassifierSVM(C=10, kernel='linear')\n",
        "\n",
        "print(\"Training of classifier...\")\n",
        "clf.fit(tr.X, tr.Y)\n",
        "#Compute predictions on a test set\n",
        "y_pred = clf.predict(ts.X)\n",
        "#Metric to use for perfromance evaluation\n",
        "from secml.ml.peval.metrics import CMetricAccuracy\n",
        "metric= CMetricAccuracy()\n",
        "#Evaluate the accuracy of the classifier\n",
        "acc = metric.performance_score(y_true=ts.Y, y_pred=y_pred)\n",
        "\n",
        "print(\"Accuracy on test set: {:.2%}\".format(acc))"
      ],
      "metadata": {
        "colab": {
          "base_uri": "https://localhost:8080/"
        },
        "id": "wBu7zt1wpPwc",
        "outputId": "2783503b-631d-457a-e648-d458dbe10e85"
      },
      "execution_count": 5,
      "outputs": [
        {
          "output_type": "stream",
          "name": "stdout",
          "text": [
            "Training of classifier...\n",
            "Accuracy on test set: 93.60%\n"
          ]
        }
      ]
    },
    {
      "cell_type": "code",
      "source": [
        "#AN EVASION ATTACK THAT IS TO MODIFY SOME OF THE TEST IMAGES SO THAT THE MODEL WILL MAKE SOME ERRORS. WE WILL USE ONLY\n",
        "#25 IMAGES\n",
        "#FOR SIMPLICITY , LET'S ATTACK ON A SUBSET OF THE TEST SET\n",
        "attack_ds = ts[:25, :]\n",
        "\n",
        "noise_type = 'l2' # TYPE OF PERTUBATION 'l1' OR 'l2'\n",
        "dmax = 2.5 #Maximum Perturbation\n",
        "lb, ub = 0., 1. # Bounds of the attack space, Can be set to 'None' for unbound\n",
        "y_target = None #None if 'error-generic' or a class label for 'error-specific'\n",
        "\n",
        "#should be chosen depending on the optimization problem\n",
        "solver_params = {\n",
        "    'eta':0.5,\n",
        "    'eta_min': 2.5,\n",
        "    'eta_max': None,\n",
        "    'max_iter':100,\n",
        "    'eps': 1e-6\n",
        "}\n",
        "\n",
        "from secml.adv.attacks import CAttackEvasionPGDLS\n",
        "pgd_ls_attack = CAttackEvasionPGDLS(classifier=clf,\n",
        "                                    double_init_ds=tr,\n",
        "                                    distance=noise_type,\n",
        "                                    dmax=dmax,\n",
        "                                    solver_params=solver_params,\n",
        "                                    y_target=y_target)\n",
        "print(\"Attack started...\")\n",
        "eva_y_pred, _, eva_adv_ds, _ = pgd_ls_attack.run(attack_ds.X, attack_ds.Y)\n",
        "print(\"Attack complete!\")\n",
        "\n",
        "acc = metric.performance_score(\n",
        "    y_true=attack_ds.Y, y_pred=clf.predict(attack_ds.X))\n",
        "acc_attack = metric.performance_score(\n",
        "        y_true=attack_ds.Y, y_pred=eva_y_pred)\n",
        "print(\"Accuracy on reduced test set before attack: {:.2%}\".format(acc))\n",
        "print(\"Accuracy on reduced test set after attack: {:.2%}\".format(acc_attack))\n"
      ],
      "metadata": {
        "colab": {
          "base_uri": "https://localhost:8080/"
        },
        "id": "qOc9RSezrloy",
        "outputId": "af5c7326-a210-4a0b-e248-68a3cc72ce51"
      },
      "execution_count": 6,
      "outputs": [
        {
          "output_type": "stream",
          "name": "stdout",
          "text": [
            "Attack started...\n",
            "Attack complete!\n",
            "Accuracy on reduced test set before attack: 100.00%\n",
            "Accuracy on reduced test set after attack: 12.00%\n"
          ]
        }
      ]
    },
    {
      "cell_type": "code",
      "source": [
        "# VIEWING THE MODIFIED IMAGES RESULTS\n",
        "# EXECUTE THESE COMMANDS TO SHOW EXAMPLES OF THE IMAGES BEFORE AND AFTER THE ATTACK\n",
        "\n",
        "from secml.figure import CFigure\n",
        "# Only required for Visualization in Notebooks\n",
        "%matplotlib inline\n",
        "\n",
        "# Let's define a convenience function to easily plot the MNIST Dataset\n",
        "def show_digits(samples, preds, labels, digs, n_display=8):\n",
        "    samples = samples.atleast_2d()\n",
        "    n_display = min(n_display, samples.shape[0])\n",
        "    fig = CFigure(width=16, height=6)  # Adjusted width and height for better visibility\n",
        "    for idx in range(n_display):\n",
        "        fig.subplot(2, 8, idx + 1)  # Create a grid of 2 rows and 8 columns\n",
        "        fig.sp.xticks([])\n",
        "        fig.sp.yticks([])\n",
        "        fig.sp.imshow(samples[idx, :].reshape((28, 28)), cmap='gray')\n",
        "        fig.sp.title(\"{}({})\".format(digs[labels[idx].item()], digs[preds[idx].item()]),\n",
        "                       color=(\"green\" if labels[idx].item() == preds[idx].item() else \"red\"))\n",
        "    fig.show()\n",
        "\n",
        "# Displaying the original attack dataset images\n",
        "show_digits(attack_ds.X, clf.predict(attack_ds.X), attack_ds.Y, digits)\n",
        "\n",
        "# Displaying the adversarial examples images\n",
        "show_digits(eva_adv_ds.X, clf.predict(eva_adv_ds.X), eva_adv_ds.Y, digits)\n"
      ],
      "metadata": {
        "colab": {
          "base_uri": "https://localhost:8080/",
          "height": 336
        },
        "id": "dS-8Ni9b1sqE",
        "outputId": "559b546b-b19b-4361-df4c-0e1eb97c980e"
      },
      "execution_count": 7,
      "outputs": [
        {
          "output_type": "display_data",
          "data": {
            "text/plain": [
              "<Figure size 1600x600 with 8 Axes>"
            ],
            "image/png": "[encoded data removed]"
          },
          "metadata": {}
        },
        {
          "output_type": "display_data",
          "data": {
            "text/plain": [
              "<Figure size 1600x600 with 8 Axes>"
            ],
            "image/png": "[encoded data removed]"
          },
          "metadata": {}
        }
      ]
    }
  ]
}