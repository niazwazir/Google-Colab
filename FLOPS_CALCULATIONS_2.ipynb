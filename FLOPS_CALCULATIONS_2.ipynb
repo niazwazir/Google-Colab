{
  "nbformat": 4,
  "nbformat_minor": 0,
  "metadata": {
    "colab": {
      "name": "FLOPS_CALCULATIONS_2.ipynb",
      "provenance": []
    },
    "kernelspec": {
      "name": "python3",
      "display_name": "Python 3"
    },
    "accelerator": "GPU"
  },
  "cells": [
    {
      "cell_type": "code",
      "metadata": {
        "colab": {
          "base_uri": "https://localhost:8080/"
        },
        "id": "sf0Yo1LQhMXB",
        "outputId": "102d871b-79af-4313-bc4a-8daa9c66fd92"
      },
      "source": [
        "!git clone https://github.com/tokusumi/keras-flops.git"
      ],
      "execution_count": 1,
      "outputs": [
        {
          "output_type": "stream",
          "text": [
            "Cloning into 'keras-flops'...\n",
            "remote: Enumerating objects: 88, done.\u001b[K\n",
            "remote: Counting objects: 100% (88/88), done.\u001b[K\n",
            "remote: Compressing objects: 100% (61/61), done.\u001b[K\n",
            "remote: Total 88 (delta 38), reused 45 (delta 18), pack-reused 0\u001b[K\n",
            "Unpacking objects: 100% (88/88), done.\n"
          ],
          "name": "stdout"
        }
      ]
    },
    {
      "cell_type": "code",
      "metadata": {
        "colab": {
          "base_uri": "https://localhost:8080/"
        },
        "id": "0K4Hhwmik_91",
        "outputId": "b9aa900e-89b5-4c31-d962-87a657e742e5"
      },
      "source": [
        "cd keras-flops/"
      ],
      "execution_count": 2,
      "outputs": [
        {
          "output_type": "stream",
          "text": [
            "/content/keras-flops\n"
          ],
          "name": "stdout"
        }
      ]
    },
    {
      "cell_type": "code",
      "metadata": {
        "colab": {
          "base_uri": "https://localhost:8080/"
        },
        "id": "ZuqsbmVzkRIs",
        "outputId": "fb0c1a15-0359-443f-d0e5-2876a57969d2"
      },
      "source": [
        "from tensorflow.keras import Model, Input\r\n",
        "from tensorflow.keras.layers import Dense, Flatten, Conv2D, MaxPooling2D, Dropout\r\n",
        "\r\n",
        "from keras_flops import get_flops\r\n",
        "\r\n",
        "# build model\r\n",
        "inp = Input((32, 32, 3))\r\n",
        "x = Conv2D(32, kernel_size=(3, 3), activation=\"relu\")(inp)\r\n",
        "x = Conv2D(64, (3, 3), activation=\"relu\")(x)\r\n",
        "x = MaxPooling2D(pool_size=(2, 2))(x)\r\n",
        "x = Dropout(0.25)(x)\r\n",
        "x = Flatten()(x)\r\n",
        "x = Dense(128, activation=\"relu\")(x)\r\n",
        "x = Dropout(0.5)(x)\r\n",
        "out = Dense(10, activation=\"softmax\")(x)\r\n",
        "model = Model(inp, out)\r\n",
        "\r\n",
        "# Calculae FLOPS\r\n",
        "flops = get_flops(model, batch_size=1)\r\n",
        "print(f\"FLOPS: {flops / 10 ** 9:.03} G\")\r\n",
        "# >>> FLOPS: 0.0338 G"
      ],
      "execution_count": 3,
      "outputs": [
        {
          "output_type": "stream",
          "text": [
            "WARNING:tensorflow:From /usr/local/lib/python3.6/dist-packages/tensorflow/python/ops/nn_ops.py:4893: tensor_shape_from_node_def_name (from tensorflow.python.framework.graph_util_impl) is deprecated and will be removed in a future version.\n",
            "Instructions for updating:\n",
            "Use `tf.compat.v1.graph_util.tensor_shape_from_node_def_name`\n",
            "FLOPS: 0.0338 G\n"
          ],
          "name": "stdout"
        }
      ]
    },
    {
      "cell_type": "code",
      "metadata": {
        "id": "eYlZ0KnIk-XX"
      },
      "source": [
        ""
      ],
      "execution_count": null,
      "outputs": []
    },
    {
      "cell_type": "code",
      "metadata": {
        "id": "bOAOuO7CkwGO"
      },
      "source": [
        ""
      ],
      "execution_count": null,
      "outputs": []
    }
  ]
}