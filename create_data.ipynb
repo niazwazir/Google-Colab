{
 "cells": [
  {
   "cell_type": "code",
   "execution_count": 1,
   "metadata": {},
   "outputs": [
    {
     "name": "stderr",
     "output_type": "stream",
     "text": [
      "/home/wazir/.virtualenvs/wazir/lib/python3.5/site-packages/h5py/__init__.py:36: FutureWarning: Conversion of the second argument of issubdtype from `float` to `np.floating` is deprecated. In future, it will be treated as `np.float64 == np.dtype(float).type`.\n",
      "  from ._conv import register_converters as _register_converters\n"
     ]
    }
   ],
   "source": [
    "import numpy as np\n",
    "import glob\n",
    "import scipy.misc\n",
    "import h5py\n",
    "import scipy.ndimage"
   ]
  },
  {
   "cell_type": "code",
   "execution_count": 2,
   "metadata": {},
   "outputs": [],
   "source": [
    "def create_LR(image,scale):\n",
    "    label_ = modcrop(image, scale)\n",
    "    \n",
    "    # Must be normalized\n",
    "    label_ = label_ / 255.\n",
    "    input_ = scipy.ndimage.interpolation.zoom(label_, (1./scale), prefilter=False)\n",
    "    input_ = scipy.ndimage.interpolation.zoom(input_, (scale/1.), prefilter=False)       \n",
    "    return input_"
   ]
  },
  {
   "cell_type": "code",
   "execution_count": 3,
   "metadata": {},
   "outputs": [],
   "source": [
    "def modcrop(image, scale=3):\n",
    "\n",
    "    if len(image.shape) == 3:\n",
    "        h, w, _ = image.shape\n",
    "        h = h - np.mod(h, scale)\n",
    "        w = w - np.mod(w, scale)\n",
    "        image = image[0:h, 0:w, :]\n",
    "    else:\n",
    "        h, w = image.shape\n",
    "        h = h - np.mod(h, scale)\n",
    "        w = w - np.mod(w, scale)\n",
    "        image = image[0:h, 0:w]\n",
    "    return image  "
   ]
  },
  {
   "cell_type": "code",
   "execution_count": 4,
   "metadata": {},
   "outputs": [],
   "source": [
    "path = 'test/'\n",
    "files_y = glob.glob(path + '*.bmp')\n",
    "img_size = 32\n",
    "stride = 16\n",
    "X = []\n",
    "Y = []\n",
    "#    for (file_X,file_y) in zip(files_X,files_y):\n",
    "for file_y in files_y:\n",
    "    tmp_y = scipy.misc.imread(file_y,flatten=True, mode='YCbCr').astype(np.float)\n",
    "    tmp_X = create_LR(tmp_y,4)\n",
    "    h,w = tmp_y.shape\n",
    "#        print(1)\n",
    "    for x in range(0, h-img_size+1, stride):\n",
    "        for y in range(0, w-img_size+1, stride):\n",
    "            sub_input = tmp_X[x:x+img_size, y:y+img_size].reshape(img_size,img_size,1) # [32 x 32]\n",
    "            sub_label = tmp_y[x:x+img_size, y:y+img_size].reshape(img_size,img_size,1) # [32 x 32]\n",
    "            X.append(sub_input)\n",
    "            Y.append(sub_label)"
   ]
  },
  {
   "cell_type": "code",
   "execution_count": 5,
   "metadata": {},
   "outputs": [],
   "source": [
    "#    print((np.array(X)).shape)\n",
    "savepath = 'test.h5'\n",
    "f = h5py.File(savepath, 'w')\n",
    "f.create_dataset('data', data=np.asarray(X))\n",
    "f.create_dataset('label', data=np.asarray(Y))\n",
    "f.close()"
   ]
  },
  {
   "cell_type": "code",
   "execution_count": 6,
   "metadata": {},
   "outputs": [
    {
     "name": "stderr",
     "output_type": "stream",
     "text": [
      "/home/wazir/.virtualenvs/wazir/lib/python3.5/site-packages/ipykernel_launcher.py:9: DeprecationWarning: `imread` is deprecated!\n",
      "`imread` is deprecated in SciPy 1.0.0, and will be removed in 1.2.0.\n",
      "Use ``imageio.imread`` instead.\n",
      "  if __name__ == '__main__':\n"
     ]
    }
   ],
   "source": [
    "path = 'data/'\n",
    "files_y = glob.glob(path + '*.bmp')\n",
    "img_size = 32\n",
    "stride = 16\n",
    "X = []\n",
    "Y = []\n",
    "#    for (file_X,file_y) in zip(files_X,files_y):\n",
    "for file_y in files_y:\n",
    "    tmp_y = scipy.misc.imread(file_y,flatten=True, mode='YCbCr').astype(np.float)\n",
    "    tmp_X = create_LR(tmp_y,4)\n",
    "    h,w = tmp_y.shape\n",
    "#        print(1)\n",
    "    for x in range(0, h-img_size+1, stride):\n",
    "        for y in range(0, w-img_size+1, stride):\n",
    "            sub_input = tmp_X[x:x+img_size, y:y+img_size].reshape(img_size,img_size,1) # [32 x 32]\n",
    "            sub_label = tmp_y[x:x+img_size, y:y+img_size].reshape(img_size,img_size,1) # [32 x 32]\n",
    "            X.append(sub_input)\n",
    "            Y.append(sub_label)"
   ]
  },
  {
   "cell_type": "code",
   "execution_count": 7,
   "metadata": {},
   "outputs": [],
   "source": [
    "savepath = 'testscale3.h5'\n",
    "f = h5py.File(savepath, 'w')\n",
    "f.create_dataset('data', data=np.asarray(X))\n",
    "f.create_dataset('label', data=np.asarray(Y))\n",
    "f.close()"
   ]
  }
 ],
 "metadata": {
  "kernelspec": {
   "display_name": "Python 3",
   "language": "python",
   "name": "python3"
  },
  "language_info": {
   "codemirror_mode": {
    "name": "ipython",
    "version": 3
   },
   "file_extension": ".py",
   "mimetype": "text/x-python",
   "name": "python",
   "nbconvert_exporter": "python",
   "pygments_lexer": "ipython3",
   "version": "3.5.2"
  }
 },
 "nbformat": 4,
 "nbformat_minor": 2
}
