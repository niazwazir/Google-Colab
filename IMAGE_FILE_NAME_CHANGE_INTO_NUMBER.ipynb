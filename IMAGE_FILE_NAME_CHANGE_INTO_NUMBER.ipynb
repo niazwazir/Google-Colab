{
  "nbformat": 4,
  "nbformat_minor": 0,
  "metadata": {
    "colab": {
      "name": "IMAGE_FILE_NAME_CHANGE_INTO_NUMBER.ipynb",
      "provenance": []
    },
    "kernelspec": {
      "name": "python3",
      "display_name": "Python 3"
    },
    "accelerator": "GPU"
  },
  "cells": [
    {
      "cell_type": "code",
      "metadata": {
        "colab": {
          "base_uri": "https://localhost:8080/"
        },
        "id": "qXu__oGPVx7i",
        "outputId": "f6bac0d3-abaa-47e3-ad94-95c7882489cc"
      },
      "source": [
        "!git clone https://github.com/niazwazir/SET5_BMP.git"
      ],
      "execution_count": 1,
      "outputs": [
        {
          "output_type": "stream",
          "text": [
            "Cloning into 'SET5_BMP'...\n",
            "remote: Enumerating objects: 7, done.\u001b[K\n",
            "remote: Counting objects: 100% (7/7), done.\u001b[K\n",
            "remote: Compressing objects: 100% (7/7), done.\u001b[K\n",
            "remote: Total 14 (delta 1), reused 0 (delta 0), pack-reused 7\u001b[K\n",
            "Unpacking objects: 100% (14/14), done.\n"
          ],
          "name": "stdout"
        }
      ]
    },
    {
      "cell_type": "code",
      "metadata": {
        "colab": {
          "base_uri": "https://localhost:8080/"
        },
        "id": "xL3V-oHXV1GI",
        "outputId": "dfacad3b-239b-4113-be9f-1138470e8a1a"
      },
      "source": [
        "!ls"
      ],
      "execution_count": 2,
      "outputs": [
        {
          "output_type": "stream",
          "text": [
            "sample_data  SET5_BMP\n"
          ],
          "name": "stdout"
        }
      ]
    },
    {
      "cell_type": "code",
      "metadata": {
        "colab": {
          "base_uri": "https://localhost:8080/"
        },
        "id": "R8JnnMdAV1Jv",
        "outputId": "e0411bec-8126-49f6-b8c5-7bab86898782"
      },
      "source": [
        "cd SET5_BMP/"
      ],
      "execution_count": 3,
      "outputs": [
        {
          "output_type": "stream",
          "text": [
            "/content/SET5_BMP\n"
          ],
          "name": "stdout"
        }
      ]
    },
    {
      "cell_type": "code",
      "metadata": {
        "colab": {
          "base_uri": "https://localhost:8080/"
        },
        "id": "RLs-CI4IWJrk",
        "outputId": "07a42ef6-dadd-4b7f-92d6-602edd046580"
      },
      "source": [
        "!ls"
      ],
      "execution_count": 4,
      "outputs": [
        {
          "output_type": "stream",
          "text": [
            "baby_GT.bmp  butterfly_GT.bmp  head_GT.bmp  test.bmp\n",
            "bird_GT.bmp  group.png\t       niaz.png     woman_GT.bmp\n"
          ],
          "name": "stdout"
        }
      ]
    },
    {
      "cell_type": "code",
      "metadata": {
        "colab": {
          "base_uri": "https://localhost:8080/"
        },
        "id": "fVzb8t3_WT-q",
        "outputId": "c9717e74-5e08-4ff6-902a-dc2c24cd0069"
      },
      "source": [
        "cd .."
      ],
      "execution_count": 5,
      "outputs": [
        {
          "output_type": "stream",
          "text": [
            "/content\n"
          ],
          "name": "stdout"
        }
      ]
    },
    {
      "cell_type": "code",
      "metadata": {
        "id": "gYvI9S3vV1NY"
      },
      "source": [
        "import os\r\n",
        "# Function to rename multiple files\r\n",
        "def main():\r\n",
        "    i = 0\r\n",
        "    path=\"SET5_BMP/\"\r\n",
        "    for filename in os.listdir(path):\r\n",
        "        my_dest =\"\" + str(i) + \".png\"\r\n",
        "        my_source =path + filename\r\n",
        "        my_dest =path + my_dest\r\n",
        "        os.rename(my_source, my_dest)\r\n",
        "        i += 1\r\n",
        "if __name__ == '__main__':\r\n",
        "    main()"
      ],
      "execution_count": 6,
      "outputs": []
    },
    {
      "cell_type": "code",
      "metadata": {
        "colab": {
          "base_uri": "https://localhost:8080/"
        },
        "id": "kUbjEKgrWQFh",
        "outputId": "6b84d161-492b-4d2b-ecb2-5342979b85fa"
      },
      "source": [
        "cd SET5_BMP/"
      ],
      "execution_count": 7,
      "outputs": [
        {
          "output_type": "stream",
          "text": [
            "/content/SET5_BMP\n"
          ],
          "name": "stdout"
        }
      ]
    },
    {
      "cell_type": "code",
      "metadata": {
        "colab": {
          "base_uri": "https://localhost:8080/"
        },
        "id": "TlcK_jJfWbY-",
        "outputId": "37788451-4058-40d0-dfcd-821f7a87e30c"
      },
      "source": [
        "!ls"
      ],
      "execution_count": 8,
      "outputs": [
        {
          "output_type": "stream",
          "text": [
            "0.png  1.png  2.png  3.png  4.png  5.png  6.png  7.png\t8.png\n"
          ],
          "name": "stdout"
        }
      ]
    },
    {
      "cell_type": "code",
      "metadata": {
        "id": "SQfFAevxWclD"
      },
      "source": [
        ""
      ],
      "execution_count": 8,
      "outputs": []
    }
  ]
}