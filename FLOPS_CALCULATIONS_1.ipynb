{
  "nbformat": 4,
  "nbformat_minor": 0,
  "metadata": {
    "colab": {
      "name": "FLOPS_CALCULATIONS_1.ipynb",
      "provenance": []
    },
    "kernelspec": {
      "name": "python3",
      "display_name": "Python 3"
    },
    "accelerator": "GPU"
  },
  "cells": [
    {
      "cell_type": "code",
      "metadata": {
        "colab": {
          "base_uri": "https://localhost:8080/"
        },
        "id": "sf0Yo1LQhMXB",
        "outputId": "d08e1f97-a52c-459e-da83-dc5f98509fe6"
      },
      "source": [
        "input_shape = (3,300,300) # Format:(channels, rows,cols)\r\n",
        "conv_filter = (64,3,3,3)  # Format: (num_filters, channels, rows, cols)\r\n",
        "stride = 1\r\n",
        "padding = 1\r\n",
        "activation = 'relu'\r\n",
        "\r\n",
        "n = conv_filter[1] * conv_filter[2] * conv_filter[3]  # vector_length\r\n",
        "flops_per_instance = n + 1    # general defination for number of flops (n: multiplications and n-1: additions)\r\n",
        "\r\n",
        "num_instances_per_filter = (( input_shape[1] - conv_filter[2] + 2*padding) / stride ) + 1  # for rows\r\n",
        "num_instances_per_filter *= (( input_shape[2] - conv_filter[3] + 2*padding) / stride ) + 1 # multiplying with cols\r\n",
        "\r\n",
        "flops_per_filter = num_instances_per_filter * flops_per_instance\r\n",
        "total_flops_per_layer = flops_per_filter * conv_filter[0]    # multiply with number of filters\r\n",
        "\r\n",
        "if activation == 'relu':\r\n",
        "    # Here one can add number of flops required\r\n",
        "    # Relu takes 1 comparison and 1 multiplication\r\n",
        "    # Assuming for Relu: number of flops equal to length of input vector\r\n",
        "    total_flops_per_layer += conv_filter[0]*num_instances_per_filter\r\n",
        "\r\n",
        "\r\n",
        "print(total_flops_per_layer)"
      ],
      "execution_count": 7,
      "outputs": [
        {
          "output_type": "stream",
          "text": [
            "167040000.0\n"
          ],
          "name": "stdout"
        }
      ]
    },
    {
      "cell_type": "code",
      "metadata": {
        "id": "ZuqsbmVzkRIs"
      },
      "source": [
        ""
      ],
      "execution_count": null,
      "outputs": []
    }
  ]
}