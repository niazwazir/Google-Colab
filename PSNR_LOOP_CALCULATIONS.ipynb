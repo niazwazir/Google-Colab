{
 "cells": [
  {
   "cell_type": "code",
   "execution_count": 1,
   "metadata": {},
   "outputs": [],
   "source": [
    "#NOTE YOU SHOULD SPECIFY NUMBER OF IMAGES IN A FOLDER IN FOR LOOP for i in range(0, 3): \n",
    "import os\n",
    "import time\n",
    "import math\n",
    "import numpy as np\n",
    "from PIL import Image"
   ]
  },
  {
   "cell_type": "code",
   "execution_count": 2,
   "metadata": {},
   "outputs": [],
   "source": [
    "# FIRST OF ALL CONVERT IMAGES INTO NUMBERS 0,1,2,3...."
   ]
  },
  {
   "cell_type": "code",
   "execution_count": 3,
   "metadata": {},
   "outputs": [],
   "source": [
    "import os\n",
    "def main():\n",
    "    i = 0\n",
    "    path1 = 'GROUND_TRUTH_IMAGES/'\n",
    "    for filename in os.listdir(path1):\n",
    "        my_dest =\"\" + str(i) + \".png\"\n",
    "        my_source =path1 + filename\n",
    "        my_dest =path1 + my_dest\n",
    "        os.rename(my_source, my_dest)\n",
    "        i += 1\n",
    "if __name__ == '__main__':\n",
    "    main()"
   ]
  },
  {
   "cell_type": "code",
   "execution_count": 4,
   "metadata": {},
   "outputs": [],
   "source": [
    "import os\n",
    "def main():\n",
    "    i = 0\n",
    "    path2 = 'WAZIR_MODEL_OUTPUT_GENERATED_IMAGES/'\n",
    "    for filename in os.listdir(path2):\n",
    "        my_dest =\"\" + str(i) + \".png\"\n",
    "        my_source =path2 + filename\n",
    "        my_dest =path2 + my_dest\n",
    "        os.rename(my_source, my_dest)\n",
    "        i += 1\n",
    "if __name__ == '__main__':\n",
    "    main()"
   ]
  },
  {
   "cell_type": "code",
   "execution_count": 5,
   "metadata": {},
   "outputs": [
    {
     "name": "stderr",
     "output_type": "stream",
     "text": [
      "C:\\Users\\user\\anaconda3\\envs\\gputest1\\lib\\site-packages\\ipykernel_launcher.py:1: DeprecationWarning: time.clock has been deprecated in Python 3.3 and will be removed from Python 3.8: use time.perf_counter or time.process_time instead\n",
      "  \"\"\"Entry point for launching an IPython kernel.\n"
     ]
    }
   ],
   "source": [
    "start = time.clock()\n",
    "def psnr(img1, img2):\n",
    "    mse = np.mean((img1 / 1. - img2 / 1.) ** 2)\n",
    "    if mse < 1.0e-10:\n",
    "        return 100 * 1.0\n",
    "    return 10 * math.log10(255.0 * 255.0 / mse)\n",
    "\n",
    "\n",
    "def mse(img1, img2):\n",
    "    mse = np.mean((img1 / 1. - img2 / 1.) ** 2)\n",
    "    return mse\n",
    "\n",
    "\n",
    "def ssim(y_true, y_pred):\n",
    "    u_true = np.mean(y_true)\n",
    "    u_pred = np.mean(y_pred)\n",
    "    var_true = np.var(y_true)\n",
    "    var_pred = np.var(y_pred)\n",
    "    std_true = np.sqrt(var_true)\n",
    "    std_pred = np.sqrt(var_pred)\n",
    "    c1 = np.square(0.01 * 7)\n",
    "    c2 = np.square(0.03 * 7)\n",
    "    ssim = (2 * u_true * u_pred + c1) * (2 * std_pred * std_true + c2)\n",
    "    denom = (u_true ** 2 + u_pred ** 2 + c1) * (var_pred + var_true + c2)\n",
    "    return ssim / denom"
   ]
  },
  {
   "cell_type": "code",
   "execution_count": 6,
   "metadata": {},
   "outputs": [],
   "source": [
    "path1 = 'GROUND_TRUTH_IMAGES/'\n",
    "path2 = 'WAZIR_MODEL_OUTPUT_GENERATED_IMAGES/' \n",
    "f_nums = len(os.listdir(path1))\n",
    "list_psnr = []\n",
    "list_ssim = []\n",
    "list_mse = []\n",
    "for i in range(0, 4): ##########################################################SPECIFY NUMBER OF IMAGES IN A FOLDER\n",
    "\n",
    "    img_a = Image.open(path1 + str(i) + '.png')\n",
    "    img_b = Image.open(path2 + str(i) + '.png')\n",
    "    img_a = np.array(img_a)\n",
    "    img_b = np.array(img_b)\n",
    "\n",
    "    psnr_num = psnr(img_a, img_b)\n",
    "    ssim_num = ssim(img_a, img_b)\n",
    "    mse_num = mse(img_a, img_b)\n",
    "    list_ssim.append(ssim_num)\n",
    "    list_psnr.append(psnr_num)\n",
    "    list_mse.append(mse_num)"
   ]
  },
  {
   "cell_type": "code",
   "execution_count": 7,
   "metadata": {},
   "outputs": [
    {
     "name": "stdout",
     "output_type": "stream",
     "text": [
      "AVERAGE PSNR: 32.35169827335744\n",
      "AVERAGE SSIM: 0.9997007809202534\n",
      "AVERAGE MSE: 48.05484704537686\n",
      "Time used: 1.0328544000000193\n"
     ]
    },
    {
     "name": "stderr",
     "output_type": "stream",
     "text": [
      "C:\\Users\\user\\anaconda3\\envs\\gputest1\\lib\\site-packages\\ipykernel_launcher.py:5: DeprecationWarning: time.clock has been deprecated in Python 3.3 and will be removed from Python 3.8: use time.perf_counter or time.process_time instead\n",
      "  \"\"\"\n"
     ]
    }
   ],
   "source": [
    "print(\"AVERAGE PSNR:\", np.mean(list_psnr))  # ,list_psnr)\n",
    "print(\"AVERAGE SSIM:\", np.mean(list_ssim))  # ,list_ssim)\n",
    "print(\"AVERAGE MSE:\", np.mean(list_mse))  # ,list_mse)\n",
    "\n",
    "elapsed = (time.clock() - start)\n",
    "print(\"Time used:\", elapsed)"
   ]
  },
  {
   "cell_type": "code",
   "execution_count": null,
   "metadata": {},
   "outputs": [],
   "source": []
  }
 ],
 "metadata": {
  "kernelspec": {
   "display_name": "gputest1",
   "language": "python",
   "name": "gputest1"
  },
  "language_info": {
   "codemirror_mode": {
    "name": "ipython",
    "version": 3
   },
   "file_extension": ".py",
   "mimetype": "text/x-python",
   "name": "python",
   "nbconvert_exporter": "python",
   "pygments_lexer": "ipython3",
   "version": "3.7.9"
  }
 },
 "nbformat": 4,
 "nbformat_minor": 4
}
