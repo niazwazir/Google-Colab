{
  "nbformat": 4,
  "nbformat_minor": 0,
  "metadata": {
    "colab": {
      "name": "MOUNT_DRIVE.ipynb",
      "provenance": []
    },
    "kernelspec": {
      "name": "python3",
      "display_name": "Python 3"
    }
  },
  "cells": [
    {
      "cell_type": "code",
      "metadata": {
        "id": "lx5cG0VEdu-b",
        "colab_type": "code",
        "colab": {
          "base_uri": "https://localhost:8080/",
          "height": 35
        },
        "outputId": "3b1811ba-8687-458e-ccca-2f861c12530a"
      },
      "source": [
        "from google.colab import drive\n",
        "drive.mount(\"/content/drive\")"
      ],
      "execution_count": 1,
      "outputs": [
        {
          "output_type": "stream",
          "text": [
            "Mounted at /content/drive\n"
          ],
          "name": "stdout"
        }
      ]
    },
    {
      "cell_type": "code",
      "metadata": {
        "id": "nGmFKUG-eCZe",
        "colab_type": "code",
        "colab": {
          "base_uri": "https://localhost:8080/",
          "height": 35
        },
        "outputId": "23bf4f3d-08ca-4c4e-a228-47955c21f78a"
      },
      "source": [
        "!ls"
      ],
      "execution_count": 2,
      "outputs": [
        {
          "output_type": "stream",
          "text": [
            "drive  sample_data\n"
          ],
          "name": "stdout"
        }
      ]
    },
    {
      "cell_type": "code",
      "metadata": {
        "id": "HOvXg_IAfQ7H",
        "colab_type": "code",
        "colab": {
          "base_uri": "https://localhost:8080/",
          "height": 35
        },
        "outputId": "8f6d3973-e0d5-4a23-b4c7-abc75a84a2e3"
      },
      "source": [
        "cd drive"
      ],
      "execution_count": 3,
      "outputs": [
        {
          "output_type": "stream",
          "text": [
            "/content/drive\n"
          ],
          "name": "stdout"
        }
      ]
    },
    {
      "cell_type": "code",
      "metadata": {
        "id": "LgRkfwbefXJs",
        "colab_type": "code",
        "colab": {
          "base_uri": "https://localhost:8080/",
          "height": 35
        },
        "outputId": "26099255-fe98-448c-86b2-c5d2929b89e6"
      },
      "source": [
        "!ls"
      ],
      "execution_count": 4,
      "outputs": [
        {
          "output_type": "stream",
          "text": [
            "'My Drive'\n"
          ],
          "name": "stdout"
        }
      ]
    },
    {
      "cell_type": "code",
      "metadata": {
        "id": "EloJbvkXfZCI",
        "colab_type": "code",
        "colab": {
          "base_uri": "https://localhost:8080/",
          "height": 35
        },
        "outputId": "755131f3-8bc9-4e7e-9613-5cbdc14a9262"
      },
      "source": [
        "cd My\\ Drive"
      ],
      "execution_count": 5,
      "outputs": [
        {
          "output_type": "stream",
          "text": [
            "/content/drive/My Drive\n"
          ],
          "name": "stdout"
        }
      ]
    },
    {
      "cell_type": "code",
      "metadata": {
        "id": "zhkqm-RKfbyS",
        "colab_type": "code",
        "colab": {
          "base_uri": "https://localhost:8080/",
          "height": 936
        },
        "outputId": "a3fb383c-bbd1-4021-fe25-55575d9a4508"
      },
      "source": [
        "!ls"
      ],
      "execution_count": 6,
      "outputs": [
        {
          "output_type": "stream",
          "text": [
            " 2_MODEL_WAZIR_XCEPTION_MODEL_SCALE_2.zip\n",
            "'2Second Paper (1).zip'\n",
            "'2Second Paper.zip'\n",
            " 3_MODEL_SCALE4MODELTESTEDONGOOGLECOLAB.zip\n",
            " 3RD_VERSION_AYE_MODEL.zip\n",
            " 4_MODEL_WAZIR_16SCALE_MODEL.zip\n",
            "'571-Video-HW1.zip (Unzipped Files)'\n",
            "\"ขอเชิญถ่ายรูปหมู่กับบัณฑิต ปี'61.pdf\"\n",
            "'ACTIVE AND PASSIVE VOICE.docx'\n",
            "'Amount Transfer.gdoc'\n",
            "'Analytical Reasoning'\n",
            " AYE_MODEL_SCALE_X2.zip\n",
            "'Colab Notebooks'\n",
            "'DIRECT AND INDIRECT.docx'\n",
            " dwfpjptvfmdwkhjmnxjstvkshjtctxms.zip\n",
            "'English Makes Noun.docx'\n",
            " ES200806DLY.PDF\n",
            " ES966340DLY.PDF\n",
            " FIRST.ipynb\n",
            "'Geneva Progress Report1.pptx'\n",
            "'HOCKEY MATCH.docx'\n",
            " IDIOMS.docx\n",
            " image.png\n",
            "'Image Quality Assessment FSM.rtf'\n",
            "'Is Deep Learning Approach Detect the Corona Virus.pptx'\n",
            " karras2019stylegan-ffhq-1024x1024.pkl\n",
            "'Leave Application.docx'\n",
            " __MACOSX\n",
            " Matlab_Part_I_HW.pdf\n",
            "'MY HOBBY ESSAY.docx'\n",
            "'New Doc 2017-11-13.pdf'\n",
            "'Number of Parameters.txt'\n",
            "'OLD PAPERS.docx'\n",
            "'Opposite Words.docx'\n",
            " PKNOT.zip\n",
            " PREPOSITION.docx\n",
            "'QUIZ 1.pdf'\n",
            " QUIZA.pdf\n",
            "'Result Third Semester.pdf'\n",
            " SOMETIMES.docx\n",
            " SRGAN-Keras\n",
            " SRGAN_pre-trained.tar\n",
            " srgan.py\n",
            " SR.mp4\n",
            " TENSE.docx\n",
            "'USES OF SINCE AND FOR.docx'\n",
            " wazirapp\n",
            " WAZIRDATASETS\n",
            "'WAZIR DOCUMENTS UPDATED ON 8-4-2014.pdf'\n",
            " Wazir_Electronics_Paper.pdf\n",
            " WAZIRKAGGLE\n",
            "'Wazir Lab Report.pdf'\n",
            " WazirPaper.pdf\n"
          ],
          "name": "stdout"
        }
      ]
    },
    {
      "cell_type": "code",
      "metadata": {
        "id": "GWEXQt7Xfc9b",
        "colab_type": "code",
        "colab": {
          "base_uri": "https://localhost:8080/",
          "height": 35
        },
        "outputId": "0c48da23-136e-4ad6-f75a-21ec4a064241"
      },
      "source": [
        "cd WAZIRKAGGLE/"
      ],
      "execution_count": 7,
      "outputs": [
        {
          "output_type": "stream",
          "text": [
            "/content/drive/My Drive/WAZIRKAGGLE\n"
          ],
          "name": "stdout"
        }
      ]
    },
    {
      "cell_type": "code",
      "metadata": {
        "id": "3SephCvAfixV",
        "colab_type": "code",
        "colab": {
          "base_uri": "https://localhost:8080/",
          "height": 35
        },
        "outputId": "edcfcba0-4926-4f38-a8f9-e780ca025fe7"
      },
      "source": [
        "!ls"
      ],
      "execution_count": 8,
      "outputs": [
        {
          "output_type": "stream",
          "text": [
            "Set14  Set14.zip  Untitled0.ipynb\n"
          ],
          "name": "stdout"
        }
      ]
    },
    {
      "cell_type": "code",
      "metadata": {
        "id": "6UMzVc6ufnPb",
        "colab_type": "code",
        "colab": {
          "base_uri": "https://localhost:8080/",
          "height": 35
        },
        "outputId": "32ad1630-2c5e-4dba-fefa-4fa40732729b"
      },
      "source": [
        "cd Set14/"
      ],
      "execution_count": 9,
      "outputs": [
        {
          "output_type": "stream",
          "text": [
            "/content/drive/My Drive/WAZIRKAGGLE/Set14\n"
          ],
          "name": "stdout"
        }
      ]
    },
    {
      "cell_type": "code",
      "metadata": {
        "id": "bUwBataqfrrq",
        "colab_type": "code",
        "colab": {
          "base_uri": "https://localhost:8080/",
          "height": 69
        },
        "outputId": "08f233a0-d4f6-489d-984d-0d74aca59f63"
      },
      "source": [
        "!ls"
      ],
      "execution_count": 10,
      "outputs": [
        {
          "output_type": "stream",
          "text": [
            "baboon.png   coastguard.png  img_006.png  img_010.png  img_013.png\n",
            "barbara.png  comic.png\t     img_007.png  img_011.png  Lenna.png\n",
            "bridge.png   foreman.png     img_008.png  img_012.png  zebra.png\n"
          ],
          "name": "stdout"
        }
      ]
    },
    {
      "cell_type": "code",
      "metadata": {
        "id": "MHN2z8mCftIC",
        "colab_type": "code",
        "colab": {}
      },
      "source": [
        ""
      ],
      "execution_count": 10,
      "outputs": []
    }
  ]
}