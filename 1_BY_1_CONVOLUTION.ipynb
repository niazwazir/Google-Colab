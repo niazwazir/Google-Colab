{
  "nbformat": 4,
  "nbformat_minor": 0,
  "metadata": {
    "colab": {
      "name": "1 BY 1 CONVOLUTION.ipynb",
      "version": "0.3.2",
      "provenance": []
    },
    "kernelspec": {
      "name": "python3",
      "display_name": "Python 3"
    },
    "accelerator": "GPU"
  },
  "cells": [
    {
      "cell_type": "code",
      "metadata": {
        "id": "NPHA4ZM4pr3M",
        "colab_type": "code",
        "colab": {
          "base_uri": "https://localhost:8080/",
          "height": 35
        },
        "outputId": "a9e27b2e-bf34-4bbf-a80f-75f9c5ba64c5"
      },
      "source": [
        "from keras.models import Sequential\n",
        "from keras.layers import Conv2D\n",
        "from IPython.display import SVG\n",
        "from keras.utils.vis_utils import model_to_dot"
      ],
      "execution_count": 1,
      "outputs": [
        {
          "output_type": "stream",
          "text": [
            "Using TensorFlow backend.\n"
          ],
          "name": "stderr"
        }
      ]
    },
    {
      "cell_type": "markdown",
      "metadata": {
        "id": "AcD69Jpz1ObR",
        "colab_type": "text"
      },
      "source": [
        "**WITHOUT 1 x 1 CONVOLUTION LAYER APPLIED**"
      ]
    },
    {
      "cell_type": "code",
      "metadata": {
        "id": "FoVs5QQ-yLcG",
        "colab_type": "code",
        "colab": {
          "base_uri": "https://localhost:8080/",
          "height": 292
        },
        "outputId": "86bbfb30-71d6-4928-da9b-13ac3708f8dd"
      },
      "source": [
        "model = Sequential()\n",
        "model.add(Conv2D(512, (3,3), padding='same', activation='relu', input_shape=(256, 256, 3)))\n",
        "model.add(Conv2D(64, (5,5), activation='relu'))\n",
        "model.summary()"
      ],
      "execution_count": 2,
      "outputs": [
        {
          "output_type": "stream",
          "text": [
            "WARNING:tensorflow:From /usr/local/lib/python3.6/dist-packages/tensorflow/python/framework/op_def_library.py:263: colocate_with (from tensorflow.python.framework.ops) is deprecated and will be removed in a future version.\n",
            "Instructions for updating:\n",
            "Colocations handled automatically by placer.\n",
            "_________________________________________________________________\n",
            "Layer (type)                 Output Shape              Param #   \n",
            "=================================================================\n",
            "conv2d_1 (Conv2D)            (None, 256, 256, 512)     14336     \n",
            "_________________________________________________________________\n",
            "conv2d_2 (Conv2D)            (None, 252, 252, 64)      819264    \n",
            "=================================================================\n",
            "Total params: 833,600\n",
            "Trainable params: 833,600\n",
            "Non-trainable params: 0\n",
            "_________________________________________________________________\n"
          ],
          "name": "stdout"
        }
      ]
    },
    {
      "cell_type": "code",
      "metadata": {
        "id": "0MAnQXY11dob",
        "colab_type": "code",
        "colab": {
          "base_uri": "https://localhost:8080/",
          "height": 302
        },
        "outputId": "78eb88fb-9fa5-4ff9-935a-3af42c4e87be"
      },
      "source": [
        "SVG(model_to_dot(model, show_shapes=True).create(prog='dot', format='svg'))"
      ],
      "execution_count": 3,
      "outputs": [
        {
          "output_type": "execute_result",
          "data": {
            "text/plain": [
              "<IPython.core.display.SVG object>"
            ],
            "image/svg+xml": "<svg height=\"211pt\" viewBox=\"0.00 0.00 346.00 211.00\" width=\"346pt\" xmlns=\"http://www.w3.org/2000/svg\" xmlns:xlink=\"http://www.w3.org/1999/xlink\">\n<g class=\"graph\" id=\"graph0\" transform=\"scale(1 1) rotate(0) translate(4 207)\">\n<title>G</title>\n<polygon fill=\"#ffffff\" points=\"-4,4 -4,-207 342,-207 342,4 -4,4\" stroke=\"transparent\"/>\n<!-- 140525083184040 -->\n<g class=\"node\" id=\"node1\">\n<title>140525083184040</title>\n<polygon fill=\"none\" points=\"0,-83.5 0,-129.5 338,-129.5 338,-83.5 0,-83.5\" stroke=\"#000000\"/>\n<text fill=\"#000000\" font-family=\"Times,serif\" font-size=\"14.00\" text-anchor=\"middle\" x=\"66.5\" y=\"-102.8\">conv2d_1: Conv2D</text>\n<polyline fill=\"none\" points=\"133,-83.5 133,-129.5 \" stroke=\"#000000\"/>\n<text fill=\"#000000\" font-family=\"Times,serif\" font-size=\"14.00\" text-anchor=\"middle\" x=\"162\" y=\"-114.3\">input:</text>\n<polyline fill=\"none\" points=\"133,-106.5 191,-106.5 \" stroke=\"#000000\"/>\n<text fill=\"#000000\" font-family=\"Times,serif\" font-size=\"14.00\" text-anchor=\"middle\" x=\"162\" y=\"-91.3\">output:</text>\n<polyline fill=\"none\" points=\"191,-83.5 191,-129.5 \" stroke=\"#000000\"/>\n<text fill=\"#000000\" font-family=\"Times,serif\" font-size=\"14.00\" text-anchor=\"middle\" x=\"264.5\" y=\"-114.3\">(None, 256, 256, 3)</text>\n<polyline fill=\"none\" points=\"191,-106.5 338,-106.5 \" stroke=\"#000000\"/>\n<text fill=\"#000000\" font-family=\"Times,serif\" font-size=\"14.00\" text-anchor=\"middle\" x=\"264.5\" y=\"-91.3\">(None, 256, 256, 512)</text>\n</g>\n<!-- 140526296883720 -->\n<g class=\"node\" id=\"node2\">\n<title>140526296883720</title>\n<polygon fill=\"none\" points=\"0,-.5 0,-46.5 338,-46.5 338,-.5 0,-.5\" stroke=\"#000000\"/>\n<text fill=\"#000000\" font-family=\"Times,serif\" font-size=\"14.00\" text-anchor=\"middle\" x=\"66.5\" y=\"-19.8\">conv2d_2: Conv2D</text>\n<polyline fill=\"none\" points=\"133,-.5 133,-46.5 \" stroke=\"#000000\"/>\n<text fill=\"#000000\" font-family=\"Times,serif\" font-size=\"14.00\" text-anchor=\"middle\" x=\"162\" y=\"-31.3\">input:</text>\n<polyline fill=\"none\" points=\"133,-23.5 191,-23.5 \" stroke=\"#000000\"/>\n<text fill=\"#000000\" font-family=\"Times,serif\" font-size=\"14.00\" text-anchor=\"middle\" x=\"162\" y=\"-8.3\">output:</text>\n<polyline fill=\"none\" points=\"191,-.5 191,-46.5 \" stroke=\"#000000\"/>\n<text fill=\"#000000\" font-family=\"Times,serif\" font-size=\"14.00\" text-anchor=\"middle\" x=\"264.5\" y=\"-31.3\">(None, 256, 256, 512)</text>\n<polyline fill=\"none\" points=\"191,-23.5 338,-23.5 \" stroke=\"#000000\"/>\n<text fill=\"#000000\" font-family=\"Times,serif\" font-size=\"14.00\" text-anchor=\"middle\" x=\"264.5\" y=\"-8.3\">(None, 252, 252, 64)</text>\n</g>\n<!-- 140525083184040&#45;&gt;140526296883720 -->\n<g class=\"edge\" id=\"edge2\">\n<title>140525083184040-&gt;140526296883720</title>\n<path d=\"M169,-83.3799C169,-75.1745 169,-65.7679 169,-56.8786\" fill=\"none\" stroke=\"#000000\"/>\n<polygon fill=\"#000000\" points=\"172.5001,-56.784 169,-46.784 165.5001,-56.784 172.5001,-56.784\" stroke=\"#000000\"/>\n</g>\n<!-- 140525083184824 -->\n<g class=\"node\" id=\"node3\">\n<title>140525083184824</title>\n<polygon fill=\"none\" points=\"104.5,-166.5 104.5,-202.5 233.5,-202.5 233.5,-166.5 104.5,-166.5\" stroke=\"#000000\"/>\n<text fill=\"#000000\" font-family=\"Times,serif\" font-size=\"14.00\" text-anchor=\"middle\" x=\"169\" y=\"-180.8\">140525083184824</text>\n</g>\n<!-- 140525083184824&#45;&gt;140525083184040 -->\n<g class=\"edge\" id=\"edge1\">\n<title>140525083184824-&gt;140525083184040</title>\n<path d=\"M169,-166.4092C169,-158.4308 169,-148.795 169,-139.606\" fill=\"none\" stroke=\"#000000\"/>\n<polygon fill=\"#000000\" points=\"172.5001,-139.5333 169,-129.5333 165.5001,-139.5334 172.5001,-139.5333\" stroke=\"#000000\"/>\n</g>\n</g>\n</svg>"
          },
          "metadata": {
            "tags": []
          },
          "execution_count": 3
        }
      ]
    },
    {
      "cell_type": "markdown",
      "metadata": {
        "id": "uxHdgcwh1oVg",
        "colab_type": "text"
      },
      "source": [
        "**USED 1 x 1 Convolution Layer**"
      ]
    },
    {
      "cell_type": "code",
      "metadata": {
        "id": "g6N2TH8SyUDa",
        "colab_type": "code",
        "colab": {
          "base_uri": "https://localhost:8080/",
          "height": 254
        },
        "outputId": "99e556eb-f2cb-4544-b8ba-23a12ebc1552"
      },
      "source": [
        "model = Sequential()\n",
        "model.add(Conv2D(512, (3,3), padding='same', activation='relu', input_shape=(256, 256, 3)))\n",
        "model.add(Conv2D(1, (1,1), activation='relu'))\n",
        "model.add(Conv2D(64, (5,5), activation='relu'))\n",
        "model.summary()"
      ],
      "execution_count": 4,
      "outputs": [
        {
          "output_type": "stream",
          "text": [
            "_________________________________________________________________\n",
            "Layer (type)                 Output Shape              Param #   \n",
            "=================================================================\n",
            "conv2d_3 (Conv2D)            (None, 256, 256, 512)     14336     \n",
            "_________________________________________________________________\n",
            "conv2d_4 (Conv2D)            (None, 256, 256, 1)       513       \n",
            "_________________________________________________________________\n",
            "conv2d_5 (Conv2D)            (None, 252, 252, 64)      1664      \n",
            "=================================================================\n",
            "Total params: 16,513\n",
            "Trainable params: 16,513\n",
            "Non-trainable params: 0\n",
            "_________________________________________________________________\n"
          ],
          "name": "stdout"
        }
      ]
    },
    {
      "cell_type": "code",
      "metadata": {
        "id": "8UwLPJ0syjE0",
        "colab_type": "code",
        "colab": {
          "base_uri": "https://localhost:8080/",
          "height": 413
        },
        "outputId": "5e193db6-63bb-4fd2-a04a-1472434f9b19"
      },
      "source": [
        "SVG(model_to_dot(model, show_shapes=True).create(prog='dot', format='svg'))"
      ],
      "execution_count": 5,
      "outputs": [
        {
          "output_type": "execute_result",
          "data": {
            "text/plain": [
              "<IPython.core.display.SVG object>"
            ],
            "image/svg+xml": "<svg height=\"294pt\" viewBox=\"0.00 0.00 346.00 294.00\" width=\"346pt\" xmlns=\"http://www.w3.org/2000/svg\" xmlns:xlink=\"http://www.w3.org/1999/xlink\">\n<g class=\"graph\" id=\"graph0\" transform=\"scale(1 1) rotate(0) translate(4 290)\">\n<title>G</title>\n<polygon fill=\"#ffffff\" points=\"-4,4 -4,-290 342,-290 342,4 -4,4\" stroke=\"transparent\"/>\n<!-- 140525073968712 -->\n<g class=\"node\" id=\"node1\">\n<title>140525073968712</title>\n<polygon fill=\"none\" points=\"0,-166.5 0,-212.5 338,-212.5 338,-166.5 0,-166.5\" stroke=\"#000000\"/>\n<text fill=\"#000000\" font-family=\"Times,serif\" font-size=\"14.00\" text-anchor=\"middle\" x=\"66.5\" y=\"-185.8\">conv2d_3: Conv2D</text>\n<polyline fill=\"none\" points=\"133,-166.5 133,-212.5 \" stroke=\"#000000\"/>\n<text fill=\"#000000\" font-family=\"Times,serif\" font-size=\"14.00\" text-anchor=\"middle\" x=\"162\" y=\"-197.3\">input:</text>\n<polyline fill=\"none\" points=\"133,-189.5 191,-189.5 \" stroke=\"#000000\"/>\n<text fill=\"#000000\" font-family=\"Times,serif\" font-size=\"14.00\" text-anchor=\"middle\" x=\"162\" y=\"-174.3\">output:</text>\n<polyline fill=\"none\" points=\"191,-166.5 191,-212.5 \" stroke=\"#000000\"/>\n<text fill=\"#000000\" font-family=\"Times,serif\" font-size=\"14.00\" text-anchor=\"middle\" x=\"264.5\" y=\"-197.3\">(None, 256, 256, 3)</text>\n<polyline fill=\"none\" points=\"191,-189.5 338,-189.5 \" stroke=\"#000000\"/>\n<text fill=\"#000000\" font-family=\"Times,serif\" font-size=\"14.00\" text-anchor=\"middle\" x=\"264.5\" y=\"-174.3\">(None, 256, 256, 512)</text>\n</g>\n<!-- 140525073968880 -->\n<g class=\"node\" id=\"node2\">\n<title>140525073968880</title>\n<polygon fill=\"none\" points=\"0,-83.5 0,-129.5 338,-129.5 338,-83.5 0,-83.5\" stroke=\"#000000\"/>\n<text fill=\"#000000\" font-family=\"Times,serif\" font-size=\"14.00\" text-anchor=\"middle\" x=\"66.5\" y=\"-102.8\">conv2d_4: Conv2D</text>\n<polyline fill=\"none\" points=\"133,-83.5 133,-129.5 \" stroke=\"#000000\"/>\n<text fill=\"#000000\" font-family=\"Times,serif\" font-size=\"14.00\" text-anchor=\"middle\" x=\"162\" y=\"-114.3\">input:</text>\n<polyline fill=\"none\" points=\"133,-106.5 191,-106.5 \" stroke=\"#000000\"/>\n<text fill=\"#000000\" font-family=\"Times,serif\" font-size=\"14.00\" text-anchor=\"middle\" x=\"162\" y=\"-91.3\">output:</text>\n<polyline fill=\"none\" points=\"191,-83.5 191,-129.5 \" stroke=\"#000000\"/>\n<text fill=\"#000000\" font-family=\"Times,serif\" font-size=\"14.00\" text-anchor=\"middle\" x=\"264.5\" y=\"-114.3\">(None, 256, 256, 512)</text>\n<polyline fill=\"none\" points=\"191,-106.5 338,-106.5 \" stroke=\"#000000\"/>\n<text fill=\"#000000\" font-family=\"Times,serif\" font-size=\"14.00\" text-anchor=\"middle\" x=\"264.5\" y=\"-91.3\">(None, 256, 256, 1)</text>\n</g>\n<!-- 140525073968712&#45;&gt;140525073968880 -->\n<g class=\"edge\" id=\"edge2\">\n<title>140525073968712-&gt;140525073968880</title>\n<path d=\"M169,-166.3799C169,-158.1745 169,-148.7679 169,-139.8786\" fill=\"none\" stroke=\"#000000\"/>\n<polygon fill=\"#000000\" points=\"172.5001,-139.784 169,-129.784 165.5001,-139.784 172.5001,-139.784\" stroke=\"#000000\"/>\n</g>\n<!-- 140525073543240 -->\n<g class=\"node\" id=\"node3\">\n<title>140525073543240</title>\n<polygon fill=\"none\" points=\"3.5,-.5 3.5,-46.5 334.5,-46.5 334.5,-.5 3.5,-.5\" stroke=\"#000000\"/>\n<text fill=\"#000000\" font-family=\"Times,serif\" font-size=\"14.00\" text-anchor=\"middle\" x=\"70\" y=\"-19.8\">conv2d_5: Conv2D</text>\n<polyline fill=\"none\" points=\"136.5,-.5 136.5,-46.5 \" stroke=\"#000000\"/>\n<text fill=\"#000000\" font-family=\"Times,serif\" font-size=\"14.00\" text-anchor=\"middle\" x=\"165.5\" y=\"-31.3\">input:</text>\n<polyline fill=\"none\" points=\"136.5,-23.5 194.5,-23.5 \" stroke=\"#000000\"/>\n<text fill=\"#000000\" font-family=\"Times,serif\" font-size=\"14.00\" text-anchor=\"middle\" x=\"165.5\" y=\"-8.3\">output:</text>\n<polyline fill=\"none\" points=\"194.5,-.5 194.5,-46.5 \" stroke=\"#000000\"/>\n<text fill=\"#000000\" font-family=\"Times,serif\" font-size=\"14.00\" text-anchor=\"middle\" x=\"264.5\" y=\"-31.3\">(None, 256, 256, 1)</text>\n<polyline fill=\"none\" points=\"194.5,-23.5 334.5,-23.5 \" stroke=\"#000000\"/>\n<text fill=\"#000000\" font-family=\"Times,serif\" font-size=\"14.00\" text-anchor=\"middle\" x=\"264.5\" y=\"-8.3\">(None, 252, 252, 64)</text>\n</g>\n<!-- 140525073968880&#45;&gt;140525073543240 -->\n<g class=\"edge\" id=\"edge3\">\n<title>140525073968880-&gt;140525073543240</title>\n<path d=\"M169,-83.3799C169,-75.1745 169,-65.7679 169,-56.8786\" fill=\"none\" stroke=\"#000000\"/>\n<polygon fill=\"#000000\" points=\"172.5001,-56.784 169,-46.784 165.5001,-56.784 172.5001,-56.784\" stroke=\"#000000\"/>\n</g>\n<!-- 140525073543744 -->\n<g class=\"node\" id=\"node4\">\n<title>140525073543744</title>\n<polygon fill=\"none\" points=\"104.5,-249.5 104.5,-285.5 233.5,-285.5 233.5,-249.5 104.5,-249.5\" stroke=\"#000000\"/>\n<text fill=\"#000000\" font-family=\"Times,serif\" font-size=\"14.00\" text-anchor=\"middle\" x=\"169\" y=\"-263.8\">140525073543744</text>\n</g>\n<!-- 140525073543744&#45;&gt;140525073968712 -->\n<g class=\"edge\" id=\"edge1\">\n<title>140525073543744-&gt;140525073968712</title>\n<path d=\"M169,-249.4092C169,-241.4308 169,-231.795 169,-222.606\" fill=\"none\" stroke=\"#000000\"/>\n<polygon fill=\"#000000\" points=\"172.5001,-222.5333 169,-212.5333 165.5001,-222.5334 172.5001,-222.5333\" stroke=\"#000000\"/>\n</g>\n</g>\n</svg>"
          },
          "metadata": {
            "tags": []
          },
          "execution_count": 5
        }
      ]
    },
    {
      "cell_type": "code",
      "metadata": {
        "id": "DU2UMZCJ2P-i",
        "colab_type": "code",
        "colab": {}
      },
      "source": [
        ""
      ],
      "execution_count": 0,
      "outputs": []
    }
  ]
}