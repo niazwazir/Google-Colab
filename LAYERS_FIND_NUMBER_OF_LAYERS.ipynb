{
  "nbformat": 4,
  "nbformat_minor": 0,
  "metadata": {
    "colab": {
      "name": "SRCNN_KERAS_IN_Python3.ipynb",
      "provenance": []
    },
    "kernelspec": {
      "name": "python3",
      "display_name": "Python 3"
    },
    "accelerator": "GPU"
  },
  "cells": [
    {
      "cell_type": "code",
      "metadata": {
        "id": "Bn6WL_nG8qSm"
      },
      "source": [
        "import keras.backend as K\n",
        "from keras.models import Sequential, Model\n",
        "from keras.layers import Dense, Conv2D, Activation, Input\n",
        "from keras import optimizers\n",
        "from keras.models import load_model\n",
        "import numpy as np\n",
        "import scipy.misc\n",
        "import scipy.ndimage\n",
        "import cv2\n",
        "import math\n",
        "import glob\n",
        "import matplotlib.pyplot as plt\n",
        "import keras\n",
        "import tensorflow"
      ],
      "execution_count": 9,
      "outputs": []
    },
    {
      "cell_type": "code",
      "metadata": {
        "id": "pSUGxzPH2gny",
        "colab": {
          "base_uri": "https://localhost:8080/"
        },
        "outputId": "3bd4bae7-ef09-4508-8dcb-39b04cf0fb1c"
      },
      "source": [
        "img_shape = (32,32,1)\n",
        "input_img = Input(shape=(img_shape))\n",
        "C1 = Conv2D(64,(9,9),padding='SAME',name='CONV1')(input_img)\n",
        "A1 = Activation('relu', name='act1')(C1)\n",
        "C2 = Conv2D(32,(1,1),padding='SAME',name='CONV2')(A1)\n",
        "A2 = Activation('relu', name='act2')(C2)\n",
        "C3 = Conv2D(1,(5,5),padding='SAME',name='CONV3')(A2)\n",
        "A3 = Activation('relu', name='act3')(C3)\n",
        "model = Model(input_img, A3)\n",
        "#opt = keras.optimizers.Adam(lr=0.0003)\n",
        "#model.compile(optimizer=opt,loss='mean_squared_error')\n",
        "model.summary()"
      ],
      "execution_count": 10,
      "outputs": [
        {
          "output_type": "stream",
          "name": "stdout",
          "text": [
            "Model: \"model_3\"\n",
            "_________________________________________________________________\n",
            " Layer (type)                Output Shape              Param #   \n",
            "=================================================================\n",
            " input_4 (InputLayer)        [(None, 32, 32, 1)]       0         \n",
            "                                                                 \n",
            " CONV1 (Conv2D)              (None, 32, 32, 64)        5248      \n",
            "                                                                 \n",
            " act1 (Activation)           (None, 32, 32, 64)        0         \n",
            "                                                                 \n",
            " CONV2 (Conv2D)              (None, 32, 32, 32)        2080      \n",
            "                                                                 \n",
            " act2 (Activation)           (None, 32, 32, 32)        0         \n",
            "                                                                 \n",
            " CONV3 (Conv2D)              (None, 32, 32, 1)         801       \n",
            "                                                                 \n",
            " act3 (Activation)           (None, 32, 32, 1)         0         \n",
            "                                                                 \n",
            "=================================================================\n",
            "Total params: 8,129\n",
            "Trainable params: 8,129\n",
            "Non-trainable params: 0\n",
            "_________________________________________________________________\n"
          ]
        }
      ]
    },
    {
      "cell_type": "code",
      "metadata": {
        "id": "dkxOviD84EXx",
        "colab": {
          "base_uri": "https://localhost:8080/"
        },
        "outputId": "bf299493-0eb4-4761-8d07-31f5107dc173"
      },
      "source": [
        "model.layers"
      ],
      "execution_count": 11,
      "outputs": [
        {
          "output_type": "execute_result",
          "data": {
            "text/plain": [
              "[<keras.engine.input_layer.InputLayer at 0x7fb0e00bd490>,\n",
              " <keras.layers.convolutional.Conv2D at 0x7fb0e00bd690>,\n",
              " <keras.layers.core.activation.Activation at 0x7fb0e007b910>,\n",
              " <keras.layers.convolutional.Conv2D at 0x7fb0e007bb50>,\n",
              " <keras.layers.core.activation.Activation at 0x7fb0e00c1790>,\n",
              " <keras.layers.convolutional.Conv2D at 0x7fb0e00bd550>,\n",
              " <keras.layers.core.activation.Activation at 0x7fb0ec841290>]"
            ]
          },
          "metadata": {},
          "execution_count": 11
        }
      ]
    },
    {
      "cell_type": "code",
      "metadata": {
        "id": "h88vYs7f4MLM",
        "colab": {
          "base_uri": "https://localhost:8080/"
        },
        "outputId": "399b6db7-5a37-48d8-9394-484ed1686df8"
      },
      "source": [
        "len(model.layers)"
      ],
      "execution_count": 12,
      "outputs": [
        {
          "output_type": "execute_result",
          "data": {
            "text/plain": [
              "7"
            ]
          },
          "metadata": {},
          "execution_count": 12
        }
      ]
    },
    {
      "cell_type": "code",
      "source": [
        "print(len(model.layers))"
      ],
      "metadata": {
        "id": "ksUaJUU69FL6",
        "outputId": "4dbc3148-368d-4375-bca6-b64e744c81bd",
        "colab": {
          "base_uri": "https://localhost:8080/"
        }
      },
      "execution_count": 14,
      "outputs": [
        {
          "output_type": "stream",
          "name": "stdout",
          "text": [
            "7\n"
          ]
        }
      ]
    },
    {
      "cell_type": "code",
      "metadata": {
        "id": "W_mXrbPBTNNi",
        "colab": {
          "base_uri": "https://localhost:8080/",
          "height": 661
        },
        "outputId": "3ca9c79b-4530-44bf-accf-21c311376a4a"
      },
      "source": [
        "tensorflow.keras.utils.plot_model(model, 'my_first_model.png')"
      ],
      "execution_count": 15,
      "outputs": [
        {
          "output_type": "execute_result",
          "data": {
            "text/plain": [
              "<IPython.core.display.Image object>"
            ],
            "image/png": "[encoded data removed]"
          },
          "metadata": {},
          "execution_count": 15
        }
      ]
    },
    {
      "cell_type": "code",
      "metadata": {
        "id": "b3j3yywY4fJK"
      },
      "source": [
        ""
      ],
      "execution_count": null,
      "outputs": []
    }
  ]
}