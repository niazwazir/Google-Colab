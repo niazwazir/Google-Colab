{
  "nbformat": 4,
  "nbformat_minor": 0,
  "metadata": {
    "kernelspec": {
      "display_name": "Python 3",
      "language": "python",
      "name": "python3"
    },
    "language_info": {
      "codemirror_mode": {
        "name": "ipython",
        "version": 3
      },
      "file_extension": ".py",
      "mimetype": "text/x-python",
      "name": "python",
      "nbconvert_exporter": "python",
      "pygments_lexer": "ipython3",
      "version": "3.7.4"
    },
    "colab": {
      "name": "Time Vgg16.ipynb",
      "provenance": []
    },
    "accelerator": "GPU",
    "widgets": {
      "application/vnd.jupyter.widget-state+json": {
        "ab7f64b6c61349e988bff49e38425a01": {
          "model_module": "@jupyter-widgets/controls",
          "model_name": "HBoxModel",
          "state": {
            "_view_name": "HBoxView",
            "_dom_classes": [],
            "_model_name": "HBoxModel",
            "_view_module": "@jupyter-widgets/controls",
            "_model_module_version": "1.5.0",
            "_view_count": null,
            "_view_module_version": "1.5.0",
            "box_style": "",
            "layout": "IPY_MODEL_33402b6d39424f898cdf30ac72b01b05",
            "_model_module": "@jupyter-widgets/controls",
            "children": [
              "IPY_MODEL_dcae841b190d4894a16ed8c00157f1cc",
              "IPY_MODEL_68f9e3efa90f4a828ffd8a865006c48c"
            ]
          }
        },
        "33402b6d39424f898cdf30ac72b01b05": {
          "model_module": "@jupyter-widgets/base",
          "model_name": "LayoutModel",
          "state": {
            "_view_name": "LayoutView",
            "grid_template_rows": null,
            "right": null,
            "justify_content": null,
            "_view_module": "@jupyter-widgets/base",
            "overflow": null,
            "_model_module_version": "1.2.0",
            "_view_count": null,
            "flex_flow": null,
            "width": null,
            "min_width": null,
            "border": null,
            "align_items": null,
            "bottom": null,
            "_model_module": "@jupyter-widgets/base",
            "top": null,
            "grid_column": null,
            "overflow_y": null,
            "overflow_x": null,
            "grid_auto_flow": null,
            "grid_area": null,
            "grid_template_columns": null,
            "flex": null,
            "_model_name": "LayoutModel",
            "justify_items": null,
            "grid_row": null,
            "max_height": null,
            "align_content": null,
            "visibility": null,
            "align_self": null,
            "height": null,
            "min_height": null,
            "padding": null,
            "grid_auto_rows": null,
            "grid_gap": null,
            "max_width": null,
            "order": null,
            "_view_module_version": "1.2.0",
            "grid_template_areas": null,
            "object_position": null,
            "object_fit": null,
            "grid_auto_columns": null,
            "margin": null,
            "display": null,
            "left": null
          }
        },
        "dcae841b190d4894a16ed8c00157f1cc": {
          "model_module": "@jupyter-widgets/controls",
          "model_name": "FloatProgressModel",
          "state": {
            "_view_name": "ProgressView",
            "style": "IPY_MODEL_811dd17311b34afb963eabb4e9b92174",
            "_dom_classes": [],
            "description": "",
            "_model_name": "FloatProgressModel",
            "bar_style": "info",
            "max": 1,
            "_view_module": "@jupyter-widgets/controls",
            "_model_module_version": "1.5.0",
            "value": 1,
            "_view_count": null,
            "_view_module_version": "1.5.0",
            "orientation": "horizontal",
            "min": 0,
            "description_tooltip": null,
            "_model_module": "@jupyter-widgets/controls",
            "layout": "IPY_MODEL_b7ee3503441e44739d23374df80244f7"
          }
        },
        "68f9e3efa90f4a828ffd8a865006c48c": {
          "model_module": "@jupyter-widgets/controls",
          "model_name": "HTMLModel",
          "state": {
            "_view_name": "HTMLView",
            "style": "IPY_MODEL_5d66308e0cce4287a8f3e6086e7dca65",
            "_dom_classes": [],
            "description": "",
            "_model_name": "HTMLModel",
            "placeholder": "​",
            "_view_module": "@jupyter-widgets/controls",
            "_model_module_version": "1.5.0",
            "value": " 170500096/? [00:20&lt;00:00, 54938573.02it/s]",
            "_view_count": null,
            "_view_module_version": "1.5.0",
            "description_tooltip": null,
            "_model_module": "@jupyter-widgets/controls",
            "layout": "IPY_MODEL_734747091b454dde96345d606304bde2"
          }
        },
        "811dd17311b34afb963eabb4e9b92174": {
          "model_module": "@jupyter-widgets/controls",
          "model_name": "ProgressStyleModel",
          "state": {
            "_view_name": "StyleView",
            "_model_name": "ProgressStyleModel",
            "description_width": "initial",
            "_view_module": "@jupyter-widgets/base",
            "_model_module_version": "1.5.0",
            "_view_count": null,
            "_view_module_version": "1.2.0",
            "bar_color": null,
            "_model_module": "@jupyter-widgets/controls"
          }
        },
        "b7ee3503441e44739d23374df80244f7": {
          "model_module": "@jupyter-widgets/base",
          "model_name": "LayoutModel",
          "state": {
            "_view_name": "LayoutView",
            "grid_template_rows": null,
            "right": null,
            "justify_content": null,
            "_view_module": "@jupyter-widgets/base",
            "overflow": null,
            "_model_module_version": "1.2.0",
            "_view_count": null,
            "flex_flow": null,
            "width": null,
            "min_width": null,
            "border": null,
            "align_items": null,
            "bottom": null,
            "_model_module": "@jupyter-widgets/base",
            "top": null,
            "grid_column": null,
            "overflow_y": null,
            "overflow_x": null,
            "grid_auto_flow": null,
            "grid_area": null,
            "grid_template_columns": null,
            "flex": null,
            "_model_name": "LayoutModel",
            "justify_items": null,
            "grid_row": null,
            "max_height": null,
            "align_content": null,
            "visibility": null,
            "align_self": null,
            "height": null,
            "min_height": null,
            "padding": null,
            "grid_auto_rows": null,
            "grid_gap": null,
            "max_width": null,
            "order": null,
            "_view_module_version": "1.2.0",
            "grid_template_areas": null,
            "object_position": null,
            "object_fit": null,
            "grid_auto_columns": null,
            "margin": null,
            "display": null,
            "left": null
          }
        },
        "5d66308e0cce4287a8f3e6086e7dca65": {
          "model_module": "@jupyter-widgets/controls",
          "model_name": "DescriptionStyleModel",
          "state": {
            "_view_name": "StyleView",
            "_model_name": "DescriptionStyleModel",
            "description_width": "",
            "_view_module": "@jupyter-widgets/base",
            "_model_module_version": "1.5.0",
            "_view_count": null,
            "_view_module_version": "1.2.0",
            "_model_module": "@jupyter-widgets/controls"
          }
        },
        "734747091b454dde96345d606304bde2": {
          "model_module": "@jupyter-widgets/base",
          "model_name": "LayoutModel",
          "state": {
            "_view_name": "LayoutView",
            "grid_template_rows": null,
            "right": null,
            "justify_content": null,
            "_view_module": "@jupyter-widgets/base",
            "overflow": null,
            "_model_module_version": "1.2.0",
            "_view_count": null,
            "flex_flow": null,
            "width": null,
            "min_width": null,
            "border": null,
            "align_items": null,
            "bottom": null,
            "_model_module": "@jupyter-widgets/base",
            "top": null,
            "grid_column": null,
            "overflow_y": null,
            "overflow_x": null,
            "grid_auto_flow": null,
            "grid_area": null,
            "grid_template_columns": null,
            "flex": null,
            "_model_name": "LayoutModel",
            "justify_items": null,
            "grid_row": null,
            "max_height": null,
            "align_content": null,
            "visibility": null,
            "align_self": null,
            "height": null,
            "min_height": null,
            "padding": null,
            "grid_auto_rows": null,
            "grid_gap": null,
            "max_width": null,
            "order": null,
            "_view_module_version": "1.2.0",
            "grid_template_areas": null,
            "object_position": null,
            "object_fit": null,
            "grid_auto_columns": null,
            "margin": null,
            "display": null,
            "left": null
          }
        },
        "a63fdd4d4966478abd08654dc9fbb948": {
          "model_module": "@jupyter-widgets/controls",
          "model_name": "HBoxModel",
          "state": {
            "_view_name": "HBoxView",
            "_dom_classes": [],
            "_model_name": "HBoxModel",
            "_view_module": "@jupyter-widgets/controls",
            "_model_module_version": "1.5.0",
            "_view_count": null,
            "_view_module_version": "1.5.0",
            "box_style": "",
            "layout": "IPY_MODEL_8ab6ff7939054150b54cd115ab5b5e92",
            "_model_module": "@jupyter-widgets/controls",
            "children": [
              "IPY_MODEL_23d6f2063a48489ba224f0b474c74818",
              "IPY_MODEL_6fddfffddcc84f9a93a52e458cb7ffba"
            ]
          }
        },
        "8ab6ff7939054150b54cd115ab5b5e92": {
          "model_module": "@jupyter-widgets/base",
          "model_name": "LayoutModel",
          "state": {
            "_view_name": "LayoutView",
            "grid_template_rows": null,
            "right": null,
            "justify_content": null,
            "_view_module": "@jupyter-widgets/base",
            "overflow": null,
            "_model_module_version": "1.2.0",
            "_view_count": null,
            "flex_flow": null,
            "width": null,
            "min_width": null,
            "border": null,
            "align_items": null,
            "bottom": null,
            "_model_module": "@jupyter-widgets/base",
            "top": null,
            "grid_column": null,
            "overflow_y": null,
            "overflow_x": null,
            "grid_auto_flow": null,
            "grid_area": null,
            "grid_template_columns": null,
            "flex": null,
            "_model_name": "LayoutModel",
            "justify_items": null,
            "grid_row": null,
            "max_height": null,
            "align_content": null,
            "visibility": null,
            "align_self": null,
            "height": null,
            "min_height": null,
            "padding": null,
            "grid_auto_rows": null,
            "grid_gap": null,
            "max_width": null,
            "order": null,
            "_view_module_version": "1.2.0",
            "grid_template_areas": null,
            "object_position": null,
            "object_fit": null,
            "grid_auto_columns": null,
            "margin": null,
            "display": null,
            "left": null
          }
        },
        "23d6f2063a48489ba224f0b474c74818": {
          "model_module": "@jupyter-widgets/controls",
          "model_name": "FloatProgressModel",
          "state": {
            "_view_name": "ProgressView",
            "style": "IPY_MODEL_84c715a3f0a446de90ba038eb65bc31a",
            "_dom_classes": [],
            "description": "100%",
            "_model_name": "FloatProgressModel",
            "bar_style": "success",
            "max": 553433881,
            "_view_module": "@jupyter-widgets/controls",
            "_model_module_version": "1.5.0",
            "value": 553433881,
            "_view_count": null,
            "_view_module_version": "1.5.0",
            "orientation": "horizontal",
            "min": 0,
            "description_tooltip": null,
            "_model_module": "@jupyter-widgets/controls",
            "layout": "IPY_MODEL_c80ff3808b064266853584787abb0ae8"
          }
        },
        "6fddfffddcc84f9a93a52e458cb7ffba": {
          "model_module": "@jupyter-widgets/controls",
          "model_name": "HTMLModel",
          "state": {
            "_view_name": "HTMLView",
            "style": "IPY_MODEL_618d376ac6d14ebcaff051a31958f4da",
            "_dom_classes": [],
            "description": "",
            "_model_name": "HTMLModel",
            "placeholder": "​",
            "_view_module": "@jupyter-widgets/controls",
            "_model_module_version": "1.5.0",
            "value": " 528M/528M [00:51&lt;00:00, 10.8MB/s]",
            "_view_count": null,
            "_view_module_version": "1.5.0",
            "description_tooltip": null,
            "_model_module": "@jupyter-widgets/controls",
            "layout": "IPY_MODEL_3af70e67044c4fb494b6184b849eadd7"
          }
        },
        "84c715a3f0a446de90ba038eb65bc31a": {
          "model_module": "@jupyter-widgets/controls",
          "model_name": "ProgressStyleModel",
          "state": {
            "_view_name": "StyleView",
            "_model_name": "ProgressStyleModel",
            "description_width": "initial",
            "_view_module": "@jupyter-widgets/base",
            "_model_module_version": "1.5.0",
            "_view_count": null,
            "_view_module_version": "1.2.0",
            "bar_color": null,
            "_model_module": "@jupyter-widgets/controls"
          }
        },
        "c80ff3808b064266853584787abb0ae8": {
          "model_module": "@jupyter-widgets/base",
          "model_name": "LayoutModel",
          "state": {
            "_view_name": "LayoutView",
            "grid_template_rows": null,
            "right": null,
            "justify_content": null,
            "_view_module": "@jupyter-widgets/base",
            "overflow": null,
            "_model_module_version": "1.2.0",
            "_view_count": null,
            "flex_flow": null,
            "width": null,
            "min_width": null,
            "border": null,
            "align_items": null,
            "bottom": null,
            "_model_module": "@jupyter-widgets/base",
            "top": null,
            "grid_column": null,
            "overflow_y": null,
            "overflow_x": null,
            "grid_auto_flow": null,
            "grid_area": null,
            "grid_template_columns": null,
            "flex": null,
            "_model_name": "LayoutModel",
            "justify_items": null,
            "grid_row": null,
            "max_height": null,
            "align_content": null,
            "visibility": null,
            "align_self": null,
            "height": null,
            "min_height": null,
            "padding": null,
            "grid_auto_rows": null,
            "grid_gap": null,
            "max_width": null,
            "order": null,
            "_view_module_version": "1.2.0",
            "grid_template_areas": null,
            "object_position": null,
            "object_fit": null,
            "grid_auto_columns": null,
            "margin": null,
            "display": null,
            "left": null
          }
        },
        "618d376ac6d14ebcaff051a31958f4da": {
          "model_module": "@jupyter-widgets/controls",
          "model_name": "DescriptionStyleModel",
          "state": {
            "_view_name": "StyleView",
            "_model_name": "DescriptionStyleModel",
            "description_width": "",
            "_view_module": "@jupyter-widgets/base",
            "_model_module_version": "1.5.0",
            "_view_count": null,
            "_view_module_version": "1.2.0",
            "_model_module": "@jupyter-widgets/controls"
          }
        },
        "3af70e67044c4fb494b6184b849eadd7": {
          "model_module": "@jupyter-widgets/base",
          "model_name": "LayoutModel",
          "state": {
            "_view_name": "LayoutView",
            "grid_template_rows": null,
            "right": null,
            "justify_content": null,
            "_view_module": "@jupyter-widgets/base",
            "overflow": null,
            "_model_module_version": "1.2.0",
            "_view_count": null,
            "flex_flow": null,
            "width": null,
            "min_width": null,
            "border": null,
            "align_items": null,
            "bottom": null,
            "_model_module": "@jupyter-widgets/base",
            "top": null,
            "grid_column": null,
            "overflow_y": null,
            "overflow_x": null,
            "grid_auto_flow": null,
            "grid_area": null,
            "grid_template_columns": null,
            "flex": null,
            "_model_name": "LayoutModel",
            "justify_items": null,
            "grid_row": null,
            "max_height": null,
            "align_content": null,
            "visibility": null,
            "align_self": null,
            "height": null,
            "min_height": null,
            "padding": null,
            "grid_auto_rows": null,
            "grid_gap": null,
            "max_width": null,
            "order": null,
            "_view_module_version": "1.2.0",
            "grid_template_areas": null,
            "object_position": null,
            "object_fit": null,
            "grid_auto_columns": null,
            "margin": null,
            "display": null,
            "left": null
          }
        }
      }
    }
  },
  "cells": [
    {
      "cell_type": "code",
      "metadata": {
        "id": "gNRcgyuIMn15"
      },
      "source": [
        "import torch\n",
        "import torch.nn as nn\n",
        "import torch.optim as optim\n",
        "from torch.optim import lr_scheduler\n",
        "import numpy as np\n",
        "import  torchvision\n",
        "from torchvision import datasets, models, transforms\n",
        "import matplotlib.pyplot as plt\n",
        "import time\n",
        "import os\n",
        "import copy"
      ],
      "execution_count": 1,
      "outputs": []
    },
    {
      "cell_type": "code",
      "metadata": {
        "id": "YwAldS9SMn1-"
      },
      "source": [
        "transform = transforms.Compose([\n",
        "    transforms.Resize(256),\n",
        "    transforms.CenterCrop(224),\n",
        "    transforms.ToTensor(),\n",
        "    transforms.Normalize(mean=[0.485, 0.456, 0.406], std=[0.229, 0.224, 0.225]),\n",
        "])"
      ],
      "execution_count": 2,
      "outputs": []
    },
    {
      "cell_type": "code",
      "metadata": {
        "id": "8oaQSj-vMn1_",
        "outputId": "98efefe9-29d2-42f2-ae2e-ddb5eeca4010",
        "colab": {
          "base_uri": "https://localhost:8080/",
          "height": 84,
          "referenced_widgets": [
            "ab7f64b6c61349e988bff49e38425a01",
            "33402b6d39424f898cdf30ac72b01b05",
            "dcae841b190d4894a16ed8c00157f1cc",
            "68f9e3efa90f4a828ffd8a865006c48c",
            "811dd17311b34afb963eabb4e9b92174",
            "b7ee3503441e44739d23374df80244f7",
            "5d66308e0cce4287a8f3e6086e7dca65",
            "734747091b454dde96345d606304bde2"
          ]
        }
      },
      "source": [
        "imagenet_data = torchvision.datasets.CIFAR10('D:\\\\datasets\\\\', download = True, transform = transform)"
      ],
      "execution_count": 3,
      "outputs": [
        {
          "output_type": "stream",
          "text": [
            "Downloading https://www.cs.toronto.edu/~kriz/cifar-10-python.tar.gz to D:\\datasets\\/cifar-10-python.tar.gz\n"
          ],
          "name": "stdout"
        },
        {
          "output_type": "display_data",
          "data": {
            "application/vnd.jupyter.widget-view+json": {
              "model_id": "ab7f64b6c61349e988bff49e38425a01",
              "version_minor": 0,
              "version_major": 2
            },
            "text/plain": [
              "HBox(children=(FloatProgress(value=1.0, bar_style='info', max=1.0), HTML(value='')))"
            ]
          },
          "metadata": {
            "tags": []
          }
        },
        {
          "output_type": "stream",
          "text": [
            "Extracting D:\\datasets\\/cifar-10-python.tar.gz to D:\\datasets\\\n"
          ],
          "name": "stdout"
        }
      ]
    },
    {
      "cell_type": "code",
      "metadata": {
        "id": "71HmcozAMn2A"
      },
      "source": [
        "dataloader = torch.utils.data.DataLoader(imagenet_data, batch_size=32, shuffle = False, num_workers=4)"
      ],
      "execution_count": 4,
      "outputs": []
    },
    {
      "cell_type": "code",
      "metadata": {
        "id": "RkDgnMs5Mn2A"
      },
      "source": [
        "cfgs = {\n",
        "    'A': [64, 'M', 128, 'M', 256, 256, 'M', 512, 512, 'M', 512, 512, 'M'],\n",
        "    'B': [64, 64, 'M', 128, 128, 'M', 256, 256, 'M', 512, 512, 'M', 512, 512, 'M'],\n",
        "    'D': [64, 64, 'M', 128, 128, 'M', 256, 256, 256, 'M', 512, 512, 512, 'M', 512, 512, 512, 'M'],\n",
        "    'E': [64, 64, 'M', 128, 128, 'M', 256, 256, 256, 256, 'M', 512, 512, 512, 512, 'M', 512, 512, 512, 512, 'M'],\n",
        "}\n",
        "\n",
        "\n",
        "def make_layers(cfg, batch_norm=False):\n",
        "    layers = []\n",
        "    in_channels = 3\n",
        "    for v in cfg:\n",
        "        if v == 'M':\n",
        "            layers += [nn.MaxPool2d(kernel_size=2, stride=2)]\n",
        "        else:\n",
        "            conv2d = nn.Conv2d(in_channels, v, kernel_size=3, padding=1)\n",
        "            if batch_norm:\n",
        "                layers += [conv2d, nn.BatchNorm2d(v), nn.ReLU(inplace=True)]\n",
        "            else:\n",
        "                layers += [conv2d, nn.ReLU(inplace=True)]\n",
        "            in_channels = v\n",
        "    return nn.Sequential(*layers)\n",
        "\n",
        "class VGG(nn.Module):\n",
        "\n",
        "    def __init__(self, num_classes=1000, init_weights=True):\n",
        "        super(VGG, self).__init__()\n",
        "        self.features = make_layers(cfgs['D'], batch_norm = False)\n",
        "        self.avgpool = nn.AdaptiveAvgPool2d((7, 7))\n",
        "        self.classifier = nn.Sequential(\n",
        "            nn.Linear(512 * 7 * 7, 4096),\n",
        "            nn.ReLU(True),\n",
        "            nn.Dropout(),\n",
        "            nn.Linear(4096, 4096),\n",
        "            nn.ReLU(True),\n",
        "            nn.Dropout(),\n",
        "            nn.Linear(4096, num_classes),\n",
        "        )\n",
        "        if init_weights:\n",
        "            self._initialize_weights()\n",
        "\n",
        "    def forward(self, x):\n",
        "        x = self.features(x)\n",
        "        x = self.avgpool(x)\n",
        "        x = torch.flatten(x, 1)\n",
        "        x = self.classifier(x)\n",
        "        return x\n",
        "\n",
        "    def _initialize_weights(self):\n",
        "        for m in self.modules():\n",
        "            if isinstance(m, nn.Conv2d):\n",
        "                nn.init.kaiming_normal_(m.weight, mode='fan_out', nonlinearity='relu')\n",
        "                if m.bias is not None:\n",
        "                    nn.init.constant_(m.bias, 0)\n",
        "            elif isinstance(m, nn.BatchNorm2d):\n",
        "                nn.init.constant_(m.weight, 1)\n",
        "                nn.init.constant_(m.bias, 0)\n",
        "            elif isinstance(m, nn.Linear):\n",
        "                nn.init.normal_(m.weight, 0, 0.01)\n",
        "                nn.init.constant_(m.bias, 0)\n"
      ],
      "execution_count": 5,
      "outputs": []
    },
    {
      "cell_type": "code",
      "metadata": {
        "id": "5nJH8qO0Mn2B"
      },
      "source": [
        "class modifiedVGG(nn.Module):\n",
        "\n",
        "    def __init__(self, num_classes=1000, init_weights=True):\n",
        "        super(modifiedVGG, self).__init__()\n",
        "        self.features = make_layers(cfgs['D'], batch_norm = False)\n",
        "        self.avgpool = nn.AdaptiveAvgPool2d((7, 7))\n",
        "        self.classifier = nn.Sequential(\n",
        "            nn.Linear(512 * 7 * 7, 4096),\n",
        "            nn.ReLU(True),\n",
        "            nn.Dropout(),\n",
        "            nn.Linear(4096, 4096),\n",
        "            nn.ReLU(True),\n",
        "            nn.Dropout(),\n",
        "            nn.Linear(4096, num_classes),\n",
        "        )\n",
        "        if init_weights:\n",
        "            self._initialize_weights()\n",
        "\n",
        "    def forward(self, x):\n",
        "        time_arr = []\n",
        "        deb_arr = []\n",
        "        global device\n",
        "        \n",
        "        for layer in self.features:\n",
        "            if isinstance(layer, nn.Conv2d):\n",
        "                \n",
        "                if device == torch.device('cpu'):\n",
        "                    start = time.time()\n",
        "                    x = layer(x)\n",
        "                    end = time.time()\n",
        "                    time_arr.append((end - start) * 1000)\n",
        "                else:\n",
        "                    start = torch.cuda.Event(enable_timing=True)\n",
        "                    end = torch.cuda.Event(enable_timing=True)\n",
        "                    start.record()\n",
        "                    x = layer(x)\n",
        "                    end.record()\n",
        "                    torch.cuda.synchronize()\n",
        "                    time_arr.append(start.elapsed_time(end))\n",
        "                    \n",
        "            else:\n",
        "                #start = time.time()\n",
        "                x = layer(x)\n",
        "                #end = time.time()\n",
        "                #deb_arr.append(end - start)\n",
        "                \n",
        "        x = self.avgpool(x)\n",
        "        x = torch.flatten(x, 1)\n",
        "        x = self.classifier(x)\n",
        "        \n",
        "        return x, np.array(time_arr)\n",
        "\n",
        "    def _initialize_weights(self):\n",
        "        for m in self.modules():\n",
        "            if isinstance(m, nn.Conv2d):\n",
        "                nn.init.kaiming_normal_(m.weight, mode='fan_out', nonlinearity='relu')\n",
        "                if m.bias is not None:\n",
        "                    nn.init.constant_(m.bias, 0)\n",
        "            elif isinstance(m, nn.BatchNorm2d):\n",
        "                nn.init.constant_(m.weight, 1)\n",
        "                nn.init.constant_(m.bias, 0)\n",
        "            elif isinstance(m, nn.Linear):\n",
        "                nn.init.normal_(m.weight, 0, 0.01)\n",
        "                nn.init.constant_(m.bias, 0)\n"
      ],
      "execution_count": 6,
      "outputs": []
    },
    {
      "cell_type": "code",
      "metadata": {
        "id": "q2B99DefMn2B",
        "outputId": "e53107c9-3a97-45f5-a730-da2af4ce1cda",
        "colab": {
          "base_uri": "https://localhost:8080/",
          "height": 84,
          "referenced_widgets": [
            "a63fdd4d4966478abd08654dc9fbb948",
            "8ab6ff7939054150b54cd115ab5b5e92",
            "23d6f2063a48489ba224f0b474c74818",
            "6fddfffddcc84f9a93a52e458cb7ffba",
            "84c715a3f0a446de90ba038eb65bc31a",
            "c80ff3808b064266853584787abb0ae8",
            "618d376ac6d14ebcaff051a31958f4da",
            "3af70e67044c4fb494b6184b849eadd7"
          ]
        }
      },
      "source": [
        "vgg = models.vgg16(pretrained=True)"
      ],
      "execution_count": 7,
      "outputs": [
        {
          "output_type": "stream",
          "text": [
            "Downloading: \"https://download.pytorch.org/models/vgg16-397923af.pth\" to /root/.cache/torch/hub/checkpoints/vgg16-397923af.pth\n"
          ],
          "name": "stderr"
        },
        {
          "output_type": "display_data",
          "data": {
            "application/vnd.jupyter.widget-view+json": {
              "model_id": "a63fdd4d4966478abd08654dc9fbb948",
              "version_minor": 0,
              "version_major": 2
            },
            "text/plain": [
              "HBox(children=(FloatProgress(value=0.0, max=553433881.0), HTML(value='')))"
            ]
          },
          "metadata": {
            "tags": []
          }
        },
        {
          "output_type": "stream",
          "text": [
            "\n"
          ],
          "name": "stdout"
        }
      ]
    },
    {
      "cell_type": "code",
      "metadata": {
        "id": "jif59vSpMn2B",
        "outputId": "00c85f70-8e52-4e47-cd1b-1493a37b77ee",
        "colab": {
          "base_uri": "https://localhost:8080/"
        }
      },
      "source": [
        "best_model_wts = copy.deepcopy(vgg.state_dict())\n",
        "model = modifiedVGG()\n",
        "device = torch.device('cuda')\n",
        "model.to(device)\n",
        "model.load_state_dict(best_model_wts)"
      ],
      "execution_count": 8,
      "outputs": [
        {
          "output_type": "execute_result",
          "data": {
            "text/plain": [
              "<All keys matched successfully>"
            ]
          },
          "metadata": {
            "tags": []
          },
          "execution_count": 8
        }
      ]
    },
    {
      "cell_type": "code",
      "metadata": {
        "id": "_QpI8b8pMn2C",
        "outputId": "dd43d9ad-b7ff-4dc2-ece4-3277affa403d",
        "colab": {
          "base_uri": "https://localhost:8080/"
        }
      },
      "source": [
        "num_conv = 13\n",
        "\n",
        "since = time.time()\n",
        "model.eval()\n",
        "\n",
        "with torch.no_grad():\n",
        "\n",
        "    if isinstance(model, modifiedVGG):\n",
        "        tot_times = np.zeros(num_conv)\n",
        "        #deb_times = np.zeros(8)\n",
        "        #end_times = 0\n",
        "    corrects = 0\n",
        "    done = 0\n",
        "\n",
        "    end_to_end_time = 0.0\n",
        "\n",
        "    with torch.autograd.profiler.profile(use_cuda = (device == torch.device('cuda'))) as prof:\n",
        "        for inputs, labels in dataloader:\n",
        "\n",
        "            start_main = torch.cuda.Event(enable_timing=True)\n",
        "            end_main = torch.cuda.Event(enable_timing=True)\n",
        "            start_main.record()\n",
        "\n",
        "            inputs = inputs.to(device)\n",
        "            labels = labels.to(device)\n",
        "            done += 1\n",
        "            if done * len(inputs) >= 1000:\n",
        "                break\n",
        "            print(done * len(inputs), end = '\\r')\n",
        "\n",
        "            if isinstance(model, modifiedVGG):\n",
        "                #outputs, exec_times, hid_times, end_time = model(inputs)\n",
        "                outputs, exec_times = model(inputs)\n",
        "                tot_times += exec_times\n",
        "                #deb_times += hid_times\n",
        "                #end_times += end_time\n",
        "            else:\n",
        "                outputs = model(inputs)\n",
        "\n",
        "            end_main.record()\n",
        "            torch.cuda.synchronize()\n",
        "            end_to_end_time += start_main.elapsed_time(end_main)\n",
        "\n",
        "            _, preds = torch.max(outputs, 1)\n",
        "            corrects += torch.sum(preds == labels.data)\n",
        "\n",
        "    acc = corrects.double() / (done * len(inputs))\n",
        "    print('Acc: {:.4f}'.format(acc))\n",
        "\n",
        "    if isinstance(model, modifiedVGG):\n",
        "        print(tot_times)\n",
        "        #print(deb_times)\n",
        "        #print(end_times)\n",
        "        tot_times = tot_times / done\n",
        "        print(tot_times)\n",
        "\n",
        "    time_elapsed = time.time() - since\n",
        "    print('Total time taken = {} seconds'.format(time_elapsed))\n",
        "\n",
        "    end_to_end_time = end_to_end_time / (done)\n",
        "    print('Avg End to End = {} ms'.format(end_to_end_time))\n",
        "\n"
      ],
      "execution_count": 9,
      "outputs": [
        {
          "output_type": "stream",
          "text": [
            "Acc: 0.0000\n",
            "[269.0674243  569.22195625 315.4752636  440.36867142 205.58195257\n",
            " 311.52540779 299.94204712 155.0051856  255.09340811 268.68166637\n",
            "  95.86057639  95.76867199 133.50623918]\n",
            "[ 8.40835701 17.78818613  9.85860199 13.76152098  6.42443602  9.73516899\n",
            "  9.37318897  4.84391205  7.971669    8.39630207  2.99564301  2.992771\n",
            "  4.17206997]\n",
            "Total time taken = 19.794732093811035 seconds\n",
            "Avg End to End = 213.93375205993652 ms\n"
          ],
          "name": "stdout"
        }
      ]
    },
    {
      "cell_type": "code",
      "metadata": {
        "id": "DCmdQpyLMn2C",
        "outputId": "7c845e73-bbf6-4651-add6-97693e7ddff4",
        "colab": {
          "base_uri": "https://localhost:8080/"
        }
      },
      "source": [
        "print(prof.key_averages().table())"
      ],
      "execution_count": 10,
      "outputs": [
        {
          "output_type": "stream",
          "text": [
            "---------------------------------  ------------  ------------  ------------  ------------  ------------  ------------  ------------  ------------  ------------  ------------  \n",
            "                             Name    Self CPU %      Self CPU   CPU total %     CPU total  CPU time avg     Self CUDA   Self CUDA %    CUDA total  CUDA time avg    # of Calls  \n",
            "---------------------------------  ------------  ------------  ------------  ------------  ------------  ------------  ------------  ------------  ------------  ------------  \n",
            "                      aten::empty         3.61%      55.309ms         3.61%      55.309ms      38.678us       0.000us         0.00%       0.000us       0.000us          1430  \n",
            "                    aten::random_         0.01%     189.605us         0.01%     189.605us     189.605us     182.016us         0.00%     182.016us     182.016us             1  \n",
            "          aten::is_floating_point         0.00%       5.313us         0.00%       5.313us       5.313us       4.224us         0.00%       4.224us       4.224us             1  \n",
            "                       aten::item         0.28%       4.287ms         0.28%       4.308ms       4.308ms       4.290ms         0.09%       4.306ms       4.306ms             1  \n",
            "        aten::_local_scalar_dense         0.00%      21.493us         0.00%      21.493us      21.493us      15.872us         0.00%      15.872us      15.872us             1  \n",
            "                         aten::to         0.42%       6.487ms        37.47%     574.579ms       3.614ms      11.192ms         0.23%     573.725ms       3.608ms           159  \n",
            "                    aten::detach_         0.04%     659.750us         0.11%       1.708ms      26.692us     718.500us         0.01%       1.743ms      27.230us            64  \n",
            "                          detach_         0.07%       1.049ms         0.07%       1.049ms      16.383us       1.024ms         0.02%       1.024ms      16.004us            64  \n",
            "                       aten::set_         0.22%       3.418ms         0.22%       3.418ms      53.405us       3.407ms         0.07%       3.407ms      53.238us            64  \n",
            "              aten::empty_strided         0.34%       5.240ms         0.34%       5.240ms      55.161us       0.000us         0.00%       0.000us       0.000us            95  \n",
            "                      aten::copy_        36.70%     562.852ms        36.70%     562.852ms       5.925ms     562.533ms        11.63%     562.533ms       5.921ms            95  \n",
            "                     aten::conv2d         2.38%      36.534ms        41.52%     636.721ms       1.580ms      16.095ms         0.33%        3.331s       8.267ms           403  \n",
            "                aten::convolution         0.95%      14.499ms        39.14%     600.187ms       1.489ms       7.641ms         0.16%        3.315s       8.227ms           403  \n",
            "               aten::_convolution         5.37%      82.419ms        38.19%     585.688ms       1.453ms      54.839ms         1.13%        3.308s       8.208ms           403  \n",
            "                 aten::contiguous         3.20%      49.121ms         3.20%      49.121ms      35.212us      33.862ms         0.70%      33.862ms      24.274us          1395  \n",
            "          aten::cudnn_convolution        18.41%     282.378ms        23.99%     367.897ms     912.895us        2.770s        57.28%        2.788s       6.918ms           403  \n",
            "                    aten::resize_         1.43%      21.916ms         1.43%      21.916ms      16.441us       0.000us         0.00%       0.000us       0.000us          1333  \n",
            "                     aten::stride         0.39%       5.996ms         0.39%       5.996ms       2.303us       0.000us         0.00%       0.000us       0.000us          2604  \n",
            "                    aten::reshape         1.71%      26.277ms         3.10%      47.556ms     109.577us       5.723ms         0.12%       5.723ms      13.187us           434  \n",
            "                       aten::view         1.39%      21.279ms         1.39%      21.279ms      49.031us       0.000us         0.00%       0.000us       0.000us           434  \n",
            "                       aten::add_         5.25%      80.517ms         5.25%      80.517ms     185.951us     454.376ms         9.40%     454.376ms       1.049ms           433  \n",
            "                      aten::relu_         4.70%      72.027ms         8.63%     132.388ms     284.705us      42.765ms         0.88%     540.218ms       1.162ms           465  \n",
            "                 aten::threshold_         3.94%      60.361ms         3.94%      60.361ms     129.808us     497.453ms        10.29%     497.453ms       1.070ms           465  \n",
            "                 aten::max_pool2d         0.73%      11.143ms         5.09%      78.038ms     503.468us       6.247ms         0.13%     212.833ms       1.373ms           155  \n",
            "    aten::max_pool2d_with_indices         2.86%      43.813ms         4.36%      66.895ms     431.580us     203.953ms         4.22%     206.586ms       1.333ms           155  \n",
            "        aten::adaptive_avg_pool2d         0.10%       1.562ms         0.78%      11.905ms     384.024us       1.171ms         0.02%      18.655ms     601.790us            31  \n",
            "       aten::_adaptive_avg_pool2d         0.25%       3.909ms         0.67%      10.343ms     333.649us      12.223ms         0.25%      17.485ms     564.024us            31  \n",
            "                    aten::flatten         0.08%       1.220ms         0.12%       1.813ms      58.481us     411.250us         0.01%     856.500us      27.629us            31  \n",
            "                          aten::t         0.34%       5.198ms         0.44%       6.738ms      72.454us       0.000us         0.00%       0.000us       0.000us            93  \n",
            "                  aten::transpose         0.07%       1.030ms         0.10%       1.541ms      16.567us       0.000us         0.00%       0.000us       0.000us            93  \n",
            "                 aten::as_strided         0.15%       2.306ms         0.15%       2.306ms       8.267us       0.000us         0.00%       0.000us       0.000us           279  \n",
            "                      aten::addmm         2.39%      36.641ms         2.91%      44.600ms     479.570us     113.602ms         2.35%     113.602ms       1.222ms            93  \n",
            "                     aten::expand         0.28%       4.363ms         0.33%       5.017ms      53.945us       0.000us         0.00%       0.000us       0.000us            93  \n",
            "                    aten::dropout         0.09%       1.404ms         0.09%       1.404ms      22.651us     144.000us         0.00%     144.000us       2.323us            62  \n",
            "                        aten::max         0.80%      12.321ms         0.92%      14.058ms     453.489us      13.963ms         0.29%      13.963ms     450.435us            31  \n",
            "                         aten::eq         0.43%       6.522ms         0.87%      13.313ms     214.718us       7.905ms         0.16%      13.179ms     212.569us            62  \n",
            "                        aten::sum         0.37%       5.675ms         0.67%      10.284ms     331.741us       6.826ms         0.14%      10.261ms     331.016us            31  \n",
            "                        aten::add         0.23%       3.555ms         0.23%       3.563ms       3.563ms       3.559ms         0.07%       3.559ms       3.559ms             1  \n",
            "---------------------------------  ------------  ------------  ------------  ------------  ------------  ------------  ------------  ------------  ------------  ------------  \n",
            "Self CPU time total: 1.534s\n",
            "CUDA time total: 4.836s\n",
            "\n"
          ],
          "name": "stdout"
        }
      ]
    }
  ]
}