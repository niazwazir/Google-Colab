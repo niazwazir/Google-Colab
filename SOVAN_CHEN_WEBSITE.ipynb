{
  "nbformat": 4,
  "nbformat_minor": 0,
  "metadata": {
    "colab": {
      "name": "SOVAN_CHEN_WEBSITE.ipynb",
      "provenance": []
    },
    "kernelspec": {
      "name": "python3",
      "display_name": "Python 3"
    }
  },
  "cells": [
    {
      "cell_type": "markdown",
      "metadata": {
        "id": "fzuYMTNVWHJL",
        "colab_type": "text"
      },
      "source": [
        "https://vlearningit.wordpress.com/analysis/google-colab-tutorial-on-srcnn/"
      ]
    },
    {
      "cell_type": "markdown",
      "metadata": {
        "id": "tIhyk11oWMvW",
        "colab_type": "text"
      },
      "source": [
        "vlearningit"
      ]
    },
    {
      "cell_type": "code",
      "metadata": {
        "id": "aPmaNHAOWNiS",
        "colab_type": "code",
        "colab": {}
      },
      "source": [
        ""
      ],
      "execution_count": 0,
      "outputs": []
    }
  ]
}