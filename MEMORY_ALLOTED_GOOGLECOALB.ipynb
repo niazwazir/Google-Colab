{
  "nbformat": 4,
  "nbformat_minor": 0,
  "metadata": {
    "colab": {
      "name": "MEMORY_ALLOTED_GOOGLECOALB.ipynb",
      "version": "0.3.2",
      "provenance": []
    },
    "kernelspec": {
      "name": "python3",
      "display_name": "Python 3"
    },
    "accelerator": "TPU"
  },
  "cells": [
    {
      "metadata": {
        "id": "wNqoJGL-2MOR",
        "colab_type": "code",
        "colab": {
          "base_uri": "https://localhost:8080/",
          "height": 782
        },
        "outputId": "e0b82cd8-7dc2-43be-e8c9-f792a4b8b0b5"
      },
      "cell_type": "code",
      "source": [
        "!cat /proc/meminfo"
      ],
      "execution_count": 7,
      "outputs": [
        {
          "output_type": "stream",
          "text": [
            "MemTotal:       13335276 kB\n",
            "MemFree:        11345428 kB\n",
            "MemAvailable:   12579368 kB\n",
            "Buffers:           69716 kB\n",
            "Cached:          1314864 kB\n",
            "SwapCached:            0 kB\n",
            "Active:           616776 kB\n",
            "Inactive:        1146032 kB\n",
            "Active(anon):     344296 kB\n",
            "Inactive(anon):      340 kB\n",
            "Active(file):     272480 kB\n",
            "Inactive(file):  1145692 kB\n",
            "Unevictable:           0 kB\n",
            "Mlocked:               0 kB\n",
            "SwapTotal:             0 kB\n",
            "SwapFree:              0 kB\n",
            "Dirty:               272 kB\n",
            "Writeback:             0 kB\n",
            "AnonPages:        378348 kB\n",
            "Mapped:           232340 kB\n",
            "Shmem:               864 kB\n",
            "Slab:             142140 kB\n",
            "SReclaimable:     113720 kB\n",
            "SUnreclaim:        28420 kB\n",
            "KernelStack:        3840 kB\n",
            "PageTables:         5424 kB\n",
            "NFS_Unstable:          0 kB\n",
            "Bounce:                0 kB\n",
            "WritebackTmp:          0 kB\n",
            "CommitLimit:     6667636 kB\n",
            "Committed_AS:    1960808 kB\n",
            "VmallocTotal:   34359738367 kB\n",
            "VmallocUsed:           0 kB\n",
            "VmallocChunk:          0 kB\n",
            "AnonHugePages:         0 kB\n",
            "ShmemHugePages:        0 kB\n",
            "ShmemPmdMapped:        0 kB\n",
            "HugePages_Total:       0\n",
            "HugePages_Free:        0\n",
            "HugePages_Rsvd:        0\n",
            "HugePages_Surp:        0\n",
            "Hugepagesize:       2048 kB\n",
            "DirectMap4k:       61428 kB\n",
            "DirectMap2M:     5181440 kB\n",
            "DirectMap1G:    10485760 kB\n"
          ],
          "name": "stdout"
        }
      ]
    },
    {
      "metadata": {
        "id": "M-enFEq45Lu4",
        "colab_type": "code",
        "colab": {}
      },
      "cell_type": "code",
      "source": [
        ""
      ],
      "execution_count": 0,
      "outputs": []
    }
  ]
}