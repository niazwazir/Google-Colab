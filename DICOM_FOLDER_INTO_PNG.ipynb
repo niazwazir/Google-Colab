{
 "cells": [
  {
   "cell_type": "code",
   "execution_count": 1,
   "id": "dc312990",
   "metadata": {},
   "outputs": [],
   "source": [
    "#!pip install dicom2jpg"
   ]
  },
  {
   "cell_type": "code",
   "execution_count": 2,
   "id": "99722e85",
   "metadata": {},
   "outputs": [],
   "source": [
    "import dicom2jpg"
   ]
  },
  {
   "cell_type": "code",
   "execution_count": 3,
   "id": "dd61950e",
   "metadata": {},
   "outputs": [
    {
     "data": {
      "text/plain": [
       "True"
      ]
     },
     "execution_count": 3,
     "metadata": {},
     "output_type": "execute_result"
    }
   ],
   "source": [
    "dicom_dir = \"DICOM\"\n",
    "!mkdir PNG\n",
    "export_location = \"PNG\"\n",
    "dicom2jpg.dicom2png(dicom_dir, export_location)  "
   ]
  },
  {
   "cell_type": "code",
   "execution_count": null,
   "id": "c4ed23ae",
   "metadata": {},
   "outputs": [],
   "source": []
  }
 ],
 "metadata": {
  "kernelspec": {
   "display_name": "cuda_tf",
   "language": "python",
   "name": "cuda_tf"
  },
  "language_info": {
   "codemirror_mode": {
    "name": "ipython",
    "version": 3
   },
   "file_extension": ".py",
   "mimetype": "text/x-python",
   "name": "python",
   "nbconvert_exporter": "python",
   "pygments_lexer": "ipython3",
   "version": "3.9.7"
  }
 },
 "nbformat": 4,
 "nbformat_minor": 5
}
