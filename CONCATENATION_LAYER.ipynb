{
  "nbformat": 4,
  "nbformat_minor": 0,
  "metadata": {
    "colab": {
      "name": "Untitled29.ipynb",
      "provenance": []
    },
    "kernelspec": {
      "display_name": "Python 3",
      "name": "python3"
    },
    "language_info": {
      "name": "python"
    }
  },
  "cells": [
    {
      "cell_type": "code",
      "metadata": {
        "id": "InauL2yD-OtL"
      },
      "source": [
        "import keras\n",
        "import tensorflow as tf\n",
        "from keras.models import Model\n",
        "from keras.layers.advanced_activations import PReLU\n",
        "from keras.layers import Input, Conv2D, Concatenate"
      ],
      "execution_count": 1,
      "outputs": []
    },
    {
      "cell_type": "code",
      "metadata": {
        "id": "TO67Bri62HwB"
      },
      "source": [
        "img_shape = (64,64, 1)\n",
        "input_img = Input(shape=(img_shape),name = 'X')\n",
        "\n",
        "#SKIP LAYER LAYER CONNECTION\n",
        "#01 LAYER\n",
        "C1 = Conv2D(64, (3, 3), padding='same', name='CONV2D1')(input_img)\n",
        "C2 = Conv2D(64, (3, 3), padding='same', name='CONV2D2')(C1)\n",
        "\n",
        "#02 LAYER\n",
        "C3 = Conv2D(64, (3, 3), padding='same', name='CONV2D3')(input_img)\n",
        "C4 = Conv2D(64, (3, 3), padding='same', name='CONV2D4')(C3)"
      ],
      "execution_count": 2,
      "outputs": []
    },
    {
      "cell_type": "code",
      "metadata": {
        "id": "U7QcDMg42L0P"
      },
      "source": [
        "#05 CONCATENATION LAYER\n",
        "output_img = keras.layers.concatenate([C2,C4], axis = -1)\n",
        "A = PReLU()(output_img)\n",
        "model = Model(input_img, A)"
      ],
      "execution_count": 3,
      "outputs": []
    },
    {
      "cell_type": "code",
      "metadata": {
        "colab": {
          "base_uri": "https://localhost:8080/"
        },
        "id": "FNUrnF5j2cr0",
        "outputId": "8d8c675d-643e-4476-af21-ce3931620c26"
      },
      "source": [
        "model.summary()"
      ],
      "execution_count": 4,
      "outputs": [
        {
          "output_type": "stream",
          "text": [
            "Model: \"model\"\n",
            "__________________________________________________________________________________________________\n",
            "Layer (type)                    Output Shape         Param #     Connected to                     \n",
            "==================================================================================================\n",
            "X (InputLayer)                  [(None, 64, 64, 1)]  0                                            \n",
            "__________________________________________________________________________________________________\n",
            "CONV2D1 (Conv2D)                (None, 64, 64, 64)   640         X[0][0]                          \n",
            "__________________________________________________________________________________________________\n",
            "CONV2D3 (Conv2D)                (None, 64, 64, 64)   640         X[0][0]                          \n",
            "__________________________________________________________________________________________________\n",
            "CONV2D2 (Conv2D)                (None, 64, 64, 64)   36928       CONV2D1[0][0]                    \n",
            "__________________________________________________________________________________________________\n",
            "CONV2D4 (Conv2D)                (None, 64, 64, 64)   36928       CONV2D3[0][0]                    \n",
            "__________________________________________________________________________________________________\n",
            "concatenate (Concatenate)       (None, 64, 64, 128)  0           CONV2D2[0][0]                    \n",
            "                                                                 CONV2D4[0][0]                    \n",
            "__________________________________________________________________________________________________\n",
            "p_re_lu (PReLU)                 (None, 64, 64, 128)  524288      concatenate[0][0]                \n",
            "==================================================================================================\n",
            "Total params: 599,424\n",
            "Trainable params: 599,424\n",
            "Non-trainable params: 0\n",
            "__________________________________________________________________________________________________\n"
          ],
          "name": "stdout"
        }
      ]
    },
    {
      "cell_type": "code",
      "metadata": {
        "colab": {
          "base_uri": "https://localhost:8080/",
          "height": 150
        },
        "id": "eynloCUu2zxK",
        "outputId": "d75eaf92-0188-4cbd-be0a-6fa26215cc5e"
      },
      "source": [
        "tf.keras.utils.plot_model(\n",
        "    model, to_file='model.png', show_shapes=False, show_layer_names=True, rankdir='LR', expand_nested=False, dpi=96\n",
        ")"
      ],
      "execution_count": 5,
      "outputs": [
        {
          "output_type": "execute_result",
          "data": {
            "image/png": "[encoded data removed]",
            "text/plain": [
              "<IPython.core.display.Image object>"
            ]
          },
          "metadata": {
            "tags": []
          },
          "execution_count": 5
        }
      ]
    },
    {
      "cell_type": "code",
      "metadata": {
        "id": "HVzjEdk68wtR"
      },
      "source": [
        "img_shape = (64,64, 1)\n",
        "input_img = Input(shape=(img_shape),name = 'X')\n",
        "\n",
        "#SKIP LAYER LAYER CONNECTION\n",
        "#01 LAYER\n",
        "C1 = Conv2D(64, (3, 3), padding='same', name='CONV2D1')(input_img)\n",
        "C2 = Conv2D(64, (1,1), padding='same', name='CONV2D2')(C1)\n",
        "\n",
        "\n",
        "#STRAIGHT PATH CONNECTION\n",
        "#02 LAYER\n",
        "C3 = Conv2D(64, (3, 3), padding='same', name='CONV2D3')(input_img)\n",
        "C4 = Conv2D(64, (1,1), padding='same', name='CONV2D4')(C3)\n"
      ],
      "execution_count": 6,
      "outputs": []
    },
    {
      "cell_type": "code",
      "metadata": {
        "id": "_85HciLu9Erf"
      },
      "source": [
        "output_img = keras.layers.concatenate([C2,C4], axis = -1)\n",
        "A = PReLU()(output_img)\n",
        "model = Model(input_img, A)"
      ],
      "execution_count": 7,
      "outputs": []
    },
    {
      "cell_type": "code",
      "metadata": {
        "colab": {
          "base_uri": "https://localhost:8080/"
        },
        "id": "qU8D2OZN87Vd",
        "outputId": "130918ce-09df-4abb-ad31-bcc8a28ec737"
      },
      "source": [
        "model.summary()"
      ],
      "execution_count": 8,
      "outputs": [
        {
          "output_type": "stream",
          "text": [
            "Model: \"model_1\"\n",
            "__________________________________________________________________________________________________\n",
            "Layer (type)                    Output Shape         Param #     Connected to                     \n",
            "==================================================================================================\n",
            "X (InputLayer)                  [(None, 64, 64, 1)]  0                                            \n",
            "__________________________________________________________________________________________________\n",
            "CONV2D1 (Conv2D)                (None, 64, 64, 64)   640         X[0][0]                          \n",
            "__________________________________________________________________________________________________\n",
            "CONV2D3 (Conv2D)                (None, 64, 64, 64)   640         X[0][0]                          \n",
            "__________________________________________________________________________________________________\n",
            "CONV2D2 (Conv2D)                (None, 64, 64, 64)   4160        CONV2D1[0][0]                    \n",
            "__________________________________________________________________________________________________\n",
            "CONV2D4 (Conv2D)                (None, 64, 64, 64)   4160        CONV2D3[0][0]                    \n",
            "__________________________________________________________________________________________________\n",
            "concatenate_1 (Concatenate)     (None, 64, 64, 128)  0           CONV2D2[0][0]                    \n",
            "                                                                 CONV2D4[0][0]                    \n",
            "__________________________________________________________________________________________________\n",
            "p_re_lu_1 (PReLU)               (None, 64, 64, 128)  524288      concatenate_1[0][0]              \n",
            "==================================================================================================\n",
            "Total params: 533,888\n",
            "Trainable params: 533,888\n",
            "Non-trainable params: 0\n",
            "__________________________________________________________________________________________________\n"
          ],
          "name": "stdout"
        }
      ]
    },
    {
      "cell_type": "code",
      "metadata": {
        "colab": {
          "base_uri": "https://localhost:8080/",
          "height": 150
        },
        "id": "izPPAuny7yOJ",
        "outputId": "4f2e87e3-b559-4618-b5ed-02cdd122f1aa"
      },
      "source": [
        "tf.keras.utils.plot_model(\n",
        "    model, to_file='model.png', show_shapes=False, show_layer_names=True, rankdir='LR', expand_nested=False, dpi=96\n",
        ")"
      ],
      "execution_count": 9,
      "outputs": [
        {
          "output_type": "execute_result",
          "data": {
            "image/png": "[encoded data removed]",
            "text/plain": [
              "<IPython.core.display.Image object>"
            ]
          },
          "metadata": {
            "tags": []
          },
          "execution_count": 9
        }
      ]
    },
    {
      "cell_type": "code",
      "metadata": {
        "id": "6UpwxCEIDJhk"
      },
      "source": [
        ""
      ],
      "execution_count": 9,
      "outputs": []
    }
  ]
}