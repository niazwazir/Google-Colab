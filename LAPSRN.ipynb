{
  "nbformat": 4,
  "nbformat_minor": 0,
  "metadata": {
    "colab": {
      "name": "Untitled61.ipynb",
      "provenance": []
    },
    "kernelspec": {
      "name": "python3",
      "display_name": "Python 3"
    },
    "language_info": {
      "name": "python"
    },
    "accelerator": "GPU"
  },
  "cells": [
    {
      "cell_type": "code",
      "execution_count": 1,
      "metadata": {
        "colab": {
          "base_uri": "https://localhost:8080/"
        },
        "id": "PympMqDTe_Td",
        "outputId": "5ca107b7-2957-4d34-bff3-e6754eb72325"
      },
      "outputs": [
        {
          "output_type": "stream",
          "name": "stdout",
          "text": [
            "Cloning into 'pytorch-LapSRN'...\n",
            "remote: Enumerating objects: 85, done.\u001b[K\n",
            "remote: Total 85 (delta 0), reused 0 (delta 0), pack-reused 85\u001b[K\n",
            "Unpacking objects: 100% (85/85), done.\n"
          ]
        }
      ],
      "source": [
        "!git clone https://github.com/twtygqyy/pytorch-LapSRN.git"
      ]
    },
    {
      "cell_type": "code",
      "source": [
        "!ls"
      ],
      "metadata": {
        "colab": {
          "base_uri": "https://localhost:8080/"
        },
        "id": "iouhyEJxfFCC",
        "outputId": "1412bda1-5726-44d8-f615-3e9fc2e69313"
      },
      "execution_count": 2,
      "outputs": [
        {
          "output_type": "stream",
          "name": "stdout",
          "text": [
            "pytorch-LapSRN\tsample_data\n"
          ]
        }
      ]
    },
    {
      "cell_type": "code",
      "source": [
        "cd pytorch-LapSRN/"
      ],
      "metadata": {
        "colab": {
          "base_uri": "https://localhost:8080/"
        },
        "id": "KxLsaNjAfLkG",
        "outputId": "3c554df9-54e9-4bda-f627-a64b0810b641"
      },
      "execution_count": 3,
      "outputs": [
        {
          "output_type": "stream",
          "name": "stdout",
          "text": [
            "/content/pytorch-LapSRN\n"
          ]
        }
      ]
    },
    {
      "cell_type": "code",
      "source": [
        "!python main_lapsrn.py --cuda "
      ],
      "metadata": {
        "colab": {
          "base_uri": "https://localhost:8080/"
        },
        "id": "DrPofM_cvWXG",
        "outputId": "20463f1b-6421-4854-df97-d0e1e92d8250"
      },
      "execution_count": 4,
      "outputs": [
        {
          "output_type": "stream",
          "name": "stdout",
          "text": [
            "Namespace(batchSize=64, cuda=True, lr=0.0001, momentum=0.9, nEpochs=100, pretrained='', resume='', start_epoch=1, step=100, threads=1, weight_decay=0.0001)\n",
            "Random Seed:  1348\n",
            "===> Loading datasets\n",
            "===> Building model\n",
            "===> Setting GPU\n",
            "===> Setting Optimizer\n",
            "===> Training\n",
            "Epoch=1, lr=0.0001\n",
            "Checkpoint saved to checkpoint/lapsrn_model_epoch_1.pth\n",
            "Epoch=2, lr=0.0001\n",
            "Checkpoint saved to checkpoint/lapsrn_model_epoch_2.pth\n",
            "Epoch=3, lr=0.0001\n",
            "Checkpoint saved to checkpoint/lapsrn_model_epoch_3.pth\n",
            "Epoch=4, lr=0.0001\n",
            "Checkpoint saved to checkpoint/lapsrn_model_epoch_4.pth\n",
            "Epoch=5, lr=0.0001\n",
            "Checkpoint saved to checkpoint/lapsrn_model_epoch_5.pth\n",
            "Epoch=6, lr=0.0001\n",
            "Checkpoint saved to checkpoint/lapsrn_model_epoch_6.pth\n",
            "Epoch=7, lr=0.0001\n",
            "Checkpoint saved to checkpoint/lapsrn_model_epoch_7.pth\n",
            "Epoch=8, lr=0.0001\n",
            "Checkpoint saved to checkpoint/lapsrn_model_epoch_8.pth\n",
            "Epoch=9, lr=0.0001\n",
            "Checkpoint saved to checkpoint/lapsrn_model_epoch_9.pth\n",
            "Epoch=10, lr=0.0001\n",
            "Checkpoint saved to checkpoint/lapsrn_model_epoch_10.pth\n",
            "Epoch=11, lr=0.0001\n",
            "Checkpoint saved to checkpoint/lapsrn_model_epoch_11.pth\n",
            "Epoch=12, lr=0.0001\n",
            "Checkpoint saved to checkpoint/lapsrn_model_epoch_12.pth\n",
            "Epoch=13, lr=0.0001\n",
            "Checkpoint saved to checkpoint/lapsrn_model_epoch_13.pth\n",
            "Epoch=14, lr=0.0001\n",
            "Checkpoint saved to checkpoint/lapsrn_model_epoch_14.pth\n",
            "Epoch=15, lr=0.0001\n",
            "Checkpoint saved to checkpoint/lapsrn_model_epoch_15.pth\n",
            "Epoch=16, lr=0.0001\n",
            "Checkpoint saved to checkpoint/lapsrn_model_epoch_16.pth\n",
            "Epoch=17, lr=0.0001\n",
            "Checkpoint saved to checkpoint/lapsrn_model_epoch_17.pth\n",
            "Epoch=18, lr=0.0001\n",
            "Checkpoint saved to checkpoint/lapsrn_model_epoch_18.pth\n",
            "Epoch=19, lr=0.0001\n",
            "Checkpoint saved to checkpoint/lapsrn_model_epoch_19.pth\n",
            "Epoch=20, lr=0.0001\n",
            "Checkpoint saved to checkpoint/lapsrn_model_epoch_20.pth\n",
            "Epoch=21, lr=0.0001\n",
            "Checkpoint saved to checkpoint/lapsrn_model_epoch_21.pth\n",
            "Epoch=22, lr=0.0001\n",
            "Checkpoint saved to checkpoint/lapsrn_model_epoch_22.pth\n",
            "Epoch=23, lr=0.0001\n",
            "Checkpoint saved to checkpoint/lapsrn_model_epoch_23.pth\n",
            "Epoch=24, lr=0.0001\n",
            "Checkpoint saved to checkpoint/lapsrn_model_epoch_24.pth\n",
            "Epoch=25, lr=0.0001\n",
            "Checkpoint saved to checkpoint/lapsrn_model_epoch_25.pth\n",
            "Epoch=26, lr=0.0001\n",
            "Checkpoint saved to checkpoint/lapsrn_model_epoch_26.pth\n",
            "Epoch=27, lr=0.0001\n",
            "Checkpoint saved to checkpoint/lapsrn_model_epoch_27.pth\n",
            "Epoch=28, lr=0.0001\n",
            "Checkpoint saved to checkpoint/lapsrn_model_epoch_28.pth\n",
            "Epoch=29, lr=0.0001\n",
            "Checkpoint saved to checkpoint/lapsrn_model_epoch_29.pth\n",
            "Epoch=30, lr=0.0001\n",
            "Checkpoint saved to checkpoint/lapsrn_model_epoch_30.pth\n",
            "Epoch=31, lr=0.0001\n",
            "Checkpoint saved to checkpoint/lapsrn_model_epoch_31.pth\n",
            "Epoch=32, lr=0.0001\n",
            "Checkpoint saved to checkpoint/lapsrn_model_epoch_32.pth\n",
            "Epoch=33, lr=0.0001\n",
            "Checkpoint saved to checkpoint/lapsrn_model_epoch_33.pth\n",
            "Epoch=34, lr=0.0001\n",
            "Checkpoint saved to checkpoint/lapsrn_model_epoch_34.pth\n",
            "Epoch=35, lr=0.0001\n",
            "Checkpoint saved to checkpoint/lapsrn_model_epoch_35.pth\n",
            "Epoch=36, lr=0.0001\n",
            "Checkpoint saved to checkpoint/lapsrn_model_epoch_36.pth\n",
            "Epoch=37, lr=0.0001\n",
            "Checkpoint saved to checkpoint/lapsrn_model_epoch_37.pth\n",
            "Epoch=38, lr=0.0001\n",
            "Checkpoint saved to checkpoint/lapsrn_model_epoch_38.pth\n",
            "Epoch=39, lr=0.0001\n",
            "Checkpoint saved to checkpoint/lapsrn_model_epoch_39.pth\n",
            "Epoch=40, lr=0.0001\n",
            "Checkpoint saved to checkpoint/lapsrn_model_epoch_40.pth\n",
            "Epoch=41, lr=0.0001\n",
            "Checkpoint saved to checkpoint/lapsrn_model_epoch_41.pth\n",
            "Epoch=42, lr=0.0001\n",
            "Checkpoint saved to checkpoint/lapsrn_model_epoch_42.pth\n",
            "Epoch=43, lr=0.0001\n",
            "Checkpoint saved to checkpoint/lapsrn_model_epoch_43.pth\n",
            "Epoch=44, lr=0.0001\n",
            "Checkpoint saved to checkpoint/lapsrn_model_epoch_44.pth\n",
            "Epoch=45, lr=0.0001\n",
            "Checkpoint saved to checkpoint/lapsrn_model_epoch_45.pth\n",
            "Epoch=46, lr=0.0001\n",
            "Checkpoint saved to checkpoint/lapsrn_model_epoch_46.pth\n",
            "Epoch=47, lr=0.0001\n",
            "Checkpoint saved to checkpoint/lapsrn_model_epoch_47.pth\n",
            "Epoch=48, lr=0.0001\n",
            "Checkpoint saved to checkpoint/lapsrn_model_epoch_48.pth\n",
            "Epoch=49, lr=0.0001\n",
            "Checkpoint saved to checkpoint/lapsrn_model_epoch_49.pth\n",
            "Epoch=50, lr=0.0001\n",
            "Checkpoint saved to checkpoint/lapsrn_model_epoch_50.pth\n",
            "Epoch=51, lr=0.0001\n",
            "Checkpoint saved to checkpoint/lapsrn_model_epoch_51.pth\n",
            "Epoch=52, lr=0.0001\n",
            "Checkpoint saved to checkpoint/lapsrn_model_epoch_52.pth\n",
            "Epoch=53, lr=0.0001\n",
            "Checkpoint saved to checkpoint/lapsrn_model_epoch_53.pth\n",
            "Epoch=54, lr=0.0001\n",
            "Checkpoint saved to checkpoint/lapsrn_model_epoch_54.pth\n",
            "Epoch=55, lr=0.0001\n",
            "Checkpoint saved to checkpoint/lapsrn_model_epoch_55.pth\n",
            "Epoch=56, lr=0.0001\n",
            "Checkpoint saved to checkpoint/lapsrn_model_epoch_56.pth\n",
            "Epoch=57, lr=0.0001\n",
            "Checkpoint saved to checkpoint/lapsrn_model_epoch_57.pth\n",
            "Epoch=58, lr=0.0001\n",
            "Checkpoint saved to checkpoint/lapsrn_model_epoch_58.pth\n",
            "Epoch=59, lr=0.0001\n",
            "Checkpoint saved to checkpoint/lapsrn_model_epoch_59.pth\n",
            "Epoch=60, lr=0.0001\n",
            "Checkpoint saved to checkpoint/lapsrn_model_epoch_60.pth\n",
            "Epoch=61, lr=0.0001\n",
            "Checkpoint saved to checkpoint/lapsrn_model_epoch_61.pth\n",
            "Epoch=62, lr=0.0001\n",
            "Checkpoint saved to checkpoint/lapsrn_model_epoch_62.pth\n",
            "Epoch=63, lr=0.0001\n",
            "Checkpoint saved to checkpoint/lapsrn_model_epoch_63.pth\n",
            "Epoch=64, lr=0.0001\n",
            "Checkpoint saved to checkpoint/lapsrn_model_epoch_64.pth\n",
            "Epoch=65, lr=0.0001\n",
            "Checkpoint saved to checkpoint/lapsrn_model_epoch_65.pth\n",
            "Epoch=66, lr=0.0001\n",
            "Checkpoint saved to checkpoint/lapsrn_model_epoch_66.pth\n",
            "Epoch=67, lr=0.0001\n",
            "Checkpoint saved to checkpoint/lapsrn_model_epoch_67.pth\n",
            "Epoch=68, lr=0.0001\n",
            "Checkpoint saved to checkpoint/lapsrn_model_epoch_68.pth\n",
            "Epoch=69, lr=0.0001\n",
            "Checkpoint saved to checkpoint/lapsrn_model_epoch_69.pth\n",
            "Epoch=70, lr=0.0001\n",
            "Checkpoint saved to checkpoint/lapsrn_model_epoch_70.pth\n",
            "Epoch=71, lr=0.0001\n",
            "Checkpoint saved to checkpoint/lapsrn_model_epoch_71.pth\n",
            "Epoch=72, lr=0.0001\n",
            "Checkpoint saved to checkpoint/lapsrn_model_epoch_72.pth\n",
            "Epoch=73, lr=0.0001\n",
            "Checkpoint saved to checkpoint/lapsrn_model_epoch_73.pth\n",
            "Epoch=74, lr=0.0001\n",
            "Checkpoint saved to checkpoint/lapsrn_model_epoch_74.pth\n",
            "Epoch=75, lr=0.0001\n",
            "Checkpoint saved to checkpoint/lapsrn_model_epoch_75.pth\n",
            "Epoch=76, lr=0.0001\n",
            "Checkpoint saved to checkpoint/lapsrn_model_epoch_76.pth\n",
            "Epoch=77, lr=0.0001\n",
            "Checkpoint saved to checkpoint/lapsrn_model_epoch_77.pth\n",
            "Epoch=78, lr=0.0001\n",
            "Checkpoint saved to checkpoint/lapsrn_model_epoch_78.pth\n",
            "Epoch=79, lr=0.0001\n",
            "Checkpoint saved to checkpoint/lapsrn_model_epoch_79.pth\n",
            "Epoch=80, lr=0.0001\n",
            "Checkpoint saved to checkpoint/lapsrn_model_epoch_80.pth\n",
            "Epoch=81, lr=0.0001\n",
            "Checkpoint saved to checkpoint/lapsrn_model_epoch_81.pth\n",
            "Epoch=82, lr=0.0001\n",
            "Checkpoint saved to checkpoint/lapsrn_model_epoch_82.pth\n",
            "Epoch=83, lr=0.0001\n",
            "Checkpoint saved to checkpoint/lapsrn_model_epoch_83.pth\n",
            "Epoch=84, lr=0.0001\n",
            "Checkpoint saved to checkpoint/lapsrn_model_epoch_84.pth\n",
            "Epoch=85, lr=0.0001\n",
            "Checkpoint saved to checkpoint/lapsrn_model_epoch_85.pth\n",
            "Epoch=86, lr=0.0001\n",
            "Checkpoint saved to checkpoint/lapsrn_model_epoch_86.pth\n",
            "Epoch=87, lr=0.0001\n",
            "Checkpoint saved to checkpoint/lapsrn_model_epoch_87.pth\n",
            "Epoch=88, lr=0.0001\n",
            "Checkpoint saved to checkpoint/lapsrn_model_epoch_88.pth\n",
            "Epoch=89, lr=0.0001\n",
            "Checkpoint saved to checkpoint/lapsrn_model_epoch_89.pth\n",
            "Epoch=90, lr=0.0001\n",
            "Checkpoint saved to checkpoint/lapsrn_model_epoch_90.pth\n",
            "Epoch=91, lr=0.0001\n",
            "Checkpoint saved to checkpoint/lapsrn_model_epoch_91.pth\n",
            "Epoch=92, lr=0.0001\n",
            "Checkpoint saved to checkpoint/lapsrn_model_epoch_92.pth\n",
            "Epoch=93, lr=0.0001\n",
            "Checkpoint saved to checkpoint/lapsrn_model_epoch_93.pth\n",
            "Epoch=94, lr=0.0001\n",
            "Checkpoint saved to checkpoint/lapsrn_model_epoch_94.pth\n",
            "Epoch=95, lr=0.0001\n",
            "Checkpoint saved to checkpoint/lapsrn_model_epoch_95.pth\n",
            "Epoch=96, lr=0.0001\n",
            "Checkpoint saved to checkpoint/lapsrn_model_epoch_96.pth\n",
            "Epoch=97, lr=0.0001\n",
            "Checkpoint saved to checkpoint/lapsrn_model_epoch_97.pth\n",
            "Epoch=98, lr=0.0001\n",
            "Checkpoint saved to checkpoint/lapsrn_model_epoch_98.pth\n",
            "Epoch=99, lr=0.0001\n",
            "Checkpoint saved to checkpoint/lapsrn_model_epoch_99.pth\n",
            "Epoch=100, lr=0.0001\n",
            "Checkpoint saved to checkpoint/lapsrn_model_epoch_100.pth\n"
          ]
        }
      ]
    },
    {
      "cell_type": "code",
      "source": [
        "!python eval.py --model \"checkpoint/lapsrn_model_epoch_90.pth\" --dataset \"Set5\""
      ],
      "metadata": {
        "colab": {
          "base_uri": "https://localhost:8080/"
        },
        "id": "BZt4D-7hp7Ak",
        "outputId": "5ab9025b-96b6-4b4c-ef29-a78a2395b48c"
      },
      "execution_count": 5,
      "outputs": [
        {
          "output_type": "stream",
          "name": "stdout",
          "text": [
            "Processing  Set5/woman_GT.mat\n",
            "Processing  Set5/butterfly_GT.mat\n",
            "Processing  Set5/baby_GT.mat\n",
            "Processing  Set5/head_GT.mat\n",
            "Processing  Set5/bird_GT.mat\n",
            "Scale= 4\n",
            "Dataset= Set5\n",
            "PSNR_predicted= 25.682285343413334\n",
            "PSNR_bicubic= 28.432432425785294\n",
            "It takes average 0.7565516948699951s for processing\n"
          ]
        }
      ]
    },
    {
      "cell_type": "code",
      "source": [
        ""
      ],
      "metadata": {
        "id": "Q3Wy06zDwaK1"
      },
      "execution_count": null,
      "outputs": []
    }
  ]
}