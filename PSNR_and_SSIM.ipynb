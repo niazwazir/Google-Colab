{
  "nbformat": 4,
  "nbformat_minor": 0,
  "metadata": {
    "kernelspec": {
      "display_name": "Python 3",
      "language": "python",
      "name": "python3"
    },
    "language_info": {
      "codemirror_mode": {
        "name": "ipython",
        "version": 3
      },
      "file_extension": ".py",
      "mimetype": "text/x-python",
      "name": "python",
      "nbconvert_exporter": "python",
      "pygments_lexer": "ipython3",
      "version": "3.7.6"
    },
    "colab": {
      "name": "PSNR and SSIM.ipynb",
      "provenance": []
    }
  },
  "cells": [
    {
      "cell_type": "code",
      "metadata": {
        "id": "8m9bDdr7pN1B"
      },
      "source": [
        "import math\r\n",
        "import numpy as np\r\n",
        "import cv2\r\n",
        "import numpy \r\n",
        "import math\r\n",
        "import cv2"
      ],
      "execution_count": 1,
      "outputs": []
    },
    {
      "cell_type": "code",
      "metadata": {
        "id": "5TVvhMXSpTXg",
        "outputId": "53ac5b1f-19ca-42a6-9cf2-fb8bf0ea3350",
        "colab": {
          "base_uri": "https://localhost:8080/"
        }
      },
      "source": [
        "!git clone https://github.com/niazwazir/PSNR_CALCULATIONS.git"
      ],
      "execution_count": 2,
      "outputs": [
        {
          "output_type": "stream",
          "text": [
            "Cloning into 'PSNR_CALCULATIONS'...\n",
            "remote: Enumerating objects: 3, done.\u001b[K\n",
            "remote: Counting objects: 100% (3/3), done.\u001b[K\n",
            "remote: Compressing objects: 100% (2/2), done.\u001b[K\n",
            "remote: Total 3 (delta 0), reused 0 (delta 0), pack-reused 0\u001b[K\n",
            "Unpacking objects: 100% (3/3), done.\n"
          ],
          "name": "stdout"
        }
      ]
    },
    {
      "cell_type": "code",
      "metadata": {
        "id": "0E2gYH39qIMi",
        "outputId": "48602475-9634-4962-ff2d-c7feed3743fd",
        "colab": {
          "base_uri": "https://localhost:8080/"
        }
      },
      "source": [
        "cd PSNR_CALCULATIONS/"
      ],
      "execution_count": 3,
      "outputs": [
        {
          "output_type": "stream",
          "text": [
            "/content/PSNR_CALCULATIONS\n"
          ],
          "name": "stdout"
        }
      ]
    },
    {
      "cell_type": "code",
      "metadata": {
        "id": "cII3IBIaqQCX",
        "outputId": "00ce726f-9bde-4a5d-b1be-9009407a9944",
        "colab": {
          "base_uri": "https://localhost:8080/"
        }
      },
      "source": [
        "!unzip PSNR_WAZIR.zip"
      ],
      "execution_count": 4,
      "outputs": [
        {
          "output_type": "stream",
          "text": [
            "Archive:  PSNR_WAZIR.zip\n",
            "   creating: PSNR_WAZIR/GT/\n",
            "  inflating: PSNR_WAZIR/GT/baby.png  \n",
            "  inflating: PSNR_WAZIR/GT/butterfly.png  \n",
            "   creating: PSNR_WAZIR/SR/\n",
            "  inflating: PSNR_WAZIR/SR/baby_WAZIR_XCEPTION_MODEL_X22.png  \n",
            "  inflating: PSNR_WAZIR/SR/butterfly_WAZIR_XCEPTION_MODEL_X22.png  \n"
          ],
          "name": "stdout"
        }
      ]
    },
    {
      "cell_type": "code",
      "metadata": {
        "id": "rhQM84aFqQJr",
        "outputId": "a50dfdc0-3fd4-4864-fefd-78dcd7897bf2",
        "colab": {
          "base_uri": "https://localhost:8080/"
        }
      },
      "source": [
        "cd PSNR_WAZIR/"
      ],
      "execution_count": 5,
      "outputs": [
        {
          "output_type": "stream",
          "text": [
            "/content/PSNR_CALCULATIONS/PSNR_WAZIR\n"
          ],
          "name": "stdout"
        }
      ]
    },
    {
      "cell_type": "code",
      "metadata": {
        "id": "_APlEqv8r7Ux"
      },
      "source": [
        "original = cv2.imread(r\"GT/baby.png\")\r\n",
        "contrast = cv2.imread(r\"SR/baby_WAZIR_XCEPTION_MODEL_X22.png\",1)"
      ],
      "execution_count": 6,
      "outputs": []
    },
    {
      "cell_type": "code",
      "metadata": {
        "id": "Xi44w9cIrp9g"
      },
      "source": [
        "def ssim(img1, img2):\r\n",
        "    C1 = (0.01 * 255)**2\r\n",
        "    C2 = (0.03 * 255)**2\r\n",
        "\r\n",
        "    img1 = img1.astype(np.float64)\r\n",
        "    img2 = img2.astype(np.float64)\r\n",
        "    kernel = cv2.getGaussianKernel(11, 1.5)\r\n",
        "    window = np.outer(kernel, kernel.transpose())\r\n",
        "\r\n",
        "    mu1 = cv2.filter2D(img1, -1, window)[5:-5, 5:-5]  # valid\r\n",
        "    mu2 = cv2.filter2D(img2, -1, window)[5:-5, 5:-5]\r\n",
        "    mu1_sq = mu1**2\r\n",
        "    mu2_sq = mu2**2\r\n",
        "    mu1_mu2 = mu1 * mu2\r\n",
        "    sigma1_sq = cv2.filter2D(img1**2, -1, window)[5:-5, 5:-5] - mu1_sq\r\n",
        "    sigma2_sq = cv2.filter2D(img2**2, -1, window)[5:-5, 5:-5] - mu2_sq\r\n",
        "    sigma12 = cv2.filter2D(img1 * img2, -1, window)[5:-5, 5:-5] - mu1_mu2\r\n",
        "\r\n",
        "    ssim_map = ((2 * mu1_mu2 + C1) * (2 * sigma12 + C2)) / ((mu1_sq + mu2_sq + C1) *\r\n",
        "                                                            (sigma1_sq + sigma2_sq + C2))\r\n",
        "    return ssim_map.mean()"
      ],
      "execution_count": 7,
      "outputs": []
    },
    {
      "cell_type": "code",
      "metadata": {
        "id": "PmoUgpE-rwdu"
      },
      "source": [
        "def calculate_ssim(img1, img2):\r\n",
        "    '''calculate SSIM\r\n",
        "    the same outputs as MATLAB's\r\n",
        "    img1, img2: [0, 255]\r\n",
        "    '''\r\n",
        "    if not img1.shape == img2.shape:\r\n",
        "        raise ValueError('Input images must have the same dimensions.')\r\n",
        "    if img1.ndim == 2:\r\n",
        "        return ssim(img1, img2)\r\n",
        "    elif img1.ndim == 3:\r\n",
        "        if img1.shape[2] == 3:\r\n",
        "            ssims = []\r\n",
        "            for i in range(3):\r\n",
        "                ssims.append(ssim(img1, img2))\r\n",
        "            return np.array(ssims).mean()\r\n",
        "        elif img1.shape[2] == 1:\r\n",
        "            return ssim(np.squeeze(img1), np.squeeze(img2))\r\n",
        "    else:\r\n",
        "        raise ValueError('Wrong input image dimensions.')"
      ],
      "execution_count": 8,
      "outputs": []
    },
    {
      "cell_type": "code",
      "metadata": {
        "id": "_YfWF2cypLsx"
      },
      "source": [
        "\r\n",
        "def psnr(img1, img2):\r\n",
        "    mse = numpy.mean( (img1 - img2) ** 2 )\r\n",
        "    PIXEL_MAX = 255.0\r\n",
        "    return 20 * math.log10(PIXEL_MAX / math.sqrt(mse))\r\n",
        "\r\n"
      ],
      "execution_count": 9,
      "outputs": []
    },
    {
      "cell_type": "code",
      "metadata": {
        "id": "puW30MO4rWZV",
        "outputId": "3ae26440-dd6c-4544-f3e9-d7709ef36d8e",
        "colab": {
          "base_uri": "https://localhost:8080/"
        }
      },
      "source": [
        "b=psnr(original,contrast)\r\n",
        "print('PSNR:',b)\r\n",
        "a=calculate_ssim(original,contrast)\r\n",
        "print('SSIM:', a)"
      ],
      "execution_count": 10,
      "outputs": [
        {
          "output_type": "stream",
          "text": [
            "PSNR: 35.82289773565726\n",
            "SSIM: 0.9431538450545726\n"
          ],
          "name": "stdout"
        }
      ]
    },
    {
      "cell_type": "code",
      "metadata": {
        "id": "venBLp_hr3It"
      },
      "source": [
        ""
      ],
      "execution_count": null,
      "outputs": []
    }
  ]
}