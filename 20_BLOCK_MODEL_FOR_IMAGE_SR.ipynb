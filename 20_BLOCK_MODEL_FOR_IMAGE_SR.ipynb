{
 "cells": [
  {
   "cell_type": "code",
   "execution_count": null,
   "metadata": {
    "colab": {
     "base_uri": "https://localhost:8080/",
     "height": 269
    },
    "id": "GOeD3dP8DeIG",
    "outputId": "9a4e55c9-9826-481b-8583-fa05b0247d9b"
   },
   "outputs": [],
   "source": [
    "#!wget http://data.vision.ee.ethz.ch/cvl/DIV2K/DIV2K_train_HR.zip"
   ]
  },
  {
   "cell_type": "code",
   "execution_count": 1,
   "metadata": {
    "colab": {
     "base_uri": "https://localhost:8080/",
     "height": 118
    },
    "id": "fD9dGwVA9Ghr",
    "outputId": "d2a53d4c-fb01-435a-9f2b-3c10bb58c8f1"
   },
   "outputs": [
    {
     "name": "stderr",
     "output_type": "stream",
     "text": [
      "fatal: destination path 'SRCNN-Keras' already exists and is not an empty directory.\n"
     ]
    }
   ],
   "source": [
    "!git clone https://github.com/niazwazir/SRCNN-Keras.git"
   ]
  },
  {
   "cell_type": "code",
   "execution_count": 2,
   "metadata": {
    "colab": {
     "base_uri": "https://localhost:8080/",
     "height": 34
    },
    "id": "DGaooD6C9olO",
    "outputId": "64198e46-bec4-4f27-f711-ac9fc4b8e17c"
   },
   "outputs": [
    {
     "name": "stdout",
     "output_type": "stream",
     "text": [
      "C:\\Users\\user\\Desktop\\ABC\\SRCNN-Keras\n"
     ]
    }
   ],
   "source": [
    "cd SRCNN-Keras/"
   ]
  },
  {
   "cell_type": "code",
   "execution_count": 3,
   "metadata": {
    "colab": {
     "base_uri": "https://localhost:8080/",
     "height": 151
    },
    "id": "BXJ_SDhF9tM1",
    "outputId": "62c48edd-e9e1-454b-83a2-eaaa548c9143"
   },
   "outputs": [
    {
     "name": "stdout",
     "output_type": "stream",
     "text": [
      "Image_Super_Resolution.ipynb\n",
      "MOUNT_SRCNN_37_PSNR.ipynb\n",
      "PSNR_SSIM_MSE_SRCNN_Super_Resolution_.ipynb\n",
      "SRCNNMODIFIEDPYTHON2.ipynb\n",
      "SRCNN_COLOR_IMAGE_GENERATED.ipynb\n",
      "SRCNN_KERAS.ipynb\n",
      "SRCNN_KERAS_2nd.ipynb\n",
      "SRCNN_KERAS_IN_Python3.ipynb\n",
      "SRCNN_KERAS_IN_Python3_Curves.ipynb\n",
      "baby_GT.bmp\n",
      "baby_x2_GT.png\n",
      "bird_GT.bmp\n",
      "butterfly_GT.bmp\n",
      "head_GT.bmp\n",
      "prepare_data.py\n",
      "project.gif\n",
      "subpixel.py\n",
      "text\n",
      "woman_GT.bmp\n",
      "yang91\n"
     ]
    }
   ],
   "source": [
    "!ls"
   ]
  },
  {
   "cell_type": "code",
   "execution_count": 4,
   "metadata": {
    "colab": {
     "base_uri": "https://localhost:8080/",
     "height": 1000
    },
    "id": "qkqRdZec9t3a",
    "outputId": "71c916e5-63f8-48c3-eae6-852bfd055716"
   },
   "outputs": [
    {
     "name": "stderr",
     "output_type": "stream",
     "text": [
      "unzip:  cannot find or open yang91.zip, yang91.zip.zip or yang91.zip.ZIP.\n"
     ]
    }
   ],
   "source": [
    "!unzip yang91.zip"
   ]
  },
  {
   "cell_type": "code",
   "execution_count": 5,
   "metadata": {
    "colab": {
     "base_uri": "https://localhost:8080/",
     "height": 168
    },
    "id": "B2Rg2BGtoDSl",
    "outputId": "ca10f16e-95a1-43d3-8054-03d37da3c65b"
   },
   "outputs": [
    {
     "name": "stdout",
     "output_type": "stream",
     "text": [
      "Image_Super_Resolution.ipynb\n",
      "MOUNT_SRCNN_37_PSNR.ipynb\n",
      "PSNR_SSIM_MSE_SRCNN_Super_Resolution_.ipynb\n",
      "SRCNNMODIFIEDPYTHON2.ipynb\n",
      "SRCNN_COLOR_IMAGE_GENERATED.ipynb\n",
      "SRCNN_KERAS.ipynb\n",
      "SRCNN_KERAS_2nd.ipynb\n",
      "SRCNN_KERAS_IN_Python3.ipynb\n",
      "SRCNN_KERAS_IN_Python3_Curves.ipynb\n",
      "baby_GT.bmp\n",
      "baby_x2_GT.png\n",
      "bird_GT.bmp\n",
      "butterfly_GT.bmp\n",
      "head_GT.bmp\n",
      "prepare_data.py\n",
      "project.gif\n",
      "subpixel.py\n",
      "text\n",
      "woman_GT.bmp\n",
      "yang91\n"
     ]
    }
   ],
   "source": [
    "!ls"
   ]
  },
  {
   "cell_type": "code",
   "execution_count": 6,
   "metadata": {
    "id": "aaLOFe3soDi6"
   },
   "outputs": [
    {
     "name": "stderr",
     "output_type": "stream",
     "text": [
      "rm: cannot remove '*.zip': No such file or directory\n"
     ]
    }
   ],
   "source": [
    "!rm -r *.zip"
   ]
  },
  {
   "cell_type": "code",
   "execution_count": 7,
   "metadata": {
    "colab": {
     "base_uri": "https://localhost:8080/",
     "height": 151
    },
    "id": "f0sw_I9YoDe9",
    "outputId": "fd0ac6da-c0e9-4041-e9c7-2379372ef1d0"
   },
   "outputs": [
    {
     "name": "stdout",
     "output_type": "stream",
     "text": [
      "Image_Super_Resolution.ipynb\n",
      "MOUNT_SRCNN_37_PSNR.ipynb\n",
      "PSNR_SSIM_MSE_SRCNN_Super_Resolution_.ipynb\n",
      "SRCNNMODIFIEDPYTHON2.ipynb\n",
      "SRCNN_COLOR_IMAGE_GENERATED.ipynb\n",
      "SRCNN_KERAS.ipynb\n",
      "SRCNN_KERAS_2nd.ipynb\n",
      "SRCNN_KERAS_IN_Python3.ipynb\n",
      "SRCNN_KERAS_IN_Python3_Curves.ipynb\n",
      "baby_GT.bmp\n",
      "baby_x2_GT.png\n",
      "bird_GT.bmp\n",
      "butterfly_GT.bmp\n",
      "head_GT.bmp\n",
      "prepare_data.py\n",
      "project.gif\n",
      "subpixel.py\n",
      "text\n",
      "woman_GT.bmp\n",
      "yang91\n"
     ]
    }
   ],
   "source": [
    "!ls"
   ]
  },
  {
   "cell_type": "code",
   "execution_count": 8,
   "metadata": {
    "colab": {
     "base_uri": "https://localhost:8080/",
     "height": 34
    },
    "id": "-_to1Cbz9t8R",
    "outputId": "0e60f7c7-ecb7-4a51-f6e5-68eef0164646"
   },
   "outputs": [
    {
     "name": "stdout",
     "output_type": "stream",
     "text": [
      "C:\\Users\\user\\Desktop\\ABC\n"
     ]
    }
   ],
   "source": [
    "cd .."
   ]
  },
  {
   "cell_type": "code",
   "execution_count": 9,
   "metadata": {
    "colab": {
     "base_uri": "https://localhost:8080/",
     "height": 34
    },
    "id": "8ZwIhMYY9t0u",
    "outputId": "61fce2ce-b6c9-4423-bc55-90d22326aa4c"
   },
   "outputs": [
    {
     "name": "stdout",
     "output_type": "stream",
     "text": [
      "FSRCNN_Experimental.ipynb\n",
      "SRCNN-Keras\n",
      "best_model_improved.h5\n",
      "model.png\n",
      "model2_FCN_FSRCNN.h5\n",
      "pytorch-LapSRN\n"
     ]
    }
   ],
   "source": [
    "!ls"
   ]
  },
  {
   "cell_type": "code",
   "execution_count": 10,
   "metadata": {
    "colab": {
     "base_uri": "https://localhost:8080/",
     "height": 1000
    },
    "id": "FLFuW18UEMXi",
    "outputId": "050e32da-87f9-404d-b82f-81da6b6bec2d"
   },
   "outputs": [
    {
     "name": "stderr",
     "output_type": "stream",
     "text": [
      "unzip:  cannot find or open DIV2K_train_HR.zip, DIV2K_train_HR.zip.zip or DIV2K_train_HR.zip.ZIP.\n"
     ]
    }
   ],
   "source": [
    "!unzip \"DIV2K_train_HR.zip\""
   ]
  },
  {
   "cell_type": "code",
   "execution_count": 11,
   "metadata": {
    "id": "p6VyDPRsoQZJ"
   },
   "outputs": [
    {
     "name": "stderr",
     "output_type": "stream",
     "text": [
      "rm: cannot remove '*.zip': No such file or directory\n"
     ]
    }
   ],
   "source": [
    "!rm -r *.zip"
   ]
  },
  {
   "cell_type": "code",
   "execution_count": 12,
   "metadata": {
    "colab": {
     "base_uri": "https://localhost:8080/",
     "height": 34
    },
    "id": "fYHIjuWpukaS",
    "outputId": "d762d282-265b-421d-dce9-973c288768d7"
   },
   "outputs": [
    {
     "name": "stdout",
     "output_type": "stream",
     "text": [
      "FSRCNN_Experimental.ipynb\n",
      "SRCNN-Keras\n",
      "best_model_improved.h5\n",
      "model.png\n",
      "model2_FCN_FSRCNN.h5\n",
      "pytorch-LapSRN\n"
     ]
    }
   ],
   "source": [
    "!ls"
   ]
  },
  {
   "cell_type": "code",
   "execution_count": 13,
   "metadata": {
    "id": "2w9fURjBP0Ov"
   },
   "outputs": [],
   "source": [
    "DATADIR = \"SRCNN-Keras/yang91\"\n",
    "DATADIR2 = \"SRCNN-Keras/yang91\"\n",
    "#DATADIR2 = \"DIV2K_train_HR\""
   ]
  },
  {
   "cell_type": "code",
   "execution_count": 14,
   "metadata": {
    "id": "6_Xvzi4fj1R2"
   },
   "outputs": [],
   "source": [
    "import os\n",
    "import cv2\n",
    "import keras\n",
    "import numpy as np\n",
    "import tensorflow as tf\n",
    "#from google.colab.patches import cv2_imshow\n",
    "from keras.callbacks import ModelCheckpoint\n",
    "from tensorflow.keras.optimizers import Adam\n",
    "from tensorflow.keras.models import Model, Sequential\n",
    "from tensorflow.keras.layers import Dense, Conv2D, Dropout, BatchNormalization, Input,Conv2DTranspose, add, Activation, LeakyReLU"
   ]
  },
  {
   "cell_type": "code",
   "execution_count": 15,
   "metadata": {
    "id": "ZxBdm7j4fLw7"
   },
   "outputs": [],
   "source": [
    "scale = 2\n",
    "req_size = 20\n",
    "inp_size = int(req_size/scale)\n",
    "stride = 15\n",
    "\n",
    "X=[]\n",
    "labels=[]\n",
    "\n",
    "for filera in os.listdir(DATADIR):\n",
    "    readpath = os.path.join(DATADIR,filera)\n",
    "    img = cv2.imread(readpath)\n",
    "    img = np.asarray(img)\n",
    "    shapes = img.shape\n",
    "    for i in range(0, shapes[0]-req_size+1, stride):\n",
    "        for j in range(0, shapes[1]-req_size+1,stride):\n",
    "            subimage_HR = img[i:i+req_size, j:j+req_size]\n",
    "            #cv2_imshow(subimage_HR)\n",
    "            subimage_LR = cv2.resize(subimage_HR,(inp_size,inp_size))\n",
    "            X.append(subimage_LR)\n",
    "            labels.append(subimage_HR)\n",
    "\n",
    "counta=0\n",
    "for filera in os.listdir(DATADIR2):\n",
    "    counta=counta+1\n",
    "    if(counta==300):\n",
    "        break\n",
    "        readpath = os.path.join(DATADIR2,filera)\n",
    "        img = cv2.imread(readpath)\n",
    "        img = np.asarray(img)\n",
    "        shapes = img.shape\n",
    "        for i in range(0, shapes[0]-req_size+1, stride):\n",
    "            for j in range(0, shapes[1]-req_size+1,stride):\n",
    "                subimage_HR = img[i:i+req_size, j:j+req_size]\n",
    "                #cv2_imshow(subimage_HR)\n",
    "                subimage_LR = cv2.resize(subimage_HR,(inp_size,inp_size))\n",
    "                X.append(subimage_LR)\n",
    "                labels.append(subimage_HR)"
   ]
  },
  {
   "cell_type": "code",
   "execution_count": 16,
   "metadata": {
    "colab": {
     "base_uri": "https://localhost:8080/",
     "height": 50
    },
    "id": "GK3LFglUm6rY",
    "outputId": "bf5d0e4f-abdc-4acc-e8cd-812978c3314a"
   },
   "outputs": [
    {
     "name": "stdout",
     "output_type": "stream",
     "text": [
      "(18849, 20, 20, 3)\n",
      "(18849, 10, 10, 3)\n"
     ]
    }
   ],
   "source": [
    "X = np.asarray(X)\n",
    "labels = np.asarray(labels)\n",
    "print(labels.shape)\n",
    "print(X.shape)"
   ]
  },
  {
   "cell_type": "code",
   "execution_count": 17,
   "metadata": {
    "id": "lXm7CzkdPKwp"
   },
   "outputs": [],
   "source": [
    "alpha = 0.85\n",
    "def basic_mse(y_true, y_pred):\n",
    "    pred = tf.image.sobel_edges(y_pred)\n",
    "    true = tf.image.sobel_edges(y_true)\n",
    "    lossmse = tf.reduce_mean(tf.square(y_pred-y_true))\n",
    "    lossedge = tf.reduce_mean(tf.square(pred-true))\n",
    "    return alpha*lossmse + (1-alpha)*lossedge"
   ]
  },
  {
   "cell_type": "code",
   "execution_count": 18,
   "metadata": {},
   "outputs": [],
   "source": [
    "def Res_block():\n",
    "    _input = Input(shape=(None, None, 3))\n",
    "\n",
    "    conv1 = Conv2D(filters=64, kernel_size=(3, 3), strides=(1, 1), padding='same', activation='relu')(_input)\n",
    "    conv2 = Conv2D(filters=64, kernel_size=(3, 3), strides=(1, 1), padding='same', activation='linear')(conv1)\n",
    "    conv3 = Conv2D(filters=3, kernel_size=(3, 3), strides=(1, 1), padding='same', activation='linear')(conv2)\n",
    "\n",
    "    out = add(inputs=[_input, conv3])\n",
    "    out = Activation('relu')(out)\n",
    "\n",
    "    model1 = Model(inputs=_input, outputs=out)\n",
    "\n",
    "    return model1\n",
    "model1 = Res_block()"
   ]
  },
  {
   "cell_type": "code",
   "execution_count": 19,
   "metadata": {},
   "outputs": [
    {
     "name": "stdout",
     "output_type": "stream",
     "text": [
      "Model: \"model\"\n",
      "__________________________________________________________________________________________________\n",
      " Layer (type)                   Output Shape         Param #     Connected to                     \n",
      "==================================================================================================\n",
      " input_1 (InputLayer)           [(None, None, None,  0           []                               \n",
      "                                 3)]                                                              \n",
      "                                                                                                  \n",
      " conv2d (Conv2D)                (None, None, None,   1792        ['input_1[0][0]']                \n",
      "                                64)                                                               \n",
      "                                                                                                  \n",
      " conv2d_1 (Conv2D)              (None, None, None,   36928       ['conv2d[0][0]']                 \n",
      "                                64)                                                               \n",
      "                                                                                                  \n",
      " conv2d_2 (Conv2D)              (None, None, None,   1731        ['conv2d_1[0][0]']               \n",
      "                                3)                                                                \n",
      "                                                                                                  \n",
      " add (Add)                      (None, None, None,   0           ['input_1[0][0]',                \n",
      "                                3)                                'conv2d_2[0][0]']               \n",
      "                                                                                                  \n",
      " activation (Activation)        (None, None, None,   0           ['add[0][0]']                    \n",
      "                                3)                                                                \n",
      "                                                                                                  \n",
      "==================================================================================================\n",
      "Total params: 40,451\n",
      "Trainable params: 40,451\n",
      "Non-trainable params: 0\n",
      "__________________________________________________________________________________________________\n"
     ]
    }
   ],
   "source": [
    "model1.summary()"
   ]
  },
  {
   "cell_type": "code",
   "execution_count": 20,
   "metadata": {},
   "outputs": [
    {
     "data": {
      "image/png": "[encoded data removed]",
      "text/plain": [
       "<IPython.core.display.Image object>"
      ]
     },
     "execution_count": 20,
     "metadata": {},
     "output_type": "execute_result"
    }
   ],
   "source": [
    "tf.keras.utils.plot_model(\n",
    "    model1, to_file='model.png', show_shapes=False, show_layer_names=True, rankdir='LR', expand_nested=False, dpi=96\n",
    ")"
   ]
  },
  {
   "cell_type": "code",
   "execution_count": 21,
   "metadata": {
    "colab": {
     "base_uri": "https://localhost:8080/",
     "height": 87
    },
    "id": "EyfVm2oJk26g",
    "outputId": "2fcf0d89-cbfe-48b5-9524-c5dd327d6211"
   },
   "outputs": [],
   "source": [
    "inputlayer = tf.keras.layers.Input(shape=(None,None,3))\n",
    "C1 = Conv2D(64, (3,3), padding=\"same\")(inputlayer)\n",
    "L1 = LeakyReLU(alpha=0.2)(C1)\n",
    "C2 = Conv2D(12, (3,3),padding=\"same\")(L1)\n",
    "L2 = LeakyReLU(alpha=0.2)(C2)\n",
    "C3 = Conv2D(3, (3,3),padding=\"same\")(L2)\n",
    "B1 = Res_block()(C3)\n",
    "B2 = Res_block()(B1)\n",
    "sum1 = add(inputs=[inputlayer, B2])\n",
    "B3 = Res_block()(sum1)\n",
    "B4 = Res_block()(B3)\n",
    "sum2 = add(inputs=[inputlayer, B4])\n",
    "B5 = Res_block()(sum2)\n",
    "B6 = Res_block()(B5)\n",
    "B7 = Res_block()(B6)\n",
    "B8 = Res_block()(B7)\n",
    "B9 = Res_block()(B8)\n",
    "B10 = Res_block()(B9)\n",
    "sum3 = add(inputs=[inputlayer,sum2, B10])\n",
    "B11 = Res_block()(sum3)\n",
    "B12 = Res_block()(B11)\n",
    "B13 = Res_block()(B12)\n",
    "B14 = Res_block()(B13)\n",
    "B15 = Res_block()(B14)\n",
    "B16 = Res_block()(B15)\n",
    "B17 = Res_block()(B16)\n",
    "B18 = Res_block()(B17)\n",
    "B19 = Res_block()(B18)\n",
    "B20= Res_block()(B19)\n",
    "sumf = add(inputs=[inputlayer,sum3, B20])\n",
    "CL = Conv2D(64,(1, 1), padding=\"same\")(sumf)\n",
    "LL = LeakyReLU(alpha=0.1)(CL)\n",
    "\n",
    "#final expanding layer of the model 3 channels for RGB\n",
    "y = Conv2DTranspose(3,(9,9), strides = (scale,scale), padding=\"same\",activation=None)(LL)\n",
    "model = Model(inputs=inputlayer , outputs = y)"
   ]
  },
  {
   "cell_type": "code",
   "execution_count": 22,
   "metadata": {
    "colab": {
     "base_uri": "https://localhost:8080/",
     "height": 638
    },
    "id": "AXTCMeqxP411",
    "outputId": "7bb07015-b91c-479f-e93a-4371d4dd7af5",
    "scrolled": false
   },
   "outputs": [
    {
     "name": "stdout",
     "output_type": "stream",
     "text": [
      "Model: \"model_21\"\n",
      "__________________________________________________________________________________________________\n",
      " Layer (type)                   Output Shape         Param #     Connected to                     \n",
      "==================================================================================================\n",
      " input_2 (InputLayer)           [(None, None, None,  0           []                               \n",
      "                                 3)]                                                              \n",
      "                                                                                                  \n",
      " conv2d_3 (Conv2D)              (None, None, None,   1792        ['input_2[0][0]']                \n",
      "                                64)                                                               \n",
      "                                                                                                  \n",
      " leaky_re_lu (LeakyReLU)        (None, None, None,   0           ['conv2d_3[0][0]']               \n",
      "                                64)                                                               \n",
      "                                                                                                  \n",
      " conv2d_4 (Conv2D)              (None, None, None,   6924        ['leaky_re_lu[0][0]']            \n",
      "                                12)                                                               \n",
      "                                                                                                  \n",
      " leaky_re_lu_1 (LeakyReLU)      (None, None, None,   0           ['conv2d_4[0][0]']               \n",
      "                                12)                                                               \n",
      "                                                                                                  \n",
      " conv2d_5 (Conv2D)              (None, None, None,   327         ['leaky_re_lu_1[0][0]']          \n",
      "                                3)                                                                \n",
      "                                                                                                  \n",
      " model_1 (Functional)           (None, None, None,   40451       ['conv2d_5[0][0]']               \n",
      "                                3)                                                                \n",
      "                                                                                                  \n",
      " model_2 (Functional)           (None, None, None,   40451       ['model_1[0][0]']                \n",
      "                                3)                                                                \n",
      "                                                                                                  \n",
      " add_3 (Add)                    (None, None, None,   0           ['input_2[0][0]',                \n",
      "                                3)                                'model_2[0][0]']                \n",
      "                                                                                                  \n",
      " model_3 (Functional)           (None, None, None,   40451       ['add_3[0][0]']                  \n",
      "                                3)                                                                \n",
      "                                                                                                  \n",
      " model_4 (Functional)           (None, None, None,   40451       ['model_3[0][0]']                \n",
      "                                3)                                                                \n",
      "                                                                                                  \n",
      " add_6 (Add)                    (None, None, None,   0           ['input_2[0][0]',                \n",
      "                                3)                                'model_4[0][0]']                \n",
      "                                                                                                  \n",
      " model_5 (Functional)           (None, None, None,   40451       ['add_6[0][0]']                  \n",
      "                                3)                                                                \n",
      "                                                                                                  \n",
      " model_6 (Functional)           (None, None, None,   40451       ['model_5[0][0]']                \n",
      "                                3)                                                                \n",
      "                                                                                                  \n",
      " model_7 (Functional)           (None, None, None,   40451       ['model_6[0][0]']                \n",
      "                                3)                                                                \n",
      "                                                                                                  \n",
      " model_8 (Functional)           (None, None, None,   40451       ['model_7[0][0]']                \n",
      "                                3)                                                                \n",
      "                                                                                                  \n",
      " model_9 (Functional)           (None, None, None,   40451       ['model_8[0][0]']                \n",
      "                                3)                                                                \n",
      "                                                                                                  \n",
      " model_10 (Functional)          (None, None, None,   40451       ['model_9[0][0]']                \n",
      "                                3)                                                                \n",
      "                                                                                                  \n",
      " add_13 (Add)                   (None, None, None,   0           ['input_2[0][0]',                \n",
      "                                3)                                'add_6[0][0]',                  \n",
      "                                                                  'model_10[0][0]']               \n",
      "                                                                                                  \n",
      " model_11 (Functional)          (None, None, None,   40451       ['add_13[0][0]']                 \n",
      "                                3)                                                                \n",
      "                                                                                                  \n",
      " model_12 (Functional)          (None, None, None,   40451       ['model_11[0][0]']               \n",
      "                                3)                                                                \n",
      "                                                                                                  \n",
      " model_13 (Functional)          (None, None, None,   40451       ['model_12[0][0]']               \n",
      "                                3)                                                                \n",
      "                                                                                                  \n",
      " model_14 (Functional)          (None, None, None,   40451       ['model_13[0][0]']               \n",
      "                                3)                                                                \n",
      "                                                                                                  \n",
      " model_15 (Functional)          (None, None, None,   40451       ['model_14[0][0]']               \n",
      "                                3)                                                                \n",
      "                                                                                                  \n",
      " model_16 (Functional)          (None, None, None,   40451       ['model_15[0][0]']               \n",
      "                                3)                                                                \n",
      "                                                                                                  \n",
      " model_17 (Functional)          (None, None, None,   40451       ['model_16[0][0]']               \n",
      "                                3)                                                                \n",
      "                                                                                                  \n",
      " model_18 (Functional)          (None, None, None,   40451       ['model_17[0][0]']               \n",
      "                                3)                                                                \n",
      "                                                                                                  \n",
      " model_19 (Functional)          (None, None, None,   40451       ['model_18[0][0]']               \n",
      "                                3)                                                                \n",
      "                                                                                                  \n",
      " model_20 (Functional)          (None, None, None,   40451       ['model_19[0][0]']               \n",
      "                                3)                                                                \n",
      "                                                                                                  \n",
      " add_24 (Add)                   (None, None, None,   0           ['input_2[0][0]',                \n",
      "                                3)                                'add_13[0][0]',                 \n",
      "                                                                  'model_20[0][0]']               \n",
      "                                                                                                  \n",
      " conv2d_66 (Conv2D)             (None, None, None,   256         ['add_24[0][0]']                 \n",
      "                                64)                                                               \n",
      "                                                                                                  \n",
      " leaky_re_lu_2 (LeakyReLU)      (None, None, None,   0           ['conv2d_66[0][0]']              \n",
      "                                64)                                                               \n",
      "                                                                                                  \n",
      " conv2d_transpose (Conv2DTransp  (None, None, None,   15555      ['leaky_re_lu_2[0][0]']          \n",
      " ose)                           3)                                                                \n",
      "                                                                                                  \n",
      "==================================================================================================\n",
      "Total params: 833,874\n",
      "Trainable params: 833,874\n",
      "Non-trainable params: 0\n",
      "__________________________________________________________________________________________________\n",
      "None\n"
     ]
    }
   ],
   "source": [
    "model.compile(loss='mse',optimizer='adam',metrics=['accuracy'])\n",
    "print(model.summary())"
   ]
  },
  {
   "cell_type": "code",
   "execution_count": 23,
   "metadata": {
    "scrolled": true
   },
   "outputs": [
    {
     "data": {
      "image/png": "[encoded data removed]",
      "text/plain": [
       "<IPython.core.display.Image object>"
      ]
     },
     "execution_count": 23,
     "metadata": {},
     "output_type": "execute_result"
    }
   ],
   "source": [
    "tf.keras.utils.plot_model(\n",
    "    model, to_file='model.png', show_shapes=False, show_layer_names=True, rankdir='LR', expand_nested=False, dpi=96\n",
    ")"
   ]
  },
  {
   "cell_type": "code",
   "execution_count": 24,
   "metadata": {
    "id": "4l2qU6Acj1W-"
   },
   "outputs": [],
   "source": [
    "checkpoint = ModelCheckpoint('best_model_improved.h5',  # model filename\n",
    "                             monitor='val_loss', # quantity to monitor\n",
    "                             verbose=0, # verbosity - 0 or 1\n",
    "                             save_best_only= True, # The latest best model will not be overwritten\n",
    "                             mode='auto') # The decision to overwrite model is made \n",
    "                                          # automatically depending on the quantity to monitor"
   ]
  },
  {
   "cell_type": "code",
   "execution_count": 25,
   "metadata": {
    "colab": {
     "base_uri": "https://localhost:8080/",
     "height": 1000
    },
    "id": "KFTza99ToCtg",
    "outputId": "923ddd9b-a223-4d45-e59c-78ec64533069"
   },
   "outputs": [
    {
     "name": "stdout",
     "output_type": "stream",
     "text": [
      "Epoch 1/5\n",
      "584/584 [==============================] - ETA: 0s - loss: 462.2988 - accuracy: 0.8818"
     ]
    },
    {
     "name": "stderr",
     "output_type": "stream",
     "text": [
      "C:\\Users\\user\\anaconda3\\envs\\cuda_tf\\lib\\site-packages\\keras\\engine\\functional.py:1410: CustomMaskWarning: Custom mask layers require a config and must override get_config. When loading, the custom mask layer must be passed to the custom_objects argument.\n",
      "  layer_config = serialize_layer_fn(layer)\n"
     ]
    },
    {
     "name": "stdout",
     "output_type": "stream",
     "text": [
      "584/584 [==============================] - 28s 41ms/step - loss: 462.2988 - accuracy: 0.8818 - val_loss: 35.6915 - val_accuracy: 1.0000\n",
      "Epoch 2/5\n",
      "584/584 [==============================] - 24s 40ms/step - loss: 113.4656 - accuracy: 0.9396 - val_loss: 31.3332 - val_accuracy: 1.0000\n",
      "Epoch 3/5\n",
      "584/584 [==============================] - 23s 40ms/step - loss: 103.8800 - accuracy: 0.9400 - val_loss: 33.3586 - val_accuracy: 1.0000\n",
      "Epoch 4/5\n",
      "584/584 [==============================] - 22s 39ms/step - loss: 97.0136 - accuracy: 0.9426 - val_loss: 26.3001 - val_accuracy: 1.0000\n",
      "Epoch 5/5\n",
      "584/584 [==============================] - 24s 40ms/step - loss: 93.1429 - accuracy: 0.9437 - val_loss: 36.1604 - val_accuracy: 1.0000\n"
     ]
    }
   ],
   "source": [
    "history = model.fit(X,labels,batch_size=32,shuffle=True,validation_split=0.01 ,epochs=5,callbacks=[checkpoint],\n",
    "                    verbose=1 )"
   ]
  },
  {
   "cell_type": "code",
   "execution_count": 26,
   "metadata": {
    "id": "qsuVLb6riEvt"
   },
   "outputs": [],
   "source": [
    "import matplotlib.pyplot as plt"
   ]
  },
  {
   "cell_type": "code",
   "execution_count": 27,
   "metadata": {
    "colab": {
     "base_uri": "https://localhost:8080/",
     "height": 428
    },
    "id": "kswhJaz8huEY",
    "outputId": "8ff40869-147d-4195-91a5-7100b9abee55"
   },
   "outputs": [
    {
     "data": {
      "text/plain": [
       "Text(0.5, 1.0, 'Loss Curves')"
      ]
     },
     "execution_count": 27,
     "metadata": {},
     "output_type": "execute_result"
    },
    {
     "data": {
      "image/png": "[encoded data removed]",
      "text/plain": [
       "<Figure size 576x432 with 1 Axes>"
      ]
     },
     "metadata": {
      "needs_background": "light"
     },
     "output_type": "display_data"
    }
   ],
   "source": [
    "# Loss Curves\n",
    "plt.figure(figsize=[8,6])\n",
    "plt.plot(history.history['loss'],'r',linewidth=3.0)\n",
    "plt.plot(history.history['val_loss'],'b',linewidth=3.0)\n",
    "plt.legend(['Training loss', 'Validation Loss'],fontsize=18)\n",
    "plt.xlabel('Epochs ',fontsize=16)\n",
    "plt.ylabel('Loss',fontsize=16)\n",
    "plt.title('Loss Curves',fontsize=16)"
   ]
  },
  {
   "cell_type": "code",
   "execution_count": 28,
   "metadata": {
    "colab": {
     "base_uri": "https://localhost:8080/",
     "height": 428
    },
    "id": "PAe-oncliIsD",
    "outputId": "8f42eebf-f2ba-4ba9-f219-2200f510788f"
   },
   "outputs": [
    {
     "data": {
      "text/plain": [
       "Text(0.5, 1.0, 'Accuracy Curves')"
      ]
     },
     "execution_count": 28,
     "metadata": {},
     "output_type": "execute_result"
    },
    {
     "data": {
      "image/png": "[encoded data removed]",
      "text/plain": [
       "<Figure size 576x432 with 1 Axes>"
      ]
     },
     "metadata": {
      "needs_background": "light"
     },
     "output_type": "display_data"
    }
   ],
   "source": [
    "# Accuracy Curves\n",
    "plt.figure(figsize=[8,6])\n",
    "plt.plot(history.history['accuracy'],'r',linewidth=3.0)\n",
    "plt.plot(history.history['val_accuracy'],'b',linewidth=3.0)\n",
    "plt.legend(['Training Accuracy', 'Validation Accuracy'],fontsize=18)\n",
    "plt.xlabel('Epochs ',fontsize=16)\n",
    "plt.ylabel('Accuracy',fontsize=16)\n",
    "plt.title('Accuracy Curves',fontsize=16)"
   ]
  },
  {
   "cell_type": "code",
   "execution_count": 29,
   "metadata": {
    "id": "IBOspcO-msge"
   },
   "outputs": [],
   "source": [
    "def psnr_calc():\n",
    "    testimg = []\n",
    "    GT = cv2.imread(\"SRCNN-Keras/baby_x2_GT.png\")\n",
    "    GT = np.asarray(GT)\n",
    "    h = GT.shape[0]\n",
    "    l = GT.shape[1]\n",
    "    img1 = cv2.resize(GT,(int(l/2),int(h/2)),interpolation = cv2.INTER_CUBIC)\n",
    "    img1 = np.asarray(img1)\n",
    "    testimg.append(img1)\n",
    "    testimg = np.asarray(testimg)\n",
    "    print(testimg.shape)\n",
    "    fin =(model.predict(testimg)[0])\n",
    "    inp = cv2.resize(img1,(l,h),interpolation = cv2.INTER_CUBIC)\n",
    "    GT = GT[0:fin.shape[0],0:fin.shape[1],:]\n",
    "    mse = np.square(np.subtract(GT, fin)).mean()\n",
    "    #cv2_imshow(inp)\n",
    "    #cv2_imshow(fin)\n",
    "    #cv2_imshow(GT)\n",
    "    import math\n",
    "    psnr = 20*math.log(255.0,10) - 10*(math.log(mse,10))\n",
    "    return psnr"
   ]
  },
  {
   "cell_type": "code",
   "execution_count": 30,
   "metadata": {
    "colab": {
     "base_uri": "https://localhost:8080/",
     "height": 1000
    },
    "id": "cgs0qUdwWuln",
    "outputId": "2ca744a1-13d1-4085-dea4-6d98cf2e0f17"
   },
   "outputs": [
    {
     "name": "stdout",
     "output_type": "stream",
     "text": [
      "(1, 256, 256, 3)\n",
      "30.54473668609\n"
     ]
    }
   ],
   "source": [
    "ps1 = psnr_calc()\n",
    "print(ps1)"
   ]
  },
  {
   "cell_type": "code",
   "execution_count": 31,
   "metadata": {
    "id": "4QjSLa-WWm7a"
   },
   "outputs": [],
   "source": [
    "#35.27103087889881"
   ]
  },
  {
   "cell_type": "code",
   "execution_count": null,
   "metadata": {
    "id": "GIZfQITtqRJ9"
   },
   "outputs": [],
   "source": [
    "model.save(\"model2_FCN_FSRCNN.h5\")"
   ]
  }
 ],
 "metadata": {
  "accelerator": "GPU",
  "colab": {
   "collapsed_sections": [],
   "name": "FSRCNN_Experimental.ipynb",
   "provenance": []
  },
  "kernelspec": {
   "display_name": "cuda_tf",
   "language": "python",
   "name": "cuda_tf"
  },
  "language_info": {
   "codemirror_mode": {
    "name": "ipython",
    "version": 3
   },
   "file_extension": ".py",
   "mimetype": "text/x-python",
   "name": "python",
   "nbconvert_exporter": "python",
   "pygments_lexer": "ipython3",
   "version": "3.9.7"
  }
 },
 "nbformat": 4,
 "nbformat_minor": 1
}
