{
  "nbformat": 4,
  "nbformat_minor": 0,
  "metadata": {
    "colab": {
      "provenance": [],
      "gpuType": "T4"
    },
    "kernelspec": {
      "name": "python3",
      "display_name": "Python 3"
    },
    "language_info": {
      "name": "python"
    },
    "accelerator": "GPU"
  },
  "cells": [
    {
      "cell_type": "code",
      "execution_count": 1,
      "metadata": {
        "colab": {
          "base_uri": "https://localhost:8080/"
        },
        "id": "Cg20mPEilJ8D",
        "outputId": "b62beff8-df1a-438a-930d-1a057ba23734"
      },
      "outputs": [
        {
          "output_type": "stream",
          "name": "stdout",
          "text": [
            "Cloning into 'TESTING_IMAGES'...\n",
            "remote: Enumerating objects: 60, done.\u001b[K\n",
            "remote: Counting objects: 100% (12/12), done.\u001b[K\n",
            "remote: Compressing objects: 100% (4/4), done.\u001b[K\n",
            "remote: Total 60 (delta 11), reused 8 (delta 8), pack-reused 48\u001b[K\n",
            "Receiving objects: 100% (60/60), 27.65 MiB | 30.38 MiB/s, done.\n",
            "Resolving deltas: 100% (13/13), done.\n"
          ]
        }
      ],
      "source": [
        "!git clone https://github.com/niazwazir/TESTING_IMAGES.git"
      ]
    },
    {
      "cell_type": "code",
      "source": [
        "!ls"
      ],
      "metadata": {
        "colab": {
          "base_uri": "https://localhost:8080/"
        },
        "id": "zn_rFb39ljzq",
        "outputId": "16176c5c-83a2-4b6d-e743-3e982f406950"
      },
      "execution_count": 2,
      "outputs": [
        {
          "output_type": "stream",
          "name": "stdout",
          "text": [
            "sample_data  TESTING_IMAGES\n"
          ]
        }
      ]
    },
    {
      "cell_type": "code",
      "source": [
        "cd TESTING_IMAGES/"
      ],
      "metadata": {
        "colab": {
          "base_uri": "https://localhost:8080/"
        },
        "id": "YwqrUWQMntSl",
        "outputId": "5ee76e85-bd1d-4deb-d007-d201bc720113"
      },
      "execution_count": 3,
      "outputs": [
        {
          "output_type": "stream",
          "name": "stdout",
          "text": [
            "/content/TESTING_IMAGES\n"
          ]
        }
      ]
    },
    {
      "cell_type": "code",
      "source": [
        "!ls"
      ],
      "metadata": {
        "colab": {
          "base_uri": "https://localhost:8080/"
        },
        "id": "Zkfm0LauntXZ",
        "outputId": "c3508fa8-fef1-4d2b-ee01-22f62344daef"
      },
      "execution_count": 4,
      "outputs": [
        {
          "output_type": "stream",
          "name": "stdout",
          "text": [
            "baby_x2_bicubic.png  baby_x2_SRCNN.png\tHR\t       Supavadee.png\n",
            "baby_x2_GT.png\t     BUTTERFLY.png\tSPLITTING.png  WAZIR_MODEL_IMAGES\n"
          ]
        }
      ]
    },
    {
      "cell_type": "code",
      "source": [
        "cd HR"
      ],
      "metadata": {
        "colab": {
          "base_uri": "https://localhost:8080/"
        },
        "id": "NEuVlr0un2ey",
        "outputId": "1dda6362-f507-40d5-c07b-c7c3779ae77e"
      },
      "execution_count": 5,
      "outputs": [
        {
          "output_type": "stream",
          "name": "stdout",
          "text": [
            "/content/TESTING_IMAGES/HR\n"
          ]
        }
      ]
    },
    {
      "cell_type": "code",
      "source": [
        "!ls"
      ],
      "metadata": {
        "colab": {
          "base_uri": "https://localhost:8080/"
        },
        "id": "9MaqDfKin5nq",
        "outputId": "908da313-1e08-478e-e2f7-70d63165c68e"
      },
      "execution_count": 6,
      "outputs": [
        {
          "output_type": "stream",
          "name": "stdout",
          "text": [
            "01.png\t02.png\t03.png\t04.png\t05.png\t49.png\t51.png\t56.png\t58.png\t60.png\n"
          ]
        }
      ]
    },
    {
      "cell_type": "code",
      "source": [
        "cd .."
      ],
      "metadata": {
        "colab": {
          "base_uri": "https://localhost:8080/"
        },
        "id": "YjDFunAFoD79",
        "outputId": "e2d6f45a-f133-4c53-8f19-b6bda06f3a29"
      },
      "execution_count": 7,
      "outputs": [
        {
          "output_type": "stream",
          "name": "stdout",
          "text": [
            "/content/TESTING_IMAGES\n"
          ]
        }
      ]
    },
    {
      "cell_type": "code",
      "source": [
        "!ls"
      ],
      "metadata": {
        "colab": {
          "base_uri": "https://localhost:8080/"
        },
        "id": "P0QGkO5CoF87",
        "outputId": "b1e40410-a648-4c50-efdd-dceefdd46145"
      },
      "execution_count": 8,
      "outputs": [
        {
          "output_type": "stream",
          "name": "stdout",
          "text": [
            "baby_x2_bicubic.png  baby_x2_SRCNN.png\tHR\t       Supavadee.png\n",
            "baby_x2_GT.png\t     BUTTERFLY.png\tSPLITTING.png  WAZIR_MODEL_IMAGES\n"
          ]
        }
      ]
    },
    {
      "cell_type": "code",
      "source": [
        "import numpy as np\n",
        "import cv2\n",
        "import os\n",
        "\n",
        "IMG_DIR = 'HR'\n",
        "\n",
        "for img in os.listdir(IMG_DIR):\n",
        "        img_array = cv2.imread(os.path.join(IMG_DIR,img), cv2.IMREAD_GRAYSCALE)\n",
        "\n",
        "        img_array = (img_array.flatten())\n",
        "\n",
        "        img_array  = img_array.reshape(-1, 1).T\n",
        "\n",
        "        print(img_array)\n",
        "\n",
        "        with open('output.csv', 'ab') as f:\n",
        "\n",
        "            np.savetxt(f, img_array, delimiter=\",\")"
      ],
      "metadata": {
        "colab": {
          "base_uri": "https://localhost:8080/"
        },
        "id": "7DOyUmgBlmrN",
        "outputId": "d7e226ae-68d6-49b0-8808-6ba1d458bae2"
      },
      "execution_count": 9,
      "outputs": [
        {
          "output_type": "stream",
          "name": "stdout",
          "text": [
            "[[104 101 103 ... 134  77  50]]\n",
            "[[154 129 106 ... 130 132 137]]\n",
            "[[213 213 213 ...  88  86  83]]\n",
            "[[171 171 170 ... 199 194 190]]\n",
            "[[192 192 191 ... 118 119 118]]\n",
            "[[107 108 106 ... 116 112 118]]\n",
            "[[103  92 111 ... 111 116 117]]\n",
            "[[207 207 206 ... 134 133 140]]\n",
            "[[184 183 183 ... 104 121 131]]\n",
            "[[121 121 112 ... 137 138 141]]\n"
          ]
        }
      ]
    },
    {
      "cell_type": "code",
      "source": [
        "!ls"
      ],
      "metadata": {
        "colab": {
          "base_uri": "https://localhost:8080/"
        },
        "id": "Te-JxJ12lwMF",
        "outputId": "f7d67f77-aa0b-4f7b-fd28-a637d4f5263e"
      },
      "execution_count": 10,
      "outputs": [
        {
          "output_type": "stream",
          "name": "stdout",
          "text": [
            "baby_x2_bicubic.png  baby_x2_SRCNN.png\tHR\t    SPLITTING.png  WAZIR_MODEL_IMAGES\n",
            "baby_x2_GT.png\t     BUTTERFLY.png\toutput.csv  Supavadee.png\n"
          ]
        }
      ]
    },
    {
      "cell_type": "code",
      "source": [],
      "metadata": {
        "id": "kMo31SHcoO0F"
      },
      "execution_count": null,
      "outputs": []
    }
  ]
}