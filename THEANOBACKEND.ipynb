{
  "nbformat": 4,
  "nbformat_minor": 0,
  "metadata": {
    "colab": {
      "name": "THEANOBACKEND.ipynb",
      "version": "0.3.2",
      "provenance": []
    },
    "kernelspec": {
      "name": "python3",
      "display_name": "Python 3"
    }
  },
  "cells": [
    {
      "cell_type": "code",
      "metadata": {
        "id": "GOxaKMjIYXnL",
        "colab_type": "code",
        "colab": {
          "base_uri": "https://localhost:8080/",
          "height": 50
        },
        "outputId": "b02df42a-d065-42bb-a23f-5323ab4d525f"
      },
      "source": [
        "import os\n",
        "os.environ[\"KERAS_BACKEND\"] = \"theano\"\n",
        "import keras; import keras.backend\n",
        "if keras.backend.backend() != 'theano':\n",
        "    raise BaseException(\"This script uses other backend\")\n",
        "else:\n",
        "    keras.backend.set_image_dim_ordering('th')\n",
        "    print(\"Backend ok\")"
      ],
      "execution_count": 1,
      "outputs": [
        {
          "output_type": "stream",
          "text": [
            "Using Theano backend.\n"
          ],
          "name": "stderr"
        },
        {
          "output_type": "stream",
          "text": [
            "Backend ok\n"
          ],
          "name": "stdout"
        }
      ]
    },
    {
      "cell_type": "code",
      "metadata": {
        "id": "KQBXBQpfaizU",
        "colab_type": "code",
        "colab": {}
      },
      "source": [
        ""
      ],
      "execution_count": 0,
      "outputs": []
    }
  ]
}